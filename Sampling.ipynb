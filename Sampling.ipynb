{
 "cells": [
  {
   "cell_type": "code",
   "execution_count": 1,
   "metadata": {
    "ExecuteTime": {
     "end_time": "2020-02-12T16:00:59.190478Z",
     "start_time": "2020-02-12T16:00:13.700063Z"
    }
   },
   "outputs": [
    {
     "name": "stdout",
     "output_type": "stream",
     "text": [
      "Number of Samples:  30000\n",
      "Mean:  2.9575849891077866\n",
      "STD:  10.002652758312419\n"
     ]
    }
   ],
   "source": [
    "import numpy as np\n",
    "import pandas as pd\n",
    "from plotnine import *\n",
    "\n",
    "# Generate Random Data\n",
    "data = np.random.normal(3, 10, 30000)\n",
    "print(\"Number of Samples: \", len(data))\n",
    "print(\"Mean: \", np.mean(data))\n",
    "print(\"STD: \", np.std(data))"
   ]
  },
  {
   "cell_type": "code",
   "execution_count": 5,
   "metadata": {
    "ExecuteTime": {
     "end_time": "2020-02-12T16:02:15.478427Z",
     "start_time": "2020-02-12T16:02:15.474442Z"
    }
   },
   "outputs": [
    {
     "name": "stdout",
     "output_type": "stream",
     "text": [
      "5000\n"
     ]
    }
   ],
   "source": [
    "# Take Sample \n",
    "np.random.shuffle(data)\n",
    "samples = data[0:5000]\n",
    "print(len(samples))"
   ]
  },
  {
   "cell_type": "markdown",
   "metadata": {},
   "source": [
    "We accept new set of parameters only if the likelihood of the data given the new set of parameters is more than that of previous set of parameters. For a given data point, we can compute probability density as follows:\n",
    "$$ P(d_i|\\mu, \\sigma) = \\frac{1}{\\sigma\\sqrt(2\\pi)}e^{-\\frac{(d_i-\\mu)^2}{2\\sigma^2}}$$\n",
    "\n",
    "Assuming independence between sampled data point, then $P(D|\\mu, \\sigma)$ is given as:\n",
    "\n",
    "$$P(D|\\mu, \\sigma) = \\prod_i{\\frac{1}{\\sigma\\sqrt(2\\pi)}e^{-\\frac{(Di-\\mu)^2}{2\\sigma^2}}}$$\n",
    "\n",
    "For numerical stablity, let's take log of it, i.e.\n",
    "\n",
    "$$log(P(D|\\mu, \\sigma)) = \\sum_i{\\left[-log(\\sigma\\sqrt{2\\pi}) - \\frac{(d_i - \\mu)^2}{\\sigma^2})\\right]}$$\n",
    "$$log(P(D|\\mu, \\sigma)) = -nlog(\\sigma\\sqrt{2\\pi}) - \\sum_i{\\frac{(d_i - \\mu)^2}{\\sigma^2}}$$\n",
    "\n",
    "\n"
   ]
  },
  {
   "cell_type": "code",
   "execution_count": 46,
   "metadata": {
    "ExecuteTime": {
     "end_time": "2020-02-12T16:17:31.710777Z",
     "start_time": "2020-02-12T16:17:31.704325Z"
    }
   },
   "outputs": [],
   "source": [
    "import random\n",
    "\n",
    "def likelihood(data, mu, sigma, **kwargs):\n",
    "    v1 = len(data) * np.log(sigma * np.sqrt(2 * np.pi))\n",
    "    v2 = np.sum(np.square(data - mu)/(2 * sigma * sigma))\n",
    "    return - (v1 + v2)\n",
    "        \n",
    "def prior(mu, sigma):\n",
    "    if(sigma <= 0 or mu <= 0):\n",
    "        return 0\n",
    "    return 1\n",
    "\n",
    "\n",
    "def acceptance(p_old, p_new):\n",
    "    return (np.exp(p_new-p_old)) > random.random()\n",
    "\n",
    "\n",
    "def transition(mu, sigma):\n",
    "    new_mu = np.random.normal(mu, 0.1, size=1)[0]\n",
    "    new_sigma = np.random.normal(sigma, 0.5, size=1)[0]\n",
    "    return (new_mu, new_sigma)\n",
    "\n"
   ]
  },
  {
   "cell_type": "code",
   "execution_count": 47,
   "metadata": {
    "ExecuteTime": {
     "end_time": "2020-02-12T16:17:36.707929Z",
     "start_time": "2020-02-12T16:17:32.622794Z"
    }
   },
   "outputs": [
    {
     "name": "stderr",
     "output_type": "stream",
     "text": [
      "100%|██████████| 100000/100000 [00:03<00:00, 25056.52it/s]\n"
     ]
    }
   ],
   "source": [
    "from tqdm import tqdm, trange\n",
    "def metropolis_hastings(data, mu, sigma, iterations=10000):\n",
    "    # likelihood_computer(x,data): returns the likelihood that these parameters generated the data\n",
    "    # transition_model(x): a function that draws a sample from a symmetric distribution and returns it\n",
    "    # param_init: a starting sample\n",
    "    # iterations: number of accepted to generated\n",
    "    # data: the data that we wish to model\n",
    "    # acceptance_rule(x,x_new): decides whether to accept or reject the new sample\n",
    "    logs = []\n",
    "    p_old = likelihood(data, mu, sigma) + np.log(prior(mu, sigma))\n",
    "    \n",
    "    for i in trange(iterations):\n",
    "        \n",
    "        x_new =  transition(mu, sigma)    \n",
    "        p_new = likelihood(data, x_new[0], x_new[1]) + np.log(prior(*x_new))\n",
    "        \n",
    "        if acceptance(p_old, p_new):\n",
    "            mu, sigma = x_new\n",
    "            p_old = p_new\n",
    "            status='accepted'\n",
    "        else:\n",
    "            status='rejected'\n",
    "        \n",
    "        logs.append([i, x_new[0], x_new[1], status, p_new])\n",
    "                \n",
    "    df = pd.DataFrame(logs, columns=['iter', 'mu', 'sigma', 'status', 'posterior'])\n",
    "    df['status'] = pd.Categorical(df['status'])\n",
    "    return df\n",
    "\n",
    "\n",
    "logs = metropolis_hastings(samples, 2, 8, iterations=100000)"
   ]
  },
  {
   "cell_type": "code",
   "execution_count": 48,
   "metadata": {
    "ExecuteTime": {
     "end_time": "2020-02-12T16:17:37.548494Z",
     "start_time": "2020-02-12T16:17:37.542602Z"
    }
   },
   "outputs": [
    {
     "data": {
      "text/plain": [
       "status\n",
       "accepted    20991\n",
       "rejected    79009\n",
       "dtype: int64"
      ]
     },
     "execution_count": 48,
     "metadata": {},
     "output_type": "execute_result"
    }
   ],
   "source": [
    "logs.groupby('status').size()"
   ]
  },
  {
   "cell_type": "code",
   "execution_count": 32,
   "metadata": {
    "ExecuteTime": {
     "end_time": "2020-02-12T16:10:15.754814Z",
     "start_time": "2020-02-12T16:10:15.747187Z"
    }
   },
   "outputs": [
    {
     "data": {
      "text/plain": [
       "(6241, 5)"
      ]
     },
     "execution_count": 32,
     "metadata": {},
     "output_type": "execute_result"
    }
   ],
   "source": [
    "logs[(logs.status=='accepted') & (logs.iter < 30000)].shape"
   ]
  },
  {
   "cell_type": "code",
   "execution_count": 9,
   "metadata": {
    "ExecuteTime": {
     "end_time": "2020-02-12T16:03:49.001732Z",
     "start_time": "2020-02-12T16:03:01.869835Z"
    }
   },
   "outputs": [
    {
     "data": {
      "image/png": "[encoded data removed]",
      "text/plain": [
       "<Figure size 640x480 with 1 Axes>"
      ]
     },
     "metadata": {},
     "output_type": "display_data"
    },
    {
     "data": {
      "text/plain": [
       "<ggplot: (7549804513)>"
      ]
     },
     "execution_count": 9,
     "metadata": {},
     "output_type": "execute_result"
    }
   ],
   "source": [
    "from plotnine import *\n",
    "(\n",
    "    ggplot(logs[logs['iter'] % 100 == 0], aes(x='iter', y='sigma'))\n",
    "    + geom_point(aes(colour='status'))\n",
    ")"
   ]
  },
  {
   "cell_type": "code",
   "execution_count": 80,
   "metadata": {
    "ExecuteTime": {
     "end_time": "2020-02-03T17:23:28.575882Z",
     "start_time": "2020-02-03T17:23:28.335126Z"
    }
   },
   "outputs": [
    {
     "data": {
      "text/plain": [
       "iter         2.001895e+04\n",
       "mu           7.463837e+00\n",
       "sigma        6.241157e+01\n",
       "posterior   -2.535034e+06\n",
       "dtype: float64"
      ]
     },
     "execution_count": 80,
     "metadata": {},
     "output_type": "execute_result"
    }
   ],
   "source": [
    "logs[(logs.status=='accepted') & (logs.iter > 10000)].mean()"
   ]
  },
  {
   "cell_type": "code",
   "execution_count": 33,
   "metadata": {
    "ExecuteTime": {
     "end_time": "2020-02-12T16:11:30.701222Z",
     "start_time": "2020-02-12T16:11:30.696440Z"
    }
   },
   "outputs": [],
   "source": [
    "acceptedDF = logs[logs.status=='accepted'].copy()"
   ]
  },
  {
   "cell_type": "code",
   "execution_count": 35,
   "metadata": {
    "ExecuteTime": {
     "end_time": "2020-02-12T16:13:20.601173Z",
     "start_time": "2020-02-12T16:13:20.585182Z"
    }
   },
   "outputs": [
    {
     "data": {
      "text/html": [
       "<div>\n",
       "<style scoped>\n",
       "    .dataframe tbody tr th:only-of-type {\n",
       "        vertical-align: middle;\n",
       "    }\n",
       "\n",
       "    .dataframe tbody tr th {\n",
       "        vertical-align: top;\n",
       "    }\n",
       "\n",
       "    .dataframe thead th {\n",
       "        text-align: right;\n",
       "    }\n",
       "</style>\n",
       "<table border=\"1\" class=\"dataframe\">\n",
       "  <thead>\n",
       "    <tr style=\"text-align: right;\">\n",
       "      <th></th>\n",
       "      <th>mu</th>\n",
       "      <th>sigma</th>\n",
       "    </tr>\n",
       "  </thead>\n",
       "  <tbody>\n",
       "    <tr>\n",
       "      <td>count</td>\n",
       "      <td>4680.000000</td>\n",
       "      <td>4680.000000</td>\n",
       "    </tr>\n",
       "    <tr>\n",
       "      <td>mean</td>\n",
       "      <td>3.021811</td>\n",
       "      <td>9.918626</td>\n",
       "    </tr>\n",
       "    <tr>\n",
       "      <td>std</td>\n",
       "      <td>0.138894</td>\n",
       "      <td>0.115106</td>\n",
       "    </tr>\n",
       "    <tr>\n",
       "      <td>min</td>\n",
       "      <td>2.603273</td>\n",
       "      <td>9.528012</td>\n",
       "    </tr>\n",
       "    <tr>\n",
       "      <td>25%</td>\n",
       "      <td>2.927881</td>\n",
       "      <td>9.836767</td>\n",
       "    </tr>\n",
       "    <tr>\n",
       "      <td>50%</td>\n",
       "      <td>3.023677</td>\n",
       "      <td>9.915726</td>\n",
       "    </tr>\n",
       "    <tr>\n",
       "      <td>75%</td>\n",
       "      <td>3.112551</td>\n",
       "      <td>9.998521</td>\n",
       "    </tr>\n",
       "    <tr>\n",
       "      <td>max</td>\n",
       "      <td>3.482781</td>\n",
       "      <td>10.339311</td>\n",
       "    </tr>\n",
       "  </tbody>\n",
       "</table>\n",
       "</div>"
      ],
      "text/plain": [
       "                mu        sigma\n",
       "count  4680.000000  4680.000000\n",
       "mean      3.021811     9.918626\n",
       "std       0.138894     0.115106\n",
       "min       2.603273     9.528012\n",
       "25%       2.927881     9.836767\n",
       "50%       3.023677     9.915726\n",
       "75%       3.112551     9.998521\n",
       "max       3.482781    10.339311"
      ]
     },
     "execution_count": 35,
     "metadata": {},
     "output_type": "execute_result"
    }
   ],
   "source": [
    "n = acceptedDF.shape[0]\n",
    "lastP75 = int(n * 0.75)\n",
    "acceptedDF.sort_values('iter').tail(lastP75)[['mu', 'sigma']].describe()"
   ]
  },
  {
   "cell_type": "code",
   "execution_count": 4,
   "metadata": {
    "ExecuteTime": {
     "end_time": "2020-02-12T16:02:03.460940Z",
     "start_time": "2020-02-12T16:02:03.455798Z"
    }
   },
   "outputs": [
    {
     "data": {
      "text/plain": [
       "0.8130081300813015"
      ]
     },
     "execution_count": 4,
     "metadata": {},
     "output_type": "execute_result"
    }
   ],
   "source": [
    "np.exp(x - y)"
   ]
  },
  {
   "cell_type": "code",
   "execution_count": null,
   "metadata": {},
   "outputs": [],
   "source": []
  }
 ],
 "metadata": {
  "kernelspec": {
   "display_name": "Python 3",
   "language": "python",
   "name": "python3"
  },
  "language_info": {
   "codemirror_mode": {
    "name": "ipython",
    "version": 3
   },
   "file_extension": ".py",
   "mimetype": "text/x-python",
   "name": "python",
   "nbconvert_exporter": "python",
   "pygments_lexer": "ipython3",
   "version": "3.6.10"
  },
  "toc": {
   "base_numbering": 1,
   "nav_menu": {},
   "number_sections": true,
   "sideBar": true,
   "skip_h1_title": false,
   "title_cell": "Table of Contents",
   "title_sidebar": "Contents",
   "toc_cell": false,
   "toc_position": {},
   "toc_section_display": true,
   "toc_window_display": false
  }
 },
 "nbformat": 4,
 "nbformat_minor": 2
}

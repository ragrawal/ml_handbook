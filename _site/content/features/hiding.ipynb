{
 "cells": [
  {
   "cell_type": "markdown",
   "metadata": {},
   "source": [
    "# Hiding code blocks or entire cells\n",
    "\n",
    "It's possible to control which cells show up in your final book pages. For example,\n",
    "you may want to display a complex visualization to illustrate an idea, but don't\n",
    "want the page to be cluttered with a large code cell that generated the viz. In other\n",
    "cases, you may want to remove a code cell entirely.\n",
    "\n",
    "This page explains how to accomplish this with Jupyter Book.\n",
    "\n",
    "## Hiding code cells and displaying a button to show them\n",
    "\n",
    "Jupyter Books uses **notebook cell tags** to determine which code cells to hide.\n",
    "If you add the tag `hidecode` to a cell, then Jupyter Book will hide the cell but\n",
    "display the outputs.\n",
    "\n",
    "By default, Jupyter Book will display a small button to the right of the \n",
    "location that used to hold your code cell. If a user clicks the button, your\n",
    "code cell will be displayed. For example, see the cell below contains the `hidecode`\n",
    "tag:"
   ]
  },
  {
   "cell_type": "code",
   "execution_count": 1,
   "metadata": {
    "tags": [
     "hidecode"
    ]
   },
   "outputs": [],
   "source": [
    "import numpy as np\n",
    "import matplotlib.pyplot as plt\n",
    "plt.ion()\n",
    "\n",
    "data = np.random.randn(2, 100)\n",
    "fig, ax = plt.subplots()\n",
    "ax.scatter(*data, c=data[1], s=100*np.abs(data[0]));"
   ]
  },
  {
   "cell_type": "markdown",
   "metadata": {},
   "source": [
    "Try clicking the button to the right of the empty spot above!\n",
    "\n",
    "Note that this button only shows up for cells where you've hidden the code:"
   ]
  },
  {
   "cell_type": "code",
   "execution_count": 2,
   "metadata": {},
   "outputs": [
    {
     "name": "stdout",
     "output_type": "stream",
     "text": [
      "This cell will show up!\n"
     ]
    }
   ],
   "source": [
    "print(\"This cell will show up!\")"
   ]
  },
  {
   "cell_type": "markdown",
   "metadata": {},
   "source": [
    "You can disable this behavior by using the following configuration option:\n",
    "\n",
    "```yaml\n",
    "use_hide_code_button      : false \n",
    "```\n",
    "\n",
    "## Hiding the inputs and outputs of a cell\n",
    "\n",
    "You can also hide **both** the inputs and outputs of a cell, in which case it\n",
    "won't show up in your book at all. These cells remain in the notebook file itself,\n",
    "so they'll show up if readers click on a JupyterHub or Binder link from a page.\n",
    "\n",
    "To hide both the inputs and outputs of a cell, use the following configuration option:\n",
    "\n",
    "```yaml\n",
    "hide_cell_text            : \"# YOUR SEARCH TEXT\"\n",
    "```\n",
    "\n",
    "When you build your book, Jupyter Book will search each code cell for the text specified\n",
    "by `hide_cell_text`. It will remove any cells that contain this text."
   ]
  }
 ],
 "metadata": {
  "kernelspec": {
   "display_name": "Python 3",
   "language": "python",
   "name": "python3"
  },
  "language_info": {
   "codemirror_mode": {
    "name": "ipython",
    "version": 3
   },
   "file_extension": ".py",
   "mimetype": "text/x-python",
   "name": "python",
   "nbconvert_exporter": "python",
   "pygments_lexer": "ipython3",
   "version": "3.6.5"
  }
 },
 "nbformat": 4,
 "nbformat_minor": 2
}

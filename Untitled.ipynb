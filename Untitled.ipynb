{
 "cells": [
  {
   "cell_type": "code",
   "execution_count": 1,
   "metadata": {
    "ExecuteTime": {
     "end_time": "2019-11-10T08:15:49.569551Z",
     "start_time": "2019-11-10T08:15:47.728363Z"
    }
   },
   "outputs": [],
   "source": [
    "# generic packages\n",
    "from datetime import datetime, timedelta\n",
    "\n",
    "# data science packages\n",
    "import numpy as np\n",
    "import pandas as pd\n",
    "from sklearn.metrics import *\n",
    "from tqdm import tqdm\n",
    "\n",
    "# visualization packages\n",
    "from plotnine import *\n",
    "from IPython.display import HTML\n",
    "\n",
    "def PerGroupCount(df, keys, alias='cnt', pct = None):\n",
    "    tmpDF = df.groupby(keys).size().reset_index().rename(columns={0:alias})\n",
    "    if pct is not None:\n",
    "        tmpDF[pct] = tmpDF[alias] / np.sum(tmpDF[alias])\n",
    "    \n",
    "    return tmpDF\n",
    "\n"
   ]
  },
  {
   "cell_type": "markdown",
   "metadata": {},
   "source": [
    "# Load Data & Fix Columns"
   ]
  },
  {
   "cell_type": "code",
   "execution_count": 2,
   "metadata": {
    "ExecuteTime": {
     "end_time": "2019-11-10T08:15:51.659935Z",
     "start_time": "2019-11-10T08:15:50.777317Z"
    }
   },
   "outputs": [
    {
     "name": "stderr",
     "output_type": "stream",
     "text": [
      "/usr/local/anaconda3/envs/handbook/lib/python3.7/site-packages/IPython/core/interactiveshell.py:3058: DtypeWarning: Columns (30,45) have mixed types. Specify dtype option on import or set low_memory=False.\n",
      "  interactivity=interactivity, compiler=compiler, result=result)\n"
     ]
    }
   ],
   "source": [
    "dataDF = pd.read_csv(\"/Users/ragrawal/Desktop/takehome_data.tsv\", sep=\"\\t\", na_values='NaN')"
   ]
  },
  {
   "cell_type": "code",
   "execution_count": 3,
   "metadata": {
    "ExecuteTime": {
     "end_time": "2019-11-10T08:15:53.872726Z",
     "start_time": "2019-11-10T08:15:52.252192Z"
    }
   },
   "outputs": [],
   "source": [
    "dataDF['id'] = range(dataDF.shape[0])\n",
    "dataDF['ts'] = dataDF.ts_search.apply(lambda x: datetime.strptime(x, \"%m/%d/%y %H:%M\").timestamp())\n",
    "dataDF['listing_property_type'] = dataDF['listing_property_type'].astype('str')\n",
    "dataDF['listing_instant_bookable'] = dataDF['listing_instant_bookable'].astype('int')"
   ]
  },
  {
   "cell_type": "code",
   "execution_count": 45,
   "metadata": {
    "ExecuteTime": {
     "end_time": "2019-11-10T16:25:42.465095Z",
     "start_time": "2019-11-10T16:25:42.409534Z"
    }
   },
   "outputs": [],
   "source": [
    "# convert labels into numeric ordered nomial targets\n",
    "dataDF.loc[dataDF.label == 'impression', 'OrdinalTarget'] = 1\n",
    "dataDF.loc[dataDF.label == 'click', 'OrdinalTarget'] = 2\n",
    "dataDF.loc[dataDF.label == 'host_contact', 'OrdinalTarget'] = 3\n",
    "dataDF.loc[dataDF.label == 'book', 'OrdinalTarget'] = 4"
   ]
  },
  {
   "cell_type": "code",
   "execution_count": 52,
   "metadata": {
    "ExecuteTime": {
     "end_time": "2019-11-10T16:27:19.677124Z",
     "start_time": "2019-11-10T16:27:19.641201Z"
    }
   },
   "outputs": [
    {
     "data": {
      "text/plain": [
       "(array([-122.7 , -122.68, -104.97,  -99.15,  -98.06,  -86.18,  -82.36,\n",
       "         -80.48,  -80.12,  -79.93,  -79.4 ,  -79.32,  -77.06,  -75.72,\n",
       "         -75.7 ,  -75.59,  -75.57,  -75.56,  -75.53,  -75.19,  -75.16,\n",
       "         -74.92,  -74.85,  -74.84,  -74.83,  -74.82,  -74.81,  -74.53,\n",
       "         -74.44,  -74.06,  -74.01,  -74.  ,  -73.99,  -73.98,  -73.96,\n",
       "         -73.24,  -73.22,  -72.97,  -72.6 ,  -71.55,  -71.54,  -71.29,\n",
       "         -71.08,  -68.42,  -68.38,  -65.02,  -63.22,  -61.11,  -60.71,\n",
       "         -60.09,  -60.  ,  -58.42,  -57.54,  -56.18,  -56.12,  -55.03,\n",
       "         -54.97,  -54.96,  -54.95,  -54.94,  -54.93,  -54.92,  -54.79,\n",
       "         -54.67,  -54.63,  -54.18,  -53.09,  -51.93,  -51.91,  -51.81,\n",
       "         -51.72,  -51.25,  -51.23,  -51.22,  -51.21,  -51.19,  -51.18,\n",
       "         -51.17,  -51.16,  -51.04,  -50.89,  -50.88,  -50.85,  -50.42,\n",
       "         -50.3 ,  -50.19,  -50.17,  -50.16,  -50.02,  -49.98,  -49.97,\n",
       "         -49.95,  -49.73,  -49.72,  -49.68,  -49.4 ,  -49.39,  -49.38,\n",
       "         -49.37,  -49.35,  -49.33,  -49.31,  -49.3 ,  -49.29,  -49.28,\n",
       "         -49.27,  -49.26,  -49.25,  -49.24,  -49.23,  -49.22,  -49.2 ,\n",
       "         -49.18,  -49.15,  -49.13,  -49.12,  -49.1 ,  -49.09,  -49.08,\n",
       "         -49.07,  -49.06,  -49.05,  -49.01,  -48.94,  -48.93,  -48.92,\n",
       "         -48.91,  -48.9 ,  -48.89,  -48.88,  -48.86,  -48.85,  -48.84,\n",
       "         -48.81,  -48.78,  -48.67,  -48.64,  -48.63,  -48.62,  -48.61,\n",
       "         -48.6 ,  -48.59,  -48.58,  -48.57,  -48.56,  -48.55,  -48.54,\n",
       "         -48.53,  -48.52,  -48.51,  -48.5 ,  -48.49,  -48.48,  -48.47,\n",
       "         -48.46,  -48.45,  -48.44,  -48.43,  -48.42,  -48.41,  -48.35,\n",
       "         -48.34,  -48.26,  -48.22,  -48.17,  -48.14,  -48.12,  -48.08,\n",
       "         -48.07,  -48.04,  -48.01,  -48.  ,  -47.97,  -47.95,  -47.93,\n",
       "         -47.92,  -47.91,  -47.9 ,  -47.89,  -47.88,  -47.87,  -47.85,\n",
       "         -47.84,  -47.82,  -47.81,  -47.79,  -47.78,  -47.77,  -47.76,\n",
       "         -47.72,  -47.7 ,  -47.67,  -47.64,  -47.63,  -47.62,  -47.61,\n",
       "         -47.59,  -47.56,  -47.55,  -47.53,  -47.52,  -47.5 ,  -47.49,\n",
       "         -47.48,  -47.47,  -47.46,  -47.43,  -47.4 ,  -47.38,  -47.36,\n",
       "         -47.35,  -47.33,  -47.32,  -47.31,  -47.3 ,  -47.29,  -47.28,\n",
       "         -47.27,  -47.26,  -47.25,  -47.24,  -47.23,  -47.22,  -47.19,\n",
       "         -47.18,  -47.17,  -47.16,  -47.15,  -47.14,  -47.13,  -47.12,\n",
       "         -47.11,  -47.1 ,  -47.09,  -47.08,  -47.07,  -47.06,  -47.05,\n",
       "         -47.04,  -47.03,  -47.02,  -47.01,  -47.  ,  -46.99,  -46.98,\n",
       "         -46.97,  -46.96,  -46.95,  -46.94,  -46.93,  -46.92,  -46.91,\n",
       "         -46.9 ,  -46.89,  -46.88,  -46.87,  -46.86,  -46.85,  -46.84,\n",
       "         -46.83,  -46.82,  -46.81,  -46.8 ,  -46.79,  -46.78,  -46.77,\n",
       "         -46.76,  -46.75,  -46.74,  -46.73,  -46.72,  -46.71,  -46.7 ,\n",
       "         -46.69,  -46.68,  -46.67,  -46.66,  -46.65,  -46.64,  -46.63,\n",
       "         -46.62,  -46.61,  -46.6 ,  -46.59,  -46.58,  -46.57,  -46.56,\n",
       "         -46.55,  -46.54,  -46.53,  -46.52,  -46.51,  -46.5 ,  -46.49,\n",
       "         -46.48,  -46.47,  -46.46,  -46.45,  -46.44,  -46.43,  -46.42,\n",
       "         -46.41,  -46.4 ,  -46.39,  -46.38,  -46.37,  -46.36,  -46.35,\n",
       "         -46.34,  -46.33,  -46.32,  -46.31,  -46.3 ,  -46.29,  -46.28,\n",
       "         -46.27,  -46.26,  -46.25,  -46.24,  -46.23,  -46.22,  -46.21,\n",
       "         -46.2 ,  -46.19,  -46.18,  -46.17,  -46.16,  -46.15,  -46.14,\n",
       "         -46.13,  -46.12,  -46.11,  -46.1 ,  -46.08,  -46.07,  -46.06,\n",
       "         -46.05,  -46.04,  -46.03,  -46.02,  -46.01,  -46.  ,  -45.97,\n",
       "         -45.96,  -45.95,  -45.94,  -45.93,  -45.92,  -45.9 ,  -45.89,\n",
       "         -45.88,  -45.87,  -45.86,  -45.85,  -45.84,  -45.83,  -45.82,\n",
       "         -45.81,  -45.8 ,  -45.75,  -45.74,  -45.73,  -45.72,  -45.7 ,\n",
       "         -45.69,  -45.68,  -45.67,  -45.66,  -45.65,  -45.64,  -45.63,\n",
       "         -45.62,  -45.61,  -45.6 ,  -45.59,  -45.58,  -45.57,  -45.56,\n",
       "         -45.55,  -45.54,  -45.48,  -45.47,  -45.46,  -45.45,  -45.44,\n",
       "         -45.43,  -45.42,  -45.41,  -45.4 ,  -45.39,  -45.38,  -45.37,\n",
       "         -45.36,  -45.35,  -45.34,  -45.33,  -45.3 ,  -45.29,  -45.27,\n",
       "         -45.26,  -45.25,  -45.24,  -45.23,  -45.22,  -45.2 ,  -45.19,\n",
       "         -45.17,  -45.16,  -45.14,  -45.13,  -45.12,  -45.11,  -45.1 ,\n",
       "         -45.09,  -45.08,  -45.07,  -45.06,  -45.05,  -45.03,  -45.02,\n",
       "         -45.01,  -45.  ,  -44.99,  -44.98,  -44.97,  -44.96,  -44.93,\n",
       "         -44.91,  -44.89,  -44.88,  -44.87,  -44.86,  -44.85,  -44.84,\n",
       "         -44.83,  -44.81,  -44.8 ,  -44.79,  -44.78,  -44.76,  -44.75,\n",
       "         -44.74,  -44.73,  -44.72,  -44.71,  -44.7 ,  -44.69,  -44.68,\n",
       "         -44.65,  -44.64,  -44.63,  -44.62,  -44.61,  -44.6 ,  -44.59,\n",
       "         -44.58,  -44.57,  -44.56,  -44.55,  -44.54,  -44.53,  -44.52,\n",
       "         -44.51,  -44.5 ,  -44.45,  -44.44,  -44.43,  -44.4 ,  -44.39,\n",
       "         -44.36,  -44.35,  -44.34,  -44.33,  -44.32,  -44.31,  -44.3 ,\n",
       "         -44.29,  -44.28,  -44.27,  -44.26,  -44.25,  -44.24,  -44.23,\n",
       "         -44.22,  -44.21,  -44.2 ,  -44.19,  -44.18,  -44.17,  -44.16,\n",
       "         -44.15,  -44.14,  -44.12,  -44.11,  -44.1 ,  -44.09,  -44.08,\n",
       "         -44.07,  -44.05,  -44.04,  -44.03,  -44.02,  -44.01,  -44.  ,\n",
       "         -43.99,  -43.98,  -43.97,  -43.96,  -43.95,  -43.94,  -43.93,\n",
       "         -43.92,  -43.91,  -43.9 ,  -43.89,  -43.88,  -43.87,  -43.86,\n",
       "         -43.85,  -43.83,  -43.82,  -43.79,  -43.77,  -43.75,  -43.74,\n",
       "         -43.72,  -43.7 ,  -43.69,  -43.68,  -43.67,  -43.66,  -43.65,\n",
       "         -43.64,  -43.63,  -43.62,  -43.61,  -43.6 ,  -43.59,  -43.58,\n",
       "         -43.57,  -43.56,  -43.55,  -43.54,  -43.53,  -43.52,  -43.51,\n",
       "         -43.5 ,  -43.49,  -43.48,  -43.47,  -43.46,  -43.45,  -43.44,\n",
       "         -43.43,  -43.42,  -43.41,  -43.4 ,  -43.39,  -43.38,  -43.37,\n",
       "         -43.36,  -43.35,  -43.34,  -43.33,  -43.32,  -43.31,  -43.3 ,\n",
       "         -43.29,  -43.28,  -43.27,  -43.26,  -43.25,  -43.24,  -43.23,\n",
       "         -43.22,  -43.21,  -43.2 ,  -43.19,  -43.18,  -43.17,  -43.16,\n",
       "         -43.15,  -43.14,  -43.13,  -43.12,  -43.11,  -43.1 ,  -43.09,\n",
       "         -43.08,  -43.07,  -43.06,  -43.05,  -43.04,  -43.03,  -43.02,\n",
       "         -43.01,  -43.  ,  -42.99,  -42.98,  -42.97,  -42.96,  -42.95,\n",
       "         -42.94,  -42.93,  -42.92,  -42.91,  -42.9 ,  -42.89,  -42.88,\n",
       "         -42.87,  -42.86,  -42.85,  -42.84,  -42.83,  -42.82,  -42.81,\n",
       "         -42.8 ,  -42.79,  -42.78,  -42.77,  -42.76,  -42.75,  -42.74,\n",
       "         -42.73,  -42.71,  -42.7 ,  -42.69,  -42.66,  -42.65,  -42.64,\n",
       "         -42.63,  -42.62,  -42.61,  -42.6 ,  -42.59,  -42.58,  -42.57,\n",
       "         -42.56,  -42.55,  -42.54,  -42.53,  -42.52,  -42.51,  -42.5 ,\n",
       "         -42.49,  -42.48,  -42.47,  -42.46,  -42.45,  -42.43,  -42.42,\n",
       "         -42.41,  -42.4 ,  -42.39,  -42.38,  -42.37,  -42.36,  -42.35,\n",
       "         -42.34,  -42.33,  -42.32,  -42.31,  -42.3 ,  -42.29,  -42.28,\n",
       "         -42.27,  -42.26,  -42.25,  -42.24,  -42.23,  -42.22,  -42.21,\n",
       "         -42.2 ,  -42.18,  -42.17,  -42.16,  -42.15,  -42.13,  -42.12,\n",
       "         -42.11,  -42.1 ,  -42.09,  -42.08,  -42.07,  -42.06,  -42.05,\n",
       "         -42.04,  -42.03,  -42.02,  -42.01,  -42.  ,  -41.99,  -41.98,\n",
       "         -41.97,  -41.96,  -41.95,  -41.94,  -41.93,  -41.92,  -41.91,\n",
       "         -41.9 ,  -41.89,  -41.88,  -41.87,  -41.81,  -41.8 ,  -41.79,\n",
       "         -41.78,  -41.77,  -41.75,  -41.73,  -41.35,  -41.34,  -41.33,\n",
       "         -41.32,  -41.31,  -41.3 ,  -41.29,  -41.11,  -41.08,  -41.05,\n",
       "         -41.04,  -41.03,  -41.02,  -40.85,  -40.83,  -40.82,  -40.81,\n",
       "         -40.79,  -40.76,  -40.75,  -40.66,  -40.62,  -40.54,  -40.53,\n",
       "         -40.51,  -40.5 ,  -40.49,  -40.48,  -40.43,  -40.31,  -40.3 ,\n",
       "         -40.29,  -40.28,  -40.26,  -40.25,  -40.15,  -40.1 ,  -40.08,\n",
       "         -39.76,  -39.75,  -39.71,  -39.65,  -39.4 ,  -39.32,  -39.23,\n",
       "         -39.19,  -39.15,  -39.13,  -39.12,  -39.11,  -39.1 ,  -39.07,\n",
       "         -39.04,  -39.02,  -39.01,  -38.98,  -38.93,  -38.92,  -38.91,\n",
       "         -38.53,  -38.48,  -38.39,  -38.01,  -37.06,  -35.9 ,  -35.6 ,\n",
       "         -35.18,  -35.05,  -34.9 ,  -34.89,  -34.88,  -34.84,  -34.83,\n",
       "         -31.11,  -25.09,  -25.02,  -24.99,  -23.52,  -22.9 ,  -19.3 ,\n",
       "         -17.47,  -17.03,  -15.92,  -15.8 ,  -15.74,   -8.76,   -8.62,\n",
       "          -8.61,   -8.34,   -7.65,    1.84,    2.65,    2.86,    3.45,\n",
       "           6.13,    8.02,    8.8 ,   10.41,   11.25,   13.84,   14.22,\n",
       "          14.45,   15.29,   18.32,   18.42,   23.04,   31.14,   36.72]),\n",
       " array([    1,     1,     1,     1,     1,     1,     1,     1,     2,\n",
       "            1,     1,     1,     1,     1,     1,     1,     4,     9,\n",
       "            1,     1,     1,     1,     1,     2,     1,     3,     1,\n",
       "            1,     1,     1,     1,     2,     4,     3,     1,     2,\n",
       "            1,     1,     1,     1,     1,     1,     2,     1,     1,\n",
       "            1,     1,     1,     1,     1,     1,     1,     2,     1,\n",
       "            1,     1,     1,     1,     1,     3,     3,     1,     1,\n",
       "            2,     1,     3,     1,     1,     1,     1,     1,     2,\n",
       "            2,     3,     1,     2,     1,     8,     3,     1,     2,\n",
       "            1,     3,     1,     2,     1,     1,     1,     1,     2,\n",
       "            1,     2,     2,     4,     1,     1,     7,     4,     3,\n",
       "            1,     1,     2,     1,     5,     9,     1,     5,     3,\n",
       "            1,     4,     2,     5,     1,     1,     6,     1,     1,\n",
       "            4,     1,     2,     3,     1,     1,     3,     1,     2,\n",
       "            6,    11,     1,     1,     1,     2,     1,     1,     1,\n",
       "            2,     5,     6,     1,     6,     5,     5,     3,     2,\n",
       "            1,     1,     2,     1,     1,     1,     3,     3,     4,\n",
       "            6,     3,     4,     2,     1,     1,     2,     1,     1,\n",
       "            1,     2,     1,     1,     1,     1,     2,     3,     1,\n",
       "            3,     1,     1,     1,     7,     2,     3,     1,     1,\n",
       "            7,     3,     1,     7,    16,    23,     1,     1,     1,\n",
       "            1,     6,     1,     1,     2,     2,     1,     2,     4,\n",
       "            1,     1,     1,     3,     3,     4,     2,     8,     1,\n",
       "            2,     2,     1,     3,     3,     3,     3,     8,     5,\n",
       "            2,     1,     6,    16,     4,    16,     7,     9,    29,\n",
       "            5,     2,     1,     5,     4,     7,     7,     4,     5,\n",
       "            6,     9,    37,    17,    12,     8,    17,     8,    14,\n",
       "           21,    16,    30,     7,     7,     4,     3,    18,    15,\n",
       "           12,    45,    50,    45,    92,    99,    81,    78,    31,\n",
       "           13,    10,    11,    36,    97,   121,   246,   427,   653,\n",
       "          777,   900,  2039,  3610,  4964,  3193,  5769,  8078,  5824,\n",
       "         1530,   722,   533,   348,   182,   149,   142,   190,   132,\n",
       "          193,   111,    91,    83,    58,    29,    34,    23,    46,\n",
       "           30,    19,    18,    30,    13,    19,     8,    27,    32,\n",
       "            8,    19,    24,    29,    13,    16,     7,     7,     8,\n",
       "           24,    47,    17,    43,    47,    12,    18,    44,    21,\n",
       "           23,     5,     2,     2,     3,    11,    20,     2,     6,\n",
       "            1,     4,     5,    24,    13,    44,    40,    11,     8,\n",
       "            1,    23,    14,     3,     2,     4,     5,    11,     3,\n",
       "            5,    23,     7,     5,     1,     1,     1,     1,     4,\n",
       "            6,    11,     2,    14,     1,     3,     5,    14,    13,\n",
       "            7,     9,    20,    14,    34,     3,    44,    11,    59,\n",
       "            7,    19,     1,     1,     4,    29,     8,     7,     7,\n",
       "           11,    10,    14,    19,    16,    30,    31,     6,    16,\n",
       "            1,     1,     1,     1,     3,     1,     4,     1,     5,\n",
       "            2,     4,     8,     4,     5,     4,     6,     7,     1,\n",
       "            8,    13,     7,    31,     1,     1,     6,     1,    11,\n",
       "           16,     8,    33,     1,     1,    10,     2,     2,     1,\n",
       "            1,     8,     1,     8,     2,     7,     6,     4,     2,\n",
       "           12,    54,    88,    65,     5,    37,     3,     2,     2,\n",
       "            1,     4,     3,     3,    10,     5,     2,     2,     2,\n",
       "           11,     9,     6,     5,     1,     9,     2,     2,     2,\n",
       "           12,     6,    11,    12,    12,    11,     8,    57,     4,\n",
       "            2,    20,    28,     6,    34,    12,    17,     8,    20,\n",
       "            5,    20,    80,    63,    17,     7,     1,     2,     2,\n",
       "            2,     1,     3,     1,     4,     5,     3,     2,    21,\n",
       "            1,     2,     2,     3,     3,     9,     6,     1,     6,\n",
       "            6,     3,     5,     1,     1,     1,     2,     1,     1,\n",
       "            3,     4,     6,     4,     2,     7,     8,     3,     1,\n",
       "           13,    22,    17,    10,     6,     7,    12,    13,    74,\n",
       "           74,    57,    41,    27,    42,   107,    98,   365,   339,\n",
       "          480,   392,   392,   328,   341,   582,   831,   861,  1318,\n",
       "          609,   734,  1116,  1085,   857,  1696,  1246,  1119,   735,\n",
       "          307,   218,   496,   524,   712,  1958,  4122,  6591,  6219,\n",
       "        15544, 43717, 23837,  6408,   343,    31,    22,   162,   534,\n",
       "          603,   311,   211,    76,   135,   160,   105,   145,   292,\n",
       "           85,    63,    28,    66,   109,    15,    45,     6,    14,\n",
       "           37,     9,     9,     2,    22,    20,     8,    20,     7,\n",
       "           17,     1,    25,    11,    18,     4,     4,     8,    10,\n",
       "           11,     8,     2,     1,    10,     4,     3,    11,     5,\n",
       "           13,     7,    12,    14,    15,     4,     1,    16,    11,\n",
       "           19,    60,    29,    31,     8,     9,    40,    49,    12,\n",
       "            5,     4,     7,     4,     2,     2,     1,     2,     1,\n",
       "           11,     6,    30,    60,     8,    12,     9,     4,     7,\n",
       "           10,     3,     7,     9,     6,     3,     4,     9,     6,\n",
       "           10,     5,    19,     7,    13,     9,     4,     2,     2,\n",
       "            4,    16,    30,   225,    75,    25,    37,    18,     9,\n",
       "           15,    17,    28,    50,    21,    19,    36,    59,    39,\n",
       "           37,     4,     2,    10,     2,    12,     1,     1,     2,\n",
       "            1,     3,     3,     2,     1,     4,     1,     1,     2,\n",
       "            1,     1,     4,     2,     1,     2,     1,     1,     1,\n",
       "            1,     1,     2,     1,     1,     2,     1,     5,     5,\n",
       "            3,     1,     1,     2,     3,     3,     3,     1,     1,\n",
       "            1,     1,     1,     1,     2,     1,     1,     1,     2,\n",
       "            1,     1,     1,     1,     2,     2,     3,     4,     1,\n",
       "            1,     1,     1,     4,     4,     6,     1,     1,     1,\n",
       "            1,     1,     1,     1,     1,     2,     3,     2,     1,\n",
       "            1,     1,     1,     1,     3,     1,     1,     1,     1,\n",
       "            1,     1,     1,     1,     1,     1,     1,     1,     1,\n",
       "            1,     1,     1,     1,     1,     1,     1,     1,     1,\n",
       "            1,     1,     1,     1,     1,     1,     1,     1,     1]))"
      ]
     },
     "execution_count": 52,
     "metadata": {},
     "output_type": "execute_result"
    }
   ],
   "source": []
  },
  {
   "cell_type": "markdown",
   "metadata": {
    "ExecuteTime": {
     "end_time": "2019-11-08T03:52:19.134861Z",
     "start_time": "2019-11-08T03:52:19.103949Z"
    }
   },
   "source": [
    "# Split Data into Training, Validation and test Dataset\n"
   ]
  },
  {
   "cell_type": "code",
   "execution_count": 5,
   "metadata": {
    "ExecuteTime": {
     "end_time": "2019-11-10T08:15:55.404534Z",
     "start_time": "2019-11-10T08:15:55.205960Z"
    }
   },
   "outputs": [
    {
     "name": "stdout",
     "output_type": "stream",
     "text": [
      "Number of Searches: 60,815\n",
      "Number of Listings: 30,960\n"
     ]
    },
    {
     "data": {
      "text/html": [
       "<strong>Distribution of Number of Results Per Search </strong>"
      ],
      "text/plain": [
       "<IPython.core.display.HTML object>"
      ]
     },
     "metadata": {},
     "output_type": "display_data"
    },
    {
     "data": {
      "text/plain": [
       "count    60815.000000\n",
       "mean         2.920135\n",
       "std          2.319170\n",
       "min          1.000000\n",
       "25%          1.000000\n",
       "50%          2.000000\n",
       "75%          4.000000\n",
       "max         18.000000\n",
       "Name: NumResults, dtype: float64"
      ]
     },
     "metadata": {},
     "output_type": "display_data"
    },
    {
     "data": {
      "text/html": [
       "<strong>Number of Searches and Data Points By Number of Results Per Search</strong>"
      ],
      "text/plain": [
       "<IPython.core.display.HTML object>"
      ]
     },
     "metadata": {},
     "output_type": "display_data"
    },
    {
     "data": {
      "text/html": [
       "<style  type=\"text/css\" >\n",
       "</style><table id=\"T_5166998c_0392_11ea_a749_acde48001122\" ><thead>    <tr>        <th class=\"blank level0\" ></th>        <th class=\"col_heading level0 col0\" >NumResults</th>        <th class=\"col_heading level0 col1\" >NumSearches</th>        <th class=\"col_heading level0 col2\" >PctSearches</th>        <th class=\"col_heading level0 col3\" >NumDataPoints</th>        <th class=\"col_heading level0 col4\" >PctDataPoints</th>    </tr></thead><tbody>\n",
       "                <tr>\n",
       "                        <th id=\"T_5166998c_0392_11ea_a749_acde48001122level0_row0\" class=\"row_heading level0 row0\" >0</th>\n",
       "                        <td id=\"T_5166998c_0392_11ea_a749_acde48001122row0_col0\" class=\"data row0 col0\" >1</td>\n",
       "                        <td id=\"T_5166998c_0392_11ea_a749_acde48001122row0_col1\" class=\"data row0 col1\" >21,787</td>\n",
       "                        <td id=\"T_5166998c_0392_11ea_a749_acde48001122row0_col2\" class=\"data row0 col2\" >0.35825</td>\n",
       "                        <td id=\"T_5166998c_0392_11ea_a749_acde48001122row0_col3\" class=\"data row0 col3\" >21,787</td>\n",
       "                        <td id=\"T_5166998c_0392_11ea_a749_acde48001122row0_col4\" class=\"data row0 col4\" >12.27%</td>\n",
       "            </tr>\n",
       "            <tr>\n",
       "                        <th id=\"T_5166998c_0392_11ea_a749_acde48001122level0_row1\" class=\"row_heading level0 row1\" >1</th>\n",
       "                        <td id=\"T_5166998c_0392_11ea_a749_acde48001122row1_col0\" class=\"data row1 col0\" >2</td>\n",
       "                        <td id=\"T_5166998c_0392_11ea_a749_acde48001122row1_col1\" class=\"data row1 col1\" >12,674</td>\n",
       "                        <td id=\"T_5166998c_0392_11ea_a749_acde48001122row1_col2\" class=\"data row1 col2\" >0.208403</td>\n",
       "                        <td id=\"T_5166998c_0392_11ea_a749_acde48001122row1_col3\" class=\"data row1 col3\" >25,348</td>\n",
       "                        <td id=\"T_5166998c_0392_11ea_a749_acde48001122row1_col4\" class=\"data row1 col4\" >14.27%</td>\n",
       "            </tr>\n",
       "            <tr>\n",
       "                        <th id=\"T_5166998c_0392_11ea_a749_acde48001122level0_row2\" class=\"row_heading level0 row2\" >2</th>\n",
       "                        <td id=\"T_5166998c_0392_11ea_a749_acde48001122row2_col0\" class=\"data row2 col0\" >3</td>\n",
       "                        <td id=\"T_5166998c_0392_11ea_a749_acde48001122row2_col1\" class=\"data row2 col1\" >8,343</td>\n",
       "                        <td id=\"T_5166998c_0392_11ea_a749_acde48001122row2_col2\" class=\"data row2 col2\" >0.137187</td>\n",
       "                        <td id=\"T_5166998c_0392_11ea_a749_acde48001122row2_col3\" class=\"data row2 col3\" >25,029</td>\n",
       "                        <td id=\"T_5166998c_0392_11ea_a749_acde48001122row2_col4\" class=\"data row2 col4\" >14.09%</td>\n",
       "            </tr>\n",
       "            <tr>\n",
       "                        <th id=\"T_5166998c_0392_11ea_a749_acde48001122level0_row3\" class=\"row_heading level0 row3\" >3</th>\n",
       "                        <td id=\"T_5166998c_0392_11ea_a749_acde48001122row3_col0\" class=\"data row3 col0\" >4</td>\n",
       "                        <td id=\"T_5166998c_0392_11ea_a749_acde48001122row3_col1\" class=\"data row3 col1\" >5,820</td>\n",
       "                        <td id=\"T_5166998c_0392_11ea_a749_acde48001122row3_col2\" class=\"data row3 col2\" >0.0957001</td>\n",
       "                        <td id=\"T_5166998c_0392_11ea_a749_acde48001122row3_col3\" class=\"data row3 col3\" >23,280</td>\n",
       "                        <td id=\"T_5166998c_0392_11ea_a749_acde48001122row3_col4\" class=\"data row3 col4\" >13.11%</td>\n",
       "            </tr>\n",
       "            <tr>\n",
       "                        <th id=\"T_5166998c_0392_11ea_a749_acde48001122level0_row4\" class=\"row_heading level0 row4\" >4</th>\n",
       "                        <td id=\"T_5166998c_0392_11ea_a749_acde48001122row4_col0\" class=\"data row4 col0\" >5</td>\n",
       "                        <td id=\"T_5166998c_0392_11ea_a749_acde48001122row4_col1\" class=\"data row4 col1\" >4,166</td>\n",
       "                        <td id=\"T_5166998c_0392_11ea_a749_acde48001122row4_col2\" class=\"data row4 col2\" >0.0685028</td>\n",
       "                        <td id=\"T_5166998c_0392_11ea_a749_acde48001122row4_col3\" class=\"data row4 col3\" >20,830</td>\n",
       "                        <td id=\"T_5166998c_0392_11ea_a749_acde48001122row4_col4\" class=\"data row4 col4\" >11.73%</td>\n",
       "            </tr>\n",
       "    </tbody></table>"
      ],
      "text/plain": [
       "<pandas.io.formats.style.Styler at 0x124ca6f60>"
      ]
     },
     "execution_count": 5,
     "metadata": {},
     "output_type": "execute_result"
    }
   ],
   "source": [
    "print(\"Number of Searches: {:,}\".format(dataDF['id_search'].nunique()))\n",
    "print(\"Number of Listings: {:,}\".format(dataDF['id_listing'].nunique()))\n",
    "\n",
    "searchDF = PerGroupCount(dataDF, 'id_search', 'NumResults')\n",
    "\n",
    "display(HTML(\"<strong>Distribution of Number of Results Per Search </strong>\"))\n",
    "display(searchDF.NumResults.describe())\n",
    "resultSizeDF = PerGroupCount(searchDF, 'NumResults', 'NumSearches', pct='PctSearches')\n",
    "\n",
    "resultSizeDF['NumDataPoints'] = resultSizeDF.NumSearches * resultSizeDF.NumResults \n",
    "resultSizeDF['PctDataPoints'] =  resultSizeDF.NumDataPoints / np.sum(resultSizeDF.NumDataPoints)\n",
    "\n",
    "display(HTML(\"<strong>Number of Searches and Data Points By Number of Results Per Search</strong>\"))\n",
    "resultSizeDF.sort_values('NumResults').head(5).style.format({\n",
    "    'NumSearches': '{:,}', \n",
    "    'PctSearhes': '{:.2%}', \n",
    "    'NumDataPoints': '{:,}',\n",
    "    'PctDataPoints': '{:.2%}'\n",
    "})"
   ]
  },
  {
   "cell_type": "code",
   "execution_count": 6,
   "metadata": {
    "ExecuteTime": {
     "end_time": "2019-11-10T08:15:56.495051Z",
     "start_time": "2019-11-10T08:15:55.955434Z"
    }
   },
   "outputs": [
    {
     "data": {
      "text/html": [
       "<strong>Distribution of Searches by datasets</strong>"
      ],
      "text/plain": [
       "<IPython.core.display.HTML object>"
      ]
     },
     "metadata": {},
     "output_type": "display_data"
    },
    {
     "data": {
      "text/html": [
       "<style  type=\"text/css\" >\n",
       "</style><table id=\"T_51bf262e_0392_11ea_a749_acde48001122\" ><thead>    <tr>        <th class=\"blank level0\" ></th>        <th class=\"col_heading level0 col0\" >assignment</th>        <th class=\"col_heading level0 col1\" >NumSearches</th>        <th class=\"col_heading level0 col2\" >PerSearches</th>    </tr></thead><tbody>\n",
       "                <tr>\n",
       "                        <th id=\"T_51bf262e_0392_11ea_a749_acde48001122level0_row0\" class=\"row_heading level0 row0\" >0</th>\n",
       "                        <td id=\"T_51bf262e_0392_11ea_a749_acde48001122row0_col0\" class=\"data row0 col0\" >TEST</td>\n",
       "                        <td id=\"T_51bf262e_0392_11ea_a749_acde48001122row0_col1\" class=\"data row0 col1\" >5,967</td>\n",
       "                        <td id=\"T_51bf262e_0392_11ea_a749_acde48001122row0_col2\" class=\"data row0 col2\" >9.81%</td>\n",
       "            </tr>\n",
       "            <tr>\n",
       "                        <th id=\"T_51bf262e_0392_11ea_a749_acde48001122level0_row1\" class=\"row_heading level0 row1\" >1</th>\n",
       "                        <td id=\"T_51bf262e_0392_11ea_a749_acde48001122row1_col0\" class=\"data row1 col0\" >TRAIN</td>\n",
       "                        <td id=\"T_51bf262e_0392_11ea_a749_acde48001122row1_col1\" class=\"data row1 col1\" >49,061</td>\n",
       "                        <td id=\"T_51bf262e_0392_11ea_a749_acde48001122row1_col2\" class=\"data row1 col2\" >80.67%</td>\n",
       "            </tr>\n",
       "            <tr>\n",
       "                        <th id=\"T_51bf262e_0392_11ea_a749_acde48001122level0_row2\" class=\"row_heading level0 row2\" >2</th>\n",
       "                        <td id=\"T_51bf262e_0392_11ea_a749_acde48001122row2_col0\" class=\"data row2 col0\" >VALIDATION</td>\n",
       "                        <td id=\"T_51bf262e_0392_11ea_a749_acde48001122row2_col1\" class=\"data row2 col1\" >5,787</td>\n",
       "                        <td id=\"T_51bf262e_0392_11ea_a749_acde48001122row2_col2\" class=\"data row2 col2\" >9.52%</td>\n",
       "            </tr>\n",
       "    </tbody></table>"
      ],
      "text/plain": [
       "<pandas.io.formats.style.Styler at 0x124cd5400>"
      ]
     },
     "metadata": {},
     "output_type": "display_data"
    },
    {
     "data": {
      "text/html": [
       "<strong>Distribution of Data Points by datasets</strong>"
      ],
      "text/plain": [
       "<IPython.core.display.HTML object>"
      ]
     },
     "metadata": {},
     "output_type": "display_data"
    },
    {
     "data": {
      "text/html": [
       "<style  type=\"text/css\" >\n",
       "</style><table id=\"T_520d1230_0392_11ea_a749_acde48001122\" ><thead>    <tr>        <th class=\"blank level0\" ></th>        <th class=\"col_heading level0 col0\" >assignment</th>        <th class=\"col_heading level0 col1\" >NumDataPoints</th>        <th class=\"col_heading level0 col2\" >PerDataPoints</th>    </tr></thead><tbody>\n",
       "                <tr>\n",
       "                        <th id=\"T_520d1230_0392_11ea_a749_acde48001122level0_row0\" class=\"row_heading level0 row0\" >0</th>\n",
       "                        <td id=\"T_520d1230_0392_11ea_a749_acde48001122row0_col0\" class=\"data row0 col0\" >TEST</td>\n",
       "                        <td id=\"T_520d1230_0392_11ea_a749_acde48001122row0_col1\" class=\"data row0 col1\" >23,782</td>\n",
       "                        <td id=\"T_520d1230_0392_11ea_a749_acde48001122row0_col2\" class=\"data row0 col2\" >13.39%</td>\n",
       "            </tr>\n",
       "            <tr>\n",
       "                        <th id=\"T_520d1230_0392_11ea_a749_acde48001122level0_row1\" class=\"row_heading level0 row1\" >1</th>\n",
       "                        <td id=\"T_520d1230_0392_11ea_a749_acde48001122row1_col0\" class=\"data row1 col0\" >TRAIN</td>\n",
       "                        <td id=\"T_520d1230_0392_11ea_a749_acde48001122row1_col1\" class=\"data row1 col1\" >130,867</td>\n",
       "                        <td id=\"T_520d1230_0392_11ea_a749_acde48001122row1_col2\" class=\"data row1 col2\" >73.69%</td>\n",
       "            </tr>\n",
       "            <tr>\n",
       "                        <th id=\"T_520d1230_0392_11ea_a749_acde48001122level0_row2\" class=\"row_heading level0 row2\" >2</th>\n",
       "                        <td id=\"T_520d1230_0392_11ea_a749_acde48001122row2_col0\" class=\"data row2 col0\" >VALIDATION</td>\n",
       "                        <td id=\"T_520d1230_0392_11ea_a749_acde48001122row2_col1\" class=\"data row2 col1\" >22,939</td>\n",
       "                        <td id=\"T_520d1230_0392_11ea_a749_acde48001122row2_col2\" class=\"data row2 col2\" >12.92%</td>\n",
       "            </tr>\n",
       "    </tbody></table>"
      ],
      "text/plain": [
       "<pandas.io.formats.style.Styler at 0x12426bfd0>"
      ]
     },
     "metadata": {},
     "output_type": "display_data"
    }
   ],
   "source": [
    "# Divide Into Train, Validation and test dataset. Use searches with a single result for training but not for validation and testing\n",
    "import random\n",
    "\n",
    "def train_validation_test_assignment(num_results):\n",
    "    if num_results == 1:\n",
    "        return 'TRAIN'\n",
    "    \n",
    "    rnd = random.random()\n",
    "    if rnd < 0.7:\n",
    "        return 'TRAIN'\n",
    "    elif rnd < 0.85:\n",
    "        return 'VALIDATION'\n",
    "    \n",
    "    return 'TEST'\n",
    "\n",
    "# Assign searches to train, validation and test set. \n",
    "searchDF['assignment'] = searchDF.NumResults.apply(train_validation_test_assignment)\n",
    "\n",
    "display(HTML(\"<strong>Distribution of Searches by datasets</strong>\"))\n",
    "display(PerGroupCount(searchDF, 'assignment', alias='NumSearches', pct='PerSearches').style.format({\n",
    "    'NumSearches': '{:,}'\n",
    "    , 'PerSearches': '{:.2%}'\n",
    "}))\n",
    "\n",
    "\n",
    "# Transfer assignment from searches to original dataset\n",
    "dataDF = dataDF.merge(searchDF[['id_search', 'assignment']], on='id_search')\n",
    "\n",
    "display(HTML(\"<strong>Distribution of Data Points by datasets</strong>\"))\n",
    "display(PerGroupCount(dataDF, 'assignment', alias='NumDataPoints', pct='PerDataPoints').style.format({\n",
    "    'NumDataPoints': '{:,}'\n",
    "    , 'PerDataPoints': '{:.2%}'\n",
    "}))\n",
    "\n",
    "\n"
   ]
  },
  {
   "cell_type": "code",
   "execution_count": 7,
   "metadata": {
    "ExecuteTime": {
     "end_time": "2019-11-10T08:15:57.168675Z",
     "start_time": "2019-11-10T08:15:57.146548Z"
    }
   },
   "outputs": [
    {
     "data": {
      "text/html": [
       "<style  type=\"text/css\" >\n",
       "</style><table id=\"T_5273f07c_0392_11ea_a749_acde48001122\" ><thead>    <tr>        <th class=\"index_name level0\" >label</th>        <th class=\"col_heading level0 col0\" >book</th>        <th class=\"col_heading level0 col1\" >click</th>        <th class=\"col_heading level0 col2\" >host_contact</th>        <th class=\"col_heading level0 col3\" >impression</th>    </tr>    <tr>        <th class=\"index_name level0\" >assignment</th>        <th class=\"blank\" ></th>        <th class=\"blank\" ></th>        <th class=\"blank\" ></th>        <th class=\"blank\" ></th>    </tr></thead><tbody>\n",
       "                <tr>\n",
       "                        <th id=\"T_5273f07c_0392_11ea_a749_acde48001122level0_row0\" class=\"row_heading level0 row0\" >TEST</th>\n",
       "                        <td id=\"T_5273f07c_0392_11ea_a749_acde48001122row0_col0\" class=\"data row0 col0\" >0.17%</td>\n",
       "                        <td id=\"T_5273f07c_0392_11ea_a749_acde48001122row0_col1\" class=\"data row0 col1\" >3.33%</td>\n",
       "                        <td id=\"T_5273f07c_0392_11ea_a749_acde48001122row0_col2\" class=\"data row0 col2\" >0.22%</td>\n",
       "                        <td id=\"T_5273f07c_0392_11ea_a749_acde48001122row0_col3\" class=\"data row0 col3\" >9.68%</td>\n",
       "            </tr>\n",
       "            <tr>\n",
       "                        <th id=\"T_5273f07c_0392_11ea_a749_acde48001122level0_row1\" class=\"row_heading level0 row1\" >TRAIN</th>\n",
       "                        <td id=\"T_5273f07c_0392_11ea_a749_acde48001122row1_col0\" class=\"data row1 col0\" >0.91%</td>\n",
       "                        <td id=\"T_5273f07c_0392_11ea_a749_acde48001122row1_col1\" class=\"data row1 col1\" >17.30%</td>\n",
       "                        <td id=\"T_5273f07c_0392_11ea_a749_acde48001122row1_col2\" class=\"data row1 col2\" >1.28%</td>\n",
       "                        <td id=\"T_5273f07c_0392_11ea_a749_acde48001122row1_col3\" class=\"data row1 col3\" >54.21%</td>\n",
       "            </tr>\n",
       "            <tr>\n",
       "                        <th id=\"T_5273f07c_0392_11ea_a749_acde48001122level0_row2\" class=\"row_heading level0 row2\" >VALIDATION</th>\n",
       "                        <td id=\"T_5273f07c_0392_11ea_a749_acde48001122row2_col0\" class=\"data row2 col0\" >0.18%</td>\n",
       "                        <td id=\"T_5273f07c_0392_11ea_a749_acde48001122row2_col1\" class=\"data row2 col1\" >3.17%</td>\n",
       "                        <td id=\"T_5273f07c_0392_11ea_a749_acde48001122row2_col2\" class=\"data row2 col2\" >0.23%</td>\n",
       "                        <td id=\"T_5273f07c_0392_11ea_a749_acde48001122row2_col3\" class=\"data row2 col3\" >9.34%</td>\n",
       "            </tr>\n",
       "    </tbody></table>"
      ],
      "text/plain": [
       "<pandas.io.formats.style.Styler at 0x124683e10>"
      ]
     },
     "execution_count": 7,
     "metadata": {},
     "output_type": "execute_result"
    }
   ],
   "source": [
    "# distribution will be definitely skewed for training dataset due to single searches but it should be relatively same for validation and test dataset\n",
    "PerGroupCount(dataDF, ['assignment', 'label'], pct='pct').pivot(index='assignment', columns='label', values='pct').style.format(\"{:.2%}\")"
   ]
  },
  {
   "cell_type": "markdown",
   "metadata": {},
   "source": [
    "# Imput Values"
   ]
  },
  {
   "cell_type": "markdown",
   "metadata": {},
   "source": [
    "## Idnetify Columns With Missing Values"
   ]
  },
  {
   "cell_type": "code",
   "execution_count": 8,
   "metadata": {
    "ExecuteTime": {
     "end_time": "2019-11-10T08:15:57.821547Z",
     "start_time": "2019-11-10T08:15:57.797621Z"
    }
   },
   "outputs": [
    {
     "data": {
      "text/html": [
       "<style  type=\"text/css\" >\n",
       "</style><table id=\"T_52d767d8_0392_11ea_a749_acde48001122\" ><thead>    <tr>        <th class=\"blank level0\" ></th>        <th class=\"col_heading level0 col0\" >Columns</th>        <th class=\"col_heading level0 col1\" >NumMissing</th>        <th class=\"col_heading level0 col2\" >PctMissing</th>    </tr></thead><tbody>\n",
       "                <tr>\n",
       "                        <th id=\"T_52d767d8_0392_11ea_a749_acde48001122level0_row0\" class=\"row_heading level0 row0\" >29</th>\n",
       "                        <td id=\"T_52d767d8_0392_11ea_a749_acde48001122row0_col0\" class=\"data row0 col0\" >listing_cleaning_fee</td>\n",
       "                        <td id=\"T_52d767d8_0392_11ea_a749_acde48001122row0_col1\" class=\"data row0 col1\" >45,052</td>\n",
       "                        <td id=\"T_52d767d8_0392_11ea_a749_acde48001122row0_col2\" class=\"data row0 col2\" >25.37%</td>\n",
       "            </tr>\n",
       "            <tr>\n",
       "                        <th id=\"T_52d767d8_0392_11ea_a749_acde48001122level0_row1\" class=\"row_heading level0 row1\" >30</th>\n",
       "                        <td id=\"T_52d767d8_0392_11ea_a749_acde48001122row1_col0\" class=\"data row1 col0\" >listing_weekly_price_factor</td>\n",
       "                        <td id=\"T_52d767d8_0392_11ea_a749_acde48001122row1_col1\" class=\"data row1 col1\" >44,878</td>\n",
       "                        <td id=\"T_52d767d8_0392_11ea_a749_acde48001122row1_col2\" class=\"data row1 col2\" >25.27%</td>\n",
       "            </tr>\n",
       "            <tr>\n",
       "                        <th id=\"T_52d767d8_0392_11ea_a749_acde48001122level0_row2\" class=\"row_heading level0 row2\" >25</th>\n",
       "                        <td id=\"T_52d767d8_0392_11ea_a749_acde48001122row2_col0\" class=\"data row2 col0\" >listing_num_books_90day</td>\n",
       "                        <td id=\"T_52d767d8_0392_11ea_a749_acde48001122row2_col1\" class=\"data row2 col1\" >24,800</td>\n",
       "                        <td id=\"T_52d767d8_0392_11ea_a749_acde48001122row2_col2\" class=\"data row2 col2\" >13.96%</td>\n",
       "            </tr>\n",
       "            <tr>\n",
       "                        <th id=\"T_52d767d8_0392_11ea_a749_acde48001122level0_row3\" class=\"row_heading level0 row3\" >13</th>\n",
       "                        <td id=\"T_52d767d8_0392_11ea_a749_acde48001122row3_col0\" class=\"data row3 col0\" >listing_review_rating</td>\n",
       "                        <td id=\"T_52d767d8_0392_11ea_a749_acde48001122row3_col1\" class=\"data row3 col1\" >21,382</td>\n",
       "                        <td id=\"T_52d767d8_0392_11ea_a749_acde48001122row3_col2\" class=\"data row3 col2\" >12.04%</td>\n",
       "            </tr>\n",
       "            <tr>\n",
       "                        <th id=\"T_52d767d8_0392_11ea_a749_acde48001122level0_row4\" class=\"row_heading level0 row4\" >14</th>\n",
       "                        <td id=\"T_52d767d8_0392_11ea_a749_acde48001122row4_col0\" class=\"data row4 col0\" >listing_review_count</td>\n",
       "                        <td id=\"T_52d767d8_0392_11ea_a749_acde48001122row4_col1\" class=\"data row4 col1\" >17,533</td>\n",
       "                        <td id=\"T_52d767d8_0392_11ea_a749_acde48001122row4_col2\" class=\"data row4 col2\" >9.87%</td>\n",
       "            </tr>\n",
       "            <tr>\n",
       "                        <th id=\"T_52d767d8_0392_11ea_a749_acde48001122level0_row5\" class=\"row_heading level0 row5\" >26</th>\n",
       "                        <td id=\"T_52d767d8_0392_11ea_a749_acde48001122row5_col0\" class=\"data row5 col0\" >listing_occupancy_rate</td>\n",
       "                        <td id=\"T_52d767d8_0392_11ea_a749_acde48001122row5_col1\" class=\"data row5 col1\" >10,877</td>\n",
       "                        <td id=\"T_52d767d8_0392_11ea_a749_acde48001122row5_col2\" class=\"data row5 col2\" >6.12%</td>\n",
       "            </tr>\n",
       "            <tr>\n",
       "                        <th id=\"T_52d767d8_0392_11ea_a749_acde48001122level0_row6\" class=\"row_heading level0 row6\" >15</th>\n",
       "                        <td id=\"T_52d767d8_0392_11ea_a749_acde48001122row6_col0\" class=\"data row6 col0\" >listing_num_beds</td>\n",
       "                        <td id=\"T_52d767d8_0392_11ea_a749_acde48001122row6_col1\" class=\"data row6 col1\" >9,050</td>\n",
       "                        <td id=\"T_52d767d8_0392_11ea_a749_acde48001122row6_col2\" class=\"data row6 col2\" >5.10%</td>\n",
       "            </tr>\n",
       "            <tr>\n",
       "                        <th id=\"T_52d767d8_0392_11ea_a749_acde48001122level0_row7\" class=\"row_heading level0 row7\" >16</th>\n",
       "                        <td id=\"T_52d767d8_0392_11ea_a749_acde48001122row7_col0\" class=\"data row7 col0\" >listing_num_bedrooms</td>\n",
       "                        <td id=\"T_52d767d8_0392_11ea_a749_acde48001122row7_col1\" class=\"data row7 col1\" >9,034</td>\n",
       "                        <td id=\"T_52d767d8_0392_11ea_a749_acde48001122row7_col2\" class=\"data row7 col2\" >5.09%</td>\n",
       "            </tr>\n",
       "            <tr>\n",
       "                        <th id=\"T_52d767d8_0392_11ea_a749_acde48001122level0_row8\" class=\"row_heading level0 row8\" >9</th>\n",
       "                        <td id=\"T_52d767d8_0392_11ea_a749_acde48001122row8_col0\" class=\"data row8 col0\" >listing_total_price</td>\n",
       "                        <td id=\"T_52d767d8_0392_11ea_a749_acde48001122row8_col1\" class=\"data row8 col1\" >9,021</td>\n",
       "                        <td id=\"T_52d767d8_0392_11ea_a749_acde48001122row8_col2\" class=\"data row8 col2\" >5.08%</td>\n",
       "            </tr>\n",
       "            <tr>\n",
       "                        <th id=\"T_52d767d8_0392_11ea_a749_acde48001122level0_row9\" class=\"row_heading level0 row9\" >31</th>\n",
       "                        <td id=\"T_52d767d8_0392_11ea_a749_acde48001122row9_col0\" class=\"data row9 col0\" >listing_minimum_nights</td>\n",
       "                        <td id=\"T_52d767d8_0392_11ea_a749_acde48001122row9_col1\" class=\"data row9 col1\" >204</td>\n",
       "                        <td id=\"T_52d767d8_0392_11ea_a749_acde48001122row9_col2\" class=\"data row9 col2\" >0.11%</td>\n",
       "            </tr>\n",
       "            <tr>\n",
       "                        <th id=\"T_52d767d8_0392_11ea_a749_acde48001122level0_row10\" class=\"row_heading level0 row10\" >32</th>\n",
       "                        <td id=\"T_52d767d8_0392_11ea_a749_acde48001122row10_col0\" class=\"data row10 col0\" >listing_maximum_nights</td>\n",
       "                        <td id=\"T_52d767d8_0392_11ea_a749_acde48001122row10_col1\" class=\"data row10 col1\" >204</td>\n",
       "                        <td id=\"T_52d767d8_0392_11ea_a749_acde48001122row10_col2\" class=\"data row10 col2\" >0.11%</td>\n",
       "            </tr>\n",
       "    </tbody></table>"
      ],
      "text/plain": [
       "<pandas.io.formats.style.Styler at 0x1246aaf98>"
      ]
     },
     "execution_count": 8,
     "metadata": {},
     "output_type": "execute_result"
    }
   ],
   "source": [
    "# For numeric columns, impute missing values\n",
    "tmpDF = dataDF._get_numeric_data().isnull().sum(axis=0).reset_index().rename(columns={0: 'NumMissing', 'index': 'Columns'})\n",
    "tmpDF['PctMissing'] = tmpDF.NumMissing / dataDF.shape[0]\n",
    "tmpDF[tmpDF.NumMissing > 0].sort_values('PctMissing', ascending=False).style.format({\n",
    "    'NumMissing': '{:,}'\n",
    "    , 'PctMissing': '{:.2%}'\n",
    "})"
   ]
  },
  {
   "cell_type": "markdown",
   "metadata": {
    "ExecuteTime": {
     "end_time": "2019-11-09T21:44:53.852233Z",
     "start_time": "2019-11-09T21:44:53.850214Z"
    }
   },
   "source": [
    "## Imput Listing Related Missing Columns"
   ]
  },
  {
   "cell_type": "code",
   "execution_count": 9,
   "metadata": {
    "ExecuteTime": {
     "end_time": "2019-11-10T08:15:58.625114Z",
     "start_time": "2019-11-10T08:15:58.477864Z"
    }
   },
   "outputs": [],
   "source": [
    "impute_columns = list(tmpDF[tmpDF.NumMissing > 0]['Columns'])\n",
    "\n",
    "\n",
    "# Pickup temporally closest impression value\n",
    "dataDF3 = dataDF.copy().sort_values('ts')\n",
    "\n",
    "    "
   ]
  },
  {
   "cell_type": "code",
   "execution_count": 10,
   "metadata": {
    "ExecuteTime": {
     "end_time": "2019-11-10T08:18:11.664838Z",
     "start_time": "2019-11-10T08:15:59.778569Z"
    }
   },
   "outputs": [
    {
     "name": "stderr",
     "output_type": "stream",
     "text": [
      "100%|██████████| 11/11 [02:11<00:00, 11.99s/it]\n"
     ]
    }
   ],
   "source": [
    "for c in tqdm(impute_columns):\n",
    "    dataDF3[c].fillna(\n",
    "        # impute from leading or lagging rows\n",
    "        dataDF3.groupby('id_listing')[c].transform(\n",
    "            lambda x: x.fillna(method='ffill').fillna(method='bfill')\n",
    "        ), inplace=True\n",
    "    )\n",
    "    \n",
    "    # impute based on market\n",
    "    dataDF3[c].fillna(\n",
    "        dataDF3.groupby('query_market')[c].transform(lambda x: x.fillna(x.mean()))\n",
    "        , inplace=True\n",
    "    )\n"
   ]
  },
  {
   "cell_type": "code",
   "execution_count": 11,
   "metadata": {
    "ExecuteTime": {
     "end_time": "2019-11-10T08:18:12.735154Z",
     "start_time": "2019-11-10T08:18:12.713544Z"
    }
   },
   "outputs": [
    {
     "name": "stdout",
     "output_type": "stream",
     "text": [
      "listing_total_price: 9021 --> 0\n",
      "listing_review_rating: 21382 --> 0\n",
      "listing_review_count: 17533 --> 0\n",
      "listing_num_beds: 9050 --> 0\n",
      "listing_num_bedrooms: 9034 --> 0\n",
      "listing_num_books_90day: 24800 --> 0\n",
      "listing_occupancy_rate: 10877 --> 0\n",
      "listing_cleaning_fee: 45052 --> 0\n",
      "listing_weekly_price_factor: 44878 --> 0\n",
      "listing_minimum_nights: 204 --> 0\n",
      "listing_maximum_nights: 204 --> 0\n"
     ]
    }
   ],
   "source": [
    "d1 = dataDF[impute_columns].isnull().sum(axis=0).to_dict()\n",
    "d2 = dataDF3[impute_columns].isnull().sum(axis=0).to_dict()\n",
    "for k, v1 in d1.items():\n",
    "    print(\"{}: {} --> {}\".format(k, v1, d2[k]))"
   ]
  },
  {
   "cell_type": "code",
   "execution_count": 12,
   "metadata": {
    "ExecuteTime": {
     "end_time": "2019-11-10T08:18:13.984300Z",
     "start_time": "2019-11-10T08:18:13.783669Z"
    }
   },
   "outputs": [
    {
     "data": {
      "text/html": [
       "<div>\n",
       "<style scoped>\n",
       "    .dataframe tbody tr th:only-of-type {\n",
       "        vertical-align: middle;\n",
       "    }\n",
       "\n",
       "    .dataframe tbody tr th {\n",
       "        vertical-align: top;\n",
       "    }\n",
       "\n",
       "    .dataframe thead th {\n",
       "        text-align: right;\n",
       "    }\n",
       "</style>\n",
       "<table border=\"1\" class=\"dataframe\">\n",
       "  <thead>\n",
       "    <tr style=\"text-align: right;\">\n",
       "      <th></th>\n",
       "      <th>index</th>\n",
       "      <th>listing_total_price</th>\n",
       "      <th>listing_review_rating</th>\n",
       "      <th>listing_review_count</th>\n",
       "      <th>listing_num_beds</th>\n",
       "      <th>listing_num_bedrooms</th>\n",
       "      <th>listing_num_books_90day</th>\n",
       "      <th>listing_occupancy_rate</th>\n",
       "      <th>listing_cleaning_fee</th>\n",
       "      <th>listing_weekly_price_factor</th>\n",
       "      <th>listing_minimum_nights</th>\n",
       "      <th>listing_maximum_nights</th>\n",
       "    </tr>\n",
       "  </thead>\n",
       "  <tbody>\n",
       "    <tr>\n",
       "      <td>0</td>\n",
       "      <td>count</td>\n",
       "      <td>168567.000000</td>\n",
       "      <td>156206.000000</td>\n",
       "      <td>160055.000000</td>\n",
       "      <td>168538.000000</td>\n",
       "      <td>168554.000000</td>\n",
       "      <td>152788.000000</td>\n",
       "      <td>166711.000000</td>\n",
       "      <td>132536.000000</td>\n",
       "      <td>132710.000000</td>\n",
       "      <td>177384.000000</td>\n",
       "      <td>1.773840e+05</td>\n",
       "    </tr>\n",
       "    <tr>\n",
       "      <td>1</td>\n",
       "      <td>mean</td>\n",
       "      <td>713.949730</td>\n",
       "      <td>3.427163</td>\n",
       "      <td>22.496011</td>\n",
       "      <td>2.730215</td>\n",
       "      <td>1.481270</td>\n",
       "      <td>5.561706</td>\n",
       "      <td>0.291604</td>\n",
       "      <td>34.065622</td>\n",
       "      <td>0.916508</td>\n",
       "      <td>2.322504</td>\n",
       "      <td>6.389164e+04</td>\n",
       "    </tr>\n",
       "    <tr>\n",
       "      <td>2</td>\n",
       "      <td>std</td>\n",
       "      <td>2452.305204</td>\n",
       "      <td>2.151037</td>\n",
       "      <td>37.996714</td>\n",
       "      <td>2.570056</td>\n",
       "      <td>1.162265</td>\n",
       "      <td>7.454406</td>\n",
       "      <td>0.310912</td>\n",
       "      <td>28.688179</td>\n",
       "      <td>0.074967</td>\n",
       "      <td>2.723676</td>\n",
       "      <td>8.564242e+06</td>\n",
       "    </tr>\n",
       "    <tr>\n",
       "      <td>3</td>\n",
       "      <td>min</td>\n",
       "      <td>7.731437</td>\n",
       "      <td>0.000000</td>\n",
       "      <td>0.000000</td>\n",
       "      <td>0.000000</td>\n",
       "      <td>0.000000</td>\n",
       "      <td>0.000000</td>\n",
       "      <td>0.000000</td>\n",
       "      <td>0.000000</td>\n",
       "      <td>0.130000</td>\n",
       "      <td>1.000000</td>\n",
       "      <td>1.000000e+00</td>\n",
       "    </tr>\n",
       "    <tr>\n",
       "      <td>4</td>\n",
       "      <td>25%</td>\n",
       "      <td>135.936390</td>\n",
       "      <td>0.000000</td>\n",
       "      <td>0.000000</td>\n",
       "      <td>1.000000</td>\n",
       "      <td>1.000000</td>\n",
       "      <td>0.000000</td>\n",
       "      <td>0.000000</td>\n",
       "      <td>18.542898</td>\n",
       "      <td>0.890000</td>\n",
       "      <td>1.000000</td>\n",
       "      <td>6.000000e+01</td>\n",
       "    </tr>\n",
       "    <tr>\n",
       "      <td>5</td>\n",
       "      <td>50%</td>\n",
       "      <td>307.728880</td>\n",
       "      <td>4.720000</td>\n",
       "      <td>6.000000</td>\n",
       "      <td>2.000000</td>\n",
       "      <td>1.000000</td>\n",
       "      <td>2.000000</td>\n",
       "      <td>0.181818</td>\n",
       "      <td>32.653786</td>\n",
       "      <td>0.920000</td>\n",
       "      <td>2.000000</td>\n",
       "      <td>1.125000e+03</td>\n",
       "    </tr>\n",
       "    <tr>\n",
       "      <td>6</td>\n",
       "      <td>75%</td>\n",
       "      <td>700.000000</td>\n",
       "      <td>4.937500</td>\n",
       "      <td>28.000000</td>\n",
       "      <td>3.000000</td>\n",
       "      <td>2.000000</td>\n",
       "      <td>9.000000</td>\n",
       "      <td>0.557047</td>\n",
       "      <td>41.796850</td>\n",
       "      <td>0.980000</td>\n",
       "      <td>3.000000</td>\n",
       "      <td>1.125000e+03</td>\n",
       "    </tr>\n",
       "    <tr>\n",
       "      <td>7</td>\n",
       "      <td>max</td>\n",
       "      <td>525960.060000</td>\n",
       "      <td>5.000000</td>\n",
       "      <td>462.000000</td>\n",
       "      <td>50.000000</td>\n",
       "      <td>50.000000</td>\n",
       "      <td>64.000000</td>\n",
       "      <td>1.000000</td>\n",
       "      <td>799.626830</td>\n",
       "      <td>1.000000</td>\n",
       "      <td>180.000000</td>\n",
       "      <td>2.000000e+09</td>\n",
       "    </tr>\n",
       "  </tbody>\n",
       "</table>\n",
       "</div>"
      ],
      "text/plain": [
       "   index  listing_total_price  listing_review_rating  listing_review_count  \\\n",
       "0  count        168567.000000          156206.000000         160055.000000   \n",
       "1   mean           713.949730               3.427163             22.496011   \n",
       "2    std          2452.305204               2.151037             37.996714   \n",
       "3    min             7.731437               0.000000              0.000000   \n",
       "4    25%           135.936390               0.000000              0.000000   \n",
       "5    50%           307.728880               4.720000              6.000000   \n",
       "6    75%           700.000000               4.937500             28.000000   \n",
       "7    max        525960.060000               5.000000            462.000000   \n",
       "\n",
       "   listing_num_beds  listing_num_bedrooms  listing_num_books_90day  \\\n",
       "0     168538.000000         168554.000000            152788.000000   \n",
       "1          2.730215              1.481270                 5.561706   \n",
       "2          2.570056              1.162265                 7.454406   \n",
       "3          0.000000              0.000000                 0.000000   \n",
       "4          1.000000              1.000000                 0.000000   \n",
       "5          2.000000              1.000000                 2.000000   \n",
       "6          3.000000              2.000000                 9.000000   \n",
       "7         50.000000             50.000000                64.000000   \n",
       "\n",
       "   listing_occupancy_rate  listing_cleaning_fee  listing_weekly_price_factor  \\\n",
       "0           166711.000000         132536.000000                132710.000000   \n",
       "1                0.291604             34.065622                     0.916508   \n",
       "2                0.310912             28.688179                     0.074967   \n",
       "3                0.000000              0.000000                     0.130000   \n",
       "4                0.000000             18.542898                     0.890000   \n",
       "5                0.181818             32.653786                     0.920000   \n",
       "6                0.557047             41.796850                     0.980000   \n",
       "7                1.000000            799.626830                     1.000000   \n",
       "\n",
       "   listing_minimum_nights  listing_maximum_nights  \n",
       "0           177384.000000            1.773840e+05  \n",
       "1                2.322504            6.389164e+04  \n",
       "2                2.723676            8.564242e+06  \n",
       "3                1.000000            1.000000e+00  \n",
       "4                1.000000            6.000000e+01  \n",
       "5                2.000000            1.125000e+03  \n",
       "6                3.000000            1.125000e+03  \n",
       "7              180.000000            2.000000e+09  "
      ]
     },
     "metadata": {},
     "output_type": "display_data"
    },
    {
     "data": {
      "text/html": [
       "<div>\n",
       "<style scoped>\n",
       "    .dataframe tbody tr th:only-of-type {\n",
       "        vertical-align: middle;\n",
       "    }\n",
       "\n",
       "    .dataframe tbody tr th {\n",
       "        vertical-align: top;\n",
       "    }\n",
       "\n",
       "    .dataframe thead th {\n",
       "        text-align: right;\n",
       "    }\n",
       "</style>\n",
       "<table border=\"1\" class=\"dataframe\">\n",
       "  <thead>\n",
       "    <tr style=\"text-align: right;\">\n",
       "      <th></th>\n",
       "      <th>index</th>\n",
       "      <th>listing_total_price</th>\n",
       "      <th>listing_review_rating</th>\n",
       "      <th>listing_review_count</th>\n",
       "      <th>listing_num_beds</th>\n",
       "      <th>listing_num_bedrooms</th>\n",
       "      <th>listing_num_books_90day</th>\n",
       "      <th>listing_occupancy_rate</th>\n",
       "      <th>listing_cleaning_fee</th>\n",
       "      <th>listing_weekly_price_factor</th>\n",
       "      <th>listing_minimum_nights</th>\n",
       "      <th>listing_maximum_nights</th>\n",
       "    </tr>\n",
       "  </thead>\n",
       "  <tbody>\n",
       "    <tr>\n",
       "      <td>0</td>\n",
       "      <td>count</td>\n",
       "      <td>177588.000000</td>\n",
       "      <td>177588.000000</td>\n",
       "      <td>177588.000000</td>\n",
       "      <td>177588.000000</td>\n",
       "      <td>177588.000000</td>\n",
       "      <td>177588.000000</td>\n",
       "      <td>177588.000000</td>\n",
       "      <td>177588.000000</td>\n",
       "      <td>177588.000000</td>\n",
       "      <td>177588.000000</td>\n",
       "      <td>1.775880e+05</td>\n",
       "    </tr>\n",
       "    <tr>\n",
       "      <td>1</td>\n",
       "      <td>mean</td>\n",
       "      <td>713.174283</td>\n",
       "      <td>3.424911</td>\n",
       "      <td>22.514914</td>\n",
       "      <td>2.729784</td>\n",
       "      <td>1.480814</td>\n",
       "      <td>5.560400</td>\n",
       "      <td>0.290293</td>\n",
       "      <td>33.977936</td>\n",
       "      <td>0.915794</td>\n",
       "      <td>2.322430</td>\n",
       "      <td>6.383755e+04</td>\n",
       "    </tr>\n",
       "    <tr>\n",
       "      <td>2</td>\n",
       "      <td>std</td>\n",
       "      <td>2428.110977</td>\n",
       "      <td>2.065813</td>\n",
       "      <td>36.775270</td>\n",
       "      <td>2.567979</td>\n",
       "      <td>1.160495</td>\n",
       "      <td>7.218551</td>\n",
       "      <td>0.301714</td>\n",
       "      <td>24.973423</td>\n",
       "      <td>0.066645</td>\n",
       "      <td>2.722488</td>\n",
       "      <td>8.559322e+06</td>\n",
       "    </tr>\n",
       "    <tr>\n",
       "      <td>3</td>\n",
       "      <td>min</td>\n",
       "      <td>7.731437</td>\n",
       "      <td>0.000000</td>\n",
       "      <td>0.000000</td>\n",
       "      <td>0.000000</td>\n",
       "      <td>0.000000</td>\n",
       "      <td>0.000000</td>\n",
       "      <td>0.000000</td>\n",
       "      <td>0.000000</td>\n",
       "      <td>0.130000</td>\n",
       "      <td>1.000000</td>\n",
       "      <td>1.000000e+00</td>\n",
       "    </tr>\n",
       "    <tr>\n",
       "      <td>4</td>\n",
       "      <td>25%</td>\n",
       "      <td>136.746218</td>\n",
       "      <td>0.000000</td>\n",
       "      <td>1.000000</td>\n",
       "      <td>1.000000</td>\n",
       "      <td>1.000000</td>\n",
       "      <td>0.000000</td>\n",
       "      <td>0.000000</td>\n",
       "      <td>24.935040</td>\n",
       "      <td>0.900000</td>\n",
       "      <td>1.000000</td>\n",
       "      <td>6.000000e+01</td>\n",
       "    </tr>\n",
       "    <tr>\n",
       "      <td>5</td>\n",
       "      <td>50%</td>\n",
       "      <td>309.261005</td>\n",
       "      <td>4.666666</td>\n",
       "      <td>7.000000</td>\n",
       "      <td>2.000000</td>\n",
       "      <td>1.000000</td>\n",
       "      <td>3.000000</td>\n",
       "      <td>0.230769</td>\n",
       "      <td>36.969736</td>\n",
       "      <td>0.913475</td>\n",
       "      <td>2.000000</td>\n",
       "      <td>1.125000e+03</td>\n",
       "    </tr>\n",
       "    <tr>\n",
       "      <td>6</td>\n",
       "      <td>75%</td>\n",
       "      <td>704.584100</td>\n",
       "      <td>4.920000</td>\n",
       "      <td>25.000000</td>\n",
       "      <td>3.000000</td>\n",
       "      <td>2.000000</td>\n",
       "      <td>8.000000</td>\n",
       "      <td>0.536585</td>\n",
       "      <td>39.734783</td>\n",
       "      <td>0.950000</td>\n",
       "      <td>3.000000</td>\n",
       "      <td>1.125000e+03</td>\n",
       "    </tr>\n",
       "    <tr>\n",
       "      <td>7</td>\n",
       "      <td>max</td>\n",
       "      <td>525960.060000</td>\n",
       "      <td>5.000000</td>\n",
       "      <td>462.000000</td>\n",
       "      <td>50.000000</td>\n",
       "      <td>50.000000</td>\n",
       "      <td>64.000000</td>\n",
       "      <td>1.000000</td>\n",
       "      <td>799.626830</td>\n",
       "      <td>1.000000</td>\n",
       "      <td>180.000000</td>\n",
       "      <td>2.000000e+09</td>\n",
       "    </tr>\n",
       "  </tbody>\n",
       "</table>\n",
       "</div>"
      ],
      "text/plain": [
       "   index  listing_total_price  listing_review_rating  listing_review_count  \\\n",
       "0  count        177588.000000          177588.000000         177588.000000   \n",
       "1   mean           713.174283               3.424911             22.514914   \n",
       "2    std          2428.110977               2.065813             36.775270   \n",
       "3    min             7.731437               0.000000              0.000000   \n",
       "4    25%           136.746218               0.000000              1.000000   \n",
       "5    50%           309.261005               4.666666              7.000000   \n",
       "6    75%           704.584100               4.920000             25.000000   \n",
       "7    max        525960.060000               5.000000            462.000000   \n",
       "\n",
       "   listing_num_beds  listing_num_bedrooms  listing_num_books_90day  \\\n",
       "0     177588.000000         177588.000000            177588.000000   \n",
       "1          2.729784              1.480814                 5.560400   \n",
       "2          2.567979              1.160495                 7.218551   \n",
       "3          0.000000              0.000000                 0.000000   \n",
       "4          1.000000              1.000000                 0.000000   \n",
       "5          2.000000              1.000000                 3.000000   \n",
       "6          3.000000              2.000000                 8.000000   \n",
       "7         50.000000             50.000000                64.000000   \n",
       "\n",
       "   listing_occupancy_rate  listing_cleaning_fee  listing_weekly_price_factor  \\\n",
       "0           177588.000000         177588.000000                177588.000000   \n",
       "1                0.290293             33.977936                     0.915794   \n",
       "2                0.301714             24.973423                     0.066645   \n",
       "3                0.000000              0.000000                     0.130000   \n",
       "4                0.000000             24.935040                     0.900000   \n",
       "5                0.230769             36.969736                     0.913475   \n",
       "6                0.536585             39.734783                     0.950000   \n",
       "7                1.000000            799.626830                     1.000000   \n",
       "\n",
       "   listing_minimum_nights  listing_maximum_nights  \n",
       "0           177588.000000            1.775880e+05  \n",
       "1                2.322430            6.383755e+04  \n",
       "2                2.722488            8.559322e+06  \n",
       "3                1.000000            1.000000e+00  \n",
       "4                1.000000            6.000000e+01  \n",
       "5                2.000000            1.125000e+03  \n",
       "6                3.000000            1.125000e+03  \n",
       "7              180.000000            2.000000e+09  "
      ]
     },
     "metadata": {},
     "output_type": "display_data"
    }
   ],
   "source": [
    "display(dataDF[impute_columns].describe().reset_index())\n",
    "display(dataDF3[impute_columns].describe().reset_index())\n"
   ]
  },
  {
   "cell_type": "code",
   "execution_count": 13,
   "metadata": {
    "ExecuteTime": {
     "end_time": "2019-11-10T08:18:15.085730Z",
     "start_time": "2019-11-10T08:18:15.074102Z"
    }
   },
   "outputs": [
    {
     "name": "stdout",
     "output_type": "stream",
     "text": [
      "5082b3fd0bba5ebb8ca952572c5d9846\n",
      "1543292700.0\n",
      "listing_total_price: 132.44359 --> 132.44359\n",
      "listing_review_rating: 4.8 --> 4.8\n",
      "listing_review_count: nan --> 5.0\n",
      "listing_num_beds: 1.0 --> 1.0\n",
      "listing_num_bedrooms: 1.0 --> 1.0\n",
      "listing_num_books_90day: 14.0 --> 14.0\n",
      "listing_occupancy_rate: 0.9074074000000001 --> 0.9074074000000001\n",
      "listing_cleaning_fee: 25.8618 --> 25.8618\n",
      "listing_weekly_price_factor: 1.0 --> 1.0\n",
      "listing_minimum_nights: 2.0 --> 2.0\n",
      "listing_maximum_nights: 1125.0 --> 1125.0\n"
     ]
    }
   ],
   "source": [
    "\n",
    "idx = random.randint(0, dataDF.shape[0])\n",
    "d1 = dataDF[dataDF.id == idx].to_dict(orient='records')[0]\n",
    "d2 = dataDF3[dataDF3.id == idx].to_dict(orient='records')[0]\n",
    "print(d1['id_listing'])\n",
    "print(d1['ts'])\n",
    "for k, v1 in d1.items():\n",
    "    if k in impute_columns:\n",
    "        print(\"{}: {} --> {}\".format(k, v1, d2[k]))\n",
    "    "
   ]
  },
  {
   "cell_type": "code",
   "execution_count": null,
   "metadata": {
    "ExecuteTime": {
     "end_time": "2019-11-10T00:24:39.271270Z",
     "start_time": "2019-11-10T00:23:53.234Z"
    }
   },
   "outputs": [],
   "source": []
  },
  {
   "cell_type": "code",
   "execution_count": 14,
   "metadata": {
    "ExecuteTime": {
     "end_time": "2019-11-10T08:18:16.119535Z",
     "start_time": "2019-11-10T08:18:16.115296Z"
    }
   },
   "outputs": [],
   "source": [
    "FEATURES = [\n",
    "    'query_num_guests'\n",
    "    , 'query_num_children'\n",
    "    , 'query_num_infants'\n",
    "#    , 'query_radius'\n",
    "    , 'query_price_max'\n",
    "    , 'query_price_min'\n",
    "#    , 'query_center_lat'\n",
    "#    , 'query_center_lng'\n",
    "    , 'listing_is_new'\n",
    "#    , 'listing_total_price'\n",
    "#    , 'listing_instant_bookable'\n",
    "#    , 'listing_lat'\n",
    "#    , 'listing_lng'\n",
    "    , 'listing_review_rating'\n",
    "    , 'listing_review_count'\n",
    "    , 'listing_property_type'\n",
    "    , 'listing_num_beds'\n",
    "    , 'listing_num_bedrooms'\n",
    "    , 'listing_person_capacity'\n",
    "    , 'listing_num_recent_reservations'\n",
    "    , 'listing_location_rating'\n",
    "    , 'listing_cleanliness_rating'\n",
    "    , 'listing_checkin_rating'\n",
    "    , 'listing_value_rating'\n",
    "    , 'listing_communication_rating'\n",
    "    , 'listing_accuracy_rating'\n",
    "    , 'listing_num_books_90day'\n",
    "    , 'listing_occupancy_rate'\n",
    "    , 'listing_monthly_discount'\n",
    "    , 'listing_weekly_discount'\n",
    "    , 'listing_cleaning_fee'\n",
    "    , 'listing_weekly_price_factor'\n",
    "    , 'listing_minimum_nights'\n",
    "    , 'listing_maximum_nights'\n",
    "]"
   ]
  },
  {
   "cell_type": "markdown",
   "metadata": {},
   "source": [
    "# Train Ordinary Logistic Regression Model"
   ]
  },
  {
   "cell_type": "code",
   "execution_count": 17,
   "metadata": {
    "ExecuteTime": {
     "end_time": "2019-11-10T08:23:41.899209Z",
     "start_time": "2019-11-10T08:23:41.804273Z"
    }
   },
   "outputs": [
    {
     "data": {
      "text/plain": [
       "query_num_guests                   0\n",
       "query_num_children                 0\n",
       "query_num_infants                  0\n",
       "query_price_max                    0\n",
       "query_price_min                    0\n",
       "listing_is_new                     0\n",
       "listing_review_rating              0\n",
       "listing_review_count               0\n",
       "listing_property_type              0\n",
       "listing_num_beds                   0\n",
       "listing_num_bedrooms               0\n",
       "listing_person_capacity            0\n",
       "listing_num_recent_reservations    0\n",
       "listing_location_rating            0\n",
       "listing_cleanliness_rating         0\n",
       "listing_checkin_rating             0\n",
       "listing_value_rating               0\n",
       "listing_communication_rating       0\n",
       "listing_accuracy_rating            0\n",
       "listing_num_books_90day            0\n",
       "listing_occupancy_rate             0\n",
       "listing_monthly_discount           0\n",
       "listing_weekly_discount            0\n",
       "listing_cleaning_fee               0\n",
       "listing_weekly_price_factor        0\n",
       "listing_minimum_nights             0\n",
       "listing_maximum_nights             0\n",
       "dtype: int64"
      ]
     },
     "execution_count": 17,
     "metadata": {},
     "output_type": "execute_result"
    }
   ],
   "source": [
    "dataDF3[(dataDF3.assignment == 'TRAIN')][FEATURES].isnull().sum(axis=0)"
   ]
  },
  {
   "cell_type": "code",
   "execution_count": 82,
   "metadata": {
    "ExecuteTime": {
     "end_time": "2019-11-10T16:54:47.272131Z",
     "start_time": "2019-11-10T16:54:46.968352Z"
    }
   },
   "outputs": [
    {
     "data": {
      "text/html": [
       "<div>\n",
       "<style scoped>\n",
       "    .dataframe tbody tr th:only-of-type {\n",
       "        vertical-align: middle;\n",
       "    }\n",
       "\n",
       "    .dataframe tbody tr th {\n",
       "        vertical-align: top;\n",
       "    }\n",
       "\n",
       "    .dataframe thead th {\n",
       "        text-align: right;\n",
       "    }\n",
       "</style>\n",
       "<table border=\"1\" class=\"dataframe\">\n",
       "  <thead>\n",
       "    <tr style=\"text-align: right;\">\n",
       "      <th></th>\n",
       "      <th>OrdinalTarget</th>\n",
       "      <th>cnt</th>\n",
       "    </tr>\n",
       "  </thead>\n",
       "  <tbody>\n",
       "    <tr>\n",
       "      <td>0</td>\n",
       "      <td>1.0</td>\n",
       "      <td>10000</td>\n",
       "    </tr>\n",
       "    <tr>\n",
       "      <td>1</td>\n",
       "      <td>2.0</td>\n",
       "      <td>10000</td>\n",
       "    </tr>\n",
       "    <tr>\n",
       "      <td>2</td>\n",
       "      <td>3.0</td>\n",
       "      <td>10000</td>\n",
       "    </tr>\n",
       "    <tr>\n",
       "      <td>3</td>\n",
       "      <td>4.0</td>\n",
       "      <td>10000</td>\n",
       "    </tr>\n",
       "  </tbody>\n",
       "</table>\n",
       "</div>"
      ],
      "text/plain": [
       "   OrdinalTarget    cnt\n",
       "0            1.0  10000\n",
       "1            2.0  10000\n",
       "2            3.0  10000\n",
       "3            4.0  10000"
      ]
     },
     "execution_count": 82,
     "metadata": {},
     "output_type": "execute_result"
    }
   ],
   "source": [
    "import mord\n",
    "from sklearn import linear_model, metrics, preprocessing\n",
    "from sklearn.utils import resample\n",
    "\n",
    "\n",
    "# X = dataDF3[(dataDF3.assignment == 'TRAIN')][FEATURES]._get_numeric_data()\n",
    "PerGroupCount(dataDF3[(dataDF3.assignment == 'TRAIN')], 'OrdinalTarget')\n",
    "\n",
    "samples = []\n",
    "n_samples = 10000\n",
    "for target, df in dataDF3[(dataDF3.assignment == 'TRAIN')].groupby('OrdinalTarget'):\n",
    "    samples.append(resample(df, n_samples=n_samples, replace=df.shape[0] < n_samples))\n",
    "\n",
    "trainDF = pd.concat(samples, axis=0)\n",
    "PerGroupCount(trainDF, 'OrdinalTarget')\n"
   ]
  },
  {
   "cell_type": "code",
   "execution_count": 81,
   "metadata": {
    "ExecuteTime": {
     "end_time": "2019-11-10T16:54:29.232906Z",
     "start_time": "2019-11-10T16:54:28.911792Z"
    }
   },
   "outputs": [
    {
     "data": {
      "text/plain": [
       "(array([1, 2]), array([  255, 22684]))"
      ]
     },
     "execution_count": 81,
     "metadata": {},
     "output_type": "execute_result"
    }
   ],
   "source": [
    "X = trainDF[FEATURES]._get_numeric_data()\n",
    "y = trainDF.OrdinalTarget.astype('int')\n",
    "\n",
    "# clf = mord.LogisticAT(alpha=1.0)\n",
    "clf = linear_model.LogisticRegression(\n",
    "    solver='lbfgs',\n",
    "    multi_class='multinomial')\n",
    "clf.fit(X, y)\n",
    "\n",
    "predicted = clf.predict(dataDF3[(dataDF3.assignment == 'VALIDATION')][FEATURES]._get_numeric_data())\n",
    "np.unique(predicted, return_counts=True)"
   ]
  },
  {
   "cell_type": "code",
   "execution_count": 75,
   "metadata": {
    "ExecuteTime": {
     "end_time": "2019-11-10T16:42:02.958831Z",
     "start_time": "2019-11-10T16:42:02.930687Z"
    }
   },
   "outputs": [
    {
     "data": {
      "text/plain": [
       "(array([1, 2]), array([    7, 22932]))"
      ]
     },
     "execution_count": 75,
     "metadata": {},
     "output_type": "execute_result"
    }
   ],
   "source": []
  },
  {
   "cell_type": "code",
   "execution_count": 44,
   "metadata": {
    "ExecuteTime": {
     "end_time": "2019-11-10T08:30:26.854372Z",
     "start_time": "2019-11-10T08:30:26.772241Z"
    }
   },
   "outputs": [
    {
     "data": {
      "text/plain": [
       "(array([1., 2., 3., 4.]), array([96264, 30714,  2266,  1623]))"
      ]
     },
     "execution_count": 44,
     "metadata": {},
     "output_type": "execute_result"
    }
   ],
   "source": [
    "np.unique(dataDF3[(dataDF3.assignment == 'TRAIN')].OrdinalTarget, return_counts=True)"
   ]
  },
  {
   "cell_type": "code",
   "execution_count": null,
   "metadata": {
    "ExecuteTime": {
     "end_time": "2019-11-10T00:15:22.138995Z",
     "start_time": "2019-11-10T00:15:22.118821Z"
    }
   },
   "outputs": [],
   "source": [
    "print('Mean Absolute Error of LogisticRegression: %s' %\n",
    "      metrics.mean_absolute_error(clf1.predict(X), y))\n",
    "\n",
    "clf2 = mord.LogisticAT(alpha=1.)\n",
    "clf2.fit(X, y)\n",
    "print('Mean Absolute Error of LogisticAT %s' %\n",
    "      metrics.mean_absolute_error(clf2.predict(X), y))\n",
    "\n",
    "clf3 = mord.LogisticIT(alpha=1.)\n",
    "clf3.fit(X, y)\n",
    "print('Mean Absolute Error of LogisticIT %s' %\n",
    "      metrics.mean_absolute_error(clf3.predict(X), y))\n",
    "\n",
    "clf4 = mord.LogisticSE(alpha=1.)\n",
    "clf4.fit(X, y)\n",
    "print('Mean Absolute Error of LogisticSE %s' %\n",
    "      metrics.mean_absolute_error(clf4.predict(X), y))"
   ]
  },
  {
   "cell_type": "markdown",
   "metadata": {},
   "source": [
    "# Determine if listing records are same across all searches"
   ]
  },
  {
   "cell_type": "code",
   "execution_count": null,
   "metadata": {
    "ExecuteTime": {
     "end_time": "2019-11-08T17:24:41.432975Z",
     "start_time": "2019-11-08T17:24:41.298654Z"
    }
   },
   "outputs": [],
   "source": [
    "# determine listings that appear max times\n",
    "max_appeared = PerGroupCount(dataDF, 'id_listing').sort_values('cnt', ascending=False)['id_listing'].values[0]\n",
    "print(dataDF[dataDF.id_listing == max_appeared]\n",
    "      .sort_values('ts_search').to_csv(index=False))"
   ]
  },
  {
   "cell_type": "code",
   "execution_count": null,
   "metadata": {},
   "outputs": [],
   "source": []
  },
  {
   "cell_type": "code",
   "execution_count": null,
   "metadata": {
    "ExecuteTime": {
     "end_time": "2019-11-08T04:11:21.997533Z",
     "start_time": "2019-11-08T04:11:21.658073Z"
    }
   },
   "outputs": [],
   "source": [
    "numPoints = dataDF.shape[0]\n",
    "trainDF, validateDF, testDF = np.split(df.sample(frac=1), [int(.7 * numPoints), int(.85id * numPoints)])\n",
    "\n",
    "print(\"Train: {:,} ({:.2%})\".format(trainDF.shape[0], trainDF.shape[0] / numPoints))\n",
    "print(\"validation: {:,} ({:.2%})\".format(validateDF.shape[0], validateDF.shape[0] / numPoints))\n",
    "print(\"Test: {:,} ({:.2%})\".format(testDF.shape[0], testDF.shape[0] / numPoints))\n"
   ]
  },
  {
   "cell_type": "markdown",
   "metadata": {},
   "source": [
    "# Analyze Training Data"
   ]
  },
  {
   "cell_type": "code",
   "execution_count": null,
   "metadata": {
    "ExecuteTime": {
     "end_time": "2019-11-08T03:58:58.196740Z",
     "start_time": "2019-11-08T03:58:58.192643Z"
    }
   },
   "outputs": [],
   "source": [
    "\n",
    "print(\"Columns:\")\n",
    "for c in dataDF.columns:\n",
    "    print(c)"
   ]
  },
  {
   "cell_type": "code",
   "execution_count": null,
   "metadata": {},
   "outputs": [],
   "source": [
    "categoricalVariables = [\n",
    "    'listing_is_new'\n",
    "    , 'listing_has_pro_pictures'\n",
    "]"
   ]
  },
  {
   "cell_type": "code",
   "execution_count": null,
   "metadata": {
    "ExecuteTime": {
     "end_time": "2019-11-08T03:53:05.244039Z",
     "start_time": "2019-11-08T03:53:05.015732Z"
    }
   },
   "outputs": [],
   "source": [
    "dataDF.describe()"
   ]
  },
  {
   "cell_type": "markdown",
   "metadata": {
    "ExecuteTime": {
     "end_time": "2019-11-09T21:38:05.432741Z",
     "start_time": "2019-11-09T21:38:05.427643Z"
    }
   },
   "source": [
    "# Notes\n",
    "\n",
    "* Comparing distribution of feature before and after impute value helped identified a bug when imputing price factor. Since I copied and pasted the code, some of the variables didn't change from listing_cleaning_fee to listing_weekly_price_factor"
   ]
  },
  {
   "cell_type": "code",
   "execution_count": null,
   "metadata": {
    "ExecuteTime": {
     "end_time": "2019-11-09T23:17:01.286572Z",
     "start_time": "2019-11-09T23:17:01.278637Z"
    }
   },
   "outputs": [],
   "source": [
    "data = [\n",
    "    ['A', 1, None],\n",
    "    ['A', 1, 1],\n",
    "    ['A', None, 1],\n",
    "    ['B', None, 2],\n",
    "    ['B', None, 2],\n",
    "    ['B', 2, 3],\n",
    "]\n",
    "df = pd.DataFrame(data, columns=['id_listing', 'cleaning_fee', 'cleaning_fee2'])\n",
    "df"
   ]
  },
  {
   "cell_type": "code",
   "execution_count": null,
   "metadata": {
    "ExecuteTime": {
     "end_time": "2019-11-09T23:17:33.620462Z",
     "start_time": "2019-11-09T23:17:33.607824Z"
    }
   },
   "outputs": [],
   "source": [
    "col = ['cleaning_fee', 'cleaning_fee2']\n",
    "for c in col:\n",
    "    df[c].fillna(\n",
    "        df.groupby('id_listing')[c].transform(lambda x: x.fillna(x.mean()))\n",
    "        , inplace=True\n",
    "    )\n",
    "\n",
    "df"
   ]
  },
  {
   "cell_type": "code",
   "execution_count": null,
   "metadata": {
    "ExecuteTime": {
     "end_time": "2019-11-09T23:02:20.575257Z",
     "start_time": "2019-11-09T23:02:20.569897Z"
    }
   },
   "outputs": [],
   "source": [
    "df"
   ]
  },
  {
   "cell_type": "code",
   "execution_count": null,
   "metadata": {},
   "outputs": [],
   "source": []
  }
 ],
 "metadata": {
  "kernelspec": {
   "display_name": "Python 3",
   "language": "python",
   "name": "python3"
  },
  "language_info": {
   "codemirror_mode": {
    "name": "ipython",
    "version": 3
   },
   "file_extension": ".py",
   "mimetype": "text/x-python",
   "name": "python",
   "nbconvert_exporter": "python",
   "pygments_lexer": "ipython3",
   "version": "3.7.3"
  },
  "toc": {
   "base_numbering": 1,
   "nav_menu": {},
   "number_sections": true,
   "sideBar": true,
   "skip_h1_title": false,
   "title_cell": "Table of Contents",
   "title_sidebar": "Contents",
   "toc_cell": false,
   "toc_position": {},
   "toc_section_display": true,
   "toc_window_display": true
  },
  "varInspector": {
   "cols": {
    "lenName": 16,
    "lenType": 16,
    "lenVar": 40
   },
   "kernels_config": {
    "python": {
     "delete_cmd_postfix": "",
     "delete_cmd_prefix": "del ",
     "library": "var_list.py",
     "varRefreshCmd": "print(var_dic_list())"
    },
    "r": {
     "delete_cmd_postfix": ") ",
     "delete_cmd_prefix": "rm(",
     "library": "var_list.r",
     "varRefreshCmd": "cat(var_dic_list()) "
    }
   },
   "types_to_exclude": [
    "module",
    "function",
    "builtin_function_or_method",
    "instance",
    "_Feature"
   ],
   "window_display": false
  }
 },
 "nbformat": 4,
 "nbformat_minor": 2
}

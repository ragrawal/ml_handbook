{
 "cells": [
  {
   "cell_type": "code",
   "execution_count": 1,
   "metadata": {
    "ExecuteTime": {
     "end_time": "2019-12-06T01:52:09.100692Z",
     "start_time": "2019-12-06T01:52:07.920555Z"
    }
   },
   "outputs": [],
   "source": [
    "import pandas as pd\n",
    "import numpy as np\n",
    "from sklearn import datasets"
   ]
  },
  {
   "cell_type": "code",
   "execution_count": 2,
   "metadata": {
    "ExecuteTime": {
     "end_time": "2019-12-06T01:52:09.983193Z",
     "start_time": "2019-12-06T01:52:09.947559Z"
    }
   },
   "outputs": [
    {
     "data": {
      "text/html": [
       "<div>\n",
       "<style scoped>\n",
       "    .dataframe tbody tr th:only-of-type {\n",
       "        vertical-align: middle;\n",
       "    }\n",
       "\n",
       "    .dataframe tbody tr th {\n",
       "        vertical-align: top;\n",
       "    }\n",
       "\n",
       "    .dataframe thead th {\n",
       "        text-align: right;\n",
       "    }\n",
       "</style>\n",
       "<table border=\"1\" class=\"dataframe\">\n",
       "  <thead>\n",
       "    <tr style=\"text-align: right;\">\n",
       "      <th></th>\n",
       "      <th>mean radius</th>\n",
       "      <th>mean texture</th>\n",
       "      <th>mean perimeter</th>\n",
       "      <th>mean area</th>\n",
       "      <th>mean smoothness</th>\n",
       "      <th>mean compactness</th>\n",
       "      <th>mean concavity</th>\n",
       "      <th>mean concave points</th>\n",
       "      <th>mean symmetry</th>\n",
       "      <th>mean fractal dimension</th>\n",
       "      <th>...</th>\n",
       "      <th>worst texture</th>\n",
       "      <th>worst perimeter</th>\n",
       "      <th>worst area</th>\n",
       "      <th>worst smoothness</th>\n",
       "      <th>worst compactness</th>\n",
       "      <th>worst concavity</th>\n",
       "      <th>worst concave points</th>\n",
       "      <th>worst symmetry</th>\n",
       "      <th>worst fractal dimension</th>\n",
       "      <th>target</th>\n",
       "    </tr>\n",
       "  </thead>\n",
       "  <tbody>\n",
       "    <tr>\n",
       "      <th>148</th>\n",
       "      <td>14.44</td>\n",
       "      <td>15.18</td>\n",
       "      <td>93.97</td>\n",
       "      <td>640.1</td>\n",
       "      <td>0.09970</td>\n",
       "      <td>0.10210</td>\n",
       "      <td>0.08487</td>\n",
       "      <td>0.05532</td>\n",
       "      <td>0.1724</td>\n",
       "      <td>0.06081</td>\n",
       "      <td>...</td>\n",
       "      <td>19.85</td>\n",
       "      <td>108.60</td>\n",
       "      <td>766.9</td>\n",
       "      <td>0.13160</td>\n",
       "      <td>0.27350</td>\n",
       "      <td>0.31030</td>\n",
       "      <td>0.15990</td>\n",
       "      <td>0.2691</td>\n",
       "      <td>0.07683</td>\n",
       "      <td>1</td>\n",
       "    </tr>\n",
       "    <tr>\n",
       "      <th>296</th>\n",
       "      <td>10.91</td>\n",
       "      <td>12.35</td>\n",
       "      <td>69.14</td>\n",
       "      <td>363.7</td>\n",
       "      <td>0.08518</td>\n",
       "      <td>0.04721</td>\n",
       "      <td>0.01236</td>\n",
       "      <td>0.01369</td>\n",
       "      <td>0.1449</td>\n",
       "      <td>0.06031</td>\n",
       "      <td>...</td>\n",
       "      <td>14.82</td>\n",
       "      <td>72.42</td>\n",
       "      <td>392.2</td>\n",
       "      <td>0.09312</td>\n",
       "      <td>0.07506</td>\n",
       "      <td>0.02884</td>\n",
       "      <td>0.03194</td>\n",
       "      <td>0.2143</td>\n",
       "      <td>0.06643</td>\n",
       "      <td>1</td>\n",
       "    </tr>\n",
       "    <tr>\n",
       "      <th>374</th>\n",
       "      <td>13.69</td>\n",
       "      <td>16.07</td>\n",
       "      <td>87.84</td>\n",
       "      <td>579.1</td>\n",
       "      <td>0.08302</td>\n",
       "      <td>0.06374</td>\n",
       "      <td>0.02556</td>\n",
       "      <td>0.02031</td>\n",
       "      <td>0.1872</td>\n",
       "      <td>0.05669</td>\n",
       "      <td>...</td>\n",
       "      <td>20.21</td>\n",
       "      <td>99.16</td>\n",
       "      <td>670.6</td>\n",
       "      <td>0.11050</td>\n",
       "      <td>0.20960</td>\n",
       "      <td>0.13460</td>\n",
       "      <td>0.06987</td>\n",
       "      <td>0.3323</td>\n",
       "      <td>0.07701</td>\n",
       "      <td>1</td>\n",
       "    </tr>\n",
       "    <tr>\n",
       "      <th>326</th>\n",
       "      <td>14.11</td>\n",
       "      <td>12.88</td>\n",
       "      <td>90.03</td>\n",
       "      <td>616.5</td>\n",
       "      <td>0.09309</td>\n",
       "      <td>0.05306</td>\n",
       "      <td>0.01765</td>\n",
       "      <td>0.02733</td>\n",
       "      <td>0.1373</td>\n",
       "      <td>0.05700</td>\n",
       "      <td>...</td>\n",
       "      <td>18.00</td>\n",
       "      <td>98.40</td>\n",
       "      <td>749.9</td>\n",
       "      <td>0.12810</td>\n",
       "      <td>0.11090</td>\n",
       "      <td>0.05307</td>\n",
       "      <td>0.05890</td>\n",
       "      <td>0.2100</td>\n",
       "      <td>0.07083</td>\n",
       "      <td>1</td>\n",
       "    </tr>\n",
       "    <tr>\n",
       "      <th>437</th>\n",
       "      <td>14.04</td>\n",
       "      <td>15.98</td>\n",
       "      <td>89.78</td>\n",
       "      <td>611.2</td>\n",
       "      <td>0.08458</td>\n",
       "      <td>0.05895</td>\n",
       "      <td>0.03534</td>\n",
       "      <td>0.02944</td>\n",
       "      <td>0.1714</td>\n",
       "      <td>0.05898</td>\n",
       "      <td>...</td>\n",
       "      <td>21.58</td>\n",
       "      <td>101.20</td>\n",
       "      <td>750.0</td>\n",
       "      <td>0.11950</td>\n",
       "      <td>0.12520</td>\n",
       "      <td>0.11170</td>\n",
       "      <td>0.07453</td>\n",
       "      <td>0.2725</td>\n",
       "      <td>0.07234</td>\n",
       "      <td>1</td>\n",
       "    </tr>\n",
       "  </tbody>\n",
       "</table>\n",
       "<p>5 rows × 31 columns</p>\n",
       "</div>"
      ],
      "text/plain": [
       "     mean radius  mean texture  mean perimeter  mean area  mean smoothness  \\\n",
       "148        14.44         15.18           93.97      640.1          0.09970   \n",
       "296        10.91         12.35           69.14      363.7          0.08518   \n",
       "374        13.69         16.07           87.84      579.1          0.08302   \n",
       "326        14.11         12.88           90.03      616.5          0.09309   \n",
       "437        14.04         15.98           89.78      611.2          0.08458   \n",
       "\n",
       "     mean compactness  mean concavity  mean concave points  mean symmetry  \\\n",
       "148           0.10210         0.08487              0.05532         0.1724   \n",
       "296           0.04721         0.01236              0.01369         0.1449   \n",
       "374           0.06374         0.02556              0.02031         0.1872   \n",
       "326           0.05306         0.01765              0.02733         0.1373   \n",
       "437           0.05895         0.03534              0.02944         0.1714   \n",
       "\n",
       "     mean fractal dimension  ...  worst texture  worst perimeter  worst area  \\\n",
       "148                 0.06081  ...          19.85           108.60       766.9   \n",
       "296                 0.06031  ...          14.82            72.42       392.2   \n",
       "374                 0.05669  ...          20.21            99.16       670.6   \n",
       "326                 0.05700  ...          18.00            98.40       749.9   \n",
       "437                 0.05898  ...          21.58           101.20       750.0   \n",
       "\n",
       "     worst smoothness  worst compactness  worst concavity  \\\n",
       "148           0.13160            0.27350          0.31030   \n",
       "296           0.09312            0.07506          0.02884   \n",
       "374           0.11050            0.20960          0.13460   \n",
       "326           0.12810            0.11090          0.05307   \n",
       "437           0.11950            0.12520          0.11170   \n",
       "\n",
       "     worst concave points  worst symmetry  worst fractal dimension  target  \n",
       "148               0.15990          0.2691                  0.07683       1  \n",
       "296               0.03194          0.2143                  0.06643       1  \n",
       "374               0.06987          0.3323                  0.07701       1  \n",
       "326               0.05890          0.2100                  0.07083       1  \n",
       "437               0.07453          0.2725                  0.07234       1  \n",
       "\n",
       "[5 rows x 31 columns]"
      ]
     },
     "execution_count": 2,
     "metadata": {},
     "output_type": "execute_result"
    }
   ],
   "source": [
    "# load breast cancer dataset\n",
    "data = datasets.load_breast_cancer()\n",
    "\n",
    "# convert to pandas data frame\n",
    "features = data.feature_names\n",
    "dataDF = pd.DataFrame(data.data, columns=features)\n",
    "\n",
    "# add binary target variable\n",
    "target = 'target'\n",
    "dataDF['target'] = data.target\n",
    "\n",
    "# display \n",
    "dataDF.sample(5)"
   ]
  },
  {
   "cell_type": "code",
   "execution_count": 3,
   "metadata": {
    "ExecuteTime": {
     "end_time": "2019-12-06T01:52:41.764827Z",
     "start_time": "2019-12-06T01:52:41.757107Z"
    }
   },
   "outputs": [
    {
     "name": "stdout",
     "output_type": "stream",
     "text": [
      "Train:  (455, 31)\n",
      "Validation:  (57, 31)\n",
      "Test:  (57, 31)\n"
     ]
    }
   ],
   "source": [
    "# split data into train, validation and test\n",
    "n = dataDF.shape[0]\n",
    "sizes = [int(0.8 * n), int(0.9 * n)]\n",
    "trainDF, validationDF, testDF = np.split(dataDF.sample(frac=1, random_state=10), sizes)\n",
    "\n",
    "print(\"Train: \", trainDF.shape)\n",
    "print(\"Validation: \", validationDF.shape)\n",
    "print(\"Test: \", testDF.shape)\n",
    "\n"
   ]
  },
  {
   "cell_type": "markdown",
   "metadata": {
    "ExecuteTime": {
     "end_time": "2019-12-03T16:39:45.584828Z",
     "start_time": "2019-12-03T16:39:45.580917Z"
    }
   },
   "source": [
    "# Simple Logistic Regression"
   ]
  },
  {
   "cell_type": "code",
   "execution_count": 4,
   "metadata": {
    "ExecuteTime": {
     "end_time": "2019-12-06T01:52:43.215284Z",
     "start_time": "2019-12-06T01:52:43.213099Z"
    }
   },
   "outputs": [],
   "source": [
    "from sklearn.linear_model import LogisticRegression"
   ]
  },
  {
   "cell_type": "code",
   "execution_count": 5,
   "metadata": {
    "ExecuteTime": {
     "end_time": "2019-12-06T01:52:44.978111Z",
     "start_time": "2019-12-06T01:52:44.621797Z"
    }
   },
   "outputs": [
    {
     "data": {
      "text/plain": [
       "LogisticRegression(C=1.0, class_weight=None, dual=False, fit_intercept=True,\n",
       "                   intercept_scaling=1, l1_ratio=None, max_iter=5000,\n",
       "                   multi_class='auto', n_jobs=None, penalty='l2',\n",
       "                   random_state=None, solver='lbfgs', tol=0.0001, verbose=0,\n",
       "                   warm_start=False)"
      ]
     },
     "execution_count": 5,
     "metadata": {},
     "output_type": "execute_result"
    }
   ],
   "source": [
    "model = LogisticRegression(solver='lbfgs', max_iter=5000)\n",
    "model.fit(trainDF[features], trainDF[target])"
   ]
  },
  {
   "cell_type": "code",
   "execution_count": 6,
   "metadata": {
    "ExecuteTime": {
     "end_time": "2019-12-06T01:52:45.628571Z",
     "start_time": "2019-12-06T01:52:45.624068Z"
    }
   },
   "outputs": [],
   "source": [
    "predicted = model.predict(testDF[features])"
   ]
  },
  {
   "cell_type": "code",
   "execution_count": 7,
   "metadata": {
    "ExecuteTime": {
     "end_time": "2019-12-06T01:52:46.684833Z",
     "start_time": "2019-12-06T01:52:46.681240Z"
    }
   },
   "outputs": [
    {
     "name": "stdout",
     "output_type": "stream",
     "text": [
      "0.9122807017543859\n"
     ]
    }
   ],
   "source": [
    "from sklearn.metrics import accuracy_score\n",
    "print(accuracy_score(testDF[target], predicted))"
   ]
  },
  {
   "cell_type": "markdown",
   "metadata": {
    "ExecuteTime": {
     "end_time": "2019-12-03T16:35:35.280805Z",
     "start_time": "2019-12-03T16:35:35.277073Z"
    }
   },
   "source": [
    "# Using Adaboost"
   ]
  },
  {
   "cell_type": "markdown",
   "metadata": {},
   "source": [
    "The idea of adaboost, acronym for \"Adaptive Boosting\", is simple. Imagine back your school days preparing for a exam. Once you have scanned through and praticsed the whole syllabalus, you would spend more time praticising hard problems. Boosting is based on the same principle. Once we have our initial classifier that treats each data point equally, we start focusing more on data points for which our previous classifier was wrong. The idea here is that the direction of gradient descent is more influenced by data points for which our model having trouble dealing with. One simple way to achieve this is by increasing the weight of the sample. Recall, hwo in chapter [4](04-linearregression.html), we used mean square error (MSE) as our objective function to minimize and it is computed as follows:\n",
    "\n",
    "$$MSE = \\frac{1}{m} \\sum_{i=1}^{m}\\left[y - \\sum_{i=1}^{n}\\theta_iX_i\\right]^2$$\n",
    "\n",
    "We can generalize, the above function to incorporate sample weight, say $w_i$, as:\n",
    "\n",
    "$$MSE = \\frac{1}{m} \\sum_{i=1}^{m}\\left[w_i\\left(y - \\sum_{i=1}^{n}\\theta_iX_i\\right)\\right]^2$$\n",
    "\n",
    "Now, if we take partial derivative of the above equation, we get direction of gradient descent that is influenced by the weight of the sample. Thus, we can assign higher weight to difficult data points and influence the direction of the gradient descent towards these difficult data points.\n",
    "\n",
    "The idea make sense but the problem remains is how to find optimal weight for difficult data points. If it's too low then the gradient descent direction might not change at all and if it's too hight then the gradient descent might gets too much influenced by hard data points and start having trouble with other data points that our model previously able to deal with. Adaboost solves this problem. \n",
    "\n",
    "There is still one challenge, \n",
    "\n",
    "\n",
    "* AdaBoost --> adaptive boosting\n",
    "\n",
    "**References**:\n",
    "1. [Boosting with Adaboost and Gradient Boosting](https://medium.com/diogo-menezes-borges/boosting-with-adaboost-and-gradient-boosting-9cbab2a1af81)\n",
    "2. [A comprehensive guide to ensemble learning](https://www.analyticsvidhya.com/blog/2018/06/comprehensive-guide-for-ensemble-models/)"
   ]
  },
  {
   "cell_type": "code",
   "execution_count": 8,
   "metadata": {
    "ExecuteTime": {
     "end_time": "2019-12-06T01:58:02.526128Z",
     "start_time": "2019-12-06T01:58:02.030084Z"
    }
   },
   "outputs": [
    {
     "name": "stdout",
     "output_type": "stream",
     "text": [
      "0.9626373626373627\n"
     ]
    }
   ],
   "source": [
    "sample_weights = np.repeat(1./trainDF.shape[0], trainDF.shape[0])\n",
    "model1 = LogisticRegression(solver='lbfgs', max_iter=5000)\n",
    "model1.fit(trainDF[features], trainDF[target])\n",
    "predicted = model1.predict(trainDF[features])\n",
    "print(accuracy_score(trainDF[target], predicted))"
   ]
  },
  {
   "cell_type": "code",
   "execution_count": null,
   "metadata": {},
   "outputs": [],
   "source": []
  },
  {
   "cell_type": "code",
   "execution_count": null,
   "metadata": {
    "ExecuteTime": {
     "end_time": "2019-12-04T02:51:11.043896Z",
     "start_time": "2019-12-04T02:51:11.028260Z"
    }
   },
   "outputs": [],
   "source": []
  },
  {
   "cell_type": "code",
   "execution_count": null,
   "metadata": {},
   "outputs": [],
   "source": []
  }
 ],
 "metadata": {
  "kernelspec": {
   "display_name": "Python 3",
   "language": "python",
   "name": "python3"
  },
  "language_info": {
   "codemirror_mode": {
    "name": "ipython",
    "version": 3
   },
   "file_extension": ".py",
   "mimetype": "text/x-python",
   "name": "python",
   "nbconvert_exporter": "python",
   "pygments_lexer": "ipython3",
   "version": "3.6.10"
  },
  "toc": {
   "base_numbering": 1,
   "nav_menu": {},
   "number_sections": true,
   "sideBar": true,
   "skip_h1_title": false,
   "title_cell": "Table of Contents",
   "title_sidebar": "Contents",
   "toc_cell": false,
   "toc_position": {},
   "toc_section_display": true,
   "toc_window_display": false
  }
 },
 "nbformat": 4,
 "nbformat_minor": 2
}

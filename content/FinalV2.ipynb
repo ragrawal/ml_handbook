{
 "cells": [
  {
   "cell_type": "markdown",
   "metadata": {},
   "source": [
    "# QUIC \n",
    "\n",
    "QUIC is a network protocol developed by Google. As compared to defacto network protocol OKHTTP/h2, QUIC helps improve network latencies for tail end of users. This workbook evaluate the impact of using QUIC protocol on Uber's business metric. On 10/25/2018, QUIC network protocol was enabled on :\n",
    "\n",
    "1. 50% of users using android phones in San Paulo, London, Los Angeles, Cairo and New Delhi. For this segment, the data is collected using a sampling rate of 5%. \n",
    "2. 50% of users using Iphone in the above cities. For this segment, the data is collected using a sampling rate of 20%\n",
    "3. 20% of users using android phone in the rest of the cities. For this segment, the data is collected using a sampling rate of 5%. \n",
    "\n",
    "There are three configuration options that can affect observed network latencies. \n",
    "1. Library: There are two libraries: OKHTTP and CRONET. \n",
    "2. Protocol: OKHTTP implements two different protocols: http/1.1 and h2. CRONET also implements two different protocols: h2 and QUIC. Generally in terms of performance http/1.1 is slowest and is rarely used. In case of CRONET, h2 is used as a fallback, that is if quic protocol doesn't work then the request will fall back to h2. Hence, one expect that CRONET/h2 to perform worse than OKHTTP/h2. \n",
    "3. Hosts: The request can be fullfilled either by Uber's on premise data center or by google cloud frontend (also referred as CFE in logs). QUIC can only work on CFE. \n",
    "\n",
    "Since QUIC is only available via CFE, this analysis only focuses on sessions where all the requests where handled CFE. In order to speed up analysis, we created four tables:\n",
    "\n",
    "1. **dsp.quic_sessions:** This table includes session level network information such as hosts, protocols and libraries that were used to serve the requests in a session. You can find the actual SQL script used to generate the session in this notebook.  \n",
    "2. **dsp.quic_session_info:** This tables includes session level user activity information such as how many trips were completed (n_completed), sequence of events (transitions), etc. \n",
    "3. **dsp.quic:** This table is inner join of the above two tables. The join is based on session_id and rider_id. Ideally the join should be only based on session_id but we have observed that sometimes different users with the same session id. For instance this can happen when on a single device the user sign out from one account and then sign in with another account. In situation like this, the session_id will remain same but the user id will change. \n",
    "4. **dsp.quic_latencies**: This is a request label table where we maintain request latency for all the requests. \n",
    "\n",
    "For the below analysis, we focus on data between 10/25/2018 and 11/20/2018. The notebook is organized in the follow manner. \n",
    "\n",
    "**Section 1: Android 5 Cities Overall**\n",
    "We first evaluate overall the performance of QUIC across all the 5 cities. To have a clean data and remove biases due to host, we focus only on those sessions that were 100% served using CFE and further ignore admin sessions. For the selected sessions we compute conversion rate, which is defined as:\n",
    "\n",
    "    $$ conversion rate = \\frac{# Sessions with n_completed > 0}{# Sessions} $$\n",
    "    \n",
    "We use porpotion based z test to evaluate significance of the difference in observed conference. We conduct this analysis both at the library and at the protocol level. Further, any gain needs to be supported by improvements in network latencies and hence we also explore network latencies for different protocols. Finally we examine if the improvement in network latencies has caused any kind of changes in user behavior. \n",
    "\n",
    "**Section 2: Individual Performance of QUIC on Android in 5 Cities**\n"
   ]
  },
  {
   "cell_type": "code",
   "execution_count": 1,
   "metadata": {
    "ExecuteTime": {
     "end_time": "2018-11-28T22:27:56.822405Z",
     "start_time": "2018-11-28T22:27:55.930997Z"
    },
    "collapsed": false
   },
   "outputs": [
    {
     "name": "stderr",
     "output_type": "stream",
     "text": [
      "ERROR:root:File `'../magics.ipynb.py'` not found.\n"
     ]
    }
   ],
   "source": [
    "%run -i ../magics.ipynb\n",
    "import numpy as np\n",
    "from statsmodels.stats import proportion\n",
    "import re\n",
    "from IPython.display import HTML, display\n",
    "from scipy import stats"
   ]
  },
  {
   "cell_type": "code",
   "execution_count": 2,
   "metadata": {
    "ExecuteTime": {
     "end_time": "2018-11-28T22:31:23.702775Z",
     "start_time": "2018-11-28T22:31:23.582809Z"
    },
    "collapsed": false
   },
   "outputs": [],
   "source": [
    "from plotnine import *"
   ]
  },
  {
   "cell_type": "code",
   "execution_count": 3,
   "metadata": {
    "collapsed": false
   },
   "outputs": [],
   "source": [
    "def PerGroupCount(df, keys, alias='cnt'):\n",
    "    return df.groupby(keys).size().reset_index().rename(columns={0:alias})\n"
   ]
  },
  {
   "cell_type": "markdown",
   "metadata": {
    "ExecuteTime": {
     "end_time": "2018-11-26T22:27:10.848512Z",
     "start_time": "2018-11-26T22:20:47.239Z"
    }
   },
   "source": [
    "# General Functions"
   ]
  },
  {
   "cell_type": "code",
   "execution_count": 4,
   "metadata": {
    "ExecuteTime": {
     "end_time": "2018-11-28T04:48:50.686267Z",
     "start_time": "2018-11-28T04:48:50.594080Z"
    },
    "collapsed": true
   },
   "outputs": [],
   "source": [
    "EXPERIMENT_CITIES =['sao_paulo', 'london', 'los_angeles', 'cairo', 'new_delhi']\n",
    "FIELDS = ['cronet_session', 'cronet_conversion', 'okhttp_session', 'okhttp_conversion', 'gain', 'isSignificant', 'isPositive']\n",
    "DISTRIBUTIONS = [0.1, 0.2, 0.3, 0.4, 0.5, 0.6, 0.7, 0.8, 0.9, 0.95, 0.99]\n",
    "AGENTS = ['cronet', 'okhttp']\n",
    "EVENTS = {\n",
    "    'hs': 'Home Screen',\n",
    "    'de': 'Dropoff Edit',\n",
    "    'pe': 'Pickup Edit',\n",
    "    'cs': 'Confirmation',\n",
    "    'pr': 'Pickup Refinement',\n",
    "    'po': 'Plus One',\n",
    "    'dp': 'Dispatching',\n",
    "    'er': 'Enroute',\n",
    "    'ot': 'On Trip'\n",
    "}\n",
    "#  ('home_screen', 'dropoff_edit', 'pickup_edit', 'confirmation', 'pickup_refinement', 'plus_one', 'dispatching', 'enroute', 'ontrip')"
   ]
  },
  {
   "cell_type": "code",
   "execution_count": 5,
   "metadata": {
    "ExecuteTime": {
     "end_time": "2018-11-28T04:48:51.104348Z",
     "start_time": "2018-11-28T04:48:51.015286Z"
    },
    "collapsed": true
   },
   "outputs": [
    {
     "ename": "SyntaxError",
     "evalue": "(unicode error) 'unicodeescape' codec can't decode bytes in position 0-1: malformed \\N character escape (<ipython-input-5-e39f1db9fdef>, line 4)",
     "output_type": "error",
     "traceback": [
      "\u001b[0;36m  File \u001b[0;32m\"<ipython-input-5-e39f1db9fdef>\"\u001b[0;36m, line \u001b[0;32m4\u001b[0m\n\u001b[0;31m    return [y.strip() for y in x.split('->') if y.strip() != '\\N']\u001b[0m\n\u001b[0m                                                            ^\u001b[0m\n\u001b[0;31mSyntaxError\u001b[0m\u001b[0;31m:\u001b[0m (unicode error) 'unicodeescape' codec can't decode bytes in position 0-1: malformed \\N character escape\n"
     ]
    }
   ],
   "source": [
    "def event_parser(x):\n",
    "    if not isinstance(x, unicode) and not isinstance(x, str):\n",
    "        return None\n",
    "    return [y.strip() for y in x.split('->') if y.strip() != '\\N']\n",
    "\n",
    "\n",
    "def latency_parser(x):\n",
    "    if not isinstance(x, str) and not isinstance(x, unicode):\n",
    "        return None\n",
    "    if x == '\\N':\n",
    "        return None\n",
    "    return [float(y) for y in re.findall(\"\\d+\\.\\d+\", x)]\n",
    "\n",
    "\n",
    "def extract_distribution(x, summary=None):\n",
    "    d = np.array(x.values[:].tolist())\n",
    "    return summary(d, axis=0).tolist()\n",
    "\n",
    "\n",
    "def processData(data):\n",
    "    data = data[data.agents.isin(['cronet', 'okhttp'])].copy()\n",
    "#     data['latency_distribution'] = data.latency_distribution.apply(latency_parser)\n",
    "    data['events'] = data.events.apply(event_parser)\n",
    "    data['eventLen'] = data.events.apply(len)\n",
    "    data['n_completed'] = data.n_completed.apply(lambda x: 1 if x >= 1 else 0)\n",
    "    return data\n",
    "\n",
    "def processLatencyData(data):\n",
    "    data = data[data.agents.isin(['cronet', 'okhttp'])].copy()\n",
    "    data['latencies'] = data.latencies.apply(latency_parser)\n",
    "    return data\n",
    "\n",
    "\n",
    "import copy\n",
    "\n",
    "def pandas_explode(df, column_to_explode):\n",
    "    \"\"\"\n",
    "    Similar to Hive's EXPLODE function, take a column with iterable elements, and flatten the iterable to one element \n",
    "    per observation in the output table\n",
    "\n",
    "    :param df: A dataframe to explod\n",
    "    :type df: pandas.DataFrame\n",
    "    :param column_to_explode: \n",
    "    :type column_to_explode: str\n",
    "    :return: An exploded data frame\n",
    "    :rtype: pandas.DataFrame\n",
    "    \"\"\"\n",
    "\n",
    "    # Create a list of new observations\n",
    "    new_observations = list()\n",
    "\n",
    "    # Iterate through existing observations\n",
    "    for row in df.to_dict(orient='records'):\n",
    "\n",
    "        # Take out the exploding iterable\n",
    "        explode_values = row[column_to_explode]\n",
    "        del row[column_to_explode]\n",
    "\n",
    "        # Create a new observation for every entry in the exploding iterable & add all of the other columns\n",
    "        for explode_value in explode_values:\n",
    "\n",
    "            # Deep copy existing observation\n",
    "            new_observation = copy.deepcopy(row)\n",
    "\n",
    "            # Add one (newly flattened) value from exploding iterable\n",
    "            new_observation[column_to_explode] = explode_value\n",
    "\n",
    "            # Add to the list of new observations\n",
    "            new_observations.append(new_observation)\n",
    "\n",
    "    # Create a DataFrame\n",
    "    return_df = pd.DataFrame(new_observations)\n",
    "\n",
    "    # Return\n",
    "    return return_df"
   ]
  },
  {
   "cell_type": "code",
   "execution_count": 6,
   "metadata": {
    "ExecuteTime": {
     "end_time": "2018-11-28T05:23:13.911802Z",
     "start_time": "2018-11-28T05:23:13.876141Z"
    },
    "collapsed": false
   },
   "outputs": [],
   "source": [
    "def color_significant(val):\n",
    "    color = ''\n",
    "    if val.isSignificant:\n",
    "        color = 'lightgreen' if val.gain > 0 else 'pink'\n",
    "    output = ['background-color: {}'.format(color) for v in val]\n",
    "    return output\n",
    "\n",
    "\n",
    "def stylize(df):\n",
    "    return (\n",
    "        df\n",
    "        .style\n",
    "        .apply(color_significant, axis=1)\n",
    "        .format({\n",
    "                'cronet_conversion': \"{:.2%}\",\n",
    "                'okhttp_conversion': \"{:.2%}\",\n",
    "                'gain': '{:.4%}',\n",
    "                'cronet_session': '{:,}',\n",
    "                'okhttp_session': '{:,}',\n",
    "\n",
    "        })\n",
    "    )\n",
    "\n",
    "\n",
    "from statsmodels.stats import power\n",
    "\n",
    "def overallAnalysis(df):\n",
    "    df = (\n",
    "        df\n",
    "        .assign(\n",
    "            cronet_session = lambda x: (x.cronet_hit + x.cronet_missed),\n",
    "            okhttp_session = lambda x: (x.okhttp_hit + x.okhttp_missed)\n",
    "        )\n",
    "        .assign(\n",
    "            cronet_conversion = lambda x: x.cronet_hit / x.cronet_session,\n",
    "            okhttp_conversion = lambda x: x.okhttp_hit / x.okhttp_session\n",
    "        )\n",
    "    )\n",
    "    \n",
    "    df['isSignificant'] = df.apply(lambda x: proportion.proportions_ztest(\n",
    "            [x.cronet_hit, x.okhttp_hit],\n",
    "            [x.cronet_session, x.okhttp_session]\n",
    "        )[1] < 0.05, axis=1)\n",
    "    \n",
    "    df['power'] = df.apply(\n",
    "        lambda x: power.zt_ind_solve_power(\n",
    "            effect_size = abs(x.cronet_conversion - x.okhttp_conversion),\n",
    "            nobs1 = x.cronet_session,\n",
    "            ratio = x.okhttp_session / float(x.cronet_session),\n",
    "            alpha = 0.05\n",
    "        ), axis = 1)\n",
    "    df = df.assign(\n",
    "            gain = lambda x: x.cronet_conversion - x.okhttp_conversion,\n",
    "            isPositive = lambda x: x.cronet_conversion > x.okhttp_conversion\n",
    "    )\n",
    "    \n",
    "    return df"
   ]
  },
  {
   "cell_type": "markdown",
   "metadata": {},
   "source": [
    "# Android 5 Archetype Cities"
   ]
  },
  {
   "cell_type": "code",
   "execution_count": 7,
   "metadata": {
    "ExecuteTime": {
     "end_time": "2018-11-28T00:45:27.567604Z",
     "start_time": "2018-11-28T00:45:00.799628Z"
    },
    "collapsed": false
   },
   "outputs": [
    {
     "name": "stderr",
     "output_type": "stream",
     "text": [
      "UsageError: Cell magic `%%presto` not found.\n"
     ]
    }
   ],
   "source": [
    "%%presto --variable data --email ragrawal@uber.com --encoding utf8 --cache --use-cache --large-data\n",
    "\n",
    "SELECT * \n",
    "FROM dsp.quic\n",
    "WHERE \n",
    "    city in ('sao_paulo', 'london', 'los_angeles', 'cairo', 'new_delhi')\n",
    "    AND os_type = 'android'\n",
    "    AND NOT is_admin_user \n",
    "    AND hosts = 'cfe'\n",
    "    AND agents in ('cronet', 'okhttp')\n",
    "    "
   ]
  },
  {
   "cell_type": "code",
   "execution_count": 8,
   "metadata": {
    "ExecuteTime": {
     "end_time": "2018-11-28T00:46:36.759026Z",
     "start_time": "2018-11-28T00:45:27.571617Z"
    },
    "collapsed": false
   },
   "outputs": [
    {
     "ename": "NameError",
     "evalue": "name 'processData' is not defined",
     "output_type": "error",
     "traceback": [
      "\u001b[0;31m---------------------------------------------------------------------------\u001b[0m",
      "\u001b[0;31mNameError\u001b[0m                                 Traceback (most recent call last)",
      "\u001b[0;32m<ipython-input-8-ebe9335dd4a0>\u001b[0m in \u001b[0;36m<module>\u001b[0;34m\u001b[0m\n\u001b[0;32m----> 1\u001b[0;31m \u001b[0mandroidExpCities\u001b[0m \u001b[0;34m=\u001b[0m \u001b[0mprocessData\u001b[0m\u001b[0;34m(\u001b[0m\u001b[0mdata\u001b[0m\u001b[0;34m)\u001b[0m\u001b[0;34m\u001b[0m\u001b[0;34m\u001b[0m\u001b[0m\n\u001b[0m",
      "\u001b[0;31mNameError\u001b[0m: name 'processData' is not defined"
     ]
    }
   ],
   "source": [
    "androidExpCities = processData(data)"
   ]
  },
  {
   "cell_type": "markdown",
   "metadata": {},
   "source": [
    "## Distribution of Sessions"
   ]
  },
  {
   "cell_type": "code",
   "execution_count": 9,
   "metadata": {
    "collapsed": false
   },
   "outputs": [
    {
     "data": {
      "text/html": [
       "<h1>Distribution of Sessions By Agents</h1>"
      ],
      "text/plain": [
       "<IPython.core.display.HTML object>"
      ]
     },
     "metadata": {},
     "output_type": "display_data"
    },
    {
     "ename": "NameError",
     "evalue": "name 'androidExpCities' is not defined",
     "output_type": "error",
     "traceback": [
      "\u001b[0;31m---------------------------------------------------------------------------\u001b[0m",
      "\u001b[0;31mNameError\u001b[0m                                 Traceback (most recent call last)",
      "\u001b[0;32m<ipython-input-9-b3f744646a80>\u001b[0m in \u001b[0;36m<module>\u001b[0;34m\u001b[0m\n\u001b[1;32m      1\u001b[0m \u001b[0mdisplay\u001b[0m\u001b[0;34m(\u001b[0m\u001b[0mHTML\u001b[0m\u001b[0;34m(\u001b[0m\u001b[0;34m\"<h1>Distribution of Sessions By Agents</h1>\"\u001b[0m\u001b[0;34m)\u001b[0m\u001b[0;34m)\u001b[0m\u001b[0;34m\u001b[0m\u001b[0;34m\u001b[0m\u001b[0m\n\u001b[0;32m----> 2\u001b[0;31m \u001b[0mdisplay\u001b[0m\u001b[0;34m(\u001b[0m\u001b[0mandroidExpCities\u001b[0m\u001b[0;34m.\u001b[0m\u001b[0mgroupby\u001b[0m\u001b[0;34m(\u001b[0m\u001b[0;34m[\u001b[0m\u001b[0;34m'hosts'\u001b[0m\u001b[0;34m,\u001b[0m \u001b[0;34m'agents'\u001b[0m\u001b[0;34m]\u001b[0m\u001b[0;34m)\u001b[0m\u001b[0;34m.\u001b[0m\u001b[0msize\u001b[0m\u001b[0;34m(\u001b[0m\u001b[0;34m)\u001b[0m\u001b[0;34m.\u001b[0m\u001b[0mreset_index\u001b[0m\u001b[0;34m(\u001b[0m\u001b[0;34m)\u001b[0m\u001b[0;34m)\u001b[0m\u001b[0;34m\u001b[0m\u001b[0;34m\u001b[0m\u001b[0m\n\u001b[0m\u001b[1;32m      3\u001b[0m \u001b[0;34m\u001b[0m\u001b[0m\n\u001b[1;32m      4\u001b[0m \u001b[0mdisplay\u001b[0m\u001b[0;34m(\u001b[0m\u001b[0mHTML\u001b[0m\u001b[0;34m(\u001b[0m\u001b[0;34m\"<h1>Distribution of Sessions By Agents/Protocols</h1>\"\u001b[0m\u001b[0;34m)\u001b[0m\u001b[0;34m)\u001b[0m\u001b[0;34m\u001b[0m\u001b[0;34m\u001b[0m\u001b[0m\n\u001b[1;32m      5\u001b[0m \u001b[0mdisplay\u001b[0m\u001b[0;34m(\u001b[0m\u001b[0mandroidExpCities\u001b[0m\u001b[0;34m.\u001b[0m\u001b[0mgroupby\u001b[0m\u001b[0;34m(\u001b[0m\u001b[0;34m[\u001b[0m\u001b[0;34m'hosts'\u001b[0m\u001b[0;34m,\u001b[0m \u001b[0;34m'agents'\u001b[0m\u001b[0;34m,\u001b[0m \u001b[0;34m'protocols'\u001b[0m\u001b[0;34m]\u001b[0m\u001b[0;34m)\u001b[0m\u001b[0;34m.\u001b[0m\u001b[0msize\u001b[0m\u001b[0;34m(\u001b[0m\u001b[0;34m)\u001b[0m\u001b[0;34m.\u001b[0m\u001b[0mreset_index\u001b[0m\u001b[0;34m(\u001b[0m\u001b[0;34m)\u001b[0m\u001b[0;34m)\u001b[0m\u001b[0;34m\u001b[0m\u001b[0;34m\u001b[0m\u001b[0m\n",
      "\u001b[0;31mNameError\u001b[0m: name 'androidExpCities' is not defined"
     ]
    }
   ],
   "source": [
    "display(HTML(\"<h1>Distribution of Sessions By Agents</h1>\"))\n",
    "display(androidExpCities.groupby(['hosts', 'agents']).size().reset_index())\n",
    "\n",
    "display(HTML(\"<h1>Distribution of Sessions By Agents/Protocols</h1>\"))\n",
    "display(androidExpCities.groupby(['hosts', 'agents', 'protocols']).size().reset_index())"
   ]
  },
  {
   "cell_type": "markdown",
   "metadata": {},
   "source": [
    "## Compute Conversions"
   ]
  },
  {
   "cell_type": "code",
   "execution_count": 10,
   "metadata": {
    "collapsed": false
   },
   "outputs": [
    {
     "ename": "NameError",
     "evalue": "name 'androidExpCities' is not defined",
     "output_type": "error",
     "traceback": [
      "\u001b[0;31m---------------------------------------------------------------------------\u001b[0m",
      "\u001b[0;31mNameError\u001b[0m                                 Traceback (most recent call last)",
      "\u001b[0;32m<ipython-input-10-603e017d53be>\u001b[0m in \u001b[0;36m<module>\u001b[0;34m\u001b[0m\n\u001b[0;32m----> 1\u001b[0;31m \u001b[0msubsetAndroid\u001b[0m \u001b[0;34m=\u001b[0m \u001b[0mandroidExpCities\u001b[0m\u001b[0;34m[\u001b[0m\u001b[0mandroidExpCities\u001b[0m\u001b[0;34m.\u001b[0m\u001b[0mprotocols\u001b[0m\u001b[0;34m.\u001b[0m\u001b[0misin\u001b[0m\u001b[0;34m(\u001b[0m\u001b[0;34m[\u001b[0m\u001b[0;34m'h2'\u001b[0m\u001b[0;34m,\u001b[0m \u001b[0;34m'quic'\u001b[0m\u001b[0;34m,\u001b[0m \u001b[0;34m'h2|quic'\u001b[0m\u001b[0;34m,\u001b[0m \u001b[0;34m'http/1.1'\u001b[0m\u001b[0;34m]\u001b[0m\u001b[0;34m)\u001b[0m\u001b[0;34m]\u001b[0m\u001b[0;34m.\u001b[0m\u001b[0mcopy\u001b[0m\u001b[0;34m(\u001b[0m\u001b[0;34m)\u001b[0m\u001b[0;34m\u001b[0m\u001b[0;34m\u001b[0m\u001b[0m\n\u001b[0m",
      "\u001b[0;31mNameError\u001b[0m: name 'androidExpCities' is not defined"
     ]
    }
   ],
   "source": [
    "subsetAndroid = androidExpCities[androidExpCities.protocols.isin(['h2', 'quic', 'h2|quic', 'http/1.1'])].copy()"
   ]
  },
  {
   "cell_type": "code",
   "execution_count": 11,
   "metadata": {
    "collapsed": false
   },
   "outputs": [
    {
     "ename": "NameError",
     "evalue": "name 'subsetAndroid' is not defined",
     "output_type": "error",
     "traceback": [
      "\u001b[0;31m---------------------------------------------------------------------------\u001b[0m",
      "\u001b[0;31mNameError\u001b[0m                                 Traceback (most recent call last)",
      "\u001b[0;32m<ipython-input-11-68c7949be49e>\u001b[0m in \u001b[0;36m<module>\u001b[0;34m\u001b[0m\n\u001b[1;32m      9\u001b[0m \u001b[0;34m\u001b[0m\u001b[0m\n\u001b[1;32m     10\u001b[0m overallDF = (\n\u001b[0;32m---> 11\u001b[0;31m     \u001b[0msubsetAndroid\u001b[0m\u001b[0;34m\u001b[0m\u001b[0;34m\u001b[0m\u001b[0m\n\u001b[0m\u001b[1;32m     12\u001b[0m     \u001b[0;34m.\u001b[0m\u001b[0mgroupby\u001b[0m\u001b[0;34m(\u001b[0m\u001b[0;34m[\u001b[0m\u001b[0;34m'agents'\u001b[0m\u001b[0;34m]\u001b[0m\u001b[0;34m)\u001b[0m\u001b[0;34m\u001b[0m\u001b[0;34m\u001b[0m\u001b[0m\n\u001b[1;32m     13\u001b[0m     \u001b[0;34m.\u001b[0m\u001b[0mapply\u001b[0m\u001b[0;34m(\u001b[0m\u001b[0msessionMetrics\u001b[0m\u001b[0;34m)\u001b[0m\u001b[0;34m\u001b[0m\u001b[0;34m\u001b[0m\u001b[0m\n",
      "\u001b[0;31mNameError\u001b[0m: name 'subsetAndroid' is not defined"
     ]
    }
   ],
   "source": [
    "import math\n",
    "\n",
    "def sessionMetrics(x):\n",
    "    return pd.Series({\n",
    "            'num_sessions': x.shape[0],\n",
    "            'hits': x[x.n_completed == 1].shape[0],\n",
    "            'missed': x[x.n_completed == 0].shape[0]\n",
    "        })\n",
    "\n",
    "overallDF = (\n",
    "    subsetAndroid\n",
    "    .groupby(['agents'])\n",
    "    .apply(sessionMetrics)\n",
    "    .reset_index()\n",
    ").assign(\n",
    "    conversion = lambda x: x.hits / x.num_sessions\n",
    ")\n",
    "\n",
    "\n",
    "display(HTML(\"<h1>Conversion Rate At Agent Level</h1>\"))\n",
    "display(overallDF.style.format({\n",
    "            \"conversion\":\"{:.2%}\", \n",
    "            \"hits\": \"{:,}\", \n",
    "            \"missed\": \"{:,}\",\n",
    "            \"num_sessions\": \"{:,}\"\n",
    "        }))\n",
    "\n",
    "display(HTML(\"<h1>Conversion Gain At Agent Level</h1>\"))\n",
    "output = []\n",
    "baseline = pd.Series(breakdownDF[breakdownDF.agents == 'okhttp'].head(1).to_dict(orient='records')[0])\n",
    "baseline_sd_square = baseline.conversion * (1 - baseline.conversion) / baseline.num_sessions\n",
    "\n",
    "for idx, row in overallDF.iterrows():\n",
    "    gain = row.conversion - baseline.conversion\n",
    "    sd_square = row.conversion * (1 - row.conversion) / row.num_sessions\n",
    "\n",
    "    sd = math.sqrt(baseline_sd_square + sd_square)\n",
    "    lb = gain - 2 * sd\n",
    "    ub = gain + 2 * sd\n",
    "    \n",
    "    isSignificiant = proportion.proportions_ztest(\n",
    "        [row.hits, baseline.hits],\n",
    "        [row.num_sessions, baseline.num_sessions]\n",
    "    )[1] < 0.05\n",
    "    output.append([row.agents, gain, lb, ub, isSignificiant])\n",
    "    \n",
    "analysisDF = pd.DataFrame(output, columns=['agent', 'gain', 'lb', 'ub', 'isSignificant'])\n",
    "display(analysisDF.style.format({\"gain\":\"{:.2%}\", \"lb\": \"{:.2%}\", \"ub\": \"{:.2%}\"}))\n",
    "\n",
    "        "
   ]
  },
  {
   "cell_type": "code",
   "execution_count": 12,
   "metadata": {
    "collapsed": false
   },
   "outputs": [
    {
     "ename": "NameError",
     "evalue": "name 'subsetAndroid' is not defined",
     "output_type": "error",
     "traceback": [
      "\u001b[0;31m---------------------------------------------------------------------------\u001b[0m",
      "\u001b[0;31mNameError\u001b[0m                                 Traceback (most recent call last)",
      "\u001b[0;32m<ipython-input-12-d693798b81cc>\u001b[0m in \u001b[0;36m<module>\u001b[0;34m\u001b[0m\n\u001b[1;32m      1\u001b[0m breakdownDF = (\n\u001b[0;32m----> 2\u001b[0;31m     \u001b[0msubsetAndroid\u001b[0m\u001b[0;34m\u001b[0m\u001b[0;34m\u001b[0m\u001b[0m\n\u001b[0m\u001b[1;32m      3\u001b[0m     \u001b[0;34m.\u001b[0m\u001b[0mgroupby\u001b[0m\u001b[0;34m(\u001b[0m\u001b[0;34m[\u001b[0m\u001b[0;34m'hosts'\u001b[0m\u001b[0;34m,\u001b[0m \u001b[0;34m'agents'\u001b[0m\u001b[0;34m,\u001b[0m \u001b[0;34m'protocols'\u001b[0m\u001b[0;34m]\u001b[0m\u001b[0;34m)\u001b[0m\u001b[0;34m\u001b[0m\u001b[0;34m\u001b[0m\u001b[0m\n\u001b[1;32m      4\u001b[0m     \u001b[0;34m.\u001b[0m\u001b[0mapply\u001b[0m\u001b[0;34m(\u001b[0m\u001b[0msessionMetrics\u001b[0m\u001b[0;34m)\u001b[0m\u001b[0;34m\u001b[0m\u001b[0;34m\u001b[0m\u001b[0m\n\u001b[1;32m      5\u001b[0m     \u001b[0;34m.\u001b[0m\u001b[0mreset_index\u001b[0m\u001b[0;34m(\u001b[0m\u001b[0;34m)\u001b[0m\u001b[0;34m\u001b[0m\u001b[0;34m\u001b[0m\u001b[0m\n",
      "\u001b[0;31mNameError\u001b[0m: name 'subsetAndroid' is not defined"
     ]
    }
   ],
   "source": [
    "breakdownDF = (\n",
    "    subsetAndroid\n",
    "    .groupby(['hosts', 'agents', 'protocols'])\n",
    "    .apply(sessionMetrics)\n",
    "    .reset_index()\n",
    ").assign(\n",
    "    conversion = lambda x: x.hits / x.num_sessions\n",
    ")\n",
    "# Ignore Cronet / http1.1 \n",
    "breakdownDF = breakdownDF[~((breakdownDF.agents == 'cronet') & (breakdownDF.protocols == 'http/1.1'))].copy()\n",
    "\n",
    "\n",
    "display(HTML(\"<h1>Conversion Rate At Protocol Level</h1>\"))\n",
    "display(breakdownDF.style.format({\n",
    "            \"conversion\":\"{:.2%}\", \n",
    "            \"hits\": \"{:,}\", \n",
    "            \"missed\": \"{:,}\",\n",
    "            \"num_sessions\": \"{:,}\"\n",
    "        }))\n",
    "\n",
    "output = []\n",
    "breakdownDF['key'] = breakdownDF.apply(lambda x: \"{}/{}\".format(x.agents, x.protocols), axis=1)\n",
    "\n",
    "baseline = pd.Series(breakdownDF[breakdownDF.key == 'okhttp/h2'].head(1).to_dict(orient='records')[0])\n",
    "baseline_sd_square = baseline.conversion * (1 - baseline.conversion) / baseline.num_sessions\n",
    "\n",
    "for idx, row in breakdownDF.iterrows():\n",
    "    gain = row.conversion - baseline.conversion\n",
    "    sd_square = row.conversion * (1 - row.conversion) / row.num_sessions\n",
    "\n",
    "    sd = math.sqrt(baseline_sd_square + sd_square)\n",
    "    lb = gain - 2 * sd\n",
    "    ub = gain + 2 * sd\n",
    "    \n",
    "    isSignificiant = proportion.proportions_ztest(\n",
    "        [row.hits, baseline.hits],\n",
    "        [row.num_sessions, baseline.num_sessions]\n",
    "    )[1] < 0.05\n",
    "    output.append([row.key, gain, lb, ub, isSignificiant])\n",
    "        \n",
    "analysisDF = pd.DataFrame(output, columns=['key', 'gain', 'lb', 'ub', 'isSignificant'])\n",
    "display(HTML(\"<h1>Conversion Gain Compared to OKHTTP/H2</h1>\"))\n",
    "display(analysisDF.style.format({\"gain\":\"{:.2%}\", \"lb\": \"{:.2%}\", \"ub\": \"{:.2%}\"}))"
   ]
  },
  {
   "cell_type": "markdown",
   "metadata": {},
   "source": [
    "## Compute Latency Distribution"
   ]
  },
  {
   "cell_type": "code",
   "execution_count": 13,
   "metadata": {
    "collapsed": false
   },
   "outputs": [
    {
     "name": "stderr",
     "output_type": "stream",
     "text": [
      "UsageError: Cell magic `%%presto` not found.\n"
     ]
    }
   ],
   "source": [
    "%%presto --variable latencyData --email ragrawal@uber.com --cache --use-cache --large-data\n",
    "\n",
    "SELECT agents, protocols, duration, COUNT(*) AS freq\n",
    "FROM\n",
    "(\n",
    "    SELECT DISTINCT l.session_id, l.user_uuid, agents, protocols, _c2 AS path, CAST(duration / 100 AS BIGINT) as duration\n",
    "    FROM dsp.quic_latencies l\n",
    "    JOIN dsp.quic r ON (r.session_id = l.session_id AND r.user_uuid = l.user_uuid)\n",
    "    WHERE\n",
    "        city in ('sao_paulo', 'london', 'los_angeles', 'cairo', 'new_delhi')\n",
    "        AND os_type = 'android'\n",
    "        AND NOT is_admin_user \n",
    "        AND hosts = 'cfe'\n",
    "        AND agents in ('cronet', 'okhttp')\n",
    "        -- AND _c2 = '/rt/riders/me/status'\n",
    ") A \n",
    "GROUP BY agents, protocols, duration"
   ]
  },
  {
   "cell_type": "code",
   "execution_count": 14,
   "metadata": {
    "collapsed": false
   },
   "outputs": [
    {
     "ename": "SyntaxError",
     "evalue": "Missing parentheses in call to 'print'. Did you mean print(df.columns)? (<ipython-input-14-503cb2a28821>, line 13)",
     "output_type": "error",
     "traceback": [
      "\u001b[0;36m  File \u001b[0;32m\"<ipython-input-14-503cb2a28821>\"\u001b[0;36m, line \u001b[0;32m13\u001b[0m\n\u001b[0;31m    print df.columns\u001b[0m\n\u001b[0m           ^\u001b[0m\n\u001b[0;31mSyntaxError\u001b[0m\u001b[0;31m:\u001b[0m Missing parentheses in call to 'print'. Did you mean print(df.columns)?\n"
     ]
    }
   ],
   "source": [
    "output = []\n",
    "for idx, row in latencyData[latencyData.duration != '\\N'].sort_values('duration').groupby(['agents', 'protocols']):\n",
    "    durations = row.duration.astype(np.int)\n",
    "    df = pd.DataFrame({\n",
    "            'duration': np.random.choice(durations, 2000, p=row.freq/row.freq.sum()),\n",
    "            'key': \"{}/{}\".format(row.agents.values[0], row.protocols.values[0]),\n",
    "            'agents': row.agents.values[0],\n",
    "            'protocols': row.protocols.values[0]\n",
    "        })\n",
    "    output.append(df)\n",
    "df = pd.concat(output, axis=0)\n",
    "df = df[~df.duration.isnull()].copy()\n",
    "print df.columns\n",
    "print df.shape\n",
    "df.sample(4)"
   ]
  },
  {
   "cell_type": "code",
   "execution_count": 15,
   "metadata": {
    "collapsed": false
   },
   "outputs": [
    {
     "ename": "NameError",
     "evalue": "name 'df' is not defined",
     "output_type": "error",
     "traceback": [
      "\u001b[0;31m---------------------------------------------------------------------------\u001b[0m",
      "\u001b[0;31mNameError\u001b[0m                                 Traceback (most recent call last)",
      "\u001b[0;32m<ipython-input-15-e9255348fe49>\u001b[0m in \u001b[0;36m<module>\u001b[0;34m\u001b[0m\n\u001b[1;32m      4\u001b[0m     \u001b[0;34m+\u001b[0m \u001b[0mxlim\u001b[0m\u001b[0;34m(\u001b[0m\u001b[0;36m0\u001b[0m\u001b[0;34m,\u001b[0m \u001b[0;36m20\u001b[0m\u001b[0;34m)\u001b[0m\u001b[0;34m\u001b[0m\u001b[0;34m\u001b[0m\u001b[0m\n\u001b[1;32m      5\u001b[0m     \u001b[0;34m+\u001b[0m \u001b[0mtheme_minimal\u001b[0m\u001b[0;34m(\u001b[0m\u001b[0;34m)\u001b[0m\u001b[0;34m\u001b[0m\u001b[0;34m\u001b[0m\u001b[0m\n\u001b[0;32m----> 6\u001b[0;31m     \u001b[0;34m+\u001b[0m \u001b[0mtheme\u001b[0m\u001b[0;34m(\u001b[0m\u001b[0mfigure_size\u001b[0m\u001b[0;34m=\u001b[0m\u001b[0;34m(\u001b[0m\u001b[0;36m10\u001b[0m\u001b[0;34m,\u001b[0m \u001b[0;36m7\u001b[0m\u001b[0;34m)\u001b[0m\u001b[0;34m)\u001b[0m\u001b[0;34m\u001b[0m\u001b[0;34m\u001b[0m\u001b[0m\n\u001b[0m\u001b[1;32m      7\u001b[0m )\n",
      "\u001b[0;31mNameError\u001b[0m: name 'df' is not defined"
     ]
    }
   ],
   "source": [
    "(\n",
    "    ggplot(df[~df.protocols.str.contains('http/1.1')], aes(\"duration\"))\n",
    "    + geom_density(aes(colour='key'))\n",
    "    + xlim(0, 20)\n",
    "    + theme_minimal()\n",
    "    + theme(figure_size=(10, 7))\n",
    ")"
   ]
  },
  {
   "cell_type": "code",
   "execution_count": 16,
   "metadata": {
    "collapsed": false
   },
   "outputs": [
    {
     "name": "stderr",
     "output_type": "stream",
     "text": [
      "UsageError: Cell magic `%%presto` not found.\n"
     ]
    }
   ],
   "source": [
    "%%presto --variable latencyData --email ragrawal@uber.com --cache --use-cache --large-data\n",
    "\n",
    "SELECT \n",
    "    agents\n",
    "    , protocols\n",
    "    , APPROX_PERCENTILE(duration, ARRAY [0.1, 0.2, 0.3, 0.4, 0.5, 0.6, 0.7, 0.8, 0.9, 0.95, 0.99]) as latencies    \n",
    "FROM dsp.quic_latencies l\n",
    "JOIN dsp.quic r ON (r.session_id = l.session_id AND r.user_uuid = l.user_uuid)\n",
    "WHERE\n",
    "    city in ('sao_paulo', 'london', 'los_angeles', 'cairo', 'new_delhi')\n",
    "    AND os_type = 'android'\n",
    "    AND NOT is_admin_user \n",
    "    AND hosts = 'cfe'\n",
    "    AND agents in ('cronet', 'okhttp')\n",
    "GROUP BY agents, protocols"
   ]
  },
  {
   "cell_type": "code",
   "execution_count": 17,
   "metadata": {
    "collapsed": false
   },
   "outputs": [
    {
     "ename": "NameError",
     "evalue": "name 'latencyData' is not defined",
     "output_type": "error",
     "traceback": [
      "\u001b[0;31m---------------------------------------------------------------------------\u001b[0m",
      "\u001b[0;31mNameError\u001b[0m                                 Traceback (most recent call last)",
      "\u001b[0;32m<ipython-input-17-c9194efbd58d>\u001b[0m in \u001b[0;36m<module>\u001b[0;34m\u001b[0m\n\u001b[1;32m      2\u001b[0m \u001b[0mD\u001b[0m \u001b[0;34m=\u001b[0m \u001b[0;34m[\u001b[0m\u001b[0;36m0.1\u001b[0m\u001b[0;34m,\u001b[0m \u001b[0;36m0.2\u001b[0m\u001b[0;34m,\u001b[0m \u001b[0;36m0.3\u001b[0m\u001b[0;34m,\u001b[0m \u001b[0;36m0.4\u001b[0m\u001b[0;34m,\u001b[0m \u001b[0;36m0.5\u001b[0m\u001b[0;34m,\u001b[0m \u001b[0;36m0.6\u001b[0m\u001b[0;34m,\u001b[0m \u001b[0;36m0.7\u001b[0m\u001b[0;34m,\u001b[0m \u001b[0;36m0.8\u001b[0m\u001b[0;34m,\u001b[0m \u001b[0;36m0.9\u001b[0m\u001b[0;34m,\u001b[0m \u001b[0;36m0.95\u001b[0m\u001b[0;34m,\u001b[0m \u001b[0;36m0.99\u001b[0m\u001b[0;34m]\u001b[0m\u001b[0;34m\u001b[0m\u001b[0;34m\u001b[0m\u001b[0m\n\u001b[1;32m      3\u001b[0m df = (\n\u001b[0;32m----> 4\u001b[0;31m     \u001b[0mlatencyData\u001b[0m\u001b[0;34m\u001b[0m\u001b[0;34m\u001b[0m\u001b[0m\n\u001b[0m\u001b[1;32m      5\u001b[0m     \u001b[0;34m.\u001b[0m\u001b[0mset_index\u001b[0m\u001b[0;34m(\u001b[0m\u001b[0mkeys\u001b[0m\u001b[0;34m)\u001b[0m\u001b[0;34m\u001b[0m\u001b[0;34m\u001b[0m\u001b[0m\n\u001b[1;32m      6\u001b[0m     \u001b[0;34m.\u001b[0m\u001b[0mapply\u001b[0m\u001b[0;34m(\u001b[0m\u001b[0;32mlambda\u001b[0m \u001b[0mx\u001b[0m\u001b[0;34m:\u001b[0m \u001b[0mpd\u001b[0m\u001b[0;34m.\u001b[0m\u001b[0mSeries\u001b[0m\u001b[0;34m(\u001b[0m\u001b[0mdict\u001b[0m\u001b[0;34m(\u001b[0m\u001b[0mzip\u001b[0m\u001b[0;34m(\u001b[0m\u001b[0mD\u001b[0m\u001b[0;34m,\u001b[0m \u001b[0meval\u001b[0m\u001b[0;34m(\u001b[0m\u001b[0mx\u001b[0m\u001b[0;34m.\u001b[0m\u001b[0mlatencies\u001b[0m\u001b[0;34m)\u001b[0m\u001b[0;34m)\u001b[0m\u001b[0;34m)\u001b[0m\u001b[0;34m)\u001b[0m\u001b[0;34m,\u001b[0m \u001b[0maxis\u001b[0m\u001b[0;34m=\u001b[0m\u001b[0;36m1\u001b[0m\u001b[0;34m)\u001b[0m\u001b[0;34m\u001b[0m\u001b[0;34m\u001b[0m\u001b[0m\n",
      "\u001b[0;31mNameError\u001b[0m: name 'latencyData' is not defined"
     ]
    }
   ],
   "source": [
    "keys = ['agents', 'protocols']\n",
    "D = [0.1, 0.2, 0.3, 0.4, 0.5, 0.6, 0.7, 0.8, 0.9, 0.95, 0.99]\n",
    "df = (\n",
    "    latencyData\n",
    "    .set_index(keys)\n",
    "    .apply(lambda x: pd.Series(dict(zip(D, eval(x.latencies)))), axis=1)\n",
    "    .reset_index()\n",
    "    .melt(id_vars=keys, value_vars=D,                                                                       value_name='latency', var_name='latencyBucket')\n",
    "    .reset_index()\n",
    ")\n",
    "df['key'] = df.apply(lambda x: \"{}/{}\".format(x.agents, x.protocols), axis=1)\n",
    "df = df[~df.key.str.contains('http/1.1')].copy()"
   ]
  },
  {
   "cell_type": "code",
   "execution_count": 18,
   "metadata": {
    "collapsed": false
   },
   "outputs": [
    {
     "ename": "NameError",
     "evalue": "name 'df' is not defined",
     "output_type": "error",
     "traceback": [
      "\u001b[0;31m---------------------------------------------------------------------------\u001b[0m",
      "\u001b[0;31mNameError\u001b[0m                                 Traceback (most recent call last)",
      "\u001b[0;32m<ipython-input-18-ac1936233963>\u001b[0m in \u001b[0;36m<module>\u001b[0;34m\u001b[0m\n\u001b[0;32m----> 1\u001b[0;31m \u001b[0mdf\u001b[0m\u001b[0;34m[\u001b[0m\u001b[0;34m'Percentiles'\u001b[0m\u001b[0;34m]\u001b[0m \u001b[0;34m=\u001b[0m \u001b[0mdf\u001b[0m\u001b[0;34m.\u001b[0m\u001b[0mlatencyBucket\u001b[0m\u001b[0;34m.\u001b[0m\u001b[0mapply\u001b[0m\u001b[0;34m(\u001b[0m\u001b[0;32mlambda\u001b[0m \u001b[0mx\u001b[0m\u001b[0;34m:\u001b[0m \u001b[0;34m'P{}'\u001b[0m\u001b[0;34m.\u001b[0m\u001b[0mformat\u001b[0m\u001b[0;34m(\u001b[0m\u001b[0mint\u001b[0m\u001b[0;34m(\u001b[0m\u001b[0mx\u001b[0m \u001b[0;34m*\u001b[0m \u001b[0;36m100\u001b[0m\u001b[0;34m)\u001b[0m\u001b[0;34m)\u001b[0m\u001b[0;34m)\u001b[0m\u001b[0;34m\u001b[0m\u001b[0;34m\u001b[0m\u001b[0m\n\u001b[0m",
      "\u001b[0;31mNameError\u001b[0m: name 'df' is not defined"
     ]
    }
   ],
   "source": [
    "df['Percentiles'] = df.latencyBucket.apply(lambda x: 'P{}'.format(int(x * 100)))"
   ]
  },
  {
   "cell_type": "code",
   "execution_count": 19,
   "metadata": {
    "collapsed": false
   },
   "outputs": [
    {
     "ename": "NameError",
     "evalue": "name 'df' is not defined",
     "output_type": "error",
     "traceback": [
      "\u001b[0;31m---------------------------------------------------------------------------\u001b[0m",
      "\u001b[0;31mNameError\u001b[0m                                 Traceback (most recent call last)",
      "\u001b[0;32m<ipython-input-19-bd2d4d097527>\u001b[0m in \u001b[0;36m<module>\u001b[0;34m\u001b[0m\n\u001b[1;32m      4\u001b[0m \u001b[0;34m\u001b[0m\u001b[0m\n\u001b[1;32m      5\u001b[0m (\n\u001b[0;32m----> 6\u001b[0;31m     \u001b[0mdf\u001b[0m\u001b[0;34m\u001b[0m\u001b[0;34m\u001b[0m\u001b[0m\n\u001b[0m\u001b[1;32m      7\u001b[0m     \u001b[0;34m.\u001b[0m\u001b[0mpivot\u001b[0m\u001b[0;34m(\u001b[0m\u001b[0mindex\u001b[0m\u001b[0;34m=\u001b[0m\u001b[0;34m'key'\u001b[0m\u001b[0;34m,\u001b[0m \u001b[0mcolumns\u001b[0m\u001b[0;34m=\u001b[0m\u001b[0;34m'Percentiles'\u001b[0m\u001b[0;34m,\u001b[0m \u001b[0mvalues\u001b[0m\u001b[0;34m=\u001b[0m\u001b[0;34m'latency'\u001b[0m\u001b[0;34m)\u001b[0m\u001b[0;34m\u001b[0m\u001b[0;34m\u001b[0m\u001b[0m\n\u001b[1;32m      8\u001b[0m     \u001b[0;34m.\u001b[0m\u001b[0mstyle\u001b[0m\u001b[0;34m\u001b[0m\u001b[0;34m\u001b[0m\u001b[0m\n",
      "\u001b[0;31mNameError\u001b[0m: name 'df' is not defined"
     ]
    }
   ],
   "source": [
    "import seaborn as sns\n",
    "\n",
    "cm = sns.light_palette(\"green\", as_cmap=True)\n",
    "\n",
    "(\n",
    "    df\n",
    "    .pivot(index='key', columns='Percentiles', values='latency')\n",
    "    .style\n",
    "    .background_gradient(cmap=cm, axis='rows')\n",
    ")"
   ]
  },
  {
   "cell_type": "markdown",
   "metadata": {},
   "source": [
    "## Investiage H2|Quic"
   ]
  },
  {
   "cell_type": "markdown",
   "metadata": {},
   "source": [
    "### Compute how often users transitions from One Protocol to Another"
   ]
  },
  {
   "cell_type": "code",
   "execution_count": 20,
   "metadata": {
    "collapsed": false
   },
   "outputs": [
    {
     "name": "stderr",
     "output_type": "stream",
     "text": [
      "UsageError: Cell magic `%%presto` not found.\n"
     ]
    }
   ],
   "source": [
    "%%presto --variable transitionsDF --email ragrawal@uber.com --cache --use-cache --large-data\n",
    "\n",
    "SELECT \n",
    "    device_id,\n",
    "    ARRAY_JOIN(ARRAY_AGG(protocol ORDER BY session_start_time_ms), '|') as protocols\n",
    "FROM \n",
    "(\n",
    "    select \n",
    "        device_id,\n",
    "        session_start_time_ms,\n",
    "        CASE \n",
    "            WHEN protocols = 'h2' THEN 'A'\n",
    "            WHEN protocols = 'h2|quic' THEN 'B'\n",
    "            WHEN protocols = 'quic' THEN 'C'\n",
    "            ELSE 'D'\n",
    "        END as protocol\n",
    "    from dsp.quic \n",
    "    where \n",
    "        city in ('sao_paulo', 'london', 'los_angeles', 'cairo', 'new_delhi')\n",
    "        AND os_type = 'android'\n",
    "        AND NOT is_admin_user \n",
    "        AND hosts = 'cfe'\n",
    "        AND agents = 'cronet'\n",
    "        AND protocols in ('quic', 'h2', 'h2|quic')\n",
    "        AND agents in ('cronet', 'okhttp')\n",
    ") A \n",
    "GROUP BY device_id\n"
   ]
  },
  {
   "cell_type": "code",
   "execution_count": 21,
   "metadata": {
    "collapsed": false
   },
   "outputs": [
    {
     "ename": "NameError",
     "evalue": "name 'transitionsDF' is not defined",
     "output_type": "error",
     "traceback": [
      "\u001b[0;31m---------------------------------------------------------------------------\u001b[0m",
      "\u001b[0;31mNameError\u001b[0m                                 Traceback (most recent call last)",
      "\u001b[0;32m<ipython-input-21-a98c1371a7c6>\u001b[0m in \u001b[0;36m<module>\u001b[0;34m\u001b[0m\n\u001b[0;32m----> 1\u001b[0;31m \u001b[0mtransitionsDF\u001b[0m\u001b[0;34m[\u001b[0m\u001b[0;34m'states'\u001b[0m\u001b[0;34m]\u001b[0m\u001b[0;34m=\u001b[0m \u001b[0mtransitionsDF\u001b[0m\u001b[0;34m.\u001b[0m\u001b[0mprotocols\u001b[0m\u001b[0;34m.\u001b[0m\u001b[0mapply\u001b[0m\u001b[0;34m(\u001b[0m\u001b[0;32mlambda\u001b[0m \u001b[0mx\u001b[0m\u001b[0;34m:\u001b[0m \u001b[0mx\u001b[0m\u001b[0;34m.\u001b[0m\u001b[0msplit\u001b[0m\u001b[0;34m(\u001b[0m\u001b[0;34m'|'\u001b[0m\u001b[0;34m)\u001b[0m\u001b[0;34m)\u001b[0m\u001b[0;34m\u001b[0m\u001b[0;34m\u001b[0m\u001b[0m\n\u001b[0m\u001b[1;32m      2\u001b[0m \u001b[0mtransitionsDF\u001b[0m\u001b[0;34m[\u001b[0m\u001b[0;34m'session_cnt'\u001b[0m\u001b[0;34m]\u001b[0m \u001b[0;34m=\u001b[0m \u001b[0mtransitionsDF\u001b[0m\u001b[0;34m.\u001b[0m\u001b[0mstates\u001b[0m\u001b[0;34m.\u001b[0m\u001b[0mapply\u001b[0m\u001b[0;34m(\u001b[0m\u001b[0;32mlambda\u001b[0m \u001b[0mx\u001b[0m\u001b[0;34m:\u001b[0m \u001b[0mlen\u001b[0m\u001b[0;34m(\u001b[0m\u001b[0mx\u001b[0m\u001b[0;34m)\u001b[0m\u001b[0;34m)\u001b[0m\u001b[0;34m\u001b[0m\u001b[0;34m\u001b[0m\u001b[0m\n\u001b[1;32m      3\u001b[0m \u001b[0mtransitionsDF\u001b[0m\u001b[0;34m[\u001b[0m\u001b[0;34m'transitions'\u001b[0m\u001b[0;34m]\u001b[0m \u001b[0;34m=\u001b[0m \u001b[0mtransitionsDF\u001b[0m\u001b[0;34m.\u001b[0m\u001b[0mstates\u001b[0m\u001b[0;34m.\u001b[0m\u001b[0mapply\u001b[0m\u001b[0;34m(\u001b[0m\u001b[0;32mlambda\u001b[0m \u001b[0mx\u001b[0m\u001b[0;34m:\u001b[0m \u001b[0mnp\u001b[0m\u001b[0;34m.\u001b[0m\u001b[0msum\u001b[0m\u001b[0;34m(\u001b[0m\u001b[0;34m[\u001b[0m \u001b[0mx\u001b[0m\u001b[0;34m[\u001b[0m\u001b[0midx\u001b[0m\u001b[0;34m]\u001b[0m \u001b[0;34m!=\u001b[0m \u001b[0ms\u001b[0m \u001b[0;32mfor\u001b[0m \u001b[0midx\u001b[0m\u001b[0;34m,\u001b[0m \u001b[0ms\u001b[0m \u001b[0;32min\u001b[0m \u001b[0menumerate\u001b[0m\u001b[0;34m(\u001b[0m\u001b[0mx\u001b[0m\u001b[0;34m[\u001b[0m\u001b[0;36m1\u001b[0m\u001b[0;34m:\u001b[0m\u001b[0;34m]\u001b[0m\u001b[0;34m)\u001b[0m\u001b[0;34m]\u001b[0m\u001b[0;34m)\u001b[0m\u001b[0;34m)\u001b[0m\u001b[0;34m\u001b[0m\u001b[0;34m\u001b[0m\u001b[0m\n\u001b[1;32m      4\u001b[0m \u001b[0mtransitionsDF\u001b[0m\u001b[0;34m.\u001b[0m\u001b[0mdescribe\u001b[0m\u001b[0;34m(\u001b[0m\u001b[0;34m)\u001b[0m\u001b[0;34m\u001b[0m\u001b[0;34m\u001b[0m\u001b[0m\n",
      "\u001b[0;31mNameError\u001b[0m: name 'transitionsDF' is not defined"
     ]
    }
   ],
   "source": [
    "transitionsDF['states']= transitionsDF.protocols.apply(lambda x: x.split('|'))\n",
    "transitionsDF['session_cnt'] = transitionsDF.states.apply(lambda x: len(x))\n",
    "transitionsDF['transitions'] = transitionsDF.states.apply(lambda x: np.sum([ x[idx] != s for idx, s in enumerate(x[1:])]))\n",
    "transitionsDF.describe()"
   ]
  },
  {
   "cell_type": "code",
   "execution_count": 22,
   "metadata": {
    "collapsed": false
   },
   "outputs": [
    {
     "ename": "NameError",
     "evalue": "name 'transitionsDF' is not defined",
     "output_type": "error",
     "traceback": [
      "\u001b[0;31m---------------------------------------------------------------------------\u001b[0m",
      "\u001b[0;31mNameError\u001b[0m                                 Traceback (most recent call last)",
      "\u001b[0;32m<ipython-input-22-d80a1f6d256f>\u001b[0m in \u001b[0;36m<module>\u001b[0;34m\u001b[0m\n\u001b[0;32m----> 1\u001b[0;31m \u001b[0mdf\u001b[0m \u001b[0;34m=\u001b[0m \u001b[0mtransitionsDF\u001b[0m\u001b[0;34m.\u001b[0m\u001b[0mgroupby\u001b[0m\u001b[0;34m(\u001b[0m\u001b[0;34m'session_cnt'\u001b[0m\u001b[0;34m)\u001b[0m\u001b[0;34m.\u001b[0m\u001b[0magg\u001b[0m\u001b[0;34m(\u001b[0m\u001b[0;34m{\u001b[0m\u001b[0;34m'transitions'\u001b[0m\u001b[0;34m:\u001b[0m \u001b[0;34m'median'\u001b[0m\u001b[0;34m,\u001b[0m \u001b[0;34m'device_id'\u001b[0m\u001b[0;34m:\u001b[0m \u001b[0;34m'count'\u001b[0m\u001b[0;34m}\u001b[0m\u001b[0;34m)\u001b[0m\u001b[0;34m.\u001b[0m\u001b[0mreset_index\u001b[0m\u001b[0;34m(\u001b[0m\u001b[0;34m)\u001b[0m\u001b[0;34m\u001b[0m\u001b[0;34m\u001b[0m\u001b[0m\n\u001b[0m\u001b[1;32m      2\u001b[0m (\n\u001b[1;32m      3\u001b[0m     \u001b[0mggplot\u001b[0m\u001b[0;34m(\u001b[0m\u001b[0mdf\u001b[0m\u001b[0;34m[\u001b[0m\u001b[0mdf\u001b[0m\u001b[0;34m.\u001b[0m\u001b[0mdevice_id\u001b[0m \u001b[0;34m>\u001b[0m \u001b[0;36m10\u001b[0m\u001b[0;34m]\u001b[0m\u001b[0;34m,\u001b[0m \u001b[0maes\u001b[0m\u001b[0;34m(\u001b[0m\u001b[0mx\u001b[0m\u001b[0;34m=\u001b[0m\u001b[0;34m'session_cnt'\u001b[0m\u001b[0;34m,\u001b[0m \u001b[0my\u001b[0m\u001b[0;34m=\u001b[0m\u001b[0;34m'transitions'\u001b[0m\u001b[0;34m)\u001b[0m\u001b[0;34m)\u001b[0m\u001b[0;34m\u001b[0m\u001b[0;34m\u001b[0m\u001b[0m\n\u001b[1;32m      4\u001b[0m \u001b[0;31m#     + geom_line(aes(group=1), alpha=0.5)\u001b[0m\u001b[0;34m\u001b[0m\u001b[0;34m\u001b[0m\u001b[0;34m\u001b[0m\u001b[0m\n\u001b[1;32m      5\u001b[0m     \u001b[0;34m+\u001b[0m \u001b[0mgeom_point\u001b[0m\u001b[0;34m(\u001b[0m\u001b[0;34m)\u001b[0m\u001b[0;34m\u001b[0m\u001b[0;34m\u001b[0m\u001b[0m\n",
      "\u001b[0;31mNameError\u001b[0m: name 'transitionsDF' is not defined"
     ]
    }
   ],
   "source": [
    "df = transitionsDF.groupby('session_cnt').agg({'transitions': 'median', 'device_id': 'count'}).reset_index()\n",
    "(\n",
    "    ggplot(df[df.device_id > 10], aes(x='session_cnt', y='transitions'))\n",
    "#     + geom_line(aes(group=1), alpha=0.5)\n",
    "    + geom_point()\n",
    "    + geom_smooth(aes(group=1), linetype='dashed', size=2, colour='grey')\n",
    "    + xlab(\"Number of Sessions Per Device\")\n",
    "    + ylab(\"Median Number of Protocol State Changes\")\n",
    "    + theme_minimal()\n",
    "    + theme(figure_size=(20, 10))\n",
    ")"
   ]
  },
  {
   "cell_type": "markdown",
   "metadata": {},
   "source": [
    "### Compare Session Lengths \n",
    "\n",
    "Longer sessions have more chances of transitions and also increases chances of recording completed. \n"
   ]
  },
  {
   "cell_type": "code",
   "execution_count": 23,
   "metadata": {
    "collapsed": false
   },
   "outputs": [
    {
     "name": "stderr",
     "output_type": "stream",
     "text": [
      "UsageError: Cell magic `%%presto` not found.\n"
     ]
    }
   ],
   "source": [
    "%%presto --variable latencyData --email ragrawal@uber.com --cache --use-cache --large-data\n",
    "\n",
    "SELECT \n",
    "    agents, \n",
    "    protocols, \n",
    "    city,\n",
    "    client_session_duration_ms as client_ms,\n",
    "    server_session_duration_ms as server_ms\n",
    "FROM dsp.quic t\n",
    "WHERE \n",
    "    city in ('sao_paulo', 'london', 'los_angeles', 'cairo', 'new_delhi')\n",
    "    AND os_type = 'android'\n",
    "    AND NOT is_admin_user \n",
    "    AND hosts = 'cfe'\n",
    "    AND agents in ('cronet', 'okhttp')"
   ]
  },
  {
   "cell_type": "code",
   "execution_count": 24,
   "metadata": {
    "collapsed": true
   },
   "outputs": [
    {
     "ename": "NameError",
     "evalue": "name 'latencyData' is not defined",
     "output_type": "error",
     "traceback": [
      "\u001b[0;31m---------------------------------------------------------------------------\u001b[0m",
      "\u001b[0;31mNameError\u001b[0m                                 Traceback (most recent call last)",
      "\u001b[0;32m<ipython-input-24-af0035948c15>\u001b[0m in \u001b[0;36m<module>\u001b[0;34m\u001b[0m\n\u001b[0;32m----> 1\u001b[0;31m \u001b[0mlatencyData\u001b[0m\u001b[0;34m[\u001b[0m\u001b[0;34m'key'\u001b[0m\u001b[0;34m]\u001b[0m \u001b[0;34m=\u001b[0m \u001b[0mlatencyData\u001b[0m\u001b[0;34m.\u001b[0m\u001b[0mapply\u001b[0m\u001b[0;34m(\u001b[0m\u001b[0;32mlambda\u001b[0m \u001b[0mx\u001b[0m\u001b[0;34m:\u001b[0m \u001b[0;34m\"{}/{}\"\u001b[0m\u001b[0;34m.\u001b[0m\u001b[0mformat\u001b[0m\u001b[0;34m(\u001b[0m\u001b[0mx\u001b[0m\u001b[0;34m.\u001b[0m\u001b[0magents\u001b[0m\u001b[0;34m,\u001b[0m \u001b[0mx\u001b[0m\u001b[0;34m.\u001b[0m\u001b[0mprotocols\u001b[0m\u001b[0;34m)\u001b[0m\u001b[0;34m,\u001b[0m \u001b[0maxis\u001b[0m\u001b[0;34m=\u001b[0m\u001b[0;36m1\u001b[0m\u001b[0;34m)\u001b[0m\u001b[0;34m\u001b[0m\u001b[0;34m\u001b[0m\u001b[0m\n\u001b[0m\u001b[1;32m      2\u001b[0m \u001b[0mdf\u001b[0m \u001b[0;34m=\u001b[0m \u001b[0mlatencyData\u001b[0m\u001b[0;34m[\u001b[0m\u001b[0mlatencyData\u001b[0m\u001b[0;34m.\u001b[0m\u001b[0mkey\u001b[0m\u001b[0;34m.\u001b[0m\u001b[0misin\u001b[0m\u001b[0;34m(\u001b[0m\u001b[0;34m[\u001b[0m\u001b[0;34m'cronet/h2'\u001b[0m\u001b[0;34m,\u001b[0m \u001b[0;34m'cronet/h2|quic'\u001b[0m\u001b[0;34m,\u001b[0m \u001b[0;34m'cronet/quic'\u001b[0m\u001b[0;34m,\u001b[0m \u001b[0;34m'okhttp/h2'\u001b[0m\u001b[0;34m]\u001b[0m\u001b[0;34m)\u001b[0m\u001b[0;34m]\u001b[0m\u001b[0;34m.\u001b[0m\u001b[0mcopy\u001b[0m\u001b[0;34m(\u001b[0m\u001b[0;34m)\u001b[0m\u001b[0;34m\u001b[0m\u001b[0;34m\u001b[0m\u001b[0m\n",
      "\u001b[0;31mNameError\u001b[0m: name 'latencyData' is not defined"
     ]
    }
   ],
   "source": [
    "latencyData['key'] = latencyData.apply(lambda x: \"{}/{}\".format(x.agents, x.protocols), axis=1)\n",
    "df = latencyData[latencyData.key.isin(['cronet/h2', 'cronet/h2|quic', 'cronet/quic', 'okhttp/h2'])].copy()"
   ]
  },
  {
   "cell_type": "code",
   "execution_count": 25,
   "metadata": {
    "collapsed": false
   },
   "outputs": [
    {
     "ename": "NameError",
     "evalue": "name 'df' is not defined",
     "output_type": "error",
     "traceback": [
      "\u001b[0;31m---------------------------------------------------------------------------\u001b[0m",
      "\u001b[0;31mNameError\u001b[0m                                 Traceback (most recent call last)",
      "\u001b[0;32m<ipython-input-25-6c2ddd3f7809>\u001b[0m in \u001b[0;36m<module>\u001b[0;34m\u001b[0m\n\u001b[0;32m----> 1\u001b[0;31m \u001b[0mdf2\u001b[0m \u001b[0;34m=\u001b[0m \u001b[0mdf\u001b[0m\u001b[0;34m.\u001b[0m\u001b[0mgroupby\u001b[0m\u001b[0;34m(\u001b[0m\u001b[0;34m'key'\u001b[0m\u001b[0;34m)\u001b[0m\u001b[0;34m.\u001b[0m\u001b[0magg\u001b[0m\u001b[0;34m(\u001b[0m\u001b[0;34m{\u001b[0m\u001b[0;34m'client_ms'\u001b[0m\u001b[0;34m:\u001b[0m \u001b[0;34m'mean'\u001b[0m\u001b[0;34m,\u001b[0m \u001b[0;34m'server_ms'\u001b[0m\u001b[0;34m:\u001b[0m \u001b[0;34m'mean'\u001b[0m\u001b[0;34m}\u001b[0m\u001b[0;34m)\u001b[0m\u001b[0;34m.\u001b[0m\u001b[0mreset_index\u001b[0m\u001b[0;34m(\u001b[0m\u001b[0;34m)\u001b[0m\u001b[0;34m\u001b[0m\u001b[0;34m\u001b[0m\u001b[0m\n\u001b[0m",
      "\u001b[0;31mNameError\u001b[0m: name 'df' is not defined"
     ]
    }
   ],
   "source": [
    "df2 = df.groupby('key').agg({'client_ms': 'mean', 'server_ms': 'mean'}).reset_index()"
   ]
  },
  {
   "cell_type": "code",
   "execution_count": 26,
   "metadata": {
    "collapsed": false
   },
   "outputs": [
    {
     "ename": "NameError",
     "evalue": "name 'df2' is not defined",
     "output_type": "error",
     "traceback": [
      "\u001b[0;31m---------------------------------------------------------------------------\u001b[0m",
      "\u001b[0;31mNameError\u001b[0m                                 Traceback (most recent call last)",
      "\u001b[0;32m<ipython-input-26-03a0b95b6b84>\u001b[0m in \u001b[0;36m<module>\u001b[0;34m\u001b[0m\n\u001b[0;32m----> 1\u001b[0;31m \u001b[0mdf3\u001b[0m \u001b[0;34m=\u001b[0m \u001b[0mdf2\u001b[0m\u001b[0;34m.\u001b[0m\u001b[0mmelt\u001b[0m\u001b[0;34m(\u001b[0m\u001b[0mid_vars\u001b[0m\u001b[0;34m=\u001b[0m\u001b[0;34m'key'\u001b[0m\u001b[0;34m,\u001b[0m \u001b[0mvalue_vars\u001b[0m\u001b[0;34m=\u001b[0m\u001b[0;34m[\u001b[0m\u001b[0;34m'client_ms'\u001b[0m\u001b[0;34m,\u001b[0m \u001b[0;34m'server_ms'\u001b[0m\u001b[0;34m]\u001b[0m\u001b[0;34m)\u001b[0m\u001b[0;34m\u001b[0m\u001b[0;34m\u001b[0m\u001b[0m\n\u001b[0m",
      "\u001b[0;31mNameError\u001b[0m: name 'df2' is not defined"
     ]
    }
   ],
   "source": [
    "df3 = df2.melt(id_vars='key', value_vars=['client_ms', 'server_ms'])"
   ]
  },
  {
   "cell_type": "code",
   "execution_count": 27,
   "metadata": {
    "collapsed": false
   },
   "outputs": [
    {
     "ename": "NameError",
     "evalue": "name 'df3' is not defined",
     "output_type": "error",
     "traceback": [
      "\u001b[0;31m---------------------------------------------------------------------------\u001b[0m",
      "\u001b[0;31mNameError\u001b[0m                                 Traceback (most recent call last)",
      "\u001b[0;32m<ipython-input-27-3357e37d2add>\u001b[0m in \u001b[0;36m<module>\u001b[0;34m\u001b[0m\n\u001b[0;32m----> 1\u001b[0;31m \u001b[0mdf3\u001b[0m\u001b[0;34m\u001b[0m\u001b[0;34m\u001b[0m\u001b[0m\n\u001b[0m",
      "\u001b[0;31mNameError\u001b[0m: name 'df3' is not defined"
     ]
    }
   ],
   "source": [
    "df3"
   ]
  },
  {
   "cell_type": "code",
   "execution_count": 28,
   "metadata": {
    "collapsed": false
   },
   "outputs": [
    {
     "ename": "NameError",
     "evalue": "name 'df3' is not defined",
     "output_type": "error",
     "traceback": [
      "\u001b[0;31m---------------------------------------------------------------------------\u001b[0m",
      "\u001b[0;31mNameError\u001b[0m                                 Traceback (most recent call last)",
      "\u001b[0;32m<ipython-input-28-01a4bc35fcb4>\u001b[0m in \u001b[0;36m<module>\u001b[0;34m\u001b[0m\n\u001b[1;32m      4\u001b[0m     \u001b[0;34m+\u001b[0m \u001b[0mfacet_wrap\u001b[0m\u001b[0;34m(\u001b[0m\u001b[0;34m\"~variable\"\u001b[0m\u001b[0;34m,\u001b[0m \u001b[0mscales\u001b[0m\u001b[0;34m=\u001b[0m\u001b[0;34m'free'\u001b[0m\u001b[0;34m)\u001b[0m\u001b[0;34m\u001b[0m\u001b[0;34m\u001b[0m\u001b[0m\n\u001b[1;32m      5\u001b[0m     \u001b[0;34m+\u001b[0m \u001b[0mtheme_matplotlib\u001b[0m\u001b[0;34m(\u001b[0m\u001b[0;34m)\u001b[0m\u001b[0;34m\u001b[0m\u001b[0;34m\u001b[0m\u001b[0m\n\u001b[0;32m----> 6\u001b[0;31m     \u001b[0;34m+\u001b[0m \u001b[0mtheme\u001b[0m\u001b[0;34m(\u001b[0m\u001b[0maxis_text_x\u001b[0m\u001b[0;34m=\u001b[0m\u001b[0melement_text\u001b[0m\u001b[0;34m(\u001b[0m\u001b[0mrotation\u001b[0m\u001b[0;34m=\u001b[0m\u001b[0;36m45\u001b[0m\u001b[0;34m,\u001b[0m \u001b[0mhjust\u001b[0m\u001b[0;34m=\u001b[0m\u001b[0;36m1\u001b[0m\u001b[0;34m)\u001b[0m\u001b[0;34m,\u001b[0m \u001b[0mfigure_size\u001b[0m\u001b[0;34m=\u001b[0m\u001b[0;34m(\u001b[0m\u001b[0;36m10\u001b[0m\u001b[0;34m,\u001b[0m \u001b[0;36m6\u001b[0m\u001b[0;34m)\u001b[0m\u001b[0;34m)\u001b[0m\u001b[0;34m\u001b[0m\u001b[0;34m\u001b[0m\u001b[0m\n\u001b[0m\u001b[1;32m      7\u001b[0m \u001b[0;34m\u001b[0m\u001b[0m\n\u001b[1;32m      8\u001b[0m )\n",
      "\u001b[0;31mNameError\u001b[0m: name 'df3' is not defined"
     ]
    }
   ],
   "source": [
    "(\n",
    "    ggplot(df3, aes(x='key', y='value'))\n",
    "    + geom_bar(aes(fill='key'), stat='identity', position='dodge')\n",
    "    + facet_wrap(\"~variable\", scales='free')\n",
    "    + theme_matplotlib()\n",
    "    + theme(axis_text_x=element_text(rotation=45, hjust=1), figure_size=(10, 6))\n",
    "\n",
    ")"
   ]
  },
  {
   "cell_type": "markdown",
   "metadata": {},
   "source": [
    "### Observe Trend of Sessions For Different Protocols"
   ]
  },
  {
   "cell_type": "code",
   "execution_count": 29,
   "metadata": {
    "collapsed": false
   },
   "outputs": [
    {
     "ename": "NameError",
     "evalue": "name 'androidExpCities' is not defined",
     "output_type": "error",
     "traceback": [
      "\u001b[0;31m---------------------------------------------------------------------------\u001b[0m",
      "\u001b[0;31mNameError\u001b[0m                                 Traceback (most recent call last)",
      "\u001b[0;32m<ipython-input-29-5be35c22cede>\u001b[0m in \u001b[0;36m<module>\u001b[0;34m\u001b[0m\n\u001b[1;32m      5\u001b[0m         })\n\u001b[1;32m      6\u001b[0m \u001b[0;34m\u001b[0m\u001b[0m\n\u001b[0;32m----> 7\u001b[0;31m \u001b[0mdf\u001b[0m \u001b[0;34m=\u001b[0m \u001b[0mandroidExpCities\u001b[0m\u001b[0;34m[\u001b[0m\u001b[0;34m(\u001b[0m\u001b[0mandroidExpCities\u001b[0m\u001b[0;34m.\u001b[0m\u001b[0magents\u001b[0m \u001b[0;34m==\u001b[0m \u001b[0;34m'cronet'\u001b[0m\u001b[0;34m)\u001b[0m \u001b[0;34m&\u001b[0m \u001b[0;34m(\u001b[0m\u001b[0mandroidExpCities\u001b[0m\u001b[0;34m.\u001b[0m\u001b[0mprotocols\u001b[0m\u001b[0;34m.\u001b[0m\u001b[0misin\u001b[0m\u001b[0;34m(\u001b[0m\u001b[0;34m[\u001b[0m\u001b[0;34m'h2'\u001b[0m\u001b[0;34m,\u001b[0m \u001b[0;34m'quic'\u001b[0m\u001b[0;34m,\u001b[0m \u001b[0;34m'h2|quic'\u001b[0m\u001b[0;34m]\u001b[0m\u001b[0;34m)\u001b[0m\u001b[0;34m)\u001b[0m\u001b[0;34m]\u001b[0m\u001b[0;34m.\u001b[0m\u001b[0mgroupby\u001b[0m\u001b[0;34m(\u001b[0m\u001b[0;34m[\u001b[0m\u001b[0;34m'hosts'\u001b[0m\u001b[0;34m,\u001b[0m \u001b[0;34m'agents'\u001b[0m\u001b[0;34m,\u001b[0m \u001b[0;34m'protocols'\u001b[0m\u001b[0;34m]\u001b[0m\u001b[0;34m)\u001b[0m\u001b[0;34m.\u001b[0m\u001b[0mapply\u001b[0m\u001b[0;34m(\u001b[0m\u001b[0mintentStats\u001b[0m\u001b[0;34m)\u001b[0m\u001b[0;34m.\u001b[0m\u001b[0mreset_index\u001b[0m\u001b[0;34m(\u001b[0m\u001b[0;34m)\u001b[0m\u001b[0;34m\u001b[0m\u001b[0;34m\u001b[0m\u001b[0m\n\u001b[0m\u001b[1;32m      8\u001b[0m \u001b[0mdf\u001b[0m\u001b[0;34m[\u001b[0m\u001b[0;34m'percentIntentful'\u001b[0m\u001b[0;34m]\u001b[0m \u001b[0;34m=\u001b[0m \u001b[0mdf\u001b[0m\u001b[0;34m.\u001b[0m\u001b[0mapply\u001b[0m\u001b[0;34m(\u001b[0m\u001b[0;32mlambda\u001b[0m \u001b[0mx\u001b[0m\u001b[0;34m:\u001b[0m \u001b[0mx\u001b[0m\u001b[0;34m.\u001b[0m\u001b[0mintentfulSessions\u001b[0m \u001b[0;34m*\u001b[0m \u001b[0;36m1.0\u001b[0m \u001b[0;34m/\u001b[0m \u001b[0mx\u001b[0m\u001b[0;34m.\u001b[0m\u001b[0mtotalSessions\u001b[0m\u001b[0;34m,\u001b[0m \u001b[0maxis\u001b[0m\u001b[0;34m=\u001b[0m\u001b[0;36m1\u001b[0m\u001b[0;34m)\u001b[0m\u001b[0;34m\u001b[0m\u001b[0;34m\u001b[0m\u001b[0m\n\u001b[1;32m      9\u001b[0m \u001b[0mdf\u001b[0m\u001b[0;34m.\u001b[0m\u001b[0mstyle\u001b[0m\u001b[0;34m.\u001b[0m\u001b[0mformat\u001b[0m\u001b[0;34m(\u001b[0m\u001b[0;34m{\u001b[0m\u001b[0;34m\"percentIntentful\"\u001b[0m\u001b[0;34m:\u001b[0m \u001b[0;34m\"{:.2%}\"\u001b[0m\u001b[0;34m,\u001b[0m \u001b[0;34m\"intentfulSessions\"\u001b[0m\u001b[0;34m:\u001b[0m \u001b[0;34m\"{:,}\"\u001b[0m\u001b[0;34m,\u001b[0m \u001b[0;34m\"totalSessions\"\u001b[0m\u001b[0;34m:\u001b[0m \u001b[0;34m\"{:,}\"\u001b[0m\u001b[0;34m}\u001b[0m\u001b[0;34m)\u001b[0m\u001b[0;34m\u001b[0m\u001b[0;34m\u001b[0m\u001b[0m\n",
      "\u001b[0;31mNameError\u001b[0m: name 'androidExpCities' is not defined"
     ]
    }
   ],
   "source": [
    "def intentStats(x):\n",
    "    return pd.Series({\n",
    "            'totalSessions': x.shape[0],\n",
    "            'intentfulSessions': x[x.is_intentful].shape[0]\n",
    "        })\n",
    "\n",
    "df = androidExpCities[(androidExpCities.agents == 'cronet') & (androidExpCities.protocols.isin(['h2', 'quic', 'h2|quic']))].groupby(['hosts', 'agents', 'protocols']).apply(intentStats).reset_index()\n",
    "df['percentIntentful'] = df.apply(lambda x: x.intentfulSessions * 1.0 / x.totalSessions, axis=1)\n",
    "df.style.format({\"percentIntentful\": \"{:.2%}\", \"intentfulSessions\": \"{:,}\", \"totalSessions\": \"{:,}\"})"
   ]
  },
  {
   "cell_type": "code",
   "execution_count": 30,
   "metadata": {
    "collapsed": false
   },
   "outputs": [
    {
     "ename": "NameError",
     "evalue": "name 'androidExpCities' is not defined",
     "output_type": "error",
     "traceback": [
      "\u001b[0;31m---------------------------------------------------------------------------\u001b[0m",
      "\u001b[0;31mNameError\u001b[0m                                 Traceback (most recent call last)",
      "\u001b[0;32m<ipython-input-30-d541da1d16e3>\u001b[0m in \u001b[0;36m<module>\u001b[0;34m\u001b[0m\n\u001b[0;32m----> 1\u001b[0;31m \u001b[0mdf\u001b[0m \u001b[0;34m=\u001b[0m \u001b[0mandroidExpCities\u001b[0m\u001b[0;34m[\u001b[0m\u001b[0;34m(\u001b[0m\u001b[0mandroidExpCities\u001b[0m\u001b[0;34m.\u001b[0m\u001b[0magents\u001b[0m \u001b[0;34m==\u001b[0m \u001b[0;34m'cronet'\u001b[0m\u001b[0;34m)\u001b[0m \u001b[0;34m&\u001b[0m \u001b[0;34m(\u001b[0m\u001b[0mandroidExpCities\u001b[0m\u001b[0;34m.\u001b[0m\u001b[0mprotocols\u001b[0m\u001b[0;34m.\u001b[0m\u001b[0misin\u001b[0m\u001b[0;34m(\u001b[0m\u001b[0;34m[\u001b[0m\u001b[0;34m'h2'\u001b[0m\u001b[0;34m,\u001b[0m \u001b[0;34m'quic'\u001b[0m\u001b[0;34m,\u001b[0m \u001b[0;34m'h2|quic'\u001b[0m\u001b[0;34m]\u001b[0m\u001b[0;34m)\u001b[0m\u001b[0;34m)\u001b[0m\u001b[0;34m]\u001b[0m\u001b[0;34m.\u001b[0m\u001b[0massign\u001b[0m\u001b[0;34m(\u001b[0m\u001b[0mkey\u001b[0m\u001b[0;34m=\u001b[0m\u001b[0;32mlambda\u001b[0m \u001b[0mx\u001b[0m\u001b[0;34m:\u001b[0m \u001b[0;34m\"{}/{}\"\u001b[0m\u001b[0;34m.\u001b[0m\u001b[0mformat\u001b[0m\u001b[0;34m(\u001b[0m\u001b[0mx\u001b[0m\u001b[0;34m.\u001b[0m\u001b[0magents\u001b[0m\u001b[0;34m,\u001b[0m \u001b[0mx\u001b[0m\u001b[0;34m.\u001b[0m\u001b[0mprotocols\u001b[0m\u001b[0;34m)\u001b[0m\u001b[0;34m)\u001b[0m\u001b[0;34m\u001b[0m\u001b[0;34m\u001b[0m\u001b[0m\n\u001b[0m\u001b[1;32m      2\u001b[0m \u001b[0mdf1\u001b[0m \u001b[0;34m=\u001b[0m \u001b[0mPerGroupCount\u001b[0m\u001b[0;34m(\u001b[0m\u001b[0mdf\u001b[0m\u001b[0;34m,\u001b[0m \u001b[0;34m[\u001b[0m\u001b[0;34m'datestr'\u001b[0m\u001b[0;34m,\u001b[0m \u001b[0;34m'agents'\u001b[0m\u001b[0;34m,\u001b[0m \u001b[0;34m'protocols'\u001b[0m\u001b[0;34m]\u001b[0m\u001b[0;34m,\u001b[0m \u001b[0;34m'protocolCnt'\u001b[0m\u001b[0;34m)\u001b[0m\u001b[0;34m\u001b[0m\u001b[0;34m\u001b[0m\u001b[0m\n\u001b[1;32m      3\u001b[0m \u001b[0mdf2\u001b[0m \u001b[0;34m=\u001b[0m \u001b[0mPerGroupCount\u001b[0m\u001b[0;34m(\u001b[0m\u001b[0mdf\u001b[0m\u001b[0;34m,\u001b[0m \u001b[0;34m[\u001b[0m\u001b[0;34m'datestr'\u001b[0m\u001b[0;34m,\u001b[0m \u001b[0;34m'agents'\u001b[0m\u001b[0;34m]\u001b[0m\u001b[0;34m,\u001b[0m \u001b[0;34m'libraryCnt'\u001b[0m\u001b[0;34m)\u001b[0m\u001b[0;34m\u001b[0m\u001b[0;34m\u001b[0m\u001b[0m\n\u001b[1;32m      4\u001b[0m \u001b[0mdf3\u001b[0m \u001b[0;34m=\u001b[0m \u001b[0mdf1\u001b[0m\u001b[0;34m.\u001b[0m\u001b[0mmerge\u001b[0m\u001b[0;34m(\u001b[0m\u001b[0mdf2\u001b[0m\u001b[0;34m,\u001b[0m \u001b[0mon\u001b[0m\u001b[0;34m=\u001b[0m\u001b[0;34m[\u001b[0m\u001b[0;34m'datestr'\u001b[0m\u001b[0;34m,\u001b[0m \u001b[0;34m'agents'\u001b[0m\u001b[0;34m]\u001b[0m\u001b[0;34m)\u001b[0m\u001b[0;34m.\u001b[0m\u001b[0massign\u001b[0m\u001b[0;34m(\u001b[0m\u001b[0mper\u001b[0m\u001b[0;34m=\u001b[0m\u001b[0;32mlambda\u001b[0m \u001b[0mx\u001b[0m\u001b[0;34m:\u001b[0m \u001b[0mx\u001b[0m\u001b[0;34m.\u001b[0m\u001b[0mprotocolCnt\u001b[0m \u001b[0;34m/\u001b[0m \u001b[0mx\u001b[0m\u001b[0;34m.\u001b[0m\u001b[0mlibraryCnt\u001b[0m\u001b[0;34m)\u001b[0m\u001b[0;34m\u001b[0m\u001b[0;34m\u001b[0m\u001b[0m\n\u001b[1;32m      5\u001b[0m \u001b[0mdf3\u001b[0m\u001b[0;34m[\u001b[0m\u001b[0;34m'key'\u001b[0m\u001b[0;34m]\u001b[0m \u001b[0;34m=\u001b[0m \u001b[0mdf3\u001b[0m\u001b[0;34m.\u001b[0m\u001b[0mapply\u001b[0m\u001b[0;34m(\u001b[0m\u001b[0;32mlambda\u001b[0m \u001b[0mx\u001b[0m\u001b[0;34m:\u001b[0m \u001b[0;34m\"{}/{}\"\u001b[0m\u001b[0;34m.\u001b[0m\u001b[0mformat\u001b[0m\u001b[0;34m(\u001b[0m\u001b[0mx\u001b[0m\u001b[0;34m.\u001b[0m\u001b[0magents\u001b[0m\u001b[0;34m,\u001b[0m \u001b[0mx\u001b[0m\u001b[0;34m.\u001b[0m\u001b[0mprotocols\u001b[0m\u001b[0;34m)\u001b[0m\u001b[0;34m,\u001b[0m \u001b[0maxis\u001b[0m\u001b[0;34m=\u001b[0m\u001b[0;36m1\u001b[0m\u001b[0;34m)\u001b[0m\u001b[0;34m\u001b[0m\u001b[0;34m\u001b[0m\u001b[0m\n",
      "\u001b[0;31mNameError\u001b[0m: name 'androidExpCities' is not defined"
     ]
    }
   ],
   "source": [
    "df = androidExpCities[(androidExpCities.agents == 'cronet') & (androidExpCities.protocols.isin(['h2', 'quic', 'h2|quic']))].assign(key=lambda x: \"{}/{}\".format(x.agents, x.protocols))\n",
    "df1 = PerGroupCount(df, ['datestr', 'agents', 'protocols'], 'protocolCnt')\n",
    "df2 = PerGroupCount(df, ['datestr', 'agents'], 'libraryCnt')\n",
    "df3 = df1.merge(df2, on=['datestr', 'agents']).assign(per=lambda x: x.protocolCnt / x.libraryCnt)\n",
    "df3['key'] = df3.apply(lambda x: \"{}/{}\".format(x.agents, x.protocols), axis=1)\n",
    "(\n",
    "    ggplot(df3, aes(x='datestr', y='per'))\n",
    "    + geom_line(aes(colour='key', group='key'), alpha=0.5)\n",
    "    + geom_smooth(aes(group='key', colour='key'), linetype='dashed', size=2)\n",
    "    + theme_minimal()\n",
    "    + theme(axis_text_x=element_text(rotation=90, hjust=1), figure_size=(20, 8))\n",
    "    + xlab(\"Date\") + ylab(\"Percentage of Sessions Using Cronet Library\")\n",
    ")\n"
   ]
  },
  {
   "cell_type": "code",
   "execution_count": 31,
   "metadata": {
    "collapsed": false,
    "scrolled": true
   },
   "outputs": [
    {
     "ename": "NameError",
     "evalue": "name 'androidExpCities' is not defined",
     "output_type": "error",
     "traceback": [
      "\u001b[0;31m---------------------------------------------------------------------------\u001b[0m",
      "\u001b[0;31mNameError\u001b[0m                                 Traceback (most recent call last)",
      "\u001b[0;32m<ipython-input-31-ca8116565f70>\u001b[0m in \u001b[0;36m<module>\u001b[0;34m\u001b[0m\n\u001b[0;32m----> 1\u001b[0;31m \u001b[0mdf\u001b[0m \u001b[0;34m=\u001b[0m \u001b[0mandroidExpCities\u001b[0m\u001b[0;34m[\u001b[0m\u001b[0;34m(\u001b[0m\u001b[0mandroidExpCities\u001b[0m\u001b[0;34m.\u001b[0m\u001b[0magents\u001b[0m \u001b[0;34m==\u001b[0m \u001b[0;34m'cronet'\u001b[0m\u001b[0;34m)\u001b[0m \u001b[0;34m&\u001b[0m \u001b[0;34m(\u001b[0m\u001b[0mandroidExpCities\u001b[0m\u001b[0;34m.\u001b[0m\u001b[0mprotocols\u001b[0m\u001b[0;34m.\u001b[0m\u001b[0misin\u001b[0m\u001b[0;34m(\u001b[0m\u001b[0;34m[\u001b[0m\u001b[0;34m'h2'\u001b[0m\u001b[0;34m,\u001b[0m \u001b[0;34m'quic'\u001b[0m\u001b[0;34m,\u001b[0m \u001b[0;34m'h2|quic'\u001b[0m\u001b[0;34m]\u001b[0m\u001b[0;34m)\u001b[0m\u001b[0;34m)\u001b[0m\u001b[0;34m]\u001b[0m\u001b[0;34m\u001b[0m\u001b[0;34m\u001b[0m\u001b[0m\n\u001b[0m\u001b[1;32m      2\u001b[0m df = df.groupby(['datestr']).apply(lambda x: pd.Series({\n\u001b[1;32m      3\u001b[0m             \u001b[0;34m'conversion'\u001b[0m\u001b[0;34m:\u001b[0m \u001b[0mx\u001b[0m\u001b[0;34m[\u001b[0m\u001b[0mx\u001b[0m\u001b[0;34m.\u001b[0m\u001b[0mn_completed\u001b[0m \u001b[0;34m==\u001b[0m \u001b[0;36m1\u001b[0m\u001b[0;34m]\u001b[0m\u001b[0;34m.\u001b[0m\u001b[0mshape\u001b[0m\u001b[0;34m[\u001b[0m\u001b[0;36m0\u001b[0m\u001b[0;34m]\u001b[0m \u001b[0;34m*\u001b[0m \u001b[0;36m100.0\u001b[0m \u001b[0;34m/\u001b[0m \u001b[0mx\u001b[0m\u001b[0;34m.\u001b[0m\u001b[0mshape\u001b[0m\u001b[0;34m[\u001b[0m\u001b[0;36m0\u001b[0m\u001b[0;34m]\u001b[0m\u001b[0;34m\u001b[0m\u001b[0;34m\u001b[0m\u001b[0m\n\u001b[1;32m      4\u001b[0m         })).reset_index()\n\u001b[1;32m      5\u001b[0m (\n",
      "\u001b[0;31mNameError\u001b[0m: name 'androidExpCities' is not defined"
     ]
    }
   ],
   "source": [
    "df = androidExpCities[(androidExpCities.agents == 'cronet') & (androidExpCities.protocols.isin(['h2', 'quic', 'h2|quic']))]\n",
    "df = df.groupby(['datestr']).apply(lambda x: pd.Series({\n",
    "            'conversion': x[x.n_completed == 1].shape[0] * 100.0 / x.shape[0]\n",
    "        })).reset_index()\n",
    "(\n",
    "    ggplot(df, aes(x='datestr',  y='conversion'))\n",
    "    + geom_line(aes(group=1), alpha=0.5)\n",
    "    + geom_smooth(aes(group=1), linetype='dashed', size=2)\n",
    "    + theme_minimal()\n",
    "    + theme(axis_text_x=element_text(rotation=90, hjust=1), figure_size=(20, 8))\n",
    "    + xlab(\"Date\") + ylab(\"Conversion Rate\")\n",
    "\n",
    ")"
   ]
  },
  {
   "cell_type": "markdown",
   "metadata": {},
   "source": [
    "## User Behavior"
   ]
  },
  {
   "cell_type": "code",
   "execution_count": 32,
   "metadata": {
    "collapsed": false
   },
   "outputs": [
    {
     "ename": "NameError",
     "evalue": "name 'androidExpCities' is not defined",
     "output_type": "error",
     "traceback": [
      "\u001b[0;31m---------------------------------------------------------------------------\u001b[0m",
      "\u001b[0;31mNameError\u001b[0m                                 Traceback (most recent call last)",
      "\u001b[0;32m<ipython-input-32-604d928cf9bf>\u001b[0m in \u001b[0;36m<module>\u001b[0;34m\u001b[0m\n\u001b[1;32m      2\u001b[0m \u001b[0;32mfrom\u001b[0m \u001b[0mtqdm\u001b[0m \u001b[0;32mimport\u001b[0m \u001b[0mtqdm\u001b[0m\u001b[0;34m\u001b[0m\u001b[0;34m\u001b[0m\u001b[0m\n\u001b[1;32m      3\u001b[0m \u001b[0;34m\u001b[0m\u001b[0m\n\u001b[0;32m----> 4\u001b[0;31m \u001b[0mdf\u001b[0m \u001b[0;34m=\u001b[0m \u001b[0mandroidExpCities\u001b[0m\u001b[0;34m[\u001b[0m\u001b[0;34m(\u001b[0m\u001b[0mandroidExpCities\u001b[0m\u001b[0;34m.\u001b[0m\u001b[0mevents\u001b[0m\u001b[0;34m.\u001b[0m\u001b[0mapply\u001b[0m\u001b[0;34m(\u001b[0m\u001b[0mlen\u001b[0m\u001b[0;34m)\u001b[0m \u001b[0;34m>\u001b[0m \u001b[0;36m1\u001b[0m\u001b[0;34m)\u001b[0m\u001b[0;34m]\u001b[0m\u001b[0;34m.\u001b[0m\u001b[0mgroupby\u001b[0m\u001b[0;34m(\u001b[0m\u001b[0;34m[\u001b[0m\u001b[0;34m'agents'\u001b[0m\u001b[0;34m,\u001b[0m \u001b[0;34m'protocols'\u001b[0m\u001b[0;34m]\u001b[0m\u001b[0;34m)\u001b[0m\u001b[0;34m.\u001b[0m\u001b[0mapply\u001b[0m\u001b[0;34m(\u001b[0m\u001b[0;32mlambda\u001b[0m \u001b[0mx\u001b[0m\u001b[0;34m:\u001b[0m \u001b[0mx\u001b[0m\u001b[0;34m.\u001b[0m\u001b[0msample\u001b[0m\u001b[0;34m(\u001b[0m\u001b[0mmin\u001b[0m\u001b[0;34m(\u001b[0m\u001b[0mx\u001b[0m\u001b[0;34m.\u001b[0m\u001b[0mshape\u001b[0m\u001b[0;34m[\u001b[0m\u001b[0;36m0\u001b[0m\u001b[0;34m]\u001b[0m\u001b[0;34m,\u001b[0m \u001b[0;36m20000\u001b[0m\u001b[0;34m)\u001b[0m\u001b[0;34m)\u001b[0m\u001b[0;34m)\u001b[0m\u001b[0;34m.\u001b[0m\u001b[0mreset_index\u001b[0m\u001b[0;34m(\u001b[0m\u001b[0mdrop\u001b[0m\u001b[0;34m=\u001b[0m\u001b[0;32mTrue\u001b[0m\u001b[0;34m)\u001b[0m\u001b[0;34m\u001b[0m\u001b[0;34m\u001b[0m\u001b[0m\n\u001b[0m\u001b[1;32m      5\u001b[0m \u001b[0mdf\u001b[0m\u001b[0;34m[\u001b[0m\u001b[0;34m'key'\u001b[0m\u001b[0;34m]\u001b[0m \u001b[0;34m=\u001b[0m \u001b[0mdf\u001b[0m\u001b[0;34m.\u001b[0m\u001b[0mapply\u001b[0m\u001b[0;34m(\u001b[0m\u001b[0;32mlambda\u001b[0m \u001b[0mx\u001b[0m\u001b[0;34m:\u001b[0m \u001b[0;34m\"{}/{}\"\u001b[0m\u001b[0;34m.\u001b[0m\u001b[0mformat\u001b[0m\u001b[0;34m(\u001b[0m\u001b[0mx\u001b[0m\u001b[0;34m.\u001b[0m\u001b[0magents\u001b[0m\u001b[0;34m,\u001b[0m \u001b[0mx\u001b[0m\u001b[0;34m.\u001b[0m\u001b[0mprotocols\u001b[0m\u001b[0;34m)\u001b[0m\u001b[0;34m,\u001b[0m \u001b[0maxis\u001b[0m\u001b[0;34m=\u001b[0m\u001b[0;36m1\u001b[0m\u001b[0;34m)\u001b[0m\u001b[0;34m\u001b[0m\u001b[0;34m\u001b[0m\u001b[0m\n\u001b[1;32m      6\u001b[0m \u001b[0mdf\u001b[0m \u001b[0;34m=\u001b[0m \u001b[0mdf\u001b[0m\u001b[0;34m[\u001b[0m\u001b[0mdf\u001b[0m\u001b[0;34m.\u001b[0m\u001b[0mkey\u001b[0m\u001b[0;34m.\u001b[0m\u001b[0misin\u001b[0m\u001b[0;34m(\u001b[0m\u001b[0;34m[\u001b[0m\u001b[0;34m'cronet/h2|quic'\u001b[0m\u001b[0;34m,\u001b[0m \u001b[0;34m'cronet/quic'\u001b[0m\u001b[0;34m,\u001b[0m \u001b[0;34m'okhttp/h2'\u001b[0m\u001b[0;34m]\u001b[0m\u001b[0;34m)\u001b[0m\u001b[0;34m]\u001b[0m\u001b[0;34m\u001b[0m\u001b[0;34m\u001b[0m\u001b[0m\n",
      "\u001b[0;31mNameError\u001b[0m: name 'androidExpCities' is not defined"
     ]
    }
   ],
   "source": [
    "import collections\n",
    "from tqdm import tqdm\n",
    "\n",
    "df = androidExpCities[(androidExpCities.events.apply(len) > 1)].groupby(['agents', 'protocols']).apply(lambda x: x.sample(min(x.shape[0], 20000))).reset_index(drop=True)\n",
    "df['key'] = df.apply(lambda x: \"{}/{}\".format(x.agents, x.protocols), axis=1)\n",
    "df = df[df.key.isin(['cronet/h2|quic', 'cronet/quic', 'okhttp/h2'])]\n",
    "\n",
    "transitionsDict = dict((x, collections.defaultdict(float)) for x in np.unique(df['key']))\n",
    "sourcesDict = dict((x, collections.defaultdict(float)) for x in np.unique(df['key']))\n",
    "# for idx, row in tqdm(df.iterrows(), total=df.shape[0]):\n",
    "for idx, row in df.iterrows():\n",
    "    agent = row['key']\n",
    "    tokens = row.events\n",
    "    source = tokens[0]\n",
    "    for target in tokens[1:]:\n",
    "        transitionsDict[agent][(source, target)] += 1\n",
    "        sourcesDict[agent][source] += 1\n",
    "        source = target"
   ]
  },
  {
   "cell_type": "code",
   "execution_count": 33,
   "metadata": {
    "collapsed": false
   },
   "outputs": [
    {
     "ename": "SyntaxError",
     "evalue": "Missing parentheses in call to 'print'. Did you mean print(agent)? (<ipython-input-33-eca7c6290a29>, line 3)",
     "output_type": "error",
     "traceback": [
      "\u001b[0;36m  File \u001b[0;32m\"<ipython-input-33-eca7c6290a29>\"\u001b[0;36m, line \u001b[0;32m3\u001b[0m\n\u001b[0;31m    print agent\u001b[0m\n\u001b[0m              ^\u001b[0m\n\u001b[0;31mSyntaxError\u001b[0m\u001b[0;31m:\u001b[0m Missing parentheses in call to 'print'. Did you mean print(agent)?\n"
     ]
    }
   ],
   "source": [
    "output = []\n",
    "for agent in np.unique(df['key']):\n",
    "    print agent\n",
    "    for t, c in transitionsDict[agent].items():\n",
    "        output.append([agent, t[0], t[1], c, c/sourcesDict[agent][t[0]]])\n",
    "        \n",
    "df = pd.DataFrame(output, columns=['key', 'source', 'target', 'cnt', 'prob'])"
   ]
  },
  {
   "cell_type": "code",
   "execution_count": 34,
   "metadata": {
    "collapsed": false
   },
   "outputs": [
    {
     "ename": "NameError",
     "evalue": "name 'df' is not defined",
     "output_type": "error",
     "traceback": [
      "\u001b[0;31m---------------------------------------------------------------------------\u001b[0m",
      "\u001b[0;31mNameError\u001b[0m                                 Traceback (most recent call last)",
      "\u001b[0;32m<ipython-input-34-c82147edc821>\u001b[0m in \u001b[0;36m<module>\u001b[0;34m\u001b[0m\n\u001b[0;32m----> 1\u001b[0;31m \u001b[0mdf\u001b[0m\u001b[0;34m[\u001b[0m\u001b[0;34m'sourceName'\u001b[0m\u001b[0;34m]\u001b[0m \u001b[0;34m=\u001b[0m \u001b[0mdf\u001b[0m\u001b[0;34m.\u001b[0m\u001b[0msource\u001b[0m\u001b[0;34m.\u001b[0m\u001b[0mapply\u001b[0m\u001b[0;34m(\u001b[0m\u001b[0;32mlambda\u001b[0m \u001b[0mx\u001b[0m\u001b[0;34m:\u001b[0m \u001b[0mEVENTS\u001b[0m\u001b[0;34m[\u001b[0m\u001b[0mx\u001b[0m\u001b[0;34m]\u001b[0m\u001b[0;34m)\u001b[0m\u001b[0;34m\u001b[0m\u001b[0;34m\u001b[0m\u001b[0m\n\u001b[0m\u001b[1;32m      2\u001b[0m \u001b[0mdf\u001b[0m\u001b[0;34m[\u001b[0m\u001b[0;34m'targetName'\u001b[0m\u001b[0;34m]\u001b[0m \u001b[0;34m=\u001b[0m \u001b[0mdf\u001b[0m\u001b[0;34m.\u001b[0m\u001b[0mtarget\u001b[0m\u001b[0;34m.\u001b[0m\u001b[0mapply\u001b[0m\u001b[0;34m(\u001b[0m\u001b[0;32mlambda\u001b[0m \u001b[0mx\u001b[0m\u001b[0;34m:\u001b[0m \u001b[0mEVENTS\u001b[0m\u001b[0;34m[\u001b[0m\u001b[0mx\u001b[0m\u001b[0;34m]\u001b[0m\u001b[0;34m)\u001b[0m\u001b[0;34m\u001b[0m\u001b[0;34m\u001b[0m\u001b[0m\n\u001b[1;32m      3\u001b[0m \u001b[0mdf\u001b[0m\u001b[0;34m[\u001b[0m\u001b[0;34m'label'\u001b[0m\u001b[0;34m]\u001b[0m \u001b[0;34m=\u001b[0m \u001b[0mdf\u001b[0m\u001b[0;34m.\u001b[0m\u001b[0mprob\u001b[0m\u001b[0;34m.\u001b[0m\u001b[0mapply\u001b[0m\u001b[0;34m(\u001b[0m\u001b[0;32mlambda\u001b[0m \u001b[0mx\u001b[0m\u001b[0;34m:\u001b[0m \u001b[0;34m\"{:.0%}\"\u001b[0m\u001b[0;34m.\u001b[0m\u001b[0mformat\u001b[0m\u001b[0;34m(\u001b[0m\u001b[0mx\u001b[0m\u001b[0;34m)\u001b[0m\u001b[0;34m)\u001b[0m\u001b[0;34m\u001b[0m\u001b[0;34m\u001b[0m\u001b[0m\n",
      "\u001b[0;31mNameError\u001b[0m: name 'df' is not defined"
     ]
    }
   ],
   "source": [
    "df['sourceName'] = df.source.apply(lambda x: EVENTS[x])\n",
    "df['targetName'] = df.target.apply(lambda x: EVENTS[x])\n",
    "df['label'] = df.prob.apply(lambda x: \"{:.0%}\".format(x))"
   ]
  },
  {
   "cell_type": "code",
   "execution_count": 35,
   "metadata": {
    "collapsed": false
   },
   "outputs": [
    {
     "ename": "NameError",
     "evalue": "name 'df' is not defined",
     "output_type": "error",
     "traceback": [
      "\u001b[0;31m---------------------------------------------------------------------------\u001b[0m",
      "\u001b[0;31mNameError\u001b[0m                                 Traceback (most recent call last)",
      "\u001b[0;32m<ipython-input-35-775eaa41ed55>\u001b[0m in \u001b[0;36m<module>\u001b[0;34m\u001b[0m\n\u001b[1;32m      6\u001b[0m     \u001b[0;34m+\u001b[0m \u001b[0mtheme_linedraw\u001b[0m\u001b[0;34m(\u001b[0m\u001b[0;34m)\u001b[0m\u001b[0;34m\u001b[0m\u001b[0;34m\u001b[0m\u001b[0m\n\u001b[1;32m      7\u001b[0m     \u001b[0;34m+\u001b[0m \u001b[0mtheme\u001b[0m\u001b[0;34m(\u001b[0m\u001b[0mfigure_size\u001b[0m\u001b[0;34m=\u001b[0m\u001b[0;34m(\u001b[0m\u001b[0;36m20\u001b[0m\u001b[0;34m,\u001b[0m \u001b[0;36m5\u001b[0m\u001b[0;34m)\u001b[0m\u001b[0;34m,\u001b[0m \u001b[0maxis_text_x\u001b[0m\u001b[0;34m=\u001b[0m\u001b[0melement_text\u001b[0m\u001b[0;34m(\u001b[0m\u001b[0mrotation\u001b[0m\u001b[0;34m=\u001b[0m\u001b[0;36m90\u001b[0m\u001b[0;34m,\u001b[0m \u001b[0mhjust\u001b[0m\u001b[0;34m=\u001b[0m\u001b[0;36m1\u001b[0m\u001b[0;34m)\u001b[0m\u001b[0;34m)\u001b[0m\u001b[0;34m\u001b[0m\u001b[0;34m\u001b[0m\u001b[0m\n\u001b[0;32m----> 8\u001b[0;31m     \u001b[0;34m+\u001b[0m \u001b[0mxlab\u001b[0m\u001b[0;34m(\u001b[0m\u001b[0;34m\"Source\"\u001b[0m\u001b[0;34m)\u001b[0m \u001b[0;34m+\u001b[0m \u001b[0mylab\u001b[0m\u001b[0;34m(\u001b[0m\u001b[0;34m\"Target\"\u001b[0m\u001b[0;34m)\u001b[0m\u001b[0;34m\u001b[0m\u001b[0;34m\u001b[0m\u001b[0m\n\u001b[0m\u001b[1;32m      9\u001b[0m )\n",
      "\u001b[0;31mNameError\u001b[0m: name 'df' is not defined"
     ]
    }
   ],
   "source": [
    "(\n",
    "    ggplot(df, aes(x='sourceName', y='targetName'))\n",
    "    + geom_tile(aes(fill='prob'))\n",
    "    + geom_label(aes(label='label'))\n",
    "    + facet_wrap(\"~key\")\n",
    "    + theme_linedraw()\n",
    "    + theme(figure_size=(20, 5), axis_text_x=element_text(rotation=90, hjust=1))\n",
    "    + xlab(\"Source\") + ylab(\"Target\")\n",
    ")"
   ]
  },
  {
   "cell_type": "markdown",
   "metadata": {},
   "source": [
    "### Investiage Transitions From Home Screen"
   ]
  },
  {
   "cell_type": "code",
   "execution_count": 36,
   "metadata": {
    "collapsed": false
   },
   "outputs": [
    {
     "name": "stderr",
     "output_type": "stream",
     "text": [
      "UsageError: Cell magic `%%hive` not found.\n"
     ]
    }
   ],
   "source": [
    "%%hive --variable userBehaviorDF --email ragrawal@uber.com --cache --use-cache --large-data\n",
    "\n",
    "WITH stateTime as \n",
    "(\n",
    "    select \n",
    "        session_id\n",
    "        , rider_id \n",
    "        , next_state\n",
    "        , MAX(time_in_state_ms) AS time_in_state_ms\n",
    "        , SIZE(MAX(accelerators)) AS num_accelerators\n",
    "        , SUM(IF(a.is_loaded_from_cache, 1, 0)) AS num_cache\n",
    "    FROM tripex.fact_session_state\n",
    "    LATERAL VIEW OUTER EXPLODE(accelerators) accelerators AS a\n",
    "    WHERE \n",
    "        datestr BETWEEN '2018-10-25' AND '2018-10-28'\n",
    "        and name = 'home_screen'\n",
    "    GROUP BY session_id, rider_id, next_state \n",
    "),\n",
    "\n",
    "\n",
    "sessions AS (\n",
    "    SELECT * \n",
    "    FROM dsp.quic\n",
    "    where \n",
    "        city in ('sao_paulo', 'london', 'los_angeles', 'cairo', 'new_delhi')\n",
    "        AND os_type = 'android'\n",
    "        AND NOT is_admin_user \n",
    "        AND hosts = 'cfe'\n",
    "        AND agents in ('cronet', 'okhttp')\n",
    ")\n",
    "\n",
    "\n",
    "\n",
    "SELECT \n",
    "    r.agents,\n",
    "    r.protocols,\n",
    "    l.*\n",
    "from sessions r \n",
    "join stateTime l \n",
    "ON (\n",
    "    r.session_id = l.session_id \n",
    "    AND r.user_uuid = l.rider_id\n",
    ")\n",
    "\n"
   ]
  },
  {
   "cell_type": "code",
   "execution_count": 37,
   "metadata": {
    "collapsed": false
   },
   "outputs": [
    {
     "ename": "NameError",
     "evalue": "name 'userBehaviorDF' is not defined",
     "output_type": "error",
     "traceback": [
      "\u001b[0;31m---------------------------------------------------------------------------\u001b[0m",
      "\u001b[0;31mNameError\u001b[0m                                 Traceback (most recent call last)",
      "\u001b[0;32m<ipython-input-37-e74808343fd7>\u001b[0m in \u001b[0;36m<module>\u001b[0;34m\u001b[0m\n\u001b[0;32m----> 1\u001b[0;31m \u001b[0muserBehaviorDF\u001b[0m\u001b[0;34m.\u001b[0m\u001b[0mcolumns\u001b[0m \u001b[0;34m=\u001b[0m \u001b[0;34m[\u001b[0m\u001b[0mx\u001b[0m\u001b[0;34m.\u001b[0m\u001b[0msplit\u001b[0m\u001b[0;34m(\u001b[0m\u001b[0;34m'.'\u001b[0m\u001b[0;34m)\u001b[0m\u001b[0;34m[\u001b[0m\u001b[0;36m1\u001b[0m\u001b[0;34m]\u001b[0m \u001b[0;32mfor\u001b[0m \u001b[0mx\u001b[0m \u001b[0;32min\u001b[0m \u001b[0muserBehaviorDF\u001b[0m\u001b[0;34m.\u001b[0m\u001b[0mcolumns\u001b[0m\u001b[0;34m]\u001b[0m\u001b[0;34m\u001b[0m\u001b[0;34m\u001b[0m\u001b[0m\n\u001b[0m",
      "\u001b[0;31mNameError\u001b[0m: name 'userBehaviorDF' is not defined"
     ]
    }
   ],
   "source": [
    "userBehaviorDF.columns = [x.split('.')[1] for x in userBehaviorDF.columns]"
   ]
  },
  {
   "cell_type": "code",
   "execution_count": 38,
   "metadata": {
    "collapsed": false
   },
   "outputs": [
    {
     "ename": "NameError",
     "evalue": "name 'userBehaviorDF' is not defined",
     "output_type": "error",
     "traceback": [
      "\u001b[0;31m---------------------------------------------------------------------------\u001b[0m",
      "\u001b[0;31mNameError\u001b[0m                                 Traceback (most recent call last)",
      "\u001b[0;32m<ipython-input-38-11810dae53ea>\u001b[0m in \u001b[0;36m<module>\u001b[0;34m\u001b[0m\n\u001b[0;32m----> 1\u001b[0;31m \u001b[0mdf\u001b[0m \u001b[0;34m=\u001b[0m \u001b[0muserBehaviorDF\u001b[0m\u001b[0;34m\u001b[0m\u001b[0;34m\u001b[0m\u001b[0m\n\u001b[0m\u001b[1;32m      2\u001b[0m \u001b[0mdf\u001b[0m\u001b[0;34m[\u001b[0m\u001b[0;34m'num_accelerators'\u001b[0m\u001b[0;34m]\u001b[0m \u001b[0;34m=\u001b[0m \u001b[0mdf\u001b[0m\u001b[0;34m.\u001b[0m\u001b[0mnum_accelerators\u001b[0m\u001b[0;34m.\u001b[0m\u001b[0mapply\u001b[0m\u001b[0;34m(\u001b[0m\u001b[0;32mlambda\u001b[0m \u001b[0mx\u001b[0m\u001b[0;34m:\u001b[0m \u001b[0mx\u001b[0m \u001b[0;32mif\u001b[0m \u001b[0mx\u001b[0m \u001b[0;34m>=\u001b[0m \u001b[0;36m0\u001b[0m \u001b[0;32melse\u001b[0m \u001b[0;36m0\u001b[0m\u001b[0;34m)\u001b[0m\u001b[0;34m\u001b[0m\u001b[0;34m\u001b[0m\u001b[0m\n\u001b[1;32m      3\u001b[0m \u001b[0mdf\u001b[0m\u001b[0;34m[\u001b[0m\u001b[0;34m'key'\u001b[0m\u001b[0;34m]\u001b[0m \u001b[0;34m=\u001b[0m \u001b[0mdf\u001b[0m\u001b[0;34m.\u001b[0m\u001b[0mapply\u001b[0m\u001b[0;34m(\u001b[0m\u001b[0;32mlambda\u001b[0m \u001b[0mx\u001b[0m\u001b[0;34m:\u001b[0m \u001b[0;34m\"{}/{}\"\u001b[0m\u001b[0;34m.\u001b[0m\u001b[0mformat\u001b[0m\u001b[0;34m(\u001b[0m\u001b[0mx\u001b[0m\u001b[0;34m.\u001b[0m\u001b[0magents\u001b[0m\u001b[0;34m,\u001b[0m \u001b[0mx\u001b[0m\u001b[0;34m.\u001b[0m\u001b[0mprotocols\u001b[0m\u001b[0;34m)\u001b[0m\u001b[0;34m,\u001b[0m \u001b[0maxis\u001b[0m\u001b[0;34m=\u001b[0m\u001b[0;36m1\u001b[0m\u001b[0;34m)\u001b[0m\u001b[0;34m\u001b[0m\u001b[0;34m\u001b[0m\u001b[0m\n",
      "\u001b[0;31mNameError\u001b[0m: name 'userBehaviorDF' is not defined"
     ]
    }
   ],
   "source": [
    "df = userBehaviorDF\n",
    "df['num_accelerators'] = df.num_accelerators.apply(lambda x: x if x >= 0 else 0)\n",
    "df['key'] = df.apply(lambda x: \"{}/{}\".format(x.agents, x.protocols), axis=1)"
   ]
  },
  {
   "cell_type": "code",
   "execution_count": 39,
   "metadata": {
    "collapsed": true
   },
   "outputs": [
    {
     "ename": "NameError",
     "evalue": "name 'df' is not defined",
     "output_type": "error",
     "traceback": [
      "\u001b[0;31m---------------------------------------------------------------------------\u001b[0m",
      "\u001b[0;31mNameError\u001b[0m                                 Traceback (most recent call last)",
      "\u001b[0;32m<ipython-input-39-a8b0e5483901>\u001b[0m in \u001b[0;36m<module>\u001b[0;34m\u001b[0m\n\u001b[0;32m----> 1\u001b[0;31m \u001b[0mdf\u001b[0m \u001b[0;34m=\u001b[0m \u001b[0mdf\u001b[0m\u001b[0;34m[\u001b[0m\u001b[0mdf\u001b[0m\u001b[0;34m.\u001b[0m\u001b[0mkey\u001b[0m\u001b[0;34m.\u001b[0m\u001b[0misin\u001b[0m\u001b[0;34m(\u001b[0m\u001b[0;34m[\u001b[0m\u001b[0;34m'cronet/quic'\u001b[0m\u001b[0;34m,\u001b[0m \u001b[0;34m'cronet/h2|quic'\u001b[0m\u001b[0;34m,\u001b[0m \u001b[0;34m'okhttp/h2'\u001b[0m\u001b[0;34m]\u001b[0m\u001b[0;34m)\u001b[0m\u001b[0;34m]\u001b[0m\u001b[0;34m.\u001b[0m\u001b[0mcopy\u001b[0m\u001b[0;34m(\u001b[0m\u001b[0;34m)\u001b[0m\u001b[0;34m\u001b[0m\u001b[0;34m\u001b[0m\u001b[0m\n\u001b[0m\u001b[1;32m      2\u001b[0m \u001b[0mdf\u001b[0m \u001b[0;34m=\u001b[0m \u001b[0mdf\u001b[0m\u001b[0;34m[\u001b[0m\u001b[0mdf\u001b[0m\u001b[0;34m.\u001b[0m\u001b[0mnext_state\u001b[0m\u001b[0;34m.\u001b[0m\u001b[0misin\u001b[0m\u001b[0;34m(\u001b[0m\u001b[0;34m[\u001b[0m\u001b[0;34m'confirmation'\u001b[0m\u001b[0;34m,\u001b[0m \u001b[0;34m'dropoff_edit'\u001b[0m\u001b[0;34m]\u001b[0m\u001b[0;34m)\u001b[0m\u001b[0;34m]\u001b[0m\u001b[0;34m.\u001b[0m\u001b[0mcopy\u001b[0m\u001b[0;34m(\u001b[0m\u001b[0;34m)\u001b[0m\u001b[0;34m\u001b[0m\u001b[0;34m\u001b[0m\u001b[0m\n",
      "\u001b[0;31mNameError\u001b[0m: name 'df' is not defined"
     ]
    }
   ],
   "source": [
    "df = df[df.key.isin(['cronet/quic', 'cronet/h2|quic', 'okhttp/h2'])].copy()\n",
    "df = df[df.next_state.isin(['confirmation', 'dropoff_edit'])].copy()"
   ]
  },
  {
   "cell_type": "code",
   "execution_count": 40,
   "metadata": {
    "collapsed": false
   },
   "outputs": [
    {
     "ename": "NameError",
     "evalue": "name 'df' is not defined",
     "output_type": "error",
     "traceback": [
      "\u001b[0;31m---------------------------------------------------------------------------\u001b[0m",
      "\u001b[0;31mNameError\u001b[0m                                 Traceback (most recent call last)",
      "\u001b[0;32m<ipython-input-40-50caa256f2df>\u001b[0m in \u001b[0;36m<module>\u001b[0;34m\u001b[0m\n\u001b[0;32m----> 1\u001b[0;31m df2 = PerGroupCount(df, ['next_state', 'key','num_accelerators'], 'segmentCount').merge(\n\u001b[0m\u001b[1;32m      2\u001b[0m     \u001b[0mPerGroupCount\u001b[0m\u001b[0;34m(\u001b[0m\u001b[0mdf\u001b[0m\u001b[0;34m,\u001b[0m \u001b[0;34m[\u001b[0m\u001b[0;34m'next_state'\u001b[0m\u001b[0;34m,\u001b[0m \u001b[0;34m'key'\u001b[0m\u001b[0;34m]\u001b[0m\u001b[0;34m,\u001b[0m \u001b[0;34m'totalCount'\u001b[0m\u001b[0;34m)\u001b[0m\u001b[0;34m,\u001b[0m\u001b[0;34m\u001b[0m\u001b[0;34m\u001b[0m\u001b[0m\n\u001b[1;32m      3\u001b[0m     \u001b[0mon\u001b[0m\u001b[0;34m=\u001b[0m\u001b[0;34m[\u001b[0m\u001b[0;34m'key'\u001b[0m\u001b[0;34m,\u001b[0m \u001b[0;34m'next_state'\u001b[0m\u001b[0;34m]\u001b[0m\u001b[0;34m\u001b[0m\u001b[0;34m\u001b[0m\u001b[0m\n\u001b[1;32m      4\u001b[0m \u001b[0;34m)\u001b[0m\u001b[0;34m.\u001b[0m\u001b[0massign\u001b[0m\u001b[0;34m(\u001b[0m\u001b[0;34m\u001b[0m\u001b[0;34m\u001b[0m\u001b[0m\n\u001b[1;32m      5\u001b[0m     \u001b[0mpct\u001b[0m \u001b[0;34m=\u001b[0m \u001b[0;32mlambda\u001b[0m \u001b[0mx\u001b[0m\u001b[0;34m:\u001b[0m \u001b[0mx\u001b[0m\u001b[0;34m.\u001b[0m\u001b[0msegmentCount\u001b[0m \u001b[0;34m*\u001b[0m \u001b[0;36m1.0\u001b[0m \u001b[0;34m/\u001b[0m \u001b[0mx\u001b[0m\u001b[0;34m.\u001b[0m\u001b[0mtotalCount\u001b[0m\u001b[0;34m\u001b[0m\u001b[0;34m\u001b[0m\u001b[0m\n",
      "\u001b[0;31mNameError\u001b[0m: name 'df' is not defined"
     ]
    }
   ],
   "source": [
    "df2 = PerGroupCount(df, ['next_state', 'key','num_accelerators'], 'segmentCount').merge(\n",
    "    PerGroupCount(df, ['next_state', 'key'], 'totalCount'),\n",
    "    on=['key', 'next_state']\n",
    ").assign(\n",
    "    pct = lambda x: x.segmentCount * 1.0 / x.totalCount\n",
    ")"
   ]
  },
  {
   "cell_type": "code",
   "execution_count": 41,
   "metadata": {
    "collapsed": false
   },
   "outputs": [
    {
     "ename": "NameError",
     "evalue": "name 'df2' is not defined",
     "output_type": "error",
     "traceback": [
      "\u001b[0;31m---------------------------------------------------------------------------\u001b[0m",
      "\u001b[0;31mNameError\u001b[0m                                 Traceback (most recent call last)",
      "\u001b[0;32m<ipython-input-41-9266b789ed1a>\u001b[0m in \u001b[0;36m<module>\u001b[0;34m\u001b[0m\n\u001b[1;32m      6\u001b[0m     \u001b[0;34m+\u001b[0m \u001b[0mylab\u001b[0m\u001b[0;34m(\u001b[0m\u001b[0;34m\"Percentage of Sessions\"\u001b[0m\u001b[0;34m)\u001b[0m\u001b[0;34m\u001b[0m\u001b[0;34m\u001b[0m\u001b[0m\n\u001b[1;32m      7\u001b[0m     \u001b[0;34m+\u001b[0m \u001b[0mtheme_minimal\u001b[0m\u001b[0;34m(\u001b[0m\u001b[0;34m)\u001b[0m\u001b[0;34m\u001b[0m\u001b[0;34m\u001b[0m\u001b[0m\n\u001b[0;32m----> 8\u001b[0;31m     \u001b[0;34m+\u001b[0m \u001b[0mtheme\u001b[0m\u001b[0;34m(\u001b[0m\u001b[0mfigure_size\u001b[0m\u001b[0;34m=\u001b[0m\u001b[0;34m(\u001b[0m\u001b[0;36m10\u001b[0m\u001b[0;34m,\u001b[0m \u001b[0;36m8\u001b[0m\u001b[0;34m)\u001b[0m\u001b[0;34m)\u001b[0m\u001b[0;34m\u001b[0m\u001b[0;34m\u001b[0m\u001b[0m\n\u001b[0m\u001b[1;32m      9\u001b[0m \u001b[0;34m\u001b[0m\u001b[0m\n\u001b[1;32m     10\u001b[0m )\n",
      "\u001b[0;31mNameError\u001b[0m: name 'df2' is not defined"
     ]
    }
   ],
   "source": [
    "(\n",
    "    ggplot(df2, aes(x='num_accelerators', y='pct'))\n",
    "    + geom_bar(aes(fill='key'), stat='identity', position='dodge')\n",
    "    + facet_wrap(\"~next_state\", scales='free_y')\n",
    "    + xlab(\"Number of Accelerators\")\n",
    "    + ylab(\"Percentage of Sessions\")\n",
    "    + theme_minimal()\n",
    "    + theme(figure_size=(10, 8))\n",
    "    \n",
    ")"
   ]
  },
  {
   "cell_type": "code",
   "execution_count": 42,
   "metadata": {
    "collapsed": false
   },
   "outputs": [
    {
     "ename": "NameError",
     "evalue": "name 'df2' is not defined",
     "output_type": "error",
     "traceback": [
      "\u001b[0;31m---------------------------------------------------------------------------\u001b[0m",
      "\u001b[0;31mNameError\u001b[0m                                 Traceback (most recent call last)",
      "\u001b[0;32m<ipython-input-42-a97e77820616>\u001b[0m in \u001b[0;36m<module>\u001b[0;34m\u001b[0m\n\u001b[0;32m----> 1\u001b[0;31m df2.pivot_table(\n\u001b[0m\u001b[1;32m      2\u001b[0m     \u001b[0mindex\u001b[0m\u001b[0;34m=\u001b[0m\u001b[0;34m[\u001b[0m\u001b[0;34m'next_state'\u001b[0m\u001b[0;34m,\u001b[0m \u001b[0;34m'key'\u001b[0m\u001b[0;34m]\u001b[0m\u001b[0;34m,\u001b[0m \u001b[0mcolumns\u001b[0m\u001b[0;34m=\u001b[0m\u001b[0;34m'num_accelerators'\u001b[0m\u001b[0;34m,\u001b[0m \u001b[0mvalues\u001b[0m\u001b[0;34m=\u001b[0m\u001b[0;34m'pct'\u001b[0m\u001b[0;34m\u001b[0m\u001b[0;34m\u001b[0m\u001b[0m\n\u001b[1;32m      3\u001b[0m ).fillna(0).style.format(\"{:.2%}\")\n\u001b[1;32m      4\u001b[0m \u001b[0;34m\u001b[0m\u001b[0m\n",
      "\u001b[0;31mNameError\u001b[0m: name 'df2' is not defined"
     ]
    }
   ],
   "source": [
    "df2.pivot_table(\n",
    "    index=['next_state', 'key'], columns='num_accelerators', values='pct'\n",
    ").fillna(0).style.format(\"{:.2%}\")\n",
    "    "
   ]
  },
  {
   "cell_type": "code",
   "execution_count": 43,
   "metadata": {
    "collapsed": false
   },
   "outputs": [
    {
     "ename": "NameError",
     "evalue": "name 'df' is not defined",
     "output_type": "error",
     "traceback": [
      "\u001b[0;31m---------------------------------------------------------------------------\u001b[0m",
      "\u001b[0;31mNameError\u001b[0m                                 Traceback (most recent call last)",
      "\u001b[0;32m<ipython-input-43-b9d9c5ab50e3>\u001b[0m in \u001b[0;36m<module>\u001b[0;34m\u001b[0m\n\u001b[1;32m      1\u001b[0m (\n\u001b[0;32m----> 2\u001b[0;31m     \u001b[0mggplot\u001b[0m\u001b[0;34m(\u001b[0m\u001b[0mdf\u001b[0m\u001b[0;34m[\u001b[0m\u001b[0mdf\u001b[0m\u001b[0;34m.\u001b[0m\u001b[0mnext_state\u001b[0m \u001b[0;34m==\u001b[0m \u001b[0;34m'confirmation'\u001b[0m\u001b[0;34m]\u001b[0m\u001b[0;34m,\u001b[0m \u001b[0maes\u001b[0m\u001b[0;34m(\u001b[0m\u001b[0mx\u001b[0m\u001b[0;34m=\u001b[0m\u001b[0;34m'num_ac'\u001b[0m\u001b[0;34m)\u001b[0m\u001b[0;34m)\u001b[0m\u001b[0;34m\u001b[0m\u001b[0;34m\u001b[0m\u001b[0m\n\u001b[0m\u001b[1;32m      3\u001b[0m     \u001b[0;34m+\u001b[0m \u001b[0mgeom_\u001b[0m\u001b[0;34m(\u001b[0m\u001b[0;34m)\u001b[0m\u001b[0;34m\u001b[0m\u001b[0;34m\u001b[0m\u001b[0m\n\u001b[1;32m      4\u001b[0m )\n",
      "\u001b[0;31mNameError\u001b[0m: name 'df' is not defined"
     ]
    }
   ],
   "source": [
    "(\n",
    "    ggplot(df[df.next_state == 'confirmation'], aes(x='num_ac'))\n",
    "    + geom_()\n",
    ")"
   ]
  },
  {
   "cell_type": "code",
   "execution_count": 44,
   "metadata": {
    "collapsed": false
   },
   "outputs": [
    {
     "ename": "NameError",
     "evalue": "name 'df' is not defined",
     "output_type": "error",
     "traceback": [
      "\u001b[0;31m---------------------------------------------------------------------------\u001b[0m",
      "\u001b[0;31mNameError\u001b[0m                                 Traceback (most recent call last)",
      "\u001b[0;32m<ipython-input-44-1fd2fe6e8013>\u001b[0m in \u001b[0;36m<module>\u001b[0;34m\u001b[0m\n\u001b[1;32m      1\u001b[0m (\n\u001b[0;32m----> 2\u001b[0;31m     \u001b[0mdf\u001b[0m\u001b[0;34m.\u001b[0m\u001b[0mgroupby\u001b[0m\u001b[0;34m(\u001b[0m\u001b[0;34m[\u001b[0m\u001b[0;34m'agents'\u001b[0m\u001b[0;34m,\u001b[0m \u001b[0;34m'protocols'\u001b[0m\u001b[0;34m,\u001b[0m \u001b[0;34m'next_state'\u001b[0m\u001b[0;34m]\u001b[0m\u001b[0;34m)\u001b[0m\u001b[0;34m[\u001b[0m\u001b[0;34m[\u001b[0m\u001b[0;34m'num_cache'\u001b[0m\u001b[0;34m]\u001b[0m\u001b[0;34m]\u001b[0m\u001b[0;34m\u001b[0m\u001b[0;34m\u001b[0m\u001b[0m\n\u001b[0m\u001b[1;32m      3\u001b[0m     \u001b[0;34m.\u001b[0m\u001b[0mdescribe\u001b[0m\u001b[0;34m(\u001b[0m\u001b[0;34m)\u001b[0m\u001b[0;34m\u001b[0m\u001b[0;34m\u001b[0m\u001b[0m\n\u001b[1;32m      4\u001b[0m     \u001b[0;34m.\u001b[0m\u001b[0mreset_index\u001b[0m\u001b[0;34m(\u001b[0m\u001b[0;34m)\u001b[0m\u001b[0;34m\u001b[0m\u001b[0;34m\u001b[0m\u001b[0m\n\u001b[1;32m      5\u001b[0m     \u001b[0;34m.\u001b[0m\u001b[0msort_values\u001b[0m\u001b[0;34m(\u001b[0m\u001b[0;34m'next_state'\u001b[0m\u001b[0;34m)\u001b[0m\u001b[0;34m\u001b[0m\u001b[0;34m\u001b[0m\u001b[0m\n",
      "\u001b[0;31mNameError\u001b[0m: name 'df' is not defined"
     ]
    }
   ],
   "source": [
    "(\n",
    "    df.groupby(['agents', 'protocols', 'next_state'])[['num_cache']]\n",
    "    .describe()\n",
    "    .reset_index()\n",
    "    .sort_values('next_state')\n",
    ")"
   ]
  },
  {
   "cell_type": "code",
   "execution_count": 45,
   "metadata": {
    "collapsed": false
   },
   "outputs": [
    {
     "ename": "NameError",
     "evalue": "name 'df' is not defined",
     "output_type": "error",
     "traceback": [
      "\u001b[0;31m---------------------------------------------------------------------------\u001b[0m",
      "\u001b[0;31mNameError\u001b[0m                                 Traceback (most recent call last)",
      "\u001b[0;32m<ipython-input-45-169dca10e731>\u001b[0m in \u001b[0;36m<module>\u001b[0;34m\u001b[0m\n\u001b[1;32m      1\u001b[0m (\n\u001b[0;32m----> 2\u001b[0;31m     \u001b[0mdf\u001b[0m\u001b[0;34m\u001b[0m\u001b[0;34m\u001b[0m\u001b[0m\n\u001b[0m\u001b[1;32m      3\u001b[0m     \u001b[0;34m.\u001b[0m\u001b[0mgroupby\u001b[0m\u001b[0;34m(\u001b[0m\u001b[0;34m[\u001b[0m\u001b[0;34m'agents'\u001b[0m\u001b[0;34m,\u001b[0m \u001b[0;34m'protocols'\u001b[0m\u001b[0;34m]\u001b[0m\u001b[0;34m)\u001b[0m\u001b[0;34m\u001b[0m\u001b[0;34m\u001b[0m\u001b[0m\n\u001b[1;32m      4\u001b[0m     \u001b[0;34m.\u001b[0m\u001b[0magg\u001b[0m\u001b[0;34m(\u001b[0m\u001b[0;34m{\u001b[0m\u001b[0;34m'num_cache'\u001b[0m\u001b[0;34m:\u001b[0m \u001b[0;32mlambda\u001b[0m \u001b[0mx\u001b[0m\u001b[0;34m:\u001b[0m \u001b[0mnp\u001b[0m\u001b[0;34m.\u001b[0m\u001b[0mpercentile\u001b[0m\u001b[0;34m(\u001b[0m\u001b[0mx\u001b[0m\u001b[0;34m,\u001b[0m \u001b[0;36m90\u001b[0m\u001b[0;34m)\u001b[0m\u001b[0;34m}\u001b[0m\u001b[0;34m)\u001b[0m\u001b[0;34m\u001b[0m\u001b[0;34m\u001b[0m\u001b[0m\n\u001b[1;32m      5\u001b[0m     \u001b[0;34m.\u001b[0m\u001b[0mreset_index\u001b[0m\u001b[0;34m(\u001b[0m\u001b[0;34m)\u001b[0m\u001b[0;34m\u001b[0m\u001b[0;34m\u001b[0m\u001b[0m\n",
      "\u001b[0;31mNameError\u001b[0m: name 'df' is not defined"
     ]
    }
   ],
   "source": [
    "(\n",
    "    df\n",
    "    .groupby(['agents', 'protocols'])\n",
    "    .agg({'num_cache': lambda x: np.percentile(x, 90)})\n",
    "    .reset_index()\n",
    "    .sort_values(['agents', 'protocols', 'num_cache'])\n",
    ")"
   ]
  },
  {
   "cell_type": "code",
   "execution_count": 46,
   "metadata": {
    "collapsed": false
   },
   "outputs": [
    {
     "ename": "SyntaxError",
     "evalue": "invalid syntax (<ipython-input-46-1060a28701db>, line 1)",
     "output_type": "error",
     "traceback": [
      "\u001b[0;36m  File \u001b[0;32m\"<ipython-input-46-1060a28701db>\"\u001b[0;36m, line \u001b[0;32m1\u001b[0m\n\u001b[0;31m    90 Percentile to Act On Home Screen (Okhttp/h2): 112 Seconds\u001b[0m\n\u001b[0m                ^\u001b[0m\n\u001b[0;31mSyntaxError\u001b[0m\u001b[0;31m:\u001b[0m invalid syntax\n"
     ]
    }
   ],
   "source": [
    "90 Percentile to Act On Home Screen (Okhttp/h2): 112 Seconds\n",
    "90 Percentile to confirm from Home Screen for Cronet / QUIC: 115 seconds"
   ]
  },
  {
   "cell_type": "code",
   "execution_count": null,
   "metadata": {
    "collapsed": true
   },
   "outputs": [],
   "source": []
  },
  {
   "cell_type": "code",
   "execution_count": 47,
   "metadata": {
    "collapsed": false
   },
   "outputs": [
    {
     "ename": "NameError",
     "evalue": "name 'df' is not defined",
     "output_type": "error",
     "traceback": [
      "\u001b[0;31m---------------------------------------------------------------------------\u001b[0m",
      "\u001b[0;31mNameError\u001b[0m                                 Traceback (most recent call last)",
      "\u001b[0;32m<ipython-input-47-118e6fca00bb>\u001b[0m in \u001b[0;36m<module>\u001b[0;34m\u001b[0m\n\u001b[1;32m      4\u001b[0m     \u001b[0;34m+\u001b[0m \u001b[0mfacet_wrap\u001b[0m\u001b[0;34m(\u001b[0m\u001b[0;34m\"~key\"\u001b[0m\u001b[0;34m)\u001b[0m\u001b[0;34m\u001b[0m\u001b[0;34m\u001b[0m\u001b[0m\n\u001b[1;32m      5\u001b[0m     \u001b[0;34m+\u001b[0m \u001b[0mtheme_minimal\u001b[0m\u001b[0;34m(\u001b[0m\u001b[0;34m)\u001b[0m\u001b[0;34m\u001b[0m\u001b[0;34m\u001b[0m\u001b[0m\n\u001b[0;32m----> 6\u001b[0;31m     \u001b[0;34m+\u001b[0m \u001b[0mtheme\u001b[0m\u001b[0;34m(\u001b[0m\u001b[0mfigure_size\u001b[0m\u001b[0;34m=\u001b[0m\u001b[0;34m(\u001b[0m\u001b[0;36m20\u001b[0m\u001b[0;34m,\u001b[0m \u001b[0;36m5\u001b[0m\u001b[0;34m)\u001b[0m\u001b[0;34m)\u001b[0m\u001b[0;34m\u001b[0m\u001b[0;34m\u001b[0m\u001b[0m\n\u001b[0m\u001b[1;32m      7\u001b[0m \u001b[0;34m\u001b[0m\u001b[0m\n\u001b[1;32m      8\u001b[0m )\n",
      "\u001b[0;31mNameError\u001b[0m: name 'df' is not defined"
     ]
    }
   ],
   "source": [
    "(\n",
    "    ggplot(df, aes('np.log(num_cache)'))\n",
    "    + geom_density(aes(colour='next_state'), alpha=0.3)\n",
    "    + facet_wrap(\"~key\")\n",
    "    + theme_minimal()\n",
    "    + theme(figure_size=(20, 5))\n",
    "\n",
    ")"
   ]
  },
  {
   "cell_type": "code",
   "execution_count": null,
   "metadata": {
    "collapsed": true
   },
   "outputs": [],
   "source": []
  },
  {
   "cell_type": "markdown",
   "metadata": {},
   "source": [
    "## Conversion Gain For 5 Cities"
   ]
  },
  {
   "cell_type": "code",
   "execution_count": null,
   "metadata": {
    "collapsed": true
   },
   "outputs": [],
   "source": []
  },
  {
   "cell_type": "code",
   "execution_count": null,
   "metadata": {
    "collapsed": true
   },
   "outputs": [],
   "source": []
  },
  {
   "cell_type": "code",
   "execution_count": null,
   "metadata": {
    "collapsed": true
   },
   "outputs": [],
   "source": []
  },
  {
   "cell_type": "code",
   "execution_count": 48,
   "metadata": {
    "ExecuteTime": {
     "end_time": "2018-11-28T01:05:45.449802Z",
     "start_time": "2018-11-28T01:05:44.991631Z"
    },
    "collapsed": false
   },
   "outputs": [
    {
     "data": {
      "text/html": [
       "<h1>Overall Conversion Gain Based On All Sessions</h1>"
      ],
      "text/plain": [
       "<IPython.core.display.HTML object>"
      ]
     },
     "metadata": {},
     "output_type": "display_data"
    },
    {
     "ename": "NameError",
     "evalue": "name 'androidExpCities' is not defined",
     "output_type": "error",
     "traceback": [
      "\u001b[0;31m---------------------------------------------------------------------------\u001b[0m",
      "\u001b[0;31mNameError\u001b[0m                                 Traceback (most recent call last)",
      "\u001b[0;32m<ipython-input-48-8c046972b360>\u001b[0m in \u001b[0;36m<module>\u001b[0;34m\u001b[0m\n\u001b[1;32m     14\u001b[0m display(stylize(\n\u001b[1;32m     15\u001b[0m     overallAnalysis(\n\u001b[0;32m---> 16\u001b[0;31m         \u001b[0moverallAnalysisPreprocessing\u001b[0m\u001b[0;34m(\u001b[0m\u001b[0mandroidExpCities\u001b[0m\u001b[0;34m)\u001b[0m\u001b[0;34m\u001b[0m\u001b[0;34m\u001b[0m\u001b[0m\n\u001b[0m\u001b[1;32m     17\u001b[0m     )[FIELDS]\n\u001b[1;32m     18\u001b[0m ))\n",
      "\u001b[0;31mNameError\u001b[0m: name 'androidExpCities' is not defined"
     ]
    }
   ],
   "source": [
    "def overallAnalysisPreprocessing(data):\n",
    "    df = (\n",
    "        data\n",
    "        .groupby(['n_completed', 'agents'])\n",
    "        .size()\n",
    "        .reset_index()\n",
    "        .rename(columns={0: 'cnt'})\n",
    "    )\n",
    "    df['col'] = df.apply(lambda x: x.agents + ['_missed', '_hit'][x.n_completed], axis=1)\n",
    "    df = df.pivot_table(columns='col', values='cnt')\n",
    "    return df\n",
    "\n",
    "display(HTML(\"<h1>Overall Conversion Gain Based On All Sessions</h1>\"))\n",
    "display(stylize(\n",
    "    overallAnalysis(\n",
    "        overallAnalysisPreprocessing(androidExpCities)\n",
    "    )[FIELDS]\n",
    "))\n",
    "\n",
    "display(HTML(\"<h1>Overall Conversion Gain Based On Intentful Sessions</h1>\"))\n",
    "display(stylize(\n",
    "    overallAnalysis(\n",
    "        overallAnalysisPreprocessing(androidExpCities[androidExpCities.is_intentful])\n",
    "    )[FIELDS]\n",
    "))"
   ]
  },
  {
   "cell_type": "markdown",
   "metadata": {},
   "source": [
    "## By Protocols"
   ]
  },
  {
   "cell_type": "code",
   "execution_count": 49,
   "metadata": {
    "collapsed": false
   },
   "outputs": [
    {
     "ename": "NameError",
     "evalue": "name 'androidExpCities' is not defined",
     "output_type": "error",
     "traceback": [
      "\u001b[0;31m---------------------------------------------------------------------------\u001b[0m",
      "\u001b[0;31mNameError\u001b[0m                                 Traceback (most recent call last)",
      "\u001b[0;32m<ipython-input-49-e33ef182003d>\u001b[0m in \u001b[0;36m<module>\u001b[0;34m\u001b[0m\n\u001b[0;32m----> 1\u001b[0;31m \u001b[0mandroidExpCities\u001b[0m\u001b[0;34m.\u001b[0m\u001b[0mgroupby\u001b[0m\u001b[0;34m(\u001b[0m\u001b[0;34m[\u001b[0m\u001b[0;34m'hosts'\u001b[0m\u001b[0;34m,\u001b[0m \u001b[0;34m'agents'\u001b[0m\u001b[0;34m,\u001b[0m \u001b[0;34m'protocols'\u001b[0m\u001b[0;34m]\u001b[0m\u001b[0;34m)\u001b[0m\u001b[0;34m.\u001b[0m\u001b[0msize\u001b[0m\u001b[0;34m(\u001b[0m\u001b[0;34m)\u001b[0m\u001b[0;34m.\u001b[0m\u001b[0mreset_index\u001b[0m\u001b[0;34m(\u001b[0m\u001b[0;34m)\u001b[0m\u001b[0;34m\u001b[0m\u001b[0;34m\u001b[0m\u001b[0m\n\u001b[0m",
      "\u001b[0;31mNameError\u001b[0m: name 'androidExpCities' is not defined"
     ]
    }
   ],
   "source": [
    "androidExpCities.groupby(['hosts', 'agents', 'protocols']).size().reset_index()"
   ]
  },
  {
   "cell_type": "markdown",
   "metadata": {
    "ExecuteTime": {
     "start_time": "2018-11-27T23:16:23.962Z"
    }
   },
   "source": [
    "### Latency Distribution"
   ]
  },
  {
   "cell_type": "code",
   "execution_count": 50,
   "metadata": {
    "collapsed": false
   },
   "outputs": [
    {
     "name": "stderr",
     "output_type": "stream",
     "text": [
      "UsageError: Cell magic `%%presto` not found.\n"
     ]
    }
   ],
   "source": [
    "%%presto --variable latenciesData --email ragrawal@uber.com --cache --use-cache\n",
    "\n",
    "SELECT\n",
    "    agents\n",
    "    , protocols\n",
    "    , hosts\n",
    "    , COUNT(*) as num_sesions\n",
    "    , APPROX_DISTINCT(CONCAT(s.session_id, '|', s.user_uuid)) as num_distinct_sessions\n",
    "    , APPROX_PERCENTILE(duration, ARRAY [0.1, 0.2, 0.3, 0.4, 0.5, 0.6, 0.7, 0.8, 0.9, 0.95, 0.99]) as latencies\n",
    "FROM dsp.quic s\n",
    "JOIN dsp.quic_latencies r\n",
    "ON (s.session_id = r.session_id AND s.user_uuid = r.user_uuid)\n",
    "WHERE\n",
    "    city in ('sao_paulo', 'london', 'los_angeles', 'cairo', 'new_delhi')\n",
    "    AND os_type = 'android'\n",
    "    AND hosts = 'cfe'\n",
    "    AND NOT is_admin_user\n",
    "    AND \n",
    "    (\n",
    "        ( agents = 'cronet' AND protocols IN ('quic', 'h2'))\n",
    "        OR (agents = 'okhttp' AND protocols = 'h2')\n",
    "    )\n",
    "GROUP BY agents, hosts, protocols"
   ]
  },
  {
   "cell_type": "code",
   "execution_count": 51,
   "metadata": {
    "collapsed": false
   },
   "outputs": [
    {
     "ename": "NameError",
     "evalue": "name 'processLatencyData' is not defined",
     "output_type": "error",
     "traceback": [
      "\u001b[0;31m---------------------------------------------------------------------------\u001b[0m",
      "\u001b[0;31mNameError\u001b[0m                                 Traceback (most recent call last)",
      "\u001b[0;32m<ipython-input-51-3e59d00b8e59>\u001b[0m in \u001b[0;36m<module>\u001b[0;34m\u001b[0m\n\u001b[0;32m----> 1\u001b[0;31m \u001b[0mlatenciesData\u001b[0m \u001b[0;34m=\u001b[0m \u001b[0mprocessLatencyData\u001b[0m\u001b[0;34m(\u001b[0m\u001b[0mlatenciesData\u001b[0m\u001b[0;34m)\u001b[0m\u001b[0;34m\u001b[0m\u001b[0;34m\u001b[0m\u001b[0m\n\u001b[0m",
      "\u001b[0;31mNameError\u001b[0m: name 'processLatencyData' is not defined"
     ]
    }
   ],
   "source": [
    "latenciesData = processLatencyData(latenciesData)"
   ]
  },
  {
   "cell_type": "code",
   "execution_count": 52,
   "metadata": {
    "collapsed": false
   },
   "outputs": [
    {
     "ename": "NameError",
     "evalue": "name 'latenciesData' is not defined",
     "output_type": "error",
     "traceback": [
      "\u001b[0;31m---------------------------------------------------------------------------\u001b[0m",
      "\u001b[0;31mNameError\u001b[0m                                 Traceback (most recent call last)",
      "\u001b[0;32m<ipython-input-52-9ff6edf86e9f>\u001b[0m in \u001b[0;36m<module>\u001b[0;34m\u001b[0m\n\u001b[1;32m      1\u001b[0m \u001b[0mkeys\u001b[0m \u001b[0;34m=\u001b[0m \u001b[0;34m[\u001b[0m\u001b[0;34m'agents'\u001b[0m\u001b[0;34m,\u001b[0m \u001b[0;34m'hosts'\u001b[0m\u001b[0;34m,\u001b[0m \u001b[0;34m'protocols'\u001b[0m\u001b[0;34m]\u001b[0m\u001b[0;34m\u001b[0m\u001b[0;34m\u001b[0m\u001b[0m\n\u001b[1;32m      2\u001b[0m df = (\n\u001b[0;32m----> 3\u001b[0;31m     \u001b[0mlatenciesData\u001b[0m\u001b[0;34m\u001b[0m\u001b[0;34m\u001b[0m\u001b[0m\n\u001b[0m\u001b[1;32m      4\u001b[0m     \u001b[0;34m.\u001b[0m\u001b[0mset_index\u001b[0m\u001b[0;34m(\u001b[0m\u001b[0mkeys\u001b[0m\u001b[0;34m)\u001b[0m\u001b[0;34m\u001b[0m\u001b[0;34m\u001b[0m\u001b[0m\n\u001b[1;32m      5\u001b[0m     \u001b[0;34m.\u001b[0m\u001b[0mapply\u001b[0m\u001b[0;34m(\u001b[0m\u001b[0;32mlambda\u001b[0m \u001b[0mx\u001b[0m\u001b[0;34m:\u001b[0m \u001b[0mpd\u001b[0m\u001b[0;34m.\u001b[0m\u001b[0mSeries\u001b[0m\u001b[0;34m(\u001b[0m\u001b[0mdict\u001b[0m\u001b[0;34m(\u001b[0m\u001b[0mzip\u001b[0m\u001b[0;34m(\u001b[0m\u001b[0mDISTRIBUTIONS\u001b[0m\u001b[0;34m,\u001b[0m \u001b[0mx\u001b[0m\u001b[0;34m.\u001b[0m\u001b[0mlatencies\u001b[0m\u001b[0;34m)\u001b[0m\u001b[0;34m)\u001b[0m\u001b[0;34m)\u001b[0m\u001b[0;34m,\u001b[0m \u001b[0maxis\u001b[0m\u001b[0;34m=\u001b[0m\u001b[0;36m1\u001b[0m\u001b[0;34m)\u001b[0m\u001b[0;34m\u001b[0m\u001b[0;34m\u001b[0m\u001b[0m\n",
      "\u001b[0;31mNameError\u001b[0m: name 'latenciesData' is not defined"
     ]
    }
   ],
   "source": [
    "keys = ['agents', 'hosts', 'protocols']\n",
    "df = (\n",
    "    latenciesData\n",
    "    .set_index(keys)\n",
    "    .apply(lambda x: pd.Series(dict(zip(DISTRIBUTIONS, x.latencies))), axis=1)\n",
    "    .reset_index()\n",
    "    .melt(id_vars=keys, value_vars=DISTRIBUTIONS, value_name='latency', var_name='latencyBucket')\n",
    "    .reset_index()\n",
    ")\n",
    "df['key'] = df.apply(lambda x: \"{}/{}/{}\".format(x.hosts, x.agents, x.protocols), axis=1)"
   ]
  },
  {
   "cell_type": "code",
   "execution_count": 53,
   "metadata": {
    "ExecuteTime": {
     "end_time": "2018-11-28T01:11:44.405837Z",
     "start_time": "2018-11-28T01:11:42.927337Z"
    },
    "collapsed": false
   },
   "outputs": [
    {
     "ename": "NameError",
     "evalue": "name 'df' is not defined",
     "output_type": "error",
     "traceback": [
      "\u001b[0;31m---------------------------------------------------------------------------\u001b[0m",
      "\u001b[0;31mNameError\u001b[0m                                 Traceback (most recent call last)",
      "\u001b[0;32m<ipython-input-53-cc40cc4c0433>\u001b[0m in \u001b[0;36m<module>\u001b[0;34m\u001b[0m\n\u001b[1;32m      5\u001b[0m     \u001b[0;34m+\u001b[0m \u001b[0mtheme_minimal\u001b[0m\u001b[0;34m(\u001b[0m\u001b[0;34m)\u001b[0m\u001b[0;34m\u001b[0m\u001b[0;34m\u001b[0m\u001b[0m\n\u001b[1;32m      6\u001b[0m     \u001b[0;34m+\u001b[0m \u001b[0mtheme\u001b[0m\u001b[0;34m(\u001b[0m\u001b[0mfigure_size\u001b[0m\u001b[0;34m=\u001b[0m\u001b[0;34m(\u001b[0m\u001b[0;36m20\u001b[0m\u001b[0;34m,\u001b[0m \u001b[0;36m8\u001b[0m\u001b[0;34m)\u001b[0m\u001b[0;34m)\u001b[0m\u001b[0;34m\u001b[0m\u001b[0;34m\u001b[0m\u001b[0m\n\u001b[0;32m----> 7\u001b[0;31m     \u001b[0;34m+\u001b[0m \u001b[0mxlab\u001b[0m\u001b[0;34m(\u001b[0m\u001b[0;34m\"Percentile Buckets\"\u001b[0m\u001b[0;34m)\u001b[0m \u001b[0;34m+\u001b[0m \u001b[0mylab\u001b[0m\u001b[0;34m(\u001b[0m\u001b[0;34m\"Observed Latencies\"\u001b[0m\u001b[0;34m)\u001b[0m\u001b[0;34m\u001b[0m\u001b[0;34m\u001b[0m\u001b[0m\n\u001b[0m\u001b[1;32m      8\u001b[0m )\n",
      "\u001b[0;31mNameError\u001b[0m: name 'df' is not defined"
     ]
    }
   ],
   "source": [
    "\n",
    "display(\n",
    "    ggplot(df, aes(x='latencyBucket', y='latency'))\n",
    "    + geom_line(aes(group='key', colour='key'))\n",
    "    + geom_point(aes(group='key', colour='key'))\n",
    "    + theme_minimal()\n",
    "    + theme(figure_size=(20, 8))\n",
    "    + xlab(\"Percentile Buckets\") + ylab(\"Observed Latencies\")\n",
    ")"
   ]
  },
  {
   "cell_type": "markdown",
   "metadata": {},
   "source": [
    "### User Behavior"
   ]
  },
  {
   "cell_type": "code",
   "execution_count": 54,
   "metadata": {
    "collapsed": false
   },
   "outputs": [
    {
     "ename": "NameError",
     "evalue": "name 'androidExpCities' is not defined",
     "output_type": "error",
     "traceback": [
      "\u001b[0;31m---------------------------------------------------------------------------\u001b[0m",
      "\u001b[0;31mNameError\u001b[0m                                 Traceback (most recent call last)",
      "\u001b[0;32m<ipython-input-54-9384dedc7f9b>\u001b[0m in \u001b[0;36m<module>\u001b[0;34m\u001b[0m\n\u001b[0;32m----> 1\u001b[0;31m \u001b[0mdisplay\u001b[0m\u001b[0;34m(\u001b[0m\u001b[0mandroidExpCities\u001b[0m\u001b[0;34m.\u001b[0m\u001b[0mgroupby\u001b[0m\u001b[0;34m(\u001b[0m\u001b[0;34m'agents'\u001b[0m\u001b[0;34m)\u001b[0m\u001b[0;34m[\u001b[0m\u001b[0;34m'eventLen'\u001b[0m\u001b[0;34m]\u001b[0m\u001b[0;34m.\u001b[0m\u001b[0mdescribe\u001b[0m\u001b[0;34m(\u001b[0m\u001b[0;34m)\u001b[0m\u001b[0;34m)\u001b[0m\u001b[0;34m\u001b[0m\u001b[0;34m\u001b[0m\u001b[0m\n\u001b[0m\u001b[1;32m      2\u001b[0m display(stats.ks_2samp(\n\u001b[1;32m      3\u001b[0m     \u001b[0mandroidExpCities\u001b[0m\u001b[0;34m[\u001b[0m\u001b[0mandroidExpCities\u001b[0m\u001b[0;34m.\u001b[0m\u001b[0magents\u001b[0m \u001b[0;34m==\u001b[0m \u001b[0;34m'cronet'\u001b[0m\u001b[0;34m]\u001b[0m\u001b[0;34m.\u001b[0m\u001b[0meventLen\u001b[0m\u001b[0;34m.\u001b[0m\u001b[0mvalues\u001b[0m\u001b[0;34m,\u001b[0m\u001b[0;34m\u001b[0m\u001b[0;34m\u001b[0m\u001b[0m\n\u001b[1;32m      4\u001b[0m     \u001b[0mandroidExpCities\u001b[0m\u001b[0;34m[\u001b[0m\u001b[0mandroidExpCities\u001b[0m\u001b[0;34m.\u001b[0m\u001b[0magents\u001b[0m \u001b[0;34m==\u001b[0m \u001b[0;34m'okhttp'\u001b[0m\u001b[0;34m]\u001b[0m\u001b[0;34m.\u001b[0m\u001b[0meventLen\u001b[0m\u001b[0;34m.\u001b[0m\u001b[0mvalues\u001b[0m\u001b[0;34m,\u001b[0m\u001b[0;34m\u001b[0m\u001b[0;34m\u001b[0m\u001b[0m\n\u001b[1;32m      5\u001b[0m ))\n",
      "\u001b[0;31mNameError\u001b[0m: name 'androidExpCities' is not defined"
     ]
    }
   ],
   "source": [
    "display(androidExpCities.groupby('agents')['eventLen'].describe())\n",
    "display(stats.ks_2samp(\n",
    "    androidExpCities[androidExpCities.agents == 'cronet'].eventLen.values,\n",
    "    androidExpCities[androidExpCities.agents == 'okhttp'].eventLen.values,\n",
    "))"
   ]
  },
  {
   "cell_type": "code",
   "execution_count": 55,
   "metadata": {
    "collapsed": false
   },
   "outputs": [
    {
     "ename": "NameError",
     "evalue": "name 'androidExpCities' is not defined",
     "output_type": "error",
     "traceback": [
      "\u001b[0;31m---------------------------------------------------------------------------\u001b[0m",
      "\u001b[0;31mNameError\u001b[0m                                 Traceback (most recent call last)",
      "\u001b[0;32m<ipython-input-55-d1ee4baf089f>\u001b[0m in \u001b[0;36m<module>\u001b[0;34m\u001b[0m\n\u001b[1;32m      1\u001b[0m (\n\u001b[0;32m----> 2\u001b[0;31m     \u001b[0mggplot\u001b[0m\u001b[0;34m(\u001b[0m\u001b[0mandroidExpCities\u001b[0m\u001b[0;34m.\u001b[0m\u001b[0msample\u001b[0m\u001b[0;34m(\u001b[0m\u001b[0;36m10000\u001b[0m\u001b[0;34m)\u001b[0m\u001b[0;34m,\u001b[0m \u001b[0maes\u001b[0m\u001b[0;34m(\u001b[0m\u001b[0;34m'np.log(eventLen)'\u001b[0m\u001b[0;34m)\u001b[0m\u001b[0;34m)\u001b[0m\u001b[0;34m\u001b[0m\u001b[0;34m\u001b[0m\u001b[0m\n\u001b[0m\u001b[1;32m      3\u001b[0m     \u001b[0;34m+\u001b[0m \u001b[0mgeom_density\u001b[0m\u001b[0;34m(\u001b[0m\u001b[0maes\u001b[0m\u001b[0;34m(\u001b[0m\u001b[0mcolour\u001b[0m\u001b[0;34m=\u001b[0m\u001b[0;34m'agents'\u001b[0m\u001b[0;34m)\u001b[0m\u001b[0;34m,\u001b[0m \u001b[0malpha\u001b[0m\u001b[0;34m=\u001b[0m\u001b[0;36m0.25\u001b[0m\u001b[0;34m)\u001b[0m\u001b[0;34m\u001b[0m\u001b[0;34m\u001b[0m\u001b[0m\n\u001b[1;32m      4\u001b[0m )\n",
      "\u001b[0;31mNameError\u001b[0m: name 'androidExpCities' is not defined"
     ]
    }
   ],
   "source": [
    "(\n",
    "    ggplot(androidExpCities.sample(10000), aes('np.log(eventLen)'))\n",
    "    + geom_density(aes(colour='agents'), alpha=0.25)\n",
    ")"
   ]
  },
  {
   "cell_type": "code",
   "execution_count": 56,
   "metadata": {
    "collapsed": false
   },
   "outputs": [
    {
     "ename": "SyntaxError",
     "evalue": "Missing parentheses in call to 'print'. Did you mean print(agent)? (<ipython-input-56-e25d75bfa698>, line 20)",
     "output_type": "error",
     "traceback": [
      "\u001b[0;36m  File \u001b[0;32m\"<ipython-input-56-e25d75bfa698>\"\u001b[0;36m, line \u001b[0;32m20\u001b[0m\n\u001b[0;31m    print agent\u001b[0m\n\u001b[0m              ^\u001b[0m\n\u001b[0;31mSyntaxError\u001b[0m\u001b[0;31m:\u001b[0m Missing parentheses in call to 'print'. Did you mean print(agent)?\n"
     ]
    }
   ],
   "source": [
    "import collections\n",
    "from tqdm import tqdm\n",
    "\n",
    "df = androidExpCities[(androidExpCities.events.apply(len) > 1)].groupby('agents').apply(lambda x: x.sample(20000)).reset_index(drop=True)\n",
    "\n",
    "transitionsDict = dict((x, collections.defaultdict(float)) for x in AGENTS)\n",
    "sourcesDict = dict((x, collections.defaultdict(float)) for x in AGENTS)\n",
    "for idx, row in tqdm(df.iterrows(), total=df.shape[0]):\n",
    "# for idx, row in df.iterrows():\n",
    "    agent = row.agents\n",
    "    tokens = row.events\n",
    "    source = tokens[0]\n",
    "    for target in tokens[1:]:\n",
    "        transitionsDict[agent][(source, target)] += 1\n",
    "        sourcesDict[agent][source] += 1\n",
    "        source = target\n",
    "\n",
    "output = []\n",
    "for agent in AGENTS:\n",
    "    print agent\n",
    "    for t, c in transitionsDict[agent].items():\n",
    "        output.append([agent, t[0], t[1], c, c/sourcesDict[agent][t[0]]])\n",
    "        \n",
    "df = pd.DataFrame(output, columns=['agent', 'source', 'target', 'cnt', 'prob'])"
   ]
  },
  {
   "cell_type": "code",
   "execution_count": 57,
   "metadata": {
    "collapsed": false
   },
   "outputs": [
    {
     "ename": "NameError",
     "evalue": "name 'df' is not defined",
     "output_type": "error",
     "traceback": [
      "\u001b[0;31m---------------------------------------------------------------------------\u001b[0m",
      "\u001b[0;31mNameError\u001b[0m                                 Traceback (most recent call last)",
      "\u001b[0;32m<ipython-input-57-c82147edc821>\u001b[0m in \u001b[0;36m<module>\u001b[0;34m\u001b[0m\n\u001b[0;32m----> 1\u001b[0;31m \u001b[0mdf\u001b[0m\u001b[0;34m[\u001b[0m\u001b[0;34m'sourceName'\u001b[0m\u001b[0;34m]\u001b[0m \u001b[0;34m=\u001b[0m \u001b[0mdf\u001b[0m\u001b[0;34m.\u001b[0m\u001b[0msource\u001b[0m\u001b[0;34m.\u001b[0m\u001b[0mapply\u001b[0m\u001b[0;34m(\u001b[0m\u001b[0;32mlambda\u001b[0m \u001b[0mx\u001b[0m\u001b[0;34m:\u001b[0m \u001b[0mEVENTS\u001b[0m\u001b[0;34m[\u001b[0m\u001b[0mx\u001b[0m\u001b[0;34m]\u001b[0m\u001b[0;34m)\u001b[0m\u001b[0;34m\u001b[0m\u001b[0;34m\u001b[0m\u001b[0m\n\u001b[0m\u001b[1;32m      2\u001b[0m \u001b[0mdf\u001b[0m\u001b[0;34m[\u001b[0m\u001b[0;34m'targetName'\u001b[0m\u001b[0;34m]\u001b[0m \u001b[0;34m=\u001b[0m \u001b[0mdf\u001b[0m\u001b[0;34m.\u001b[0m\u001b[0mtarget\u001b[0m\u001b[0;34m.\u001b[0m\u001b[0mapply\u001b[0m\u001b[0;34m(\u001b[0m\u001b[0;32mlambda\u001b[0m \u001b[0mx\u001b[0m\u001b[0;34m:\u001b[0m \u001b[0mEVENTS\u001b[0m\u001b[0;34m[\u001b[0m\u001b[0mx\u001b[0m\u001b[0;34m]\u001b[0m\u001b[0;34m)\u001b[0m\u001b[0;34m\u001b[0m\u001b[0;34m\u001b[0m\u001b[0m\n\u001b[1;32m      3\u001b[0m \u001b[0mdf\u001b[0m\u001b[0;34m[\u001b[0m\u001b[0;34m'label'\u001b[0m\u001b[0;34m]\u001b[0m \u001b[0;34m=\u001b[0m \u001b[0mdf\u001b[0m\u001b[0;34m.\u001b[0m\u001b[0mprob\u001b[0m\u001b[0;34m.\u001b[0m\u001b[0mapply\u001b[0m\u001b[0;34m(\u001b[0m\u001b[0;32mlambda\u001b[0m \u001b[0mx\u001b[0m\u001b[0;34m:\u001b[0m \u001b[0;34m\"{:.0%}\"\u001b[0m\u001b[0;34m.\u001b[0m\u001b[0mformat\u001b[0m\u001b[0;34m(\u001b[0m\u001b[0mx\u001b[0m\u001b[0;34m)\u001b[0m\u001b[0;34m)\u001b[0m\u001b[0;34m\u001b[0m\u001b[0;34m\u001b[0m\u001b[0m\n",
      "\u001b[0;31mNameError\u001b[0m: name 'df' is not defined"
     ]
    }
   ],
   "source": [
    "df['sourceName'] = df.source.apply(lambda x: EVENTS[x])\n",
    "df['targetName'] = df.target.apply(lambda x: EVENTS[x])\n",
    "df['label'] = df.prob.apply(lambda x: \"{:.0%}\".format(x))"
   ]
  },
  {
   "cell_type": "code",
   "execution_count": 58,
   "metadata": {
    "collapsed": false
   },
   "outputs": [
    {
     "ename": "NameError",
     "evalue": "name 'df' is not defined",
     "output_type": "error",
     "traceback": [
      "\u001b[0;31m---------------------------------------------------------------------------\u001b[0m",
      "\u001b[0;31mNameError\u001b[0m                                 Traceback (most recent call last)",
      "\u001b[0;32m<ipython-input-58-f6deffe891d4>\u001b[0m in \u001b[0;36m<module>\u001b[0;34m\u001b[0m\n\u001b[1;32m      6\u001b[0m     \u001b[0;34m+\u001b[0m \u001b[0mtheme_linedraw\u001b[0m\u001b[0;34m(\u001b[0m\u001b[0;34m)\u001b[0m\u001b[0;34m\u001b[0m\u001b[0;34m\u001b[0m\u001b[0m\n\u001b[1;32m      7\u001b[0m     \u001b[0;34m+\u001b[0m \u001b[0mtheme\u001b[0m\u001b[0;34m(\u001b[0m\u001b[0mfigure_size\u001b[0m\u001b[0;34m=\u001b[0m\u001b[0;34m(\u001b[0m\u001b[0;36m20\u001b[0m\u001b[0;34m,\u001b[0m \u001b[0;36m10\u001b[0m\u001b[0;34m)\u001b[0m\u001b[0;34m,\u001b[0m \u001b[0maxis_text_x\u001b[0m\u001b[0;34m=\u001b[0m\u001b[0melement_text\u001b[0m\u001b[0;34m(\u001b[0m\u001b[0mrotation\u001b[0m\u001b[0;34m=\u001b[0m\u001b[0;36m90\u001b[0m\u001b[0;34m,\u001b[0m \u001b[0mhjust\u001b[0m\u001b[0;34m=\u001b[0m\u001b[0;36m1\u001b[0m\u001b[0;34m)\u001b[0m\u001b[0;34m)\u001b[0m\u001b[0;34m\u001b[0m\u001b[0;34m\u001b[0m\u001b[0m\n\u001b[0;32m----> 8\u001b[0;31m     \u001b[0;34m+\u001b[0m \u001b[0mxlab\u001b[0m\u001b[0;34m(\u001b[0m\u001b[0;34m\"Source\"\u001b[0m\u001b[0;34m)\u001b[0m \u001b[0;34m+\u001b[0m \u001b[0mylab\u001b[0m\u001b[0;34m(\u001b[0m\u001b[0;34m\"Target\"\u001b[0m\u001b[0;34m)\u001b[0m\u001b[0;34m\u001b[0m\u001b[0;34m\u001b[0m\u001b[0m\n\u001b[0m\u001b[1;32m      9\u001b[0m )\n",
      "\u001b[0;31mNameError\u001b[0m: name 'df' is not defined"
     ]
    }
   ],
   "source": [
    "(\n",
    "    ggplot(df, aes(x='sourceName', y='targetName'))\n",
    "    + geom_tile(aes(fill='prob'))\n",
    "    + geom_label(aes(label='label'))\n",
    "    + facet_wrap(\"~agent\")\n",
    "    + theme_linedraw()\n",
    "    + theme(figure_size=(20, 10), axis_text_x=element_text(rotation=90, hjust=1))\n",
    "    + xlab(\"Source\") + ylab(\"Target\")\n",
    ")"
   ]
  },
  {
   "cell_type": "markdown",
   "metadata": {},
   "source": [
    "## By City"
   ]
  },
  {
   "cell_type": "code",
   "execution_count": 59,
   "metadata": {
    "ExecuteTime": {
     "end_time": "2018-11-28T01:11:53.120839Z",
     "start_time": "2018-11-28T01:11:52.548970Z"
    },
    "collapsed": false
   },
   "outputs": [
    {
     "data": {
      "text/html": [
       "<h1>Overall Conversion Gain Based On All Sessions</h1>"
      ],
      "text/plain": [
       "<IPython.core.display.HTML object>"
      ]
     },
     "metadata": {},
     "output_type": "display_data"
    },
    {
     "ename": "NameError",
     "evalue": "name 'androidExpCities' is not defined",
     "output_type": "error",
     "traceback": [
      "\u001b[0;31m---------------------------------------------------------------------------\u001b[0m",
      "\u001b[0;31mNameError\u001b[0m                                 Traceback (most recent call last)",
      "\u001b[0;32m<ipython-input-59-16421e1faa8b>\u001b[0m in \u001b[0;36m<module>\u001b[0;34m\u001b[0m\n\u001b[1;32m     15\u001b[0m display(stylize(\n\u001b[1;32m     16\u001b[0m     overallAnalysis(\n\u001b[0;32m---> 17\u001b[0;31m         \u001b[0moverallAnalysisPreprocessing\u001b[0m\u001b[0;34m(\u001b[0m\u001b[0mandroidExpCities\u001b[0m\u001b[0;34m)\u001b[0m\u001b[0;34m\u001b[0m\u001b[0;34m\u001b[0m\u001b[0m\n\u001b[0m\u001b[1;32m     18\u001b[0m     )[FIELDS]\n\u001b[1;32m     19\u001b[0m ))\n",
      "\u001b[0;31mNameError\u001b[0m: name 'androidExpCities' is not defined"
     ]
    }
   ],
   "source": [
    "def overallAnalysisPreprocessing(data):\n",
    "    df = (\n",
    "        data\n",
    "        .groupby(['city', 'n_completed', 'agents'])\n",
    "        .size()\n",
    "        .reset_index()\n",
    "        .rename(columns={0: 'cnt'})\n",
    "    )\n",
    "    df['col'] = df.apply(lambda x: x.agents + ['_missed', '_hit'][x.n_completed], axis=1)\n",
    "    df = df.pivot_table(index='city', columns='col', values='cnt')\n",
    "    return df\n",
    "\n",
    "\n",
    "display(HTML(\"<h1>Overall Conversion Gain Based On All Sessions</h1>\"))\n",
    "display(stylize(\n",
    "    overallAnalysis(\n",
    "        overallAnalysisPreprocessing(androidExpCities)\n",
    "    )[FIELDS]\n",
    "))\n",
    "\n",
    "display(HTML(\"<h1>Overall Conversion Gain Based On Intentful Sessions</h1>\"))\n",
    "display(stylize(\n",
    "    overallAnalysis(\n",
    "        overallAnalysisPreprocessing(androidExpCities[androidExpCities.is_intentful])\n",
    "    )[FIELDS]\n",
    "))"
   ]
  },
  {
   "cell_type": "markdown",
   "metadata": {},
   "source": [
    "### Latency Distribution"
   ]
  },
  {
   "cell_type": "code",
   "execution_count": 60,
   "metadata": {
    "collapsed": false
   },
   "outputs": [
    {
     "name": "stderr",
     "output_type": "stream",
     "text": [
      "UsageError: Cell magic `%%presto` not found.\n"
     ]
    }
   ],
   "source": [
    "%%presto --variable latenciesData --email ragrawal@uber.com --cache --use-cache\n",
    "\n",
    "SELECT\n",
    "    city\n",
    "    , agents\n",
    "    , protocols\n",
    "    , hosts\n",
    "    , COUNT(*) as num_sesions\n",
    "    , APPROX_DISTINCT(CONCAT(s.session_id, '|', s.user_uuid)) as num_distinct_sessions\n",
    "    , APPROX_PERCENTILE(duration, ARRAY [0.1, 0.2, 0.3, 0.4, 0.5, 0.6, 0.7, 0.8, 0.9, 0.95, 0.99]) as latencies\n",
    "FROM dsp.quic s\n",
    "JOIN dsp.quic_latencies r\n",
    "ON (s.session_id = r.session_id AND s.user_uuid = r.user_uuid)\n",
    "WHERE\n",
    "        city in ('sao_paulo', 'london', 'los_angeles', 'cairo', 'new_delhi')\n",
    "        AND os_type = 'android'\n",
    "        AND hosts = 'cfe'\n",
    "        AND \n",
    "        (\n",
    "            ( agents = 'cronet' AND protocols = 'quic')\n",
    "            OR (agents = 'okhttp' AND protocols = 'h2')\n",
    "        )\n",
    "GROUP BY city, agents, hosts, protocols"
   ]
  },
  {
   "cell_type": "code",
   "execution_count": 61,
   "metadata": {
    "collapsed": false
   },
   "outputs": [
    {
     "ename": "NameError",
     "evalue": "name 'latenciesData' is not defined",
     "output_type": "error",
     "traceback": [
      "\u001b[0;31m---------------------------------------------------------------------------\u001b[0m",
      "\u001b[0;31mNameError\u001b[0m                                 Traceback (most recent call last)",
      "\u001b[0;32m<ipython-input-61-8a4e24f95d66>\u001b[0m in \u001b[0;36m<module>\u001b[0;34m\u001b[0m\n\u001b[1;32m      1\u001b[0m \u001b[0mkeys\u001b[0m \u001b[0;34m=\u001b[0m \u001b[0;34m[\u001b[0m\u001b[0;34m'city'\u001b[0m\u001b[0;34m,\u001b[0m \u001b[0;34m'agents'\u001b[0m\u001b[0;34m,\u001b[0m \u001b[0;34m'protocols'\u001b[0m\u001b[0;34m,\u001b[0m \u001b[0;34m'hosts'\u001b[0m\u001b[0;34m]\u001b[0m\u001b[0;34m\u001b[0m\u001b[0;34m\u001b[0m\u001b[0m\n\u001b[1;32m      2\u001b[0m df = (\n\u001b[0;32m----> 3\u001b[0;31m     \u001b[0mlatenciesData\u001b[0m\u001b[0;34m\u001b[0m\u001b[0;34m\u001b[0m\u001b[0m\n\u001b[0m\u001b[1;32m      4\u001b[0m     \u001b[0;34m.\u001b[0m\u001b[0mset_index\u001b[0m\u001b[0;34m(\u001b[0m\u001b[0mkeys\u001b[0m\u001b[0;34m)\u001b[0m\u001b[0;34m\u001b[0m\u001b[0;34m\u001b[0m\u001b[0m\n\u001b[1;32m      5\u001b[0m     \u001b[0;34m.\u001b[0m\u001b[0mapply\u001b[0m\u001b[0;34m(\u001b[0m\u001b[0;32mlambda\u001b[0m \u001b[0mx\u001b[0m\u001b[0;34m:\u001b[0m \u001b[0mpd\u001b[0m\u001b[0;34m.\u001b[0m\u001b[0mSeries\u001b[0m\u001b[0;34m(\u001b[0m\u001b[0mdict\u001b[0m\u001b[0;34m(\u001b[0m\u001b[0mzip\u001b[0m\u001b[0;34m(\u001b[0m\u001b[0mDISTRIBUTIONS\u001b[0m\u001b[0;34m,\u001b[0m \u001b[0mlatency_parser\u001b[0m\u001b[0;34m(\u001b[0m\u001b[0mx\u001b[0m\u001b[0;34m.\u001b[0m\u001b[0mlatencies\u001b[0m\u001b[0;34m)\u001b[0m\u001b[0;34m)\u001b[0m\u001b[0;34m)\u001b[0m\u001b[0;34m)\u001b[0m\u001b[0;34m,\u001b[0m \u001b[0maxis\u001b[0m\u001b[0;34m=\u001b[0m\u001b[0;36m1\u001b[0m\u001b[0;34m)\u001b[0m\u001b[0;34m\u001b[0m\u001b[0;34m\u001b[0m\u001b[0m\n",
      "\u001b[0;31mNameError\u001b[0m: name 'latenciesData' is not defined"
     ]
    }
   ],
   "source": [
    "keys = ['city', 'agents', 'protocols', 'hosts']\n",
    "df = (\n",
    "    latenciesData\n",
    "    .set_index(keys)\n",
    "    .apply(lambda x: pd.Series(dict(zip(DISTRIBUTIONS, latency_parser(x.latencies)))), axis=1)\n",
    "    .reset_index()\n",
    "    .melt(id_vars=keys, value_vars=DISTRIBUTIONS, value_name='latency', var_name='latencyBucket')\n",
    "    .reset_index()\n",
    ")"
   ]
  },
  {
   "cell_type": "code",
   "execution_count": 62,
   "metadata": {
    "collapsed": false
   },
   "outputs": [
    {
     "ename": "NameError",
     "evalue": "name 'df' is not defined",
     "output_type": "error",
     "traceback": [
      "\u001b[0;31m---------------------------------------------------------------------------\u001b[0m",
      "\u001b[0;31mNameError\u001b[0m                                 Traceback (most recent call last)",
      "\u001b[0;32m<ipython-input-62-373c55b56b5f>\u001b[0m in \u001b[0;36m<module>\u001b[0;34m\u001b[0m\n\u001b[0;32m----> 1\u001b[0;31m \u001b[0mdfRow\u001b[0m \u001b[0;34m=\u001b[0m \u001b[0mdf\u001b[0m\u001b[0;34m.\u001b[0m\u001b[0mpivot_table\u001b[0m\u001b[0;34m(\u001b[0m\u001b[0mindex\u001b[0m\u001b[0;34m=\u001b[0m\u001b[0;34m[\u001b[0m\u001b[0;34m'city'\u001b[0m\u001b[0;34m,\u001b[0m \u001b[0;34m'latencyBucket'\u001b[0m\u001b[0;34m]\u001b[0m\u001b[0;34m,\u001b[0m \u001b[0mcolumns\u001b[0m\u001b[0;34m=\u001b[0m\u001b[0;34m'agents'\u001b[0m\u001b[0;34m,\u001b[0m \u001b[0mvalues\u001b[0m\u001b[0;34m=\u001b[0m\u001b[0;34m'latency'\u001b[0m\u001b[0;34m)\u001b[0m\u001b[0;34m.\u001b[0m\u001b[0mreset_index\u001b[0m\u001b[0;34m(\u001b[0m\u001b[0;34m)\u001b[0m\u001b[0;34m\u001b[0m\u001b[0;34m\u001b[0m\u001b[0m\n\u001b[0m\u001b[1;32m      2\u001b[0m \u001b[0mdfRow\u001b[0m\u001b[0;34m[\u001b[0m\u001b[0;34m'PctDrop'\u001b[0m\u001b[0;34m]\u001b[0m \u001b[0;34m=\u001b[0m \u001b[0;34m(\u001b[0m\u001b[0mdfRow\u001b[0m\u001b[0;34m.\u001b[0m\u001b[0mokhttp\u001b[0m \u001b[0;34m-\u001b[0m \u001b[0mdfRow\u001b[0m\u001b[0;34m.\u001b[0m\u001b[0mcronet\u001b[0m\u001b[0;34m)\u001b[0m \u001b[0;34m*\u001b[0m \u001b[0;36m100.0\u001b[0m \u001b[0;34m/\u001b[0m \u001b[0mdfRow\u001b[0m\u001b[0;34m.\u001b[0m\u001b[0mokhttp\u001b[0m\u001b[0;34m\u001b[0m\u001b[0;34m\u001b[0m\u001b[0m\n",
      "\u001b[0;31mNameError\u001b[0m: name 'df' is not defined"
     ]
    }
   ],
   "source": [
    "dfRow = df.pivot_table(index=['city', 'latencyBucket'], columns='agents', values='latency').reset_index()\n",
    "dfRow['PctDrop'] = (dfRow.okhttp - dfRow.cronet) * 100.0 / dfRow.okhttp"
   ]
  },
  {
   "cell_type": "code",
   "execution_count": 63,
   "metadata": {
    "ExecuteTime": {
     "end_time": "2018-11-28T01:11:44.405837Z",
     "start_time": "2018-11-28T01:11:42.927337Z"
    },
    "collapsed": false
   },
   "outputs": [
    {
     "ename": "NameError",
     "evalue": "name 'dfRow' is not defined",
     "output_type": "error",
     "traceback": [
      "\u001b[0;31m---------------------------------------------------------------------------\u001b[0m",
      "\u001b[0;31mNameError\u001b[0m                                 Traceback (most recent call last)",
      "\u001b[0;32m<ipython-input-63-337244516c85>\u001b[0m in \u001b[0;36m<module>\u001b[0;34m\u001b[0m\n\u001b[1;32m      4\u001b[0m     \u001b[0;34m+\u001b[0m \u001b[0mgeom_point\u001b[0m\u001b[0;34m(\u001b[0m\u001b[0maes\u001b[0m\u001b[0;34m(\u001b[0m\u001b[0mcolour\u001b[0m\u001b[0;34m=\u001b[0m\u001b[0;34m'city'\u001b[0m\u001b[0;34m)\u001b[0m\u001b[0;34m)\u001b[0m\u001b[0;34m\u001b[0m\u001b[0;34m\u001b[0m\u001b[0m\n\u001b[1;32m      5\u001b[0m     \u001b[0;34m+\u001b[0m \u001b[0mtheme_minimal\u001b[0m\u001b[0;34m(\u001b[0m\u001b[0;34m)\u001b[0m\u001b[0;34m\u001b[0m\u001b[0;34m\u001b[0m\u001b[0m\n\u001b[0;32m----> 6\u001b[0;31m     \u001b[0;34m+\u001b[0m \u001b[0mtheme\u001b[0m\u001b[0;34m(\u001b[0m\u001b[0mfigure_size\u001b[0m\u001b[0;34m=\u001b[0m\u001b[0;34m(\u001b[0m\u001b[0;36m20\u001b[0m\u001b[0;34m,\u001b[0m \u001b[0;36m8\u001b[0m\u001b[0;34m)\u001b[0m\u001b[0;34m)\u001b[0m\u001b[0;34m\u001b[0m\u001b[0;34m\u001b[0m\u001b[0m\n\u001b[0m\u001b[1;32m      7\u001b[0m \u001b[0;34m\u001b[0m\u001b[0m\n\u001b[1;32m      8\u001b[0m )\n",
      "\u001b[0;31mNameError\u001b[0m: name 'dfRow' is not defined"
     ]
    }
   ],
   "source": [
    "(\n",
    "    ggplot(dfRow, aes(x='latencyBucket', y='PctDrop'))\n",
    "    + geom_line(aes(colour='city'))\n",
    "    + geom_point(aes(colour='city'))\n",
    "    + theme_minimal()\n",
    "    + theme(figure_size=(20, 8))\n",
    "    \n",
    ")"
   ]
  },
  {
   "cell_type": "markdown",
   "metadata": {},
   "source": [
    "### User Behavior"
   ]
  },
  {
   "cell_type": "code",
   "execution_count": 64,
   "metadata": {
    "collapsed": false
   },
   "outputs": [
    {
     "ename": "NameError",
     "evalue": "name 'androidExpCities' is not defined",
     "output_type": "error",
     "traceback": [
      "\u001b[0;31m---------------------------------------------------------------------------\u001b[0m",
      "\u001b[0;31mNameError\u001b[0m                                 Traceback (most recent call last)",
      "\u001b[0;32m<ipython-input-64-b3a4cca580de>\u001b[0m in \u001b[0;36m<module>\u001b[0;34m\u001b[0m\n\u001b[0;32m----> 1\u001b[0;31m \u001b[0mdisplay\u001b[0m\u001b[0;34m(\u001b[0m\u001b[0mandroidExpCities\u001b[0m\u001b[0;34m.\u001b[0m\u001b[0mgroupby\u001b[0m\u001b[0;34m(\u001b[0m\u001b[0;34m[\u001b[0m\u001b[0;34m'city'\u001b[0m\u001b[0;34m,\u001b[0m \u001b[0;34m'agents'\u001b[0m\u001b[0;34m]\u001b[0m\u001b[0;34m)\u001b[0m\u001b[0;34m[\u001b[0m\u001b[0;34m'eventLen'\u001b[0m\u001b[0;34m]\u001b[0m\u001b[0;34m.\u001b[0m\u001b[0mdescribe\u001b[0m\u001b[0;34m(\u001b[0m\u001b[0;34m)\u001b[0m\u001b[0;34m)\u001b[0m\u001b[0;34m\u001b[0m\u001b[0;34m\u001b[0m\u001b[0m\n\u001b[0m",
      "\u001b[0;31mNameError\u001b[0m: name 'androidExpCities' is not defined"
     ]
    }
   ],
   "source": [
    "display(androidExpCities.groupby(['city', 'agents'])['eventLen'].describe())"
   ]
  },
  {
   "cell_type": "code",
   "execution_count": 65,
   "metadata": {
    "collapsed": false
   },
   "outputs": [
    {
     "ename": "NameError",
     "evalue": "name 'androidExpCities' is not defined",
     "output_type": "error",
     "traceback": [
      "\u001b[0;31m---------------------------------------------------------------------------\u001b[0m",
      "\u001b[0;31mNameError\u001b[0m                                 Traceback (most recent call last)",
      "\u001b[0;32m<ipython-input-65-ef2c82fcfdc4>\u001b[0m in \u001b[0;36m<module>\u001b[0;34m\u001b[0m\n\u001b[1;32m      4\u001b[0m     \u001b[0;34m+\u001b[0m \u001b[0mfacet_wrap\u001b[0m\u001b[0;34m(\u001b[0m\u001b[0;34m\"~city\"\u001b[0m\u001b[0;34m)\u001b[0m\u001b[0;34m\u001b[0m\u001b[0;34m\u001b[0m\u001b[0m\n\u001b[1;32m      5\u001b[0m     \u001b[0;34m+\u001b[0m \u001b[0mtheme_minimal\u001b[0m\u001b[0;34m(\u001b[0m\u001b[0;34m)\u001b[0m\u001b[0;34m\u001b[0m\u001b[0;34m\u001b[0m\u001b[0m\n\u001b[0;32m----> 6\u001b[0;31m     \u001b[0;34m+\u001b[0m \u001b[0mtheme\u001b[0m\u001b[0;34m(\u001b[0m\u001b[0mfigure_size\u001b[0m\u001b[0;34m=\u001b[0m\u001b[0;34m(\u001b[0m\u001b[0;36m20\u001b[0m\u001b[0;34m,\u001b[0m \u001b[0;36m10\u001b[0m\u001b[0;34m)\u001b[0m\u001b[0;34m)\u001b[0m\u001b[0;34m\u001b[0m\u001b[0;34m\u001b[0m\u001b[0m\n\u001b[0m\u001b[1;32m      7\u001b[0m )\n",
      "\u001b[0;31mNameError\u001b[0m: name 'androidExpCities' is not defined"
     ]
    }
   ],
   "source": [
    "(\n",
    "    ggplot(androidExpCities.sample(50000), aes('np.log(eventLen)'))\n",
    "    + geom_density(aes(colour='agents'), alpha=0.25)\n",
    "    + facet_wrap(\"~city\")\n",
    "    + theme_minimal()\n",
    "    + theme(figure_size=(20, 10))\n",
    ")"
   ]
  },
  {
   "cell_type": "code",
   "execution_count": 66,
   "metadata": {
    "collapsed": false
   },
   "outputs": [
    {
     "ename": "NameError",
     "evalue": "name 'androidExpCities' is not defined",
     "output_type": "error",
     "traceback": [
      "\u001b[0;31m---------------------------------------------------------------------------\u001b[0m",
      "\u001b[0;31mNameError\u001b[0m                                 Traceback (most recent call last)",
      "\u001b[0;32m<ipython-input-66-63d8d3e89eb9>\u001b[0m in \u001b[0;36m<module>\u001b[0;34m\u001b[0m\n\u001b[1;32m      2\u001b[0m \u001b[0;32mfrom\u001b[0m \u001b[0mtqdm\u001b[0m \u001b[0;32mimport\u001b[0m \u001b[0mtqdm\u001b[0m\u001b[0;34m\u001b[0m\u001b[0;34m\u001b[0m\u001b[0m\n\u001b[1;32m      3\u001b[0m \u001b[0;34m\u001b[0m\u001b[0m\n\u001b[0;32m----> 4\u001b[0;31m \u001b[0mdf\u001b[0m \u001b[0;34m=\u001b[0m \u001b[0mandroidExpCities\u001b[0m\u001b[0;34m[\u001b[0m\u001b[0;34m(\u001b[0m\u001b[0mandroidExpCities\u001b[0m\u001b[0;34m.\u001b[0m\u001b[0mevents\u001b[0m\u001b[0;34m.\u001b[0m\u001b[0mapply\u001b[0m\u001b[0;34m(\u001b[0m\u001b[0mlen\u001b[0m\u001b[0;34m)\u001b[0m \u001b[0;34m>\u001b[0m \u001b[0;36m1\u001b[0m\u001b[0;34m)\u001b[0m\u001b[0;34m]\u001b[0m\u001b[0;34m.\u001b[0m\u001b[0mgroupby\u001b[0m\u001b[0;34m(\u001b[0m\u001b[0;34m[\u001b[0m\u001b[0;34m'city'\u001b[0m\u001b[0;34m,\u001b[0m \u001b[0;34m'agents'\u001b[0m\u001b[0;34m]\u001b[0m\u001b[0;34m)\u001b[0m\u001b[0;34m.\u001b[0m\u001b[0mapply\u001b[0m\u001b[0;34m(\u001b[0m\u001b[0;32mlambda\u001b[0m \u001b[0mx\u001b[0m\u001b[0;34m:\u001b[0m \u001b[0mx\u001b[0m\u001b[0;34m.\u001b[0m\u001b[0msample\u001b[0m\u001b[0;34m(\u001b[0m\u001b[0;36m10000\u001b[0m\u001b[0;34m)\u001b[0m\u001b[0;34m)\u001b[0m\u001b[0;34m.\u001b[0m\u001b[0mreset_index\u001b[0m\u001b[0;34m(\u001b[0m\u001b[0mdrop\u001b[0m\u001b[0;34m=\u001b[0m\u001b[0;32mTrue\u001b[0m\u001b[0;34m)\u001b[0m\u001b[0;34m\u001b[0m\u001b[0;34m\u001b[0m\u001b[0m\n\u001b[0m\u001b[1;32m      5\u001b[0m \u001b[0;34m\u001b[0m\u001b[0m\n\u001b[1;32m      6\u001b[0m \u001b[0mtransitionsDict\u001b[0m \u001b[0;34m=\u001b[0m \u001b[0mdict\u001b[0m\u001b[0;34m(\u001b[0m\u001b[0;34m(\u001b[0m\u001b[0;34m(\u001b[0m\u001b[0mc\u001b[0m\u001b[0;34m,\u001b[0m \u001b[0mx\u001b[0m\u001b[0;34m)\u001b[0m\u001b[0;34m,\u001b[0m \u001b[0mcollections\u001b[0m\u001b[0;34m.\u001b[0m\u001b[0mdefaultdict\u001b[0m\u001b[0;34m(\u001b[0m\u001b[0mfloat\u001b[0m\u001b[0;34m)\u001b[0m\u001b[0;34m)\u001b[0m \u001b[0;32mfor\u001b[0m \u001b[0mx\u001b[0m \u001b[0;32min\u001b[0m \u001b[0mAGENTS\u001b[0m \u001b[0;32mfor\u001b[0m \u001b[0mc\u001b[0m \u001b[0;32min\u001b[0m \u001b[0mEXPERIMENT_CITIES\u001b[0m\u001b[0;34m)\u001b[0m\u001b[0;34m\u001b[0m\u001b[0;34m\u001b[0m\u001b[0m\n",
      "\u001b[0;31mNameError\u001b[0m: name 'androidExpCities' is not defined"
     ]
    }
   ],
   "source": [
    "import collections\n",
    "from tqdm import tqdm\n",
    "\n",
    "df = androidExpCities[(androidExpCities.events.apply(len) > 1)].groupby(['city', 'agents']).apply(lambda x: x.sample(10000)).reset_index(drop=True)\n",
    "\n",
    "transitionsDict = dict(((c, x), collections.defaultdict(float)) for x in AGENTS for c in EXPERIMENT_CITIES)\n",
    "sourcesDict = dict(((c,x), collections.defaultdict(float)) for x in AGENTS for c in EXPERIMENT_CITIES)\n",
    "\n",
    "# for idx, row in tqdm(df.iterrows(), total=df.shape[0]):\n",
    "for idx, row in df.iterrows():\n",
    "    \n",
    "    a = row.agents\n",
    "    c = row.city\n",
    "    \n",
    "    tokens = row.events\n",
    "    source = tokens[0]\n",
    "\n",
    "    for target in tokens[1:]:\n",
    "        transitionsDict[(c, a)][(source, target)] += 1\n",
    "        sourcesDict[(c, a)][source] += 1\n",
    "        source = target\n",
    "\n",
    "output = []\n",
    "for a in AGENTS:\n",
    "    for c in EXPERIMENT_CITIES:\n",
    "        for t, cnt in transitionsDict[(c, a)].items():\n",
    "            output.append([c, a, t[0], t[1], cnt, cnt/sourcesDict[(c, a)][t[0]]])\n",
    "        \n",
    "df = pd.DataFrame(output, columns=['city', 'agent', 'source', 'target', 'cnt', 'prob'])"
   ]
  },
  {
   "cell_type": "code",
   "execution_count": 67,
   "metadata": {
    "collapsed": false
   },
   "outputs": [
    {
     "ename": "NameError",
     "evalue": "name 'df' is not defined",
     "output_type": "error",
     "traceback": [
      "\u001b[0;31m---------------------------------------------------------------------------\u001b[0m",
      "\u001b[0;31mNameError\u001b[0m                                 Traceback (most recent call last)",
      "\u001b[0;32m<ipython-input-67-c82147edc821>\u001b[0m in \u001b[0;36m<module>\u001b[0;34m\u001b[0m\n\u001b[0;32m----> 1\u001b[0;31m \u001b[0mdf\u001b[0m\u001b[0;34m[\u001b[0m\u001b[0;34m'sourceName'\u001b[0m\u001b[0;34m]\u001b[0m \u001b[0;34m=\u001b[0m \u001b[0mdf\u001b[0m\u001b[0;34m.\u001b[0m\u001b[0msource\u001b[0m\u001b[0;34m.\u001b[0m\u001b[0mapply\u001b[0m\u001b[0;34m(\u001b[0m\u001b[0;32mlambda\u001b[0m \u001b[0mx\u001b[0m\u001b[0;34m:\u001b[0m \u001b[0mEVENTS\u001b[0m\u001b[0;34m[\u001b[0m\u001b[0mx\u001b[0m\u001b[0;34m]\u001b[0m\u001b[0;34m)\u001b[0m\u001b[0;34m\u001b[0m\u001b[0;34m\u001b[0m\u001b[0m\n\u001b[0m\u001b[1;32m      2\u001b[0m \u001b[0mdf\u001b[0m\u001b[0;34m[\u001b[0m\u001b[0;34m'targetName'\u001b[0m\u001b[0;34m]\u001b[0m \u001b[0;34m=\u001b[0m \u001b[0mdf\u001b[0m\u001b[0;34m.\u001b[0m\u001b[0mtarget\u001b[0m\u001b[0;34m.\u001b[0m\u001b[0mapply\u001b[0m\u001b[0;34m(\u001b[0m\u001b[0;32mlambda\u001b[0m \u001b[0mx\u001b[0m\u001b[0;34m:\u001b[0m \u001b[0mEVENTS\u001b[0m\u001b[0;34m[\u001b[0m\u001b[0mx\u001b[0m\u001b[0;34m]\u001b[0m\u001b[0;34m)\u001b[0m\u001b[0;34m\u001b[0m\u001b[0;34m\u001b[0m\u001b[0m\n\u001b[1;32m      3\u001b[0m \u001b[0mdf\u001b[0m\u001b[0;34m[\u001b[0m\u001b[0;34m'label'\u001b[0m\u001b[0;34m]\u001b[0m \u001b[0;34m=\u001b[0m \u001b[0mdf\u001b[0m\u001b[0;34m.\u001b[0m\u001b[0mprob\u001b[0m\u001b[0;34m.\u001b[0m\u001b[0mapply\u001b[0m\u001b[0;34m(\u001b[0m\u001b[0;32mlambda\u001b[0m \u001b[0mx\u001b[0m\u001b[0;34m:\u001b[0m \u001b[0;34m\"{:.0%}\"\u001b[0m\u001b[0;34m.\u001b[0m\u001b[0mformat\u001b[0m\u001b[0;34m(\u001b[0m\u001b[0mx\u001b[0m\u001b[0;34m)\u001b[0m\u001b[0;34m)\u001b[0m\u001b[0;34m\u001b[0m\u001b[0;34m\u001b[0m\u001b[0m\n",
      "\u001b[0;31mNameError\u001b[0m: name 'df' is not defined"
     ]
    }
   ],
   "source": [
    "df['sourceName'] = df.source.apply(lambda x: EVENTS[x])\n",
    "df['targetName'] = df.target.apply(lambda x: EVENTS[x])\n",
    "df['label'] = df.prob.apply(lambda x: \"{:.0%}\".format(x))"
   ]
  },
  {
   "cell_type": "code",
   "execution_count": 68,
   "metadata": {
    "collapsed": false
   },
   "outputs": [
    {
     "ename": "NameError",
     "evalue": "name 'df' is not defined",
     "output_type": "error",
     "traceback": [
      "\u001b[0;31m---------------------------------------------------------------------------\u001b[0m",
      "\u001b[0;31mNameError\u001b[0m                                 Traceback (most recent call last)",
      "\u001b[0;32m<ipython-input-68-623aa12b4734>\u001b[0m in \u001b[0;36m<module>\u001b[0;34m\u001b[0m\n\u001b[1;32m      6\u001b[0m     \u001b[0;34m+\u001b[0m \u001b[0mtheme_linedraw\u001b[0m\u001b[0;34m(\u001b[0m\u001b[0;34m)\u001b[0m\u001b[0;34m\u001b[0m\u001b[0;34m\u001b[0m\u001b[0m\n\u001b[1;32m      7\u001b[0m     \u001b[0;34m+\u001b[0m \u001b[0mtheme\u001b[0m\u001b[0;34m(\u001b[0m\u001b[0mfigure_size\u001b[0m\u001b[0;34m=\u001b[0m\u001b[0;34m(\u001b[0m\u001b[0;36m15\u001b[0m\u001b[0;34m,\u001b[0m \u001b[0;36m42\u001b[0m\u001b[0;34m)\u001b[0m\u001b[0;34m,\u001b[0m \u001b[0maxis_text_x\u001b[0m\u001b[0;34m=\u001b[0m\u001b[0melement_text\u001b[0m\u001b[0;34m(\u001b[0m\u001b[0mrotation\u001b[0m\u001b[0;34m=\u001b[0m\u001b[0;36m90\u001b[0m\u001b[0;34m,\u001b[0m \u001b[0mhjust\u001b[0m\u001b[0;34m=\u001b[0m\u001b[0;36m1\u001b[0m\u001b[0;34m)\u001b[0m\u001b[0;34m)\u001b[0m\u001b[0;34m\u001b[0m\u001b[0;34m\u001b[0m\u001b[0m\n\u001b[0;32m----> 8\u001b[0;31m     \u001b[0;34m+\u001b[0m \u001b[0mxlab\u001b[0m\u001b[0;34m(\u001b[0m\u001b[0;34m\"Source\"\u001b[0m\u001b[0;34m)\u001b[0m \u001b[0;34m+\u001b[0m \u001b[0mylab\u001b[0m\u001b[0;34m(\u001b[0m\u001b[0;34m\"Target\"\u001b[0m\u001b[0;34m)\u001b[0m\u001b[0;34m\u001b[0m\u001b[0;34m\u001b[0m\u001b[0m\n\u001b[0m\u001b[1;32m      9\u001b[0m )\n",
      "\u001b[0;31mNameError\u001b[0m: name 'df' is not defined"
     ]
    }
   ],
   "source": [
    "(\n",
    "    ggplot(df, aes(x='sourceName', y='targetName'))\n",
    "    + geom_tile(aes(fill='prob'))\n",
    "    + geom_label(aes(label='label'))\n",
    "    + facet_grid(\"city ~ agent\")\n",
    "    + theme_linedraw()\n",
    "    + theme(figure_size=(15, 42), axis_text_x=element_text(rotation=90, hjust=1))\n",
    "    + xlab(\"Source\") + ylab(\"Target\")\n",
    ")"
   ]
  },
  {
   "cell_type": "markdown",
   "metadata": {},
   "source": [
    "## By Date"
   ]
  },
  {
   "cell_type": "code",
   "execution_count": 69,
   "metadata": {
    "ExecuteTime": {
     "end_time": "2018-11-28T01:19:01.620895Z",
     "start_time": "2018-11-28T01:19:01.060561Z"
    },
    "collapsed": false,
    "scrolled": true
   },
   "outputs": [
    {
     "ename": "NameError",
     "evalue": "name 'androidExpCities' is not defined",
     "output_type": "error",
     "traceback": [
      "\u001b[0;31m---------------------------------------------------------------------------\u001b[0m",
      "\u001b[0;31mNameError\u001b[0m                                 Traceback (most recent call last)",
      "\u001b[0;32m<ipython-input-69-96e39f6bc6ef>\u001b[0m in \u001b[0;36m<module>\u001b[0;34m\u001b[0m\n\u001b[1;32m      1\u001b[0m df = (\n\u001b[0;32m----> 2\u001b[0;31m     \u001b[0mandroidExpCities\u001b[0m\u001b[0;34m\u001b[0m\u001b[0;34m\u001b[0m\u001b[0m\n\u001b[0m\u001b[1;32m      3\u001b[0m     \u001b[0;34m.\u001b[0m\u001b[0mgroupby\u001b[0m\u001b[0;34m(\u001b[0m\u001b[0;34m[\u001b[0m\u001b[0;34m'city'\u001b[0m\u001b[0;34m,\u001b[0m \u001b[0;34m'datestr'\u001b[0m\u001b[0;34m,\u001b[0m \u001b[0;34m'n_completed'\u001b[0m\u001b[0;34m,\u001b[0m \u001b[0;34m'agents'\u001b[0m\u001b[0;34m]\u001b[0m\u001b[0;34m)\u001b[0m\u001b[0;34m\u001b[0m\u001b[0;34m\u001b[0m\u001b[0m\n\u001b[1;32m      4\u001b[0m     \u001b[0;34m.\u001b[0m\u001b[0msize\u001b[0m\u001b[0;34m(\u001b[0m\u001b[0;34m)\u001b[0m\u001b[0;34m\u001b[0m\u001b[0;34m\u001b[0m\u001b[0m\n\u001b[1;32m      5\u001b[0m     \u001b[0;34m.\u001b[0m\u001b[0mreset_index\u001b[0m\u001b[0;34m(\u001b[0m\u001b[0;34m)\u001b[0m\u001b[0;34m\u001b[0m\u001b[0;34m\u001b[0m\u001b[0m\n",
      "\u001b[0;31mNameError\u001b[0m: name 'androidExpCities' is not defined"
     ]
    }
   ],
   "source": [
    "df = (\n",
    "    androidExpCities\n",
    "    .groupby(['city', 'datestr', 'n_completed', 'agents'])\n",
    "    .size()\n",
    "    .reset_index()\n",
    "    .rename(columns={0: 'cnt'})\n",
    ")\n",
    "df['col'] = df.apply(lambda x: x.agents + ['_missed', '_hit'][x.n_completed], axis=1)\n",
    "df = df.pivot_table(index=['city', 'datestr'], columns='col', values='cnt')\n",
    "stylize(overallAnalysis(df)[FIELDS])"
   ]
  },
  {
   "cell_type": "markdown",
   "metadata": {},
   "source": [
    "### Latency Distribution"
   ]
  },
  {
   "cell_type": "code",
   "execution_count": 70,
   "metadata": {
    "ExecuteTime": {
     "end_time": "2018-11-28T01:19:33.212926Z",
     "start_time": "2018-11-28T01:19:03.733609Z"
    },
    "collapsed": false
   },
   "outputs": [
    {
     "ename": "NameError",
     "evalue": "name 'androidExpCities' is not defined",
     "output_type": "error",
     "traceback": [
      "\u001b[0;31m---------------------------------------------------------------------------\u001b[0m",
      "\u001b[0;31mNameError\u001b[0m                                 Traceback (most recent call last)",
      "\u001b[0;32m<ipython-input-70-f1ea05b46b72>\u001b[0m in \u001b[0;36m<module>\u001b[0;34m\u001b[0m\n\u001b[1;32m      1\u001b[0m df = (\n\u001b[0;32m----> 2\u001b[0;31m     \u001b[0mandroidExpCities\u001b[0m\u001b[0;34m[\u001b[0m\u001b[0;34m~\u001b[0m\u001b[0mandroidExpCities\u001b[0m\u001b[0;34m.\u001b[0m\u001b[0mlatency_distribution\u001b[0m\u001b[0;34m.\u001b[0m\u001b[0misnull\u001b[0m\u001b[0;34m(\u001b[0m\u001b[0;34m)\u001b[0m\u001b[0;34m]\u001b[0m\u001b[0;34m\u001b[0m\u001b[0;34m\u001b[0m\u001b[0m\n\u001b[0m\u001b[1;32m      3\u001b[0m     \u001b[0;34m.\u001b[0m\u001b[0mgroupby\u001b[0m\u001b[0;34m(\u001b[0m\u001b[0;34m[\u001b[0m\u001b[0;34m'agents'\u001b[0m\u001b[0;34m,\u001b[0m \u001b[0;34m'datestr'\u001b[0m\u001b[0;34m,\u001b[0m \u001b[0;34m'n_completed'\u001b[0m\u001b[0;34m]\u001b[0m\u001b[0;34m)\u001b[0m\u001b[0;34m\u001b[0m\u001b[0;34m\u001b[0m\u001b[0m\n\u001b[1;32m      4\u001b[0m     \u001b[0;34m.\u001b[0m\u001b[0mapply\u001b[0m\u001b[0;34m(\u001b[0m\u001b[0;32mlambda\u001b[0m \u001b[0mx\u001b[0m\u001b[0;34m:\u001b[0m \u001b[0mpd\u001b[0m\u001b[0;34m.\u001b[0m\u001b[0mSeries\u001b[0m\u001b[0;34m(\u001b[0m\u001b[0mdict\u001b[0m\u001b[0;34m(\u001b[0m\u001b[0mzip\u001b[0m\u001b[0;34m(\u001b[0m\u001b[0mDISTRIBUTIONS\u001b[0m\u001b[0;34m,\u001b[0m \u001b[0mextract_distribution\u001b[0m\u001b[0;34m(\u001b[0m\u001b[0mx\u001b[0m\u001b[0;34m.\u001b[0m\u001b[0mlatency_distribution\u001b[0m\u001b[0;34m,\u001b[0m \u001b[0mnp\u001b[0m\u001b[0;34m.\u001b[0m\u001b[0mmedian\u001b[0m\u001b[0;34m)\u001b[0m\u001b[0;34m)\u001b[0m\u001b[0;34m)\u001b[0m\u001b[0;34m)\u001b[0m\u001b[0;34m)\u001b[0m\u001b[0;34m\u001b[0m\u001b[0;34m\u001b[0m\u001b[0m\n\u001b[1;32m      5\u001b[0m     \u001b[0;34m.\u001b[0m\u001b[0mreset_index\u001b[0m\u001b[0;34m(\u001b[0m\u001b[0;34m)\u001b[0m\u001b[0;34m\u001b[0m\u001b[0;34m\u001b[0m\u001b[0m\n",
      "\u001b[0;31mNameError\u001b[0m: name 'androidExpCities' is not defined"
     ]
    }
   ],
   "source": [
    "df = (\n",
    "    androidExpCities[~androidExpCities.latency_distribution.isnull()]\n",
    "    .groupby(['agents', 'datestr', 'n_completed'])\n",
    "    .apply(lambda x: pd.Series(dict(zip(DISTRIBUTIONS, extract_distribution(x.latency_distribution, np.median)))))\n",
    "    .reset_index()\n",
    "    .melt(id_vars=['agents', 'datestr', 'n_completed'], value_vars=DISTRIBUTIONS, value_name='latency_distribution', var_name='latencyBucket')\n",
    "    .reset_index()\n",
    ")"
   ]
  },
  {
   "cell_type": "code",
   "execution_count": 71,
   "metadata": {
    "ExecuteTime": {
     "end_time": "2018-11-28T01:19:33.280085Z",
     "start_time": "2018-11-28T01:19:33.215267Z"
    },
    "collapsed": false
   },
   "outputs": [
    {
     "ename": "NameError",
     "evalue": "name 'df' is not defined",
     "output_type": "error",
     "traceback": [
      "\u001b[0;31m---------------------------------------------------------------------------\u001b[0m",
      "\u001b[0;31mNameError\u001b[0m                                 Traceback (most recent call last)",
      "\u001b[0;32m<ipython-input-71-5f8fb57b4d31>\u001b[0m in \u001b[0;36m<module>\u001b[0;34m\u001b[0m\n\u001b[0;32m----> 1\u001b[0;31m \u001b[0mdfRow\u001b[0m \u001b[0;34m=\u001b[0m \u001b[0mdf\u001b[0m\u001b[0;34m.\u001b[0m\u001b[0mpivot_table\u001b[0m\u001b[0;34m(\u001b[0m\u001b[0mindex\u001b[0m\u001b[0;34m=\u001b[0m\u001b[0;34m[\u001b[0m\u001b[0;34m'latencyBucket'\u001b[0m\u001b[0;34m,\u001b[0m \u001b[0;34m'datestr'\u001b[0m\u001b[0;34m,\u001b[0m \u001b[0;34m'n_completed'\u001b[0m\u001b[0;34m]\u001b[0m\u001b[0;34m,\u001b[0m \u001b[0mcolumns\u001b[0m\u001b[0;34m=\u001b[0m\u001b[0;34m'agents'\u001b[0m\u001b[0;34m,\u001b[0m \u001b[0mvalues\u001b[0m\u001b[0;34m=\u001b[0m\u001b[0;34m'latency_distribution'\u001b[0m\u001b[0;34m)\u001b[0m\u001b[0;34m.\u001b[0m\u001b[0mreset_index\u001b[0m\u001b[0;34m(\u001b[0m\u001b[0;34m)\u001b[0m\u001b[0;34m\u001b[0m\u001b[0;34m\u001b[0m\u001b[0m\n\u001b[0m\u001b[1;32m      2\u001b[0m \u001b[0mdfRow\u001b[0m\u001b[0;34m[\u001b[0m\u001b[0;34m'PctDrop'\u001b[0m\u001b[0;34m]\u001b[0m \u001b[0;34m=\u001b[0m \u001b[0;34m(\u001b[0m\u001b[0mdfRow\u001b[0m\u001b[0;34m.\u001b[0m\u001b[0mokhttp\u001b[0m \u001b[0;34m-\u001b[0m \u001b[0mdfRow\u001b[0m\u001b[0;34m.\u001b[0m\u001b[0mcronet\u001b[0m\u001b[0;34m)\u001b[0m \u001b[0;34m*\u001b[0m \u001b[0;36m100.0\u001b[0m \u001b[0;34m/\u001b[0m \u001b[0mdfRow\u001b[0m\u001b[0;34m.\u001b[0m\u001b[0mokhttp\u001b[0m\u001b[0;34m\u001b[0m\u001b[0;34m\u001b[0m\u001b[0m\n\u001b[1;32m      3\u001b[0m \u001b[0mdfRow\u001b[0m\u001b[0;34m[\u001b[0m\u001b[0;34m'n_completed'\u001b[0m\u001b[0;34m]\u001b[0m \u001b[0;34m=\u001b[0m \u001b[0mdfRow\u001b[0m\u001b[0;34m.\u001b[0m\u001b[0mn_completed\u001b[0m\u001b[0;34m.\u001b[0m\u001b[0mastype\u001b[0m\u001b[0;34m(\u001b[0m\u001b[0mstr\u001b[0m\u001b[0;34m)\u001b[0m\u001b[0;34m\u001b[0m\u001b[0;34m\u001b[0m\u001b[0m\n\u001b[1;32m      4\u001b[0m \u001b[0mdfRow\u001b[0m \u001b[0;34m=\u001b[0m \u001b[0mdfRow\u001b[0m\u001b[0;34m[\u001b[0m\u001b[0mdfRow\u001b[0m\u001b[0;34m.\u001b[0m\u001b[0mlatencyBucket\u001b[0m\u001b[0;34m.\u001b[0m\u001b[0misin\u001b[0m\u001b[0;34m(\u001b[0m\u001b[0;34m[\u001b[0m\u001b[0;36m0.1\u001b[0m\u001b[0;34m,\u001b[0m \u001b[0;36m0.5\u001b[0m\u001b[0;34m,\u001b[0m \u001b[0;36m0.9\u001b[0m\u001b[0;34m,\u001b[0m \u001b[0;36m0.95\u001b[0m\u001b[0;34m,\u001b[0m \u001b[0;36m0.99\u001b[0m\u001b[0;34m]\u001b[0m\u001b[0;34m)\u001b[0m\u001b[0;34m]\u001b[0m\u001b[0;34m.\u001b[0m\u001b[0mcopy\u001b[0m\u001b[0;34m(\u001b[0m\u001b[0;34m)\u001b[0m\u001b[0;34m\u001b[0m\u001b[0;34m\u001b[0m\u001b[0m\n\u001b[1;32m      5\u001b[0m \u001b[0mdfRow\u001b[0m\u001b[0;34m[\u001b[0m\u001b[0;34m'latencyBucket'\u001b[0m\u001b[0;34m]\u001b[0m \u001b[0;34m=\u001b[0m \u001b[0mdfRow\u001b[0m\u001b[0;34m.\u001b[0m\u001b[0mlatencyBucket\u001b[0m\u001b[0;34m.\u001b[0m\u001b[0mastype\u001b[0m\u001b[0;34m(\u001b[0m\u001b[0mstr\u001b[0m\u001b[0;34m)\u001b[0m\u001b[0;34m\u001b[0m\u001b[0;34m\u001b[0m\u001b[0m\n",
      "\u001b[0;31mNameError\u001b[0m: name 'df' is not defined"
     ]
    }
   ],
   "source": [
    "dfRow = df.pivot_table(index=['latencyBucket', 'datestr', 'n_completed'], columns='agents', values='latency_distribution').reset_index()\n",
    "dfRow['PctDrop'] = (dfRow.okhttp - dfRow.cronet) * 100.0 / dfRow.okhttp\n",
    "dfRow['n_completed'] = dfRow.n_completed.astype(str)\n",
    "dfRow = dfRow[dfRow.latencyBucket.isin([0.1, 0.5, 0.9, 0.95, 0.99])].copy()\n",
    "dfRow['latencyBucket'] = dfRow.latencyBucket.astype(str)\n"
   ]
  },
  {
   "cell_type": "code",
   "execution_count": 72,
   "metadata": {
    "ExecuteTime": {
     "end_time": "2018-11-28T01:20:34.097085Z",
     "start_time": "2018-11-28T01:20:29.356010Z"
    },
    "collapsed": false
   },
   "outputs": [
    {
     "ename": "NameError",
     "evalue": "name 'dfRow' is not defined",
     "output_type": "error",
     "traceback": [
      "\u001b[0;31m---------------------------------------------------------------------------\u001b[0m",
      "\u001b[0;31mNameError\u001b[0m                                 Traceback (most recent call last)",
      "\u001b[0;32m<ipython-input-72-99e9d4e5a9e8>\u001b[0m in \u001b[0;36m<module>\u001b[0;34m\u001b[0m\n\u001b[1;32m      5\u001b[0m     \u001b[0;34m+\u001b[0m \u001b[0mfacet_wrap\u001b[0m\u001b[0;34m(\u001b[0m\u001b[0;34m\"~n_completed\"\u001b[0m\u001b[0;34m)\u001b[0m\u001b[0;34m\u001b[0m\u001b[0;34m\u001b[0m\u001b[0m\n\u001b[1;32m      6\u001b[0m     \u001b[0;34m+\u001b[0m \u001b[0mtheme\u001b[0m\u001b[0;34m(\u001b[0m\u001b[0mfigure_size\u001b[0m\u001b[0;34m=\u001b[0m\u001b[0;34m(\u001b[0m\u001b[0;36m20\u001b[0m\u001b[0;34m,\u001b[0m \u001b[0;36m8\u001b[0m\u001b[0;34m)\u001b[0m\u001b[0;34m)\u001b[0m\u001b[0;34m\u001b[0m\u001b[0;34m\u001b[0m\u001b[0m\n\u001b[0;32m----> 7\u001b[0;31m     \u001b[0;34m+\u001b[0m \u001b[0mtheme\u001b[0m\u001b[0;34m(\u001b[0m\u001b[0maxis_text_x\u001b[0m\u001b[0;34m=\u001b[0m\u001b[0melement_text\u001b[0m\u001b[0;34m(\u001b[0m\u001b[0mrotation\u001b[0m\u001b[0;34m=\u001b[0m\u001b[0;36m90\u001b[0m\u001b[0;34m,\u001b[0m \u001b[0mhjust\u001b[0m\u001b[0;34m=\u001b[0m\u001b[0;36m1\u001b[0m\u001b[0;34m)\u001b[0m\u001b[0;34m)\u001b[0m\u001b[0;34m\u001b[0m\u001b[0;34m\u001b[0m\u001b[0m\n\u001b[0m\u001b[1;32m      8\u001b[0m )\n",
      "\u001b[0;31mNameError\u001b[0m: name 'dfRow' is not defined"
     ]
    }
   ],
   "source": [
    "(\n",
    "    ggplot(dfRow, aes(x='datestr', y='PctDrop'))\n",
    "    + geom_line(aes(colour='latencyBucket', group='latencyBucket'))\n",
    "    + geom_point(aes(colour='latencyBucket'))\n",
    "    + facet_wrap(\"~n_completed\")\n",
    "    + theme(figure_size=(20, 8))\n",
    "    + theme(axis_text_x=element_text(rotation=90, hjust=1))\n",
    ")"
   ]
  },
  {
   "cell_type": "markdown",
   "metadata": {},
   "source": [
    "## By City & Device Year Class"
   ]
  },
  {
   "cell_type": "code",
   "execution_count": 73,
   "metadata": {
    "collapsed": false
   },
   "outputs": [
    {
     "ename": "NameError",
     "evalue": "name 'androidExpCities' is not defined",
     "output_type": "error",
     "traceback": [
      "\u001b[0;31m---------------------------------------------------------------------------\u001b[0m",
      "\u001b[0;31mNameError\u001b[0m                                 Traceback (most recent call last)",
      "\u001b[0;32m<ipython-input-73-58fbb25718cc>\u001b[0m in \u001b[0;36m<module>\u001b[0;34m\u001b[0m\n\u001b[1;32m      1\u001b[0m df = (\n\u001b[0;32m----> 2\u001b[0;31m     \u001b[0mandroidExpCities\u001b[0m\u001b[0;34m\u001b[0m\u001b[0;34m\u001b[0m\u001b[0m\n\u001b[0m\u001b[1;32m      3\u001b[0m     \u001b[0;34m.\u001b[0m\u001b[0mgroupby\u001b[0m\u001b[0;34m(\u001b[0m\u001b[0;34m[\u001b[0m\u001b[0;34m'city'\u001b[0m\u001b[0;34m,\u001b[0m \u001b[0;34m'device_year_class'\u001b[0m\u001b[0;34m,\u001b[0m \u001b[0;34m'n_completed'\u001b[0m\u001b[0;34m,\u001b[0m \u001b[0;34m'agents'\u001b[0m\u001b[0;34m]\u001b[0m\u001b[0;34m)\u001b[0m\u001b[0;34m\u001b[0m\u001b[0;34m\u001b[0m\u001b[0m\n\u001b[1;32m      4\u001b[0m     \u001b[0;34m.\u001b[0m\u001b[0msize\u001b[0m\u001b[0;34m(\u001b[0m\u001b[0;34m)\u001b[0m\u001b[0;34m\u001b[0m\u001b[0;34m\u001b[0m\u001b[0m\n\u001b[1;32m      5\u001b[0m     \u001b[0;34m.\u001b[0m\u001b[0mreset_index\u001b[0m\u001b[0;34m(\u001b[0m\u001b[0;34m)\u001b[0m\u001b[0;34m\u001b[0m\u001b[0;34m\u001b[0m\u001b[0m\n",
      "\u001b[0;31mNameError\u001b[0m: name 'androidExpCities' is not defined"
     ]
    }
   ],
   "source": [
    "df = (\n",
    "    androidExpCities\n",
    "    .groupby(['city', 'device_year_class', 'n_completed', 'agents'])\n",
    "    .size()\n",
    "    .reset_index()\n",
    "    .rename(columns={0: 'cnt'})\n",
    ")\n",
    "df['col'] = df.apply(lambda x: x.agents + ['_missed', '_hit'][x.n_completed], axis=1)\n",
    "df = df.pivot_table(index=['city', 'device_year_class'], columns='col', values='cnt')\n",
    "df = overallAnalysis(df).reset_index()\n",
    "df['label'] = df.gain.apply(lambda x: \"{:.2}\".format(x))\n",
    "df.head(4)"
   ]
  },
  {
   "cell_type": "code",
   "execution_count": 74,
   "metadata": {
    "collapsed": false
   },
   "outputs": [
    {
     "ename": "NameError",
     "evalue": "name 'df' is not defined",
     "output_type": "error",
     "traceback": [
      "\u001b[0;31m---------------------------------------------------------------------------\u001b[0m",
      "\u001b[0;31mNameError\u001b[0m                                 Traceback (most recent call last)",
      "\u001b[0;32m<ipython-input-74-b88a6c85c629>\u001b[0m in \u001b[0;36m<module>\u001b[0;34m\u001b[0m\n\u001b[1;32m      4\u001b[0m     \u001b[0;34m+\u001b[0m \u001b[0mgeom_label\u001b[0m\u001b[0;34m(\u001b[0m\u001b[0maes\u001b[0m\u001b[0;34m(\u001b[0m\u001b[0mlabel\u001b[0m\u001b[0;34m=\u001b[0m\u001b[0;34m'label'\u001b[0m\u001b[0;34m)\u001b[0m\u001b[0;34m)\u001b[0m\u001b[0;34m\u001b[0m\u001b[0;34m\u001b[0m\u001b[0m\n\u001b[1;32m      5\u001b[0m     \u001b[0;34m+\u001b[0m \u001b[0mtheme_minimal\u001b[0m\u001b[0;34m(\u001b[0m\u001b[0;34m)\u001b[0m\u001b[0;34m\u001b[0m\u001b[0;34m\u001b[0m\u001b[0m\n\u001b[0;32m----> 6\u001b[0;31m     \u001b[0;34m+\u001b[0m \u001b[0mtheme\u001b[0m\u001b[0;34m(\u001b[0m\u001b[0mfigure_size\u001b[0m\u001b[0;34m=\u001b[0m\u001b[0;34m(\u001b[0m\u001b[0;36m8\u001b[0m\u001b[0;34m,\u001b[0m \u001b[0;36m5\u001b[0m\u001b[0;34m)\u001b[0m\u001b[0;34m)\u001b[0m\u001b[0;34m\u001b[0m\u001b[0;34m\u001b[0m\u001b[0m\n\u001b[0m\u001b[1;32m      7\u001b[0m )\n",
      "\u001b[0;31mNameError\u001b[0m: name 'df' is not defined"
     ]
    }
   ],
   "source": [
    "(\n",
    "    ggplot(df, aes(x='city', y='device_year_class'))\n",
    "    + geom_tile(aes(fill='isPositive'), colour='black')\n",
    "    + geom_label(aes(label='label'))\n",
    "    + theme_minimal()\n",
    "    + theme(figure_size=(8, 5))\n",
    ")"
   ]
  },
  {
   "cell_type": "code",
   "execution_count": null,
   "metadata": {
    "collapsed": true
   },
   "outputs": [],
   "source": []
  },
  {
   "cell_type": "markdown",
   "metadata": {},
   "source": [
    "# IOS 5 Archetype Cities"
   ]
  },
  {
   "cell_type": "code",
   "execution_count": 75,
   "metadata": {
    "ExecuteTime": {
     "end_time": "2018-11-27T23:46:43.436274Z",
     "start_time": "2018-11-27T23:45:59.590866Z"
    },
    "collapsed": false
   },
   "outputs": [
    {
     "name": "stderr",
     "output_type": "stream",
     "text": [
      "UsageError: Cell magic `%%presto` not found.\n"
     ]
    }
   ],
   "source": [
    "%%presto --variable iosData --email ragrawal@uber.com --cache --use-cache --encoding utf8 --large-data\n",
    "\n",
    "SELECT * \n",
    "FROM dsp.quic\n",
    "WHERE \n",
    "    city in ('sao_paulo', 'london', 'los_angeles', 'cairo', 'new_delhi')\n",
    "    and os_type = 'ios'\n",
    "    and agents in ('cronet', 'okhttp')"
   ]
  },
  {
   "cell_type": "code",
   "execution_count": 76,
   "metadata": {
    "ExecuteTime": {
     "end_time": "2018-11-28T00:10:23.694650Z",
     "start_time": "2018-11-28T00:04:19.395270Z"
    },
    "collapsed": true
   },
   "outputs": [
    {
     "ename": "NameError",
     "evalue": "name 'processData' is not defined",
     "output_type": "error",
     "traceback": [
      "\u001b[0;31m---------------------------------------------------------------------------\u001b[0m",
      "\u001b[0;31mNameError\u001b[0m                                 Traceback (most recent call last)",
      "\u001b[0;32m<ipython-input-76-9c8a3fdf4d2d>\u001b[0m in \u001b[0;36m<module>\u001b[0;34m\u001b[0m\n\u001b[0;32m----> 1\u001b[0;31m \u001b[0miosExpCities\u001b[0m \u001b[0;34m=\u001b[0m \u001b[0mprocessData\u001b[0m\u001b[0;34m(\u001b[0m\u001b[0miosData\u001b[0m\u001b[0;34m)\u001b[0m\u001b[0;34m\u001b[0m\u001b[0;34m\u001b[0m\u001b[0m\n\u001b[0m",
      "\u001b[0;31mNameError\u001b[0m: name 'processData' is not defined"
     ]
    }
   ],
   "source": [
    "iosExpCities = processData(iosData)"
   ]
  },
  {
   "cell_type": "markdown",
   "metadata": {},
   "source": [
    "## Overall"
   ]
  },
  {
   "cell_type": "code",
   "execution_count": 77,
   "metadata": {
    "ExecuteTime": {
     "end_time": "2018-11-27T23:57:46.741009Z",
     "start_time": "2018-11-27T23:57:45.915744Z"
    },
    "collapsed": false
   },
   "outputs": [
    {
     "ename": "NameError",
     "evalue": "name 'iosExpCities' is not defined",
     "output_type": "error",
     "traceback": [
      "\u001b[0;31m---------------------------------------------------------------------------\u001b[0m",
      "\u001b[0;31mNameError\u001b[0m                                 Traceback (most recent call last)",
      "\u001b[0;32m<ipython-input-77-be99af7b6740>\u001b[0m in \u001b[0;36m<module>\u001b[0;34m\u001b[0m\n\u001b[1;32m      1\u001b[0m df = (\n\u001b[0;32m----> 2\u001b[0;31m     \u001b[0miosExpCities\u001b[0m\u001b[0;34m\u001b[0m\u001b[0;34m\u001b[0m\u001b[0m\n\u001b[0m\u001b[1;32m      3\u001b[0m     \u001b[0;34m.\u001b[0m\u001b[0mgroupby\u001b[0m\u001b[0;34m(\u001b[0m\u001b[0;34m[\u001b[0m\u001b[0;34m'n_completed'\u001b[0m\u001b[0;34m,\u001b[0m \u001b[0;34m'agents'\u001b[0m\u001b[0;34m]\u001b[0m\u001b[0;34m)\u001b[0m\u001b[0;34m\u001b[0m\u001b[0;34m\u001b[0m\u001b[0m\n\u001b[1;32m      4\u001b[0m     \u001b[0;34m.\u001b[0m\u001b[0msize\u001b[0m\u001b[0;34m(\u001b[0m\u001b[0;34m)\u001b[0m\u001b[0;34m\u001b[0m\u001b[0;34m\u001b[0m\u001b[0m\n\u001b[1;32m      5\u001b[0m     \u001b[0;34m.\u001b[0m\u001b[0mreset_index\u001b[0m\u001b[0;34m(\u001b[0m\u001b[0;34m)\u001b[0m\u001b[0;34m\u001b[0m\u001b[0;34m\u001b[0m\u001b[0m\n",
      "\u001b[0;31mNameError\u001b[0m: name 'iosExpCities' is not defined"
     ]
    }
   ],
   "source": [
    "df = (\n",
    "    iosExpCities\n",
    "    .groupby(['n_completed', 'agents'])\n",
    "    .size()\n",
    "    .reset_index()\n",
    "    .rename(columns={0: 'cnt'})\n",
    ")\n",
    "df['col'] = df.apply(lambda x: x.agents + ['_missed', '_hit'][x.n_completed], axis=1)\n",
    "df = df.pivot_table(columns='col', values='cnt')\n",
    "stylize(overallAnalysis(df)[FIELDS])"
   ]
  },
  {
   "cell_type": "markdown",
   "metadata": {
    "ExecuteTime": {
     "start_time": "2018-11-27T23:16:23.962Z"
    }
   },
   "source": [
    "### Latency Distribution"
   ]
  },
  {
   "cell_type": "code",
   "execution_count": 78,
   "metadata": {
    "ExecuteTime": {
     "end_time": "2018-11-28T00:14:33.751014Z",
     "start_time": "2018-11-28T00:13:29.448963Z"
    },
    "collapsed": false
   },
   "outputs": [
    {
     "ename": "NameError",
     "evalue": "name 'iosExpCities' is not defined",
     "output_type": "error",
     "traceback": [
      "\u001b[0;31m---------------------------------------------------------------------------\u001b[0m",
      "\u001b[0;31mNameError\u001b[0m                                 Traceback (most recent call last)",
      "\u001b[0;32m<ipython-input-78-6bdf0d2d4a71>\u001b[0m in \u001b[0;36m<module>\u001b[0;34m\u001b[0m\n\u001b[1;32m      1\u001b[0m df = (\n\u001b[0;32m----> 2\u001b[0;31m     \u001b[0miosExpCities\u001b[0m\u001b[0;34m[\u001b[0m\u001b[0;34m~\u001b[0m\u001b[0miosExpCities\u001b[0m\u001b[0;34m.\u001b[0m\u001b[0mlatency_distribution\u001b[0m\u001b[0;34m.\u001b[0m\u001b[0misnull\u001b[0m\u001b[0;34m(\u001b[0m\u001b[0;34m)\u001b[0m\u001b[0;34m]\u001b[0m\u001b[0;34m\u001b[0m\u001b[0;34m\u001b[0m\u001b[0m\n\u001b[0m\u001b[1;32m      3\u001b[0m     \u001b[0;34m.\u001b[0m\u001b[0mgroupby\u001b[0m\u001b[0;34m(\u001b[0m\u001b[0;34m[\u001b[0m\u001b[0;34m'agents'\u001b[0m\u001b[0;34m,\u001b[0m \u001b[0;34m'n_completed'\u001b[0m\u001b[0;34m]\u001b[0m\u001b[0;34m)\u001b[0m\u001b[0;34m\u001b[0m\u001b[0;34m\u001b[0m\u001b[0m\n\u001b[1;32m      4\u001b[0m     \u001b[0;34m.\u001b[0m\u001b[0mapply\u001b[0m\u001b[0;34m(\u001b[0m\u001b[0;32mlambda\u001b[0m \u001b[0mx\u001b[0m\u001b[0;34m:\u001b[0m \u001b[0mpd\u001b[0m\u001b[0;34m.\u001b[0m\u001b[0mSeries\u001b[0m\u001b[0;34m(\u001b[0m\u001b[0mdict\u001b[0m\u001b[0;34m(\u001b[0m\u001b[0mzip\u001b[0m\u001b[0;34m(\u001b[0m\u001b[0mDISTRIBUTIONS\u001b[0m\u001b[0;34m,\u001b[0m \u001b[0mextract_distribution\u001b[0m\u001b[0;34m(\u001b[0m\u001b[0mx\u001b[0m\u001b[0;34m.\u001b[0m\u001b[0mlatency_distribution\u001b[0m\u001b[0;34m,\u001b[0m \u001b[0mnp\u001b[0m\u001b[0;34m.\u001b[0m\u001b[0mmedian\u001b[0m\u001b[0;34m)\u001b[0m\u001b[0;34m)\u001b[0m\u001b[0;34m)\u001b[0m\u001b[0;34m)\u001b[0m\u001b[0;34m)\u001b[0m\u001b[0;34m\u001b[0m\u001b[0;34m\u001b[0m\u001b[0m\n\u001b[1;32m      5\u001b[0m     \u001b[0;34m.\u001b[0m\u001b[0mreset_index\u001b[0m\u001b[0;34m(\u001b[0m\u001b[0;34m)\u001b[0m\u001b[0;34m\u001b[0m\u001b[0;34m\u001b[0m\u001b[0m\n",
      "\u001b[0;31mNameError\u001b[0m: name 'iosExpCities' is not defined"
     ]
    }
   ],
   "source": [
    "df = (\n",
    "    iosExpCities[~iosExpCities.latency_distribution.isnull()]\n",
    "    .groupby(['agents', 'n_completed'])\n",
    "    .apply(lambda x: pd.Series(dict(zip(DISTRIBUTIONS, extract_distribution(x.latency_distribution, np.median)))))\n",
    "    .reset_index()\n",
    "    .melt(id_vars=['agents', 'n_completed'], value_vars=DISTRIBUTIONS, value_name='latency_distribution', var_name='latencyBucket')\n",
    "    .reset_index()\n",
    ")"
   ]
  },
  {
   "cell_type": "code",
   "execution_count": 79,
   "metadata": {
    "ExecuteTime": {
     "end_time": "2018-11-28T00:14:33.776097Z",
     "start_time": "2018-11-28T00:14:33.753748Z"
    },
    "collapsed": false
   },
   "outputs": [
    {
     "ename": "NameError",
     "evalue": "name 'df' is not defined",
     "output_type": "error",
     "traceback": [
      "\u001b[0;31m---------------------------------------------------------------------------\u001b[0m",
      "\u001b[0;31mNameError\u001b[0m                                 Traceback (most recent call last)",
      "\u001b[0;32m<ipython-input-79-93ea1847fd60>\u001b[0m in \u001b[0;36m<module>\u001b[0;34m\u001b[0m\n\u001b[0;32m----> 1\u001b[0;31m \u001b[0mdfRow\u001b[0m \u001b[0;34m=\u001b[0m \u001b[0mdf\u001b[0m\u001b[0;34m.\u001b[0m\u001b[0mpivot_table\u001b[0m\u001b[0;34m(\u001b[0m\u001b[0mindex\u001b[0m\u001b[0;34m=\u001b[0m\u001b[0;34m[\u001b[0m\u001b[0;34m'latencyBucket'\u001b[0m\u001b[0;34m,\u001b[0m \u001b[0;34m'n_completed'\u001b[0m\u001b[0;34m]\u001b[0m\u001b[0;34m,\u001b[0m \u001b[0mcolumns\u001b[0m\u001b[0;34m=\u001b[0m\u001b[0;34m'agents'\u001b[0m\u001b[0;34m,\u001b[0m \u001b[0mvalues\u001b[0m\u001b[0;34m=\u001b[0m\u001b[0;34m'latency_distribution'\u001b[0m\u001b[0;34m)\u001b[0m\u001b[0;34m.\u001b[0m\u001b[0mreset_index\u001b[0m\u001b[0;34m(\u001b[0m\u001b[0;34m)\u001b[0m\u001b[0;34m\u001b[0m\u001b[0;34m\u001b[0m\u001b[0m\n\u001b[0m\u001b[1;32m      2\u001b[0m \u001b[0mdfRow\u001b[0m\u001b[0;34m[\u001b[0m\u001b[0;34m'PctDrop'\u001b[0m\u001b[0;34m]\u001b[0m \u001b[0;34m=\u001b[0m \u001b[0;34m(\u001b[0m\u001b[0mdfRow\u001b[0m\u001b[0;34m.\u001b[0m\u001b[0mokhttp\u001b[0m \u001b[0;34m-\u001b[0m \u001b[0mdfRow\u001b[0m\u001b[0;34m.\u001b[0m\u001b[0mcronet\u001b[0m\u001b[0;34m)\u001b[0m \u001b[0;34m*\u001b[0m \u001b[0;36m100.0\u001b[0m \u001b[0;34m/\u001b[0m \u001b[0mdfRow\u001b[0m\u001b[0;34m.\u001b[0m\u001b[0mokhttp\u001b[0m\u001b[0;34m\u001b[0m\u001b[0;34m\u001b[0m\u001b[0m\n\u001b[1;32m      3\u001b[0m \u001b[0mdfRow\u001b[0m\u001b[0;34m[\u001b[0m\u001b[0;34m'n_completed'\u001b[0m\u001b[0;34m]\u001b[0m \u001b[0;34m=\u001b[0m \u001b[0mdfRow\u001b[0m\u001b[0;34m.\u001b[0m\u001b[0mn_completed\u001b[0m\u001b[0;34m.\u001b[0m\u001b[0mastype\u001b[0m\u001b[0;34m(\u001b[0m\u001b[0mstr\u001b[0m\u001b[0;34m)\u001b[0m\u001b[0;34m\u001b[0m\u001b[0;34m\u001b[0m\u001b[0m\n\u001b[1;32m      4\u001b[0m (\n\u001b[1;32m      5\u001b[0m     \u001b[0mggplot\u001b[0m\u001b[0;34m(\u001b[0m\u001b[0mdfRow\u001b[0m\u001b[0;34m,\u001b[0m \u001b[0maes\u001b[0m\u001b[0;34m(\u001b[0m\u001b[0mx\u001b[0m\u001b[0;34m=\u001b[0m\u001b[0;34m'latencyBucket'\u001b[0m\u001b[0;34m,\u001b[0m \u001b[0my\u001b[0m\u001b[0;34m=\u001b[0m\u001b[0;34m'PctDrop'\u001b[0m\u001b[0;34m)\u001b[0m\u001b[0;34m)\u001b[0m\u001b[0;34m\u001b[0m\u001b[0;34m\u001b[0m\u001b[0m\n",
      "\u001b[0;31mNameError\u001b[0m: name 'df' is not defined"
     ]
    }
   ],
   "source": [
    "dfRow = df.pivot_table(index=['latencyBucket', 'n_completed'], columns='agents', values='latency_distribution').reset_index()\n",
    "dfRow['PctDrop'] = (dfRow.okhttp - dfRow.cronet) * 100.0 / dfRow.okhttp\n",
    "dfRow['n_completed'] = dfRow.n_completed.astype(str)\n",
    "(\n",
    "    ggplot(dfRow, aes(x='latencyBucket', y='PctDrop'))\n",
    "    + geom_line(aes(colour='n_completed'))\n",
    "    + geom_point(aes(colour='n_completed'))\n",
    "    + theme(figure_size=(20, 8))\n",
    "    \n",
    ")"
   ]
  },
  {
   "cell_type": "markdown",
   "metadata": {},
   "source": [
    "### User Behavior"
   ]
  },
  {
   "cell_type": "markdown",
   "metadata": {},
   "source": [
    "## By City"
   ]
  },
  {
   "cell_type": "code",
   "execution_count": 80,
   "metadata": {
    "ExecuteTime": {
     "end_time": "2018-11-28T00:14:34.679195Z",
     "start_time": "2018-11-28T00:14:33.779369Z"
    },
    "collapsed": false
   },
   "outputs": [
    {
     "ename": "NameError",
     "evalue": "name 'iosExpCities' is not defined",
     "output_type": "error",
     "traceback": [
      "\u001b[0;31m---------------------------------------------------------------------------\u001b[0m",
      "\u001b[0;31mNameError\u001b[0m                                 Traceback (most recent call last)",
      "\u001b[0;32m<ipython-input-80-3250ebd469f3>\u001b[0m in \u001b[0;36m<module>\u001b[0;34m\u001b[0m\n\u001b[1;32m      1\u001b[0m df = (\n\u001b[0;32m----> 2\u001b[0;31m     \u001b[0miosExpCities\u001b[0m\u001b[0;34m\u001b[0m\u001b[0;34m\u001b[0m\u001b[0m\n\u001b[0m\u001b[1;32m      3\u001b[0m     \u001b[0;34m.\u001b[0m\u001b[0mgroupby\u001b[0m\u001b[0;34m(\u001b[0m\u001b[0;34m[\u001b[0m\u001b[0;34m'city'\u001b[0m\u001b[0;34m,\u001b[0m \u001b[0;34m'n_completed'\u001b[0m\u001b[0;34m,\u001b[0m \u001b[0;34m'agents'\u001b[0m\u001b[0;34m]\u001b[0m\u001b[0;34m)\u001b[0m\u001b[0;34m\u001b[0m\u001b[0;34m\u001b[0m\u001b[0m\n\u001b[1;32m      4\u001b[0m     \u001b[0;34m.\u001b[0m\u001b[0msize\u001b[0m\u001b[0;34m(\u001b[0m\u001b[0;34m)\u001b[0m\u001b[0;34m\u001b[0m\u001b[0;34m\u001b[0m\u001b[0m\n\u001b[1;32m      5\u001b[0m     \u001b[0;34m.\u001b[0m\u001b[0mreset_index\u001b[0m\u001b[0;34m(\u001b[0m\u001b[0;34m)\u001b[0m\u001b[0;34m\u001b[0m\u001b[0;34m\u001b[0m\u001b[0m\n",
      "\u001b[0;31mNameError\u001b[0m: name 'iosExpCities' is not defined"
     ]
    }
   ],
   "source": [
    "df = (\n",
    "    iosExpCities\n",
    "    .groupby(['city', 'n_completed', 'agents'])\n",
    "    .size()\n",
    "    .reset_index()\n",
    "    .rename(columns={0: 'cnt'})\n",
    ")\n",
    "df['col'] = df.apply(lambda x: x.agents + ['_missed', '_hit'][x.n_completed], axis=1)\n",
    "df = df.pivot_table(index='city', columns='col', values='cnt')\n",
    "stylize(overallAnalysis(df)[FIELDS])"
   ]
  },
  {
   "cell_type": "code",
   "execution_count": 81,
   "metadata": {
    "ExecuteTime": {
     "end_time": "2018-11-28T00:39:39.311074Z",
     "start_time": "2018-11-28T00:39:17.187107Z"
    },
    "collapsed": false
   },
   "outputs": [
    {
     "ename": "NameError",
     "evalue": "name 'iosExpCities' is not defined",
     "output_type": "error",
     "traceback": [
      "\u001b[0;31m---------------------------------------------------------------------------\u001b[0m",
      "\u001b[0;31mNameError\u001b[0m                                 Traceback (most recent call last)",
      "\u001b[0;32m<ipython-input-81-9a75ab500705>\u001b[0m in \u001b[0;36m<module>\u001b[0;34m\u001b[0m\n\u001b[1;32m      1\u001b[0m df = (\n\u001b[0;32m----> 2\u001b[0;31m     \u001b[0miosExpCities\u001b[0m\u001b[0;34m[\u001b[0m\u001b[0;34m~\u001b[0m\u001b[0miosExpCities\u001b[0m\u001b[0;34m.\u001b[0m\u001b[0mlatency_distribution\u001b[0m\u001b[0;34m.\u001b[0m\u001b[0misnull\u001b[0m\u001b[0;34m(\u001b[0m\u001b[0;34m)\u001b[0m\u001b[0;34m]\u001b[0m\u001b[0;34m\u001b[0m\u001b[0;34m\u001b[0m\u001b[0m\n\u001b[0m\u001b[1;32m      3\u001b[0m     \u001b[0;34m.\u001b[0m\u001b[0mgroupby\u001b[0m\u001b[0;34m(\u001b[0m\u001b[0;34m[\u001b[0m\u001b[0;34m'agents'\u001b[0m\u001b[0;34m,\u001b[0m \u001b[0;34m'city'\u001b[0m\u001b[0;34m]\u001b[0m\u001b[0;34m)\u001b[0m\u001b[0;34m\u001b[0m\u001b[0;34m\u001b[0m\u001b[0m\n\u001b[1;32m      4\u001b[0m     \u001b[0;34m.\u001b[0m\u001b[0mapply\u001b[0m\u001b[0;34m(\u001b[0m\u001b[0;32mlambda\u001b[0m \u001b[0mx\u001b[0m\u001b[0;34m:\u001b[0m \u001b[0mpd\u001b[0m\u001b[0;34m.\u001b[0m\u001b[0mSeries\u001b[0m\u001b[0;34m(\u001b[0m\u001b[0mdict\u001b[0m\u001b[0;34m(\u001b[0m\u001b[0mzip\u001b[0m\u001b[0;34m(\u001b[0m\u001b[0mDISTRIBUTIONS\u001b[0m\u001b[0;34m,\u001b[0m \u001b[0mextract_distribution\u001b[0m\u001b[0;34m(\u001b[0m\u001b[0mx\u001b[0m\u001b[0;34m.\u001b[0m\u001b[0mlatency_distribution\u001b[0m\u001b[0;34m,\u001b[0m \u001b[0mnp\u001b[0m\u001b[0;34m.\u001b[0m\u001b[0mmedian\u001b[0m\u001b[0;34m)\u001b[0m\u001b[0;34m)\u001b[0m\u001b[0;34m)\u001b[0m\u001b[0;34m)\u001b[0m\u001b[0;34m)\u001b[0m\u001b[0;34m\u001b[0m\u001b[0;34m\u001b[0m\u001b[0m\n\u001b[1;32m      5\u001b[0m     \u001b[0;34m.\u001b[0m\u001b[0mreset_index\u001b[0m\u001b[0;34m(\u001b[0m\u001b[0;34m)\u001b[0m\u001b[0;34m\u001b[0m\u001b[0;34m\u001b[0m\u001b[0m\n",
      "\u001b[0;31mNameError\u001b[0m: name 'iosExpCities' is not defined"
     ]
    }
   ],
   "source": [
    "df = (\n",
    "    iosExpCities[~iosExpCities.latency_distribution.isnull()]\n",
    "    .groupby(['agents', 'city'])\n",
    "    .apply(lambda x: pd.Series(dict(zip(DISTRIBUTIONS, extract_distribution(x.latency_distribution, np.median)))))\n",
    "    .reset_index()\n",
    "    .melt(id_vars=['agents', 'city'], value_vars=DISTRIBUTIONS, value_name='latency_distribution', var_name='latencyBucket')\n",
    ")"
   ]
  },
  {
   "cell_type": "code",
   "execution_count": 82,
   "metadata": {
    "ExecuteTime": {
     "end_time": "2018-11-28T00:39:49.119513Z",
     "start_time": "2018-11-28T00:39:47.738848Z"
    },
    "collapsed": false
   },
   "outputs": [
    {
     "ename": "NameError",
     "evalue": "name 'df' is not defined",
     "output_type": "error",
     "traceback": [
      "\u001b[0;31m---------------------------------------------------------------------------\u001b[0m",
      "\u001b[0;31mNameError\u001b[0m                                 Traceback (most recent call last)",
      "\u001b[0;32m<ipython-input-82-76b137923618>\u001b[0m in \u001b[0;36m<module>\u001b[0;34m\u001b[0m\n\u001b[0;32m----> 1\u001b[0;31m \u001b[0mdfRow\u001b[0m \u001b[0;34m=\u001b[0m \u001b[0mdf\u001b[0m\u001b[0;34m.\u001b[0m\u001b[0mpivot_table\u001b[0m\u001b[0;34m(\u001b[0m\u001b[0mindex\u001b[0m\u001b[0;34m=\u001b[0m\u001b[0;34m[\u001b[0m\u001b[0;34m'city'\u001b[0m\u001b[0;34m,\u001b[0m \u001b[0;34m'latencyBucket'\u001b[0m\u001b[0;34m]\u001b[0m\u001b[0;34m,\u001b[0m \u001b[0mcolumns\u001b[0m\u001b[0;34m=\u001b[0m\u001b[0;34m'agents'\u001b[0m\u001b[0;34m,\u001b[0m \u001b[0mvalues\u001b[0m\u001b[0;34m=\u001b[0m\u001b[0;34m'latency_distribution'\u001b[0m\u001b[0;34m)\u001b[0m\u001b[0;34m.\u001b[0m\u001b[0mreset_index\u001b[0m\u001b[0;34m(\u001b[0m\u001b[0;34m)\u001b[0m\u001b[0;34m\u001b[0m\u001b[0;34m\u001b[0m\u001b[0m\n\u001b[0m\u001b[1;32m      2\u001b[0m \u001b[0mdfRow\u001b[0m\u001b[0;34m[\u001b[0m\u001b[0;34m'PctDrop'\u001b[0m\u001b[0;34m]\u001b[0m \u001b[0;34m=\u001b[0m \u001b[0;34m(\u001b[0m\u001b[0mdfRow\u001b[0m\u001b[0;34m.\u001b[0m\u001b[0mokhttp\u001b[0m \u001b[0;34m-\u001b[0m \u001b[0mdfRow\u001b[0m\u001b[0;34m.\u001b[0m\u001b[0mcronet\u001b[0m\u001b[0;34m)\u001b[0m \u001b[0;34m/\u001b[0m \u001b[0mdfRow\u001b[0m\u001b[0;34m.\u001b[0m\u001b[0mokhttp\u001b[0m\u001b[0;34m\u001b[0m\u001b[0;34m\u001b[0m\u001b[0m\n\u001b[1;32m      3\u001b[0m (\n\u001b[1;32m      4\u001b[0m     \u001b[0mggplot\u001b[0m\u001b[0;34m(\u001b[0m\u001b[0mdfRow\u001b[0m\u001b[0;34m,\u001b[0m \u001b[0maes\u001b[0m\u001b[0;34m(\u001b[0m\u001b[0mx\u001b[0m\u001b[0;34m=\u001b[0m\u001b[0;34m'latencyBucket'\u001b[0m\u001b[0;34m,\u001b[0m \u001b[0my\u001b[0m\u001b[0;34m=\u001b[0m\u001b[0;34m'PctDrop'\u001b[0m\u001b[0;34m)\u001b[0m\u001b[0;34m)\u001b[0m\u001b[0;34m\u001b[0m\u001b[0;34m\u001b[0m\u001b[0m\n\u001b[1;32m      5\u001b[0m     \u001b[0;34m+\u001b[0m \u001b[0mgeom_line\u001b[0m\u001b[0;34m(\u001b[0m\u001b[0maes\u001b[0m\u001b[0;34m(\u001b[0m\u001b[0mcolour\u001b[0m\u001b[0;34m=\u001b[0m\u001b[0;34m'city'\u001b[0m\u001b[0;34m)\u001b[0m\u001b[0;34m)\u001b[0m\u001b[0;34m\u001b[0m\u001b[0;34m\u001b[0m\u001b[0m\n",
      "\u001b[0;31mNameError\u001b[0m: name 'df' is not defined"
     ]
    }
   ],
   "source": [
    "dfRow = df.pivot_table(index=['city', 'latencyBucket'], columns='agents', values='latency_distribution').reset_index()\n",
    "dfRow['PctDrop'] = (dfRow.okhttp - dfRow.cronet) / dfRow.okhttp\n",
    "(\n",
    "    ggplot(dfRow, aes(x='latencyBucket', y='PctDrop'))\n",
    "    + geom_line(aes(colour='city'))\n",
    "    + xlab(\"Latency Percentile Bucket\") \n",
    "    + ylab(\"Pct Drop In Latency (cronet - okhttp / okhttp)\")\n",
    ")"
   ]
  },
  {
   "cell_type": "markdown",
   "metadata": {},
   "source": [
    "## By Date"
   ]
  },
  {
   "cell_type": "code",
   "execution_count": 83,
   "metadata": {
    "ExecuteTime": {
     "end_time": "2018-11-28T00:40:58.949698Z",
     "start_time": "2018-11-28T00:40:57.856103Z"
    },
    "collapsed": false
   },
   "outputs": [
    {
     "ename": "NameError",
     "evalue": "name 'iosExpCities' is not defined",
     "output_type": "error",
     "traceback": [
      "\u001b[0;31m---------------------------------------------------------------------------\u001b[0m",
      "\u001b[0;31mNameError\u001b[0m                                 Traceback (most recent call last)",
      "\u001b[0;32m<ipython-input-83-2beb67175104>\u001b[0m in \u001b[0;36m<module>\u001b[0;34m\u001b[0m\n\u001b[1;32m      1\u001b[0m df = (\n\u001b[0;32m----> 2\u001b[0;31m     \u001b[0miosExpCities\u001b[0m\u001b[0;34m\u001b[0m\u001b[0;34m\u001b[0m\u001b[0m\n\u001b[0m\u001b[1;32m      3\u001b[0m     \u001b[0;34m.\u001b[0m\u001b[0mgroupby\u001b[0m\u001b[0;34m(\u001b[0m\u001b[0;34m[\u001b[0m\u001b[0;34m'datestr'\u001b[0m\u001b[0;34m,\u001b[0m \u001b[0;34m'n_completed'\u001b[0m\u001b[0;34m,\u001b[0m \u001b[0;34m'agents'\u001b[0m\u001b[0;34m]\u001b[0m\u001b[0;34m)\u001b[0m\u001b[0;34m\u001b[0m\u001b[0;34m\u001b[0m\u001b[0m\n\u001b[1;32m      4\u001b[0m     \u001b[0;34m.\u001b[0m\u001b[0msize\u001b[0m\u001b[0;34m(\u001b[0m\u001b[0;34m)\u001b[0m\u001b[0;34m\u001b[0m\u001b[0;34m\u001b[0m\u001b[0m\n\u001b[1;32m      5\u001b[0m     \u001b[0;34m.\u001b[0m\u001b[0mreset_index\u001b[0m\u001b[0;34m(\u001b[0m\u001b[0;34m)\u001b[0m\u001b[0;34m\u001b[0m\u001b[0;34m\u001b[0m\u001b[0m\n",
      "\u001b[0;31mNameError\u001b[0m: name 'iosExpCities' is not defined"
     ]
    }
   ],
   "source": [
    "df = (\n",
    "    iosExpCities\n",
    "    .groupby(['datestr', 'n_completed', 'agents'])\n",
    "    .size()\n",
    "    .reset_index()\n",
    "    .rename(columns={0: 'cnt'})\n",
    ")\n",
    "df['col'] = df.apply(lambda x: x.agents + ['_missed', '_hit'][x.n_completed], axis=1)\n",
    "df = df.pivot_table(index='datestr', columns='col', values='cnt')\n",
    "stylize(overallAnalysis(df)[FIELDS])"
   ]
  },
  {
   "cell_type": "code",
   "execution_count": 84,
   "metadata": {
    "ExecuteTime": {
     "end_time": "2018-11-28T00:44:03.314219Z",
     "start_time": "2018-11-28T00:43:34.689030Z"
    },
    "collapsed": true
   },
   "outputs": [
    {
     "ename": "NameError",
     "evalue": "name 'iosExpCities' is not defined",
     "output_type": "error",
     "traceback": [
      "\u001b[0;31m---------------------------------------------------------------------------\u001b[0m",
      "\u001b[0;31mNameError\u001b[0m                                 Traceback (most recent call last)",
      "\u001b[0;32m<ipython-input-84-8dafb913751f>\u001b[0m in \u001b[0;36m<module>\u001b[0;34m\u001b[0m\n\u001b[1;32m      1\u001b[0m df = (\n\u001b[0;32m----> 2\u001b[0;31m     \u001b[0miosExpCities\u001b[0m\u001b[0;34m[\u001b[0m\u001b[0;34m~\u001b[0m\u001b[0miosExpCities\u001b[0m\u001b[0;34m.\u001b[0m\u001b[0mlatency_distribution\u001b[0m\u001b[0;34m.\u001b[0m\u001b[0misnull\u001b[0m\u001b[0;34m(\u001b[0m\u001b[0;34m)\u001b[0m\u001b[0;34m]\u001b[0m\u001b[0;34m\u001b[0m\u001b[0;34m\u001b[0m\u001b[0m\n\u001b[0m\u001b[1;32m      3\u001b[0m     \u001b[0;34m.\u001b[0m\u001b[0mgroupby\u001b[0m\u001b[0;34m(\u001b[0m\u001b[0;34m[\u001b[0m\u001b[0;34m'agents'\u001b[0m\u001b[0;34m,\u001b[0m \u001b[0;34m'datestr'\u001b[0m\u001b[0;34m,\u001b[0m \u001b[0;34m'n_completed'\u001b[0m\u001b[0;34m]\u001b[0m\u001b[0;34m)\u001b[0m\u001b[0;34m\u001b[0m\u001b[0;34m\u001b[0m\u001b[0m\n\u001b[1;32m      4\u001b[0m     \u001b[0;34m.\u001b[0m\u001b[0mapply\u001b[0m\u001b[0;34m(\u001b[0m\u001b[0;32mlambda\u001b[0m \u001b[0mx\u001b[0m\u001b[0;34m:\u001b[0m \u001b[0mpd\u001b[0m\u001b[0;34m.\u001b[0m\u001b[0mSeries\u001b[0m\u001b[0;34m(\u001b[0m\u001b[0mdict\u001b[0m\u001b[0;34m(\u001b[0m\u001b[0mzip\u001b[0m\u001b[0;34m(\u001b[0m\u001b[0mDISTRIBUTIONS\u001b[0m\u001b[0;34m,\u001b[0m \u001b[0mextract_distribution\u001b[0m\u001b[0;34m(\u001b[0m\u001b[0mx\u001b[0m\u001b[0;34m.\u001b[0m\u001b[0mlatency_distribution\u001b[0m\u001b[0;34m,\u001b[0m \u001b[0mnp\u001b[0m\u001b[0;34m.\u001b[0m\u001b[0mmedian\u001b[0m\u001b[0;34m)\u001b[0m\u001b[0;34m)\u001b[0m\u001b[0;34m)\u001b[0m\u001b[0;34m)\u001b[0m\u001b[0;34m)\u001b[0m\u001b[0;34m\u001b[0m\u001b[0;34m\u001b[0m\u001b[0m\n\u001b[1;32m      5\u001b[0m     \u001b[0;34m.\u001b[0m\u001b[0mreset_index\u001b[0m\u001b[0;34m(\u001b[0m\u001b[0;34m)\u001b[0m\u001b[0;34m\u001b[0m\u001b[0;34m\u001b[0m\u001b[0m\n",
      "\u001b[0;31mNameError\u001b[0m: name 'iosExpCities' is not defined"
     ]
    }
   ],
   "source": [
    "df = (\n",
    "    iosExpCities[~iosExpCities.latency_distribution.isnull()]\n",
    "    .groupby(['agents', 'datestr', 'n_completed'])\n",
    "    .apply(lambda x: pd.Series(dict(zip(DISTRIBUTIONS, extract_distribution(x.latency_distribution, np.median)))))\n",
    "    .reset_index()\n",
    "    .melt(id_vars=['agents', 'datestr', 'n_completed'], value_vars=DISTRIBUTIONS, value_name='latency_distribution', var_name='latencyBucket')\n",
    ")"
   ]
  },
  {
   "cell_type": "code",
   "execution_count": 85,
   "metadata": {
    "ExecuteTime": {
     "end_time": "2018-11-28T00:44:03.334658Z",
     "start_time": "2018-11-28T00:44:03.316570Z"
    },
    "collapsed": false
   },
   "outputs": [
    {
     "ename": "NameError",
     "evalue": "name 'df' is not defined",
     "output_type": "error",
     "traceback": [
      "\u001b[0;31m---------------------------------------------------------------------------\u001b[0m",
      "\u001b[0;31mNameError\u001b[0m                                 Traceback (most recent call last)",
      "\u001b[0;32m<ipython-input-85-e3ce12d68cae>\u001b[0m in \u001b[0;36m<module>\u001b[0;34m\u001b[0m\n\u001b[0;32m----> 1\u001b[0;31m \u001b[0mdfRow\u001b[0m \u001b[0;34m=\u001b[0m \u001b[0mdf\u001b[0m\u001b[0;34m.\u001b[0m\u001b[0mpivot_table\u001b[0m\u001b[0;34m(\u001b[0m\u001b[0mindex\u001b[0m\u001b[0;34m=\u001b[0m\u001b[0;34m[\u001b[0m\u001b[0;34m'datestr'\u001b[0m\u001b[0;34m,\u001b[0m \u001b[0;34m'latencyBucket'\u001b[0m\u001b[0;34m,\u001b[0m \u001b[0;34m'n_completed'\u001b[0m\u001b[0;34m]\u001b[0m\u001b[0;34m,\u001b[0m \u001b[0mcolumns\u001b[0m\u001b[0;34m=\u001b[0m\u001b[0;34m'agents'\u001b[0m\u001b[0;34m,\u001b[0m \u001b[0mvalues\u001b[0m\u001b[0;34m=\u001b[0m\u001b[0;34m'latency_distribution'\u001b[0m\u001b[0;34m)\u001b[0m\u001b[0;34m.\u001b[0m\u001b[0mreset_index\u001b[0m\u001b[0;34m(\u001b[0m\u001b[0;34m)\u001b[0m\u001b[0;34m\u001b[0m\u001b[0;34m\u001b[0m\u001b[0m\n\u001b[0m\u001b[1;32m      2\u001b[0m \u001b[0mdfRow\u001b[0m\u001b[0;34m[\u001b[0m\u001b[0;34m'PctDrop'\u001b[0m\u001b[0;34m]\u001b[0m \u001b[0;34m=\u001b[0m \u001b[0;34m(\u001b[0m\u001b[0mdfRow\u001b[0m\u001b[0;34m.\u001b[0m\u001b[0mokhttp\u001b[0m \u001b[0;34m-\u001b[0m \u001b[0mdfRow\u001b[0m\u001b[0;34m.\u001b[0m\u001b[0mcronet\u001b[0m\u001b[0;34m)\u001b[0m \u001b[0;34m/\u001b[0m \u001b[0mdfRow\u001b[0m\u001b[0;34m.\u001b[0m\u001b[0mokhttp\u001b[0m\u001b[0;34m\u001b[0m\u001b[0;34m\u001b[0m\u001b[0m\n",
      "\u001b[0;31mNameError\u001b[0m: name 'df' is not defined"
     ]
    }
   ],
   "source": [
    "dfRow = df.pivot_table(index=['datestr', 'latencyBucket', 'n_completed'], columns='agents', values='latency_distribution').reset_index()\n",
    "dfRow['PctDrop'] = (dfRow.okhttp - dfRow.cronet) / dfRow.okhttp"
   ]
  },
  {
   "cell_type": "code",
   "execution_count": 86,
   "metadata": {
    "ExecuteTime": {
     "end_time": "2018-11-28T00:44:32.568787Z",
     "start_time": "2018-11-28T00:44:30.918963Z"
    },
    "collapsed": false
   },
   "outputs": [
    {
     "ename": "NameError",
     "evalue": "name 'dfRow' is not defined",
     "output_type": "error",
     "traceback": [
      "\u001b[0;31m---------------------------------------------------------------------------\u001b[0m",
      "\u001b[0;31mNameError\u001b[0m                                 Traceback (most recent call last)",
      "\u001b[0;32m<ipython-input-86-c7ba3ac98b14>\u001b[0m in \u001b[0;36m<module>\u001b[0;34m\u001b[0m\n\u001b[0;32m----> 1\u001b[0;31m \u001b[0mdfPlot\u001b[0m \u001b[0;34m=\u001b[0m \u001b[0mdfRow\u001b[0m\u001b[0;34m[\u001b[0m\u001b[0mdfRow\u001b[0m\u001b[0;34m.\u001b[0m\u001b[0mlatencyBucket\u001b[0m\u001b[0;34m.\u001b[0m\u001b[0misin\u001b[0m\u001b[0;34m(\u001b[0m\u001b[0;34m[\u001b[0m\u001b[0;36m0.1\u001b[0m\u001b[0;34m,\u001b[0m \u001b[0;36m0.5\u001b[0m\u001b[0;34m,\u001b[0m \u001b[0;36m0.90\u001b[0m\u001b[0;34m,\u001b[0m \u001b[0;36m0.95\u001b[0m\u001b[0;34m,\u001b[0m \u001b[0;36m0.99\u001b[0m\u001b[0;34m]\u001b[0m\u001b[0;34m)\u001b[0m\u001b[0;34m]\u001b[0m\u001b[0;34m.\u001b[0m\u001b[0mcopy\u001b[0m\u001b[0;34m(\u001b[0m\u001b[0;34m)\u001b[0m\u001b[0;34m.\u001b[0m\u001b[0mreset_index\u001b[0m\u001b[0;34m(\u001b[0m\u001b[0;34m)\u001b[0m\u001b[0;34m\u001b[0m\u001b[0;34m\u001b[0m\u001b[0m\n\u001b[0m\u001b[1;32m      2\u001b[0m \u001b[0mdfPlot\u001b[0m\u001b[0;34m[\u001b[0m\u001b[0;34m'latencyBucket'\u001b[0m\u001b[0;34m]\u001b[0m \u001b[0;34m=\u001b[0m \u001b[0mdfPlot\u001b[0m\u001b[0;34m.\u001b[0m\u001b[0mlatencyBucket\u001b[0m\u001b[0;34m.\u001b[0m\u001b[0mastype\u001b[0m\u001b[0;34m(\u001b[0m\u001b[0mstr\u001b[0m\u001b[0;34m)\u001b[0m\u001b[0;34m\u001b[0m\u001b[0;34m\u001b[0m\u001b[0m\n\u001b[1;32m      3\u001b[0m \u001b[0;34m\u001b[0m\u001b[0m\n\u001b[1;32m      4\u001b[0m (\n\u001b[1;32m      5\u001b[0m     \u001b[0mggplot\u001b[0m\u001b[0;34m(\u001b[0m\u001b[0mdfPlot\u001b[0m\u001b[0;34m,\u001b[0m \u001b[0maes\u001b[0m\u001b[0;34m(\u001b[0m\u001b[0mx\u001b[0m\u001b[0;34m=\u001b[0m\u001b[0;34m'datestr'\u001b[0m\u001b[0;34m,\u001b[0m \u001b[0my\u001b[0m\u001b[0;34m=\u001b[0m\u001b[0;34m'PctDrop'\u001b[0m\u001b[0;34m)\u001b[0m\u001b[0;34m)\u001b[0m\u001b[0;34m\u001b[0m\u001b[0;34m\u001b[0m\u001b[0m\n",
      "\u001b[0;31mNameError\u001b[0m: name 'dfRow' is not defined"
     ]
    }
   ],
   "source": [
    "dfPlot = dfRow[dfRow.latencyBucket.isin([0.1, 0.5, 0.90, 0.95, 0.99])].copy().reset_index()\n",
    "dfPlot['latencyBucket'] = dfPlot.latencyBucket.astype(str)\n",
    "\n",
    "(\n",
    "    ggplot(dfPlot, aes(x='datestr', y='PctDrop'))\n",
    "    + geom_line(aes(colour='latencyBucket', group='latencyBucket'))\n",
    "    + theme(axis_text_x=element_text(rotation=90, hjust=1), figure_size=(20, 10))\n",
    "    + facet_wrap('~n_completed')\n",
    "    \n",
    ")"
   ]
  },
  {
   "cell_type": "markdown",
   "metadata": {},
   "source": [
    "# Android Rest of World"
   ]
  },
  {
   "cell_type": "code",
   "execution_count": 87,
   "metadata": {
    "ExecuteTime": {
     "end_time": "2018-11-28T04:48:38.489924Z",
     "start_time": "2018-11-28T04:48:38.433705Z"
    },
    "collapsed": false
   },
   "outputs": [
    {
     "name": "stderr",
     "output_type": "stream",
     "text": [
      "UsageError: Cell magic `%%presto` not found.\n"
     ]
    }
   ],
   "source": [
    "%%presto --variable androidROW --email ragrawal@uber.com --cache --use-cache --encoding utf8 --large-data\n",
    "\n",
    "SELECT *\n",
    "FROM dsp.quic\n",
    "WHERE \n",
    "    city not in ('sao_paulo', 'london', 'los_angeles', 'cairo', 'new_delhi')\n",
    "    and os_type = 'android'\n",
    "    AND hosts = 'cfe'\n",
    "    (\n",
    "        ( agents = 'cronet' AND protocols = 'quic')\n",
    "        OR (agents = 'okhttp' AND protocols = 'h2')\n",
    "    )\n"
   ]
  },
  {
   "cell_type": "code",
   "execution_count": 88,
   "metadata": {
    "ExecuteTime": {
     "end_time": "2018-11-28T04:59:18.052995Z",
     "start_time": "2018-11-28T04:58:38.420563Z"
    },
    "collapsed": false
   },
   "outputs": [
    {
     "ename": "SyntaxError",
     "evalue": "(unicode error) 'unicodeescape' codec can't decode bytes in position 0-1: malformed \\N character escape (<ipython-input-88-d9a712d1581d>, line 1)",
     "output_type": "error",
     "traceback": [
      "\u001b[0;36m  File \u001b[0;32m\"<ipython-input-88-d9a712d1581d>\"\u001b[0;36m, line \u001b[0;32m1\u001b[0m\n\u001b[0;31m    androidROW = pd.read_csv(\"qr_cache/androidRow.csv\", na_values='\\N')\u001b[0m\n\u001b[0m                                                                 ^\u001b[0m\n\u001b[0;31mSyntaxError\u001b[0m\u001b[0;31m:\u001b[0m (unicode error) 'unicodeescape' codec can't decode bytes in position 0-1: malformed \\N character escape\n"
     ]
    }
   ],
   "source": [
    "androidROW = pd.read_csv(\"qr_cache/androidRow.csv\", na_values='\\N')\n",
    "androidROW.shape"
   ]
  },
  {
   "cell_type": "code",
   "execution_count": 89,
   "metadata": {
    "ExecuteTime": {
     "end_time": "2018-11-28T05:01:54.890360Z",
     "start_time": "2018-11-28T04:59:18.056676Z"
    },
    "collapsed": false
   },
   "outputs": [
    {
     "ename": "NameError",
     "evalue": "name 'processData' is not defined",
     "output_type": "error",
     "traceback": [
      "\u001b[0;31m---------------------------------------------------------------------------\u001b[0m",
      "\u001b[0;31mNameError\u001b[0m                                 Traceback (most recent call last)",
      "\u001b[0;32m<ipython-input-89-4e19db35387f>\u001b[0m in \u001b[0;36m<module>\u001b[0;34m\u001b[0m\n\u001b[0;32m----> 1\u001b[0;31m \u001b[0mandroidCities\u001b[0m \u001b[0;34m=\u001b[0m \u001b[0mprocessData\u001b[0m\u001b[0;34m(\u001b[0m\u001b[0mandroidROW\u001b[0m\u001b[0;34m)\u001b[0m\u001b[0;34m\u001b[0m\u001b[0;34m\u001b[0m\u001b[0m\n\u001b[0m",
      "\u001b[0;31mNameError\u001b[0m: name 'processData' is not defined"
     ]
    }
   ],
   "source": [
    "androidCities = processData(androidROW)"
   ]
  },
  {
   "cell_type": "markdown",
   "metadata": {},
   "source": [
    "## Identify City Level Conversion Trend"
   ]
  },
  {
   "cell_type": "code",
   "execution_count": 90,
   "metadata": {
    "ExecuteTime": {
     "end_time": "2018-11-28T05:20:39.252861Z",
     "start_time": "2018-11-28T05:20:37.765068Z"
    },
    "collapsed": false
   },
   "outputs": [
    {
     "ename": "NameError",
     "evalue": "name 'androidCities' is not defined",
     "output_type": "error",
     "traceback": [
      "\u001b[0;31m---------------------------------------------------------------------------\u001b[0m",
      "\u001b[0;31mNameError\u001b[0m                                 Traceback (most recent call last)",
      "\u001b[0;32m<ipython-input-90-c9d47289a0c6>\u001b[0m in \u001b[0;36m<module>\u001b[0;34m\u001b[0m\n\u001b[1;32m      1\u001b[0m df = (\n\u001b[0;32m----> 2\u001b[0;31m     \u001b[0mandroidCities\u001b[0m\u001b[0;34m\u001b[0m\u001b[0;34m\u001b[0m\u001b[0m\n\u001b[0m\u001b[1;32m      3\u001b[0m     \u001b[0;34m.\u001b[0m\u001b[0mgroupby\u001b[0m\u001b[0;34m(\u001b[0m\u001b[0;34m[\u001b[0m\u001b[0;34m'city'\u001b[0m\u001b[0;34m,\u001b[0m \u001b[0;34m'n_completed'\u001b[0m\u001b[0;34m,\u001b[0m \u001b[0;34m'agents'\u001b[0m\u001b[0;34m]\u001b[0m\u001b[0;34m)\u001b[0m\u001b[0;34m\u001b[0m\u001b[0;34m\u001b[0m\u001b[0m\n\u001b[1;32m      4\u001b[0m     \u001b[0;34m.\u001b[0m\u001b[0msize\u001b[0m\u001b[0;34m(\u001b[0m\u001b[0;34m)\u001b[0m\u001b[0;34m\u001b[0m\u001b[0;34m\u001b[0m\u001b[0m\n\u001b[1;32m      5\u001b[0m     \u001b[0;34m.\u001b[0m\u001b[0mreset_index\u001b[0m\u001b[0;34m(\u001b[0m\u001b[0;34m)\u001b[0m\u001b[0;34m\u001b[0m\u001b[0;34m\u001b[0m\u001b[0m\n",
      "\u001b[0;31mNameError\u001b[0m: name 'androidCities' is not defined"
     ]
    }
   ],
   "source": [
    "df = (\n",
    "    androidCities\n",
    "    .groupby(['city', 'n_completed', 'agents'])\n",
    "    .size()\n",
    "    .reset_index()\n",
    "    .rename(columns={0: 'cnt'})\n",
    ")\n",
    "df['col'] = df.apply(lambda x: x.agents + ['_missed', '_hit'][x.n_completed], axis=1)\n",
    "df = df.pivot_table(index='city', columns='col', values='cnt').reset_index()\n",
    "df = df.assign(\n",
    "    cronet_sessions = lambda x: x.cronet_hit + x.cronet_missed,\n",
    "    okhttp_sessions = lambda x: x.okhttp_hit + x.okhttp_missed,\n",
    "    cronet_conversion = lambda x: x.cronet_hit / (x.cronet_hit + x.cronet_missed),\n",
    "    okhttp_conversion = lambda x: x.okhttp_hit / (x.okhttp_hit + x.okhttp_missed),\n",
    ")"
   ]
  },
  {
   "cell_type": "code",
   "execution_count": 91,
   "metadata": {
    "ExecuteTime": {
     "end_time": "2018-11-28T05:20:42.498227Z",
     "start_time": "2018-11-28T05:20:42.482088Z"
    },
    "collapsed": false
   },
   "outputs": [
    {
     "ename": "SyntaxError",
     "evalue": "Missing parentheses in call to 'print'. Did you mean print(\"Total Number of Cities: \", df.shape[0])? (<ipython-input-91-4bcbdc2994e1>, line 1)",
     "output_type": "error",
     "traceback": [
      "\u001b[0;36m  File \u001b[0;32m\"<ipython-input-91-4bcbdc2994e1>\"\u001b[0;36m, line \u001b[0;32m1\u001b[0m\n\u001b[0;31m    print \"Total Number of Cities: \", df.shape[0]\u001b[0m\n\u001b[0m                                   ^\u001b[0m\n\u001b[0;31mSyntaxError\u001b[0m\u001b[0;31m:\u001b[0m Missing parentheses in call to 'print'. Did you mean print(\"Total Number of Cities: \", df.shape[0])?\n"
     ]
    }
   ],
   "source": [
    "print \"Total Number of Cities: \", df.shape[0]\n",
    "df = df[(~df.cronet_sessions.isnull())]\n",
    "df = df[(~df.okhttp_sessions.isnull())]\n",
    "df = df[(df.cronet_conversion > 0) & (df.cronet_conversion < 1.0)]\n",
    "df = df[(df.okhttp_conversion > 0) & (df.okhttp_conversion < 1.0)]\n",
    "print \"After Filtering: \", df.shape[0]\n"
   ]
  },
  {
   "cell_type": "code",
   "execution_count": 92,
   "metadata": {
    "ExecuteTime": {
     "end_time": "2018-11-28T05:24:33.095350Z",
     "start_time": "2018-11-28T05:24:32.421449Z"
    },
    "collapsed": false
   },
   "outputs": [
    {
     "ename": "NameError",
     "evalue": "name 'df' is not defined",
     "output_type": "error",
     "traceback": [
      "\u001b[0;31m---------------------------------------------------------------------------\u001b[0m",
      "\u001b[0;31mNameError\u001b[0m                                 Traceback (most recent call last)",
      "\u001b[0;32m<ipython-input-92-bc8a52aacc47>\u001b[0m in \u001b[0;36m<module>\u001b[0;34m\u001b[0m\n\u001b[0;32m----> 1\u001b[0;31m \u001b[0mdf2\u001b[0m \u001b[0;34m=\u001b[0m \u001b[0moverallAnalysis\u001b[0m\u001b[0;34m(\u001b[0m\u001b[0mdf\u001b[0m\u001b[0;34m)\u001b[0m\u001b[0;34m\u001b[0m\u001b[0;34m\u001b[0m\u001b[0m\n\u001b[0m",
      "\u001b[0;31mNameError\u001b[0m: name 'df' is not defined"
     ]
    }
   ],
   "source": [
    "df2 = overallAnalysis(df)"
   ]
  },
  {
   "cell_type": "code",
   "execution_count": 93,
   "metadata": {
    "ExecuteTime": {
     "end_time": "2018-11-28T05:27:29.194298Z",
     "start_time": "2018-11-28T05:27:29.077013Z"
    },
    "collapsed": false
   },
   "outputs": [
    {
     "ename": "NameError",
     "evalue": "name 'df2' is not defined",
     "output_type": "error",
     "traceback": [
      "\u001b[0;31m---------------------------------------------------------------------------\u001b[0m",
      "\u001b[0;31mNameError\u001b[0m                                 Traceback (most recent call last)",
      "\u001b[0;32m<ipython-input-93-f0d94f7231dd>\u001b[0m in \u001b[0;36m<module>\u001b[0;34m\u001b[0m\n\u001b[0;32m----> 1\u001b[0;31m \u001b[0mstylize\u001b[0m\u001b[0;34m(\u001b[0m\u001b[0mdf2\u001b[0m\u001b[0;34m[\u001b[0m\u001b[0;34m(\u001b[0m\u001b[0mdf2\u001b[0m\u001b[0;34m.\u001b[0m\u001b[0misSignificant\u001b[0m\u001b[0;34m)\u001b[0m \u001b[0;34m&\u001b[0m \u001b[0;34m(\u001b[0m\u001b[0mdf2\u001b[0m\u001b[0;34m.\u001b[0m\u001b[0mpower\u001b[0m \u001b[0;34m>\u001b[0m \u001b[0;36m0.7\u001b[0m\u001b[0;34m)\u001b[0m\u001b[0;34m]\u001b[0m\u001b[0;34m)\u001b[0m\u001b[0;34m\u001b[0m\u001b[0;34m\u001b[0m\u001b[0m\n\u001b[0m",
      "\u001b[0;31mNameError\u001b[0m: name 'df2' is not defined"
     ]
    }
   ],
   "source": [
    "stylize(df2[(df2.isSignificant) & (df2.power > 0.7)])"
   ]
  },
  {
   "cell_type": "markdown",
   "metadata": {},
   "source": [
    "### Latency Distribution"
   ]
  },
  {
   "cell_type": "code",
   "execution_count": 94,
   "metadata": {
    "ExecuteTime": {
     "end_time": "2018-11-28T05:28:50.038571Z",
     "start_time": "2018-11-28T05:28:19.300803Z"
    },
    "collapsed": false
   },
   "outputs": [
    {
     "ename": "NameError",
     "evalue": "name 'androidCities' is not defined",
     "output_type": "error",
     "traceback": [
      "\u001b[0;31m---------------------------------------------------------------------------\u001b[0m",
      "\u001b[0;31mNameError\u001b[0m                                 Traceback (most recent call last)",
      "\u001b[0;32m<ipython-input-94-47abc1e22fe4>\u001b[0m in \u001b[0;36m<module>\u001b[0;34m\u001b[0m\n\u001b[1;32m      1\u001b[0m df = (\n\u001b[0;32m----> 2\u001b[0;31m     \u001b[0mandroidCities\u001b[0m\u001b[0;34m[\u001b[0m\u001b[0;34m~\u001b[0m\u001b[0mandroidCities\u001b[0m\u001b[0;34m.\u001b[0m\u001b[0mlatency_distribution\u001b[0m\u001b[0;34m.\u001b[0m\u001b[0misnull\u001b[0m\u001b[0;34m(\u001b[0m\u001b[0;34m)\u001b[0m\u001b[0;34m]\u001b[0m\u001b[0;34m\u001b[0m\u001b[0;34m\u001b[0m\u001b[0m\n\u001b[0m\u001b[1;32m      3\u001b[0m     \u001b[0;34m.\u001b[0m\u001b[0mgroupby\u001b[0m\u001b[0;34m(\u001b[0m\u001b[0;34m[\u001b[0m\u001b[0;34m'city'\u001b[0m\u001b[0;34m,\u001b[0m \u001b[0;34m'agents'\u001b[0m\u001b[0;34m,\u001b[0m \u001b[0;34m'n_completed'\u001b[0m\u001b[0;34m]\u001b[0m\u001b[0;34m)\u001b[0m\u001b[0;34m\u001b[0m\u001b[0;34m\u001b[0m\u001b[0m\n\u001b[1;32m      4\u001b[0m     \u001b[0;34m.\u001b[0m\u001b[0mapply\u001b[0m\u001b[0;34m(\u001b[0m\u001b[0;32mlambda\u001b[0m \u001b[0mx\u001b[0m\u001b[0;34m:\u001b[0m \u001b[0mpd\u001b[0m\u001b[0;34m.\u001b[0m\u001b[0mSeries\u001b[0m\u001b[0;34m(\u001b[0m\u001b[0mdict\u001b[0m\u001b[0;34m(\u001b[0m\u001b[0mzip\u001b[0m\u001b[0;34m(\u001b[0m\u001b[0mDISTRIBUTIONS\u001b[0m\u001b[0;34m,\u001b[0m \u001b[0mextract_distribution\u001b[0m\u001b[0;34m(\u001b[0m\u001b[0mx\u001b[0m\u001b[0;34m.\u001b[0m\u001b[0mlatency_distribution\u001b[0m\u001b[0;34m,\u001b[0m \u001b[0mnp\u001b[0m\u001b[0;34m.\u001b[0m\u001b[0mmedian\u001b[0m\u001b[0;34m)\u001b[0m\u001b[0;34m)\u001b[0m\u001b[0;34m)\u001b[0m\u001b[0;34m)\u001b[0m\u001b[0;34m)\u001b[0m\u001b[0;34m\u001b[0m\u001b[0;34m\u001b[0m\u001b[0m\n\u001b[1;32m      5\u001b[0m     \u001b[0;34m.\u001b[0m\u001b[0mreset_index\u001b[0m\u001b[0;34m(\u001b[0m\u001b[0;34m)\u001b[0m\u001b[0;34m\u001b[0m\u001b[0;34m\u001b[0m\u001b[0m\n",
      "\u001b[0;31mNameError\u001b[0m: name 'androidCities' is not defined"
     ]
    }
   ],
   "source": [
    "df = (\n",
    "    androidCities[~androidCities.latency_distribution.isnull()]\n",
    "    .groupby(['city', 'agents', 'n_completed'])\n",
    "    .apply(lambda x: pd.Series(dict(zip(DISTRIBUTIONS, extract_distribution(x.latency_distribution, np.median)))))\n",
    "    .reset_index()\n",
    "    .melt(id_vars=['city', 'agents', 'n_completed'], value_vars=DISTRIBUTIONS, value_name='latency_distribution', var_name='latencyBucket')\n",
    "    .reset_index()\n",
    ")"
   ]
  },
  {
   "cell_type": "code",
   "execution_count": 95,
   "metadata": {
    "ExecuteTime": {
     "end_time": "2018-11-28T05:30:46.199175Z",
     "start_time": "2018-11-28T05:30:41.769043Z"
    },
    "collapsed": false
   },
   "outputs": [
    {
     "ename": "NameError",
     "evalue": "name 'df' is not defined",
     "output_type": "error",
     "traceback": [
      "\u001b[0;31m---------------------------------------------------------------------------\u001b[0m",
      "\u001b[0;31mNameError\u001b[0m                                 Traceback (most recent call last)",
      "\u001b[0;32m<ipython-input-95-eda33546dae9>\u001b[0m in \u001b[0;36m<module>\u001b[0;34m\u001b[0m\n\u001b[0;32m----> 1\u001b[0;31m \u001b[0mdfRow\u001b[0m \u001b[0;34m=\u001b[0m \u001b[0mdf\u001b[0m\u001b[0;34m.\u001b[0m\u001b[0mpivot_table\u001b[0m\u001b[0;34m(\u001b[0m\u001b[0mindex\u001b[0m\u001b[0;34m=\u001b[0m\u001b[0;34m[\u001b[0m\u001b[0;34m'city'\u001b[0m\u001b[0;34m,\u001b[0m \u001b[0;34m'latencyBucket'\u001b[0m\u001b[0;34m,\u001b[0m \u001b[0;34m'n_completed'\u001b[0m\u001b[0;34m]\u001b[0m\u001b[0;34m,\u001b[0m \u001b[0mcolumns\u001b[0m\u001b[0;34m=\u001b[0m\u001b[0;34m'agents'\u001b[0m\u001b[0;34m,\u001b[0m \u001b[0mvalues\u001b[0m\u001b[0;34m=\u001b[0m\u001b[0;34m'latency_distribution'\u001b[0m\u001b[0;34m)\u001b[0m\u001b[0;34m.\u001b[0m\u001b[0mreset_index\u001b[0m\u001b[0;34m(\u001b[0m\u001b[0;34m)\u001b[0m\u001b[0;34m\u001b[0m\u001b[0;34m\u001b[0m\u001b[0m\n\u001b[0m\u001b[1;32m      2\u001b[0m \u001b[0mdfRow\u001b[0m \u001b[0;34m=\u001b[0m \u001b[0mdfRow\u001b[0m\u001b[0;34m[\u001b[0m\u001b[0mdfRow\u001b[0m\u001b[0;34m.\u001b[0m\u001b[0mcity\u001b[0m\u001b[0;34m.\u001b[0m\u001b[0misin\u001b[0m\u001b[0;34m(\u001b[0m\u001b[0;34m[\u001b[0m\u001b[0;34m'honolulu'\u001b[0m\u001b[0;34m,\u001b[0m \u001b[0;34m'porto_velho'\u001b[0m\u001b[0;34m]\u001b[0m\u001b[0;34m)\u001b[0m\u001b[0;34m]\u001b[0m\u001b[0;34m\u001b[0m\u001b[0;34m\u001b[0m\u001b[0m\n\u001b[1;32m      3\u001b[0m \u001b[0mdfRow\u001b[0m\u001b[0;34m[\u001b[0m\u001b[0;34m'PctDrop'\u001b[0m\u001b[0;34m]\u001b[0m \u001b[0;34m=\u001b[0m \u001b[0;34m(\u001b[0m\u001b[0mdfRow\u001b[0m\u001b[0;34m.\u001b[0m\u001b[0mokhttp\u001b[0m \u001b[0;34m-\u001b[0m \u001b[0mdfRow\u001b[0m\u001b[0;34m.\u001b[0m\u001b[0mcronet\u001b[0m\u001b[0;34m)\u001b[0m \u001b[0;34m*\u001b[0m \u001b[0;36m100.0\u001b[0m \u001b[0;34m/\u001b[0m \u001b[0mdfRow\u001b[0m\u001b[0;34m.\u001b[0m\u001b[0mokhttp\u001b[0m\u001b[0;34m\u001b[0m\u001b[0;34m\u001b[0m\u001b[0m\n\u001b[1;32m      4\u001b[0m \u001b[0mdfRow\u001b[0m\u001b[0;34m[\u001b[0m\u001b[0;34m'n_completed'\u001b[0m\u001b[0;34m]\u001b[0m \u001b[0;34m=\u001b[0m \u001b[0mdfRow\u001b[0m\u001b[0;34m.\u001b[0m\u001b[0mn_completed\u001b[0m\u001b[0;34m.\u001b[0m\u001b[0mastype\u001b[0m\u001b[0;34m(\u001b[0m\u001b[0mstr\u001b[0m\u001b[0;34m)\u001b[0m\u001b[0;34m\u001b[0m\u001b[0;34m\u001b[0m\u001b[0m\n\u001b[1;32m      5\u001b[0m (\n",
      "\u001b[0;31mNameError\u001b[0m: name 'df' is not defined"
     ]
    }
   ],
   "source": [
    "dfRow = df.pivot_table(index=['city', 'latencyBucket', 'n_completed'], columns='agents', values='latency_distribution').reset_index()\n",
    "dfRow = dfRow[dfRow.city.isin(['honolulu', 'porto_velho'])]\n",
    "dfRow['PctDrop'] = (dfRow.okhttp - dfRow.cronet) * 100.0 / dfRow.okhttp\n",
    "dfRow['n_completed'] = dfRow.n_completed.astype(str)\n",
    "(\n",
    "    ggplot(dfRow, aes(x='latencyBucket', y='PctDrop'))\n",
    "    + geom_line(aes(colour='city'))\n",
    "    + geom_point(aes(colour='city'))\n",
    "    + theme(figure_size=(20, 8))\n",
    "    + facet_wrap(\"~n_completed\", scales='free')\n",
    "    \n",
    ")"
   ]
  },
  {
   "cell_type": "code",
   "execution_count": 96,
   "metadata": {
    "collapsed": true
   },
   "outputs": [],
   "source": [
    "PROTOCOLS = \"\"\"\n",
    "\n",
    "h2\n",
    "h2\n",
    "h2\n",
    "h2|quic\n",
    "h2|quic\n",
    "h2|quic\n",
    "h2\n",
    "h2\n",
    "h2|http/1.1\n",
    "quic\n",
    "\n",
    "h2\n",
    "h2\n",
    "h2\n",
    "quic\n",
    "h2\n",
    "quic\n",
    "h2\n",
    "h2|http/1.1\n",
    "http/1.1\n",
    "h2|quic\n",
    "http/1.1\n",
    "h2|quic\n",
    "h2\n",
    "quic\n",
    "h2|http/1.1\n",
    "h2\n",
    "h2\n",
    "quic\n",
    "quic\n",
    "h2|quic\n",
    "h2|quic\n",
    "h2\n",
    "h2\n",
    "h2\n",
    "h2|quic\n",
    "h2|http/1.1\n",
    "h2\n",
    "quic\n",
    "h2|quic\n",
    "h2\n",
    "h2\n",
    "h2|quic\n",
    "http/1.1\n",
    "quic\n",
    "h2|quic\n",
    "quic\n",
    "http/1.1\n",
    "h2\n",
    "quic\n",
    "quic\n",
    "quic\n",
    "h2\n",
    "quic\n",
    "h2\n",
    "\n",
    "h2\n",
    "quic\n",
    "h2|http/1.1\n",
    "\n",
    "quic\n",
    "h2\n",
    "quic\n",
    "h2|http/1.1|quic\n",
    "h2|quic\n",
    "h2|http/1.1|quic\n",
    "h2\n",
    "h2\n",
    "h2|http/1.1|quic\n",
    "h2\n",
    "h2|quic\n",
    "\n",
    "h2\n",
    "h2\n",
    "h2|quic\n",
    "h2|quic\n",
    "\n",
    "h2\n",
    "quic\n",
    "h2|quic\n",
    "http/1.1\n",
    "\n",
    "h2\n",
    "h2\n",
    "h2\n",
    "http/1.1\n",
    "h2|http/1.1\n",
    "quic\n",
    "h2|http/1.1\n",
    "h2\n",
    "h2|http/1.1\n",
    "quic\n",
    "quic\n",
    "h2\n",
    "h2\n",
    "http/1.1|quic\n",
    "h2\n",
    "h2|http/1.1\n",
    "quic\n",
    "h2|quic\n",
    "h2|http/1.1|quic\n",
    "http/1.1\n",
    "h2|quic\n",
    "h2|quic\n",
    "http/1.1\n",
    "http/1.1|quic\n",
    "h2\n",
    "http/1.1\n",
    "quic\n",
    "h2|quic\n",
    "h2\n",
    "h2\n",
    "h2|quic\n",
    "h2|quic\n",
    "h2|http/1.1|quic\n",
    "h2|quic\n",
    "http/1.1\n",
    "quic\n",
    "http/1.1|quic\n",
    "h2\n",
    "h2\n",
    "quic\n",
    "h2\n",
    "h2\n",
    "\n",
    "h2|quic\n",
    "h2|http/1.1\n",
    "http/1.1\n",
    "h2|quic\n",
    "h2\n",
    "h2|quic\n",
    "quic\n",
    "h2\n",
    "quic\n",
    "quic\n",
    "h2|quic\n",
    "h2\n",
    "h2\n",
    "http/1.1|quic\n",
    "h2\n",
    "\n",
    "h2|quic\n",
    "quic\n",
    "quic\n",
    "h2\n",
    "h2\n",
    "http/1.1\n",
    "quic\n",
    "h2|quic\n",
    "h2\n",
    "h2\n",
    "h2\n",
    "quic\n",
    "h2|quic\n",
    "h2\n",
    "\n",
    "h2|quic\n",
    "h2\n",
    "h2|http/1.1|quic\n",
    "quic\n",
    "h2\n",
    "h2\n",
    "h2|http/1.1|quic\n",
    "h2\n",
    "h2|quic\n",
    "quic\n",
    "h2\n",
    "http/1.1|quic\n",
    "quic\n",
    "h2\n",
    "quic\n",
    "h2\n",
    "h2|quic\n",
    "h2\n",
    "h2\n",
    "h2\n",
    "h2|http/1.1|quic\n",
    "http/1.1\n",
    "quic\n",
    "h2|quic\n",
    "h2\n",
    "quic\n",
    "h2\n",
    "h2\n",
    "h2\n",
    "h2\n",
    "h2|quic\n",
    "quic\n",
    "h2|quic\n",
    "h2|quic\n",
    "h2\n",
    "h2\n",
    "quic\n",
    "quic\n",
    "\n",
    "quic\n",
    "http/1.1\n",
    "h2|quic\n",
    "h2\n",
    "quic\n",
    "http/1.1\n",
    "http/1.1\n",
    "quic\n",
    "http/1.1\n",
    "quic\n",
    "quic\n",
    "h2\n",
    "quic\n",
    "http/1.1\n",
    "\n",
    "quic\n",
    "http/1.1\n",
    "h2|quic\n",
    "h2\n",
    "http/1.1\n",
    "h2\n",
    "h2|quic\n",
    "h2\n",
    "http/1.1\n",
    "http/1.1\n",
    "h2\n",
    "h2|quic\n",
    "http/1.1\n",
    "h2|quic\n",
    "h2\n",
    "http/1.1\n",
    "h2|http/1.1\n",
    "h2\n",
    "h2\n",
    "h2|quic\n",
    "h2\n",
    "h2|quic\n",
    "h2\n",
    "h2\n",
    "h2|http/1.1\n",
    "h2|quic\n",
    "h2|quic\n",
    "h2\n",
    "h2|quic\n",
    "http/1.1\n",
    "h2|http/1.1\n",
    "quic\n",
    "h2\n",
    "quic\n",
    "h2\n",
    "http/1.1\n",
    "http/1.1\n",
    "h2|http/1.1\n",
    "http/1.1\n",
    "quic\n",
    "h2|quic\n",
    "h2\n",
    "h2|quic\n",
    "quic\n",
    "quic\n",
    "h2|http/1.1\n",
    "h2|quic\n",
    "quic\n",
    "quic\n",
    "h2|http/1.1\n",
    "h2\n",
    "h2\n",
    "h2|quic\n",
    "h2|http/1.1|quic\n",
    "h2\n",
    "h2\n",
    "\n",
    "h2|http/1.1\n",
    "\n",
    "h2\n",
    "h2\n",
    "h2|quic\n",
    "h2\n",
    "h2|quic\n",
    "quic\n",
    "quic\n",
    "h2|quic\n",
    "h2|quic\n",
    "h2\n",
    "h2|http/1.1|quic\n",
    "h2|quic\n",
    "h2|quic\n",
    "h2\n",
    "h2\n",
    "quic\n",
    "h2\n",
    "h2\n",
    "\n",
    "http/1.1\n",
    "quic\n",
    "h2\n",
    "\"\"\""
   ]
  },
  {
   "cell_type": "code",
   "execution_count": 97,
   "metadata": {
    "collapsed": false
   },
   "outputs": [
    {
     "ename": "SyntaxError",
     "evalue": "Missing parentheses in call to 'print'. Did you mean print(ps)? (<ipython-input-97-758606b6aa1f>, line 9)",
     "output_type": "error",
     "traceback": [
      "\u001b[0;36m  File \u001b[0;32m\"<ipython-input-97-758606b6aa1f>\"\u001b[0;36m, line \u001b[0;32m9\u001b[0m\n\u001b[0;31m    print ps\u001b[0m\n\u001b[0m           ^\u001b[0m\n\u001b[0;31mSyntaxError\u001b[0m\u001b[0;31m:\u001b[0m Missing parentheses in call to 'print'. Did you mean print(ps)?\n"
     ]
    }
   ],
   "source": [
    "ps = set()\n",
    "for p in PROTOCOLS.split(\"\\n\"):\n",
    "    if len(p.strip()) == 0:\n",
    "        continue\n",
    "    tokens = p.split('|')\n",
    "    for t in tokens:\n",
    "        ps.add(t)\n",
    "        \n",
    "print ps"
   ]
  },
  {
   "cell_type": "code",
   "execution_count": null,
   "metadata": {
    "collapsed": true
   },
   "outputs": [],
   "source": []
  },
  {
   "cell_type": "code",
   "execution_count": null,
   "metadata": {},
   "outputs": [],
   "source": []
  }
 ],
 "metadata": {
  "kernelspec": {
   "display_name": "Python 3",
   "language": "python",
   "name": "python3"
  },
  "language_info": {
   "codemirror_mode": {
    "name": "ipython",
    "version": 3
   },
   "file_extension": ".py",
   "mimetype": "text/x-python",
   "name": "python",
   "nbconvert_exporter": "python",
   "pygments_lexer": "ipython3",
   "version": "3.6.10"
  },
  "nbTranslate": {
   "displayLangs": [
    "*"
   ],
   "hotkey": "alt-t",
   "langInMainMenu": true,
   "sourceLang": "en",
   "targetLang": "fr",
   "useGoogleTranslate": true
  },
  "toc": {
   "colors": {
    "hover_highlight": "#DAA520",
    "running_highlight": "#FF0000",
    "selected_highlight": "#FFD700"
   },
   "moveMenuLeft": true,
   "nav_menu": {
    "height": "100px",
    "width": "252px"
   },
   "navigate_menu": true,
   "number_sections": true,
   "sideBar": true,
   "threshold": 4,
   "toc_cell": false,
   "toc_position": {
    "height": "721px",
    "left": "0px",
    "right": "1773.56px",
    "top": "106px",
    "width": "212px"
   },
   "toc_section_display": "block",
   "toc_window_display": true,
   "widenNotebook": false
  }
 },
 "nbformat": 4,
 "nbformat_minor": 2
}

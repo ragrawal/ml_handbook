{
 "cells": [
  {
   "cell_type": "markdown",
   "metadata": {},
   "source": [
    "# Evaluating Classification Problems\n",
    "\n",
    "\n",
    "Classification problems are the problems were the desired output is a categorical value. For instance, learning to detect different kinds of objects such as car, bicycle, etc., predicting whether someone has a cancer or not, etc are few examples of classification problem. Similar to [Chapter 1](01-RegressionMetrics.ipynb), the objective of this chapter is to understand the different metrics used to evaluate classification models. We start with an open source breast cancer dataset and build a classifier. Thereafter, we try to intutively develop various metrics such as accuracy, precision, recall, and area-under-curve to compare and evaluate the classifier. Eventually, we look how to generalize these metrics from evaluating binary classification problem such as the breast cancer dataset to multi-categorical (or multiclass) problem. \n",
    "\n",
    "## Predicting Cancer\n",
    "Assuming we have been asked to build a model that can predict whether a person has a breast cancer or not based on various features as described in the following [dataset](https://archive.ics.uci.edu/ml/datasets/Breast+Cancer+Wisconsin+%28Diagnostic%29).\n",
    "In order to train the classification model, we randomly divide the dataset into training and testing dataset. As shown in the code snippet below, the training dataset is then used to build a random forest classifier. Finally we try to evaluate the performance of the classifier using the test dataset."
   ]
  },
  {
   "cell_type": "code",
   "execution_count": 1,
   "metadata": {
    "ExecuteTime": {
     "end_time": "2020-05-16T13:24:53.274737Z",
     "start_time": "2020-05-16T13:24:51.538722Z"
    }
   },
   "outputs": [
    {
     "data": {
      "text/html": [
       "<div>\n",
       "<style scoped>\n",
       "    .dataframe tbody tr th:only-of-type {\n",
       "        vertical-align: middle;\n",
       "    }\n",
       "\n",
       "    .dataframe tbody tr th {\n",
       "        vertical-align: top;\n",
       "    }\n",
       "\n",
       "    .dataframe thead th {\n",
       "        text-align: right;\n",
       "    }\n",
       "</style>\n",
       "<table border=\"1\" class=\"dataframe\">\n",
       "  <thead>\n",
       "    <tr style=\"text-align: right;\">\n",
       "      <th></th>\n",
       "      <th>mean radius</th>\n",
       "      <th>mean texture</th>\n",
       "      <th>mean perimeter</th>\n",
       "      <th>mean area</th>\n",
       "      <th>mean smoothness</th>\n",
       "      <th>mean compactness</th>\n",
       "      <th>mean concavity</th>\n",
       "      <th>mean concave points</th>\n",
       "      <th>mean symmetry</th>\n",
       "      <th>mean fractal dimension</th>\n",
       "      <th>...</th>\n",
       "      <th>worst texture</th>\n",
       "      <th>worst perimeter</th>\n",
       "      <th>worst area</th>\n",
       "      <th>worst smoothness</th>\n",
       "      <th>worst compactness</th>\n",
       "      <th>worst concavity</th>\n",
       "      <th>worst concave points</th>\n",
       "      <th>worst symmetry</th>\n",
       "      <th>worst fractal dimension</th>\n",
       "      <th>hasCancer</th>\n",
       "    </tr>\n",
       "  </thead>\n",
       "  <tbody>\n",
       "    <tr>\n",
       "      <th>536</th>\n",
       "      <td>14.27</td>\n",
       "      <td>22.55</td>\n",
       "      <td>93.77</td>\n",
       "      <td>629.8</td>\n",
       "      <td>0.10380</td>\n",
       "      <td>0.11540</td>\n",
       "      <td>0.14630</td>\n",
       "      <td>0.06139</td>\n",
       "      <td>0.1926</td>\n",
       "      <td>0.05982</td>\n",
       "      <td>...</td>\n",
       "      <td>34.27</td>\n",
       "      <td>104.30</td>\n",
       "      <td>728.3</td>\n",
       "      <td>0.1380</td>\n",
       "      <td>0.2733</td>\n",
       "      <td>0.42340</td>\n",
       "      <td>0.13620</td>\n",
       "      <td>0.2698</td>\n",
       "      <td>0.08351</td>\n",
       "      <td>0</td>\n",
       "    </tr>\n",
       "    <tr>\n",
       "      <th>310</th>\n",
       "      <td>11.70</td>\n",
       "      <td>19.11</td>\n",
       "      <td>74.33</td>\n",
       "      <td>418.7</td>\n",
       "      <td>0.08814</td>\n",
       "      <td>0.05253</td>\n",
       "      <td>0.01583</td>\n",
       "      <td>0.01148</td>\n",
       "      <td>0.1936</td>\n",
       "      <td>0.06128</td>\n",
       "      <td>...</td>\n",
       "      <td>26.55</td>\n",
       "      <td>80.92</td>\n",
       "      <td>483.1</td>\n",
       "      <td>0.1223</td>\n",
       "      <td>0.1087</td>\n",
       "      <td>0.07915</td>\n",
       "      <td>0.05741</td>\n",
       "      <td>0.3487</td>\n",
       "      <td>0.06958</td>\n",
       "      <td>1</td>\n",
       "    </tr>\n",
       "    <tr>\n",
       "      <th>138</th>\n",
       "      <td>14.95</td>\n",
       "      <td>17.57</td>\n",
       "      <td>96.85</td>\n",
       "      <td>678.1</td>\n",
       "      <td>0.11670</td>\n",
       "      <td>0.13050</td>\n",
       "      <td>0.15390</td>\n",
       "      <td>0.08624</td>\n",
       "      <td>0.1957</td>\n",
       "      <td>0.06216</td>\n",
       "      <td>...</td>\n",
       "      <td>21.43</td>\n",
       "      <td>121.40</td>\n",
       "      <td>971.4</td>\n",
       "      <td>0.1411</td>\n",
       "      <td>0.2164</td>\n",
       "      <td>0.33550</td>\n",
       "      <td>0.16670</td>\n",
       "      <td>0.3414</td>\n",
       "      <td>0.07147</td>\n",
       "      <td>0</td>\n",
       "    </tr>\n",
       "    <tr>\n",
       "      <th>237</th>\n",
       "      <td>20.48</td>\n",
       "      <td>21.46</td>\n",
       "      <td>132.50</td>\n",
       "      <td>1306.0</td>\n",
       "      <td>0.08355</td>\n",
       "      <td>0.08348</td>\n",
       "      <td>0.09042</td>\n",
       "      <td>0.06022</td>\n",
       "      <td>0.1467</td>\n",
       "      <td>0.05177</td>\n",
       "      <td>...</td>\n",
       "      <td>26.17</td>\n",
       "      <td>161.70</td>\n",
       "      <td>1750.0</td>\n",
       "      <td>0.1228</td>\n",
       "      <td>0.2311</td>\n",
       "      <td>0.31580</td>\n",
       "      <td>0.14450</td>\n",
       "      <td>0.2238</td>\n",
       "      <td>0.07127</td>\n",
       "      <td>0</td>\n",
       "    </tr>\n",
       "    <tr>\n",
       "      <th>268</th>\n",
       "      <td>12.87</td>\n",
       "      <td>16.21</td>\n",
       "      <td>82.38</td>\n",
       "      <td>512.2</td>\n",
       "      <td>0.09425</td>\n",
       "      <td>0.06219</td>\n",
       "      <td>0.03900</td>\n",
       "      <td>0.01615</td>\n",
       "      <td>0.2010</td>\n",
       "      <td>0.05769</td>\n",
       "      <td>...</td>\n",
       "      <td>23.64</td>\n",
       "      <td>89.27</td>\n",
       "      <td>597.5</td>\n",
       "      <td>0.1256</td>\n",
       "      <td>0.1808</td>\n",
       "      <td>0.19920</td>\n",
       "      <td>0.05780</td>\n",
       "      <td>0.3604</td>\n",
       "      <td>0.07062</td>\n",
       "      <td>1</td>\n",
       "    </tr>\n",
       "  </tbody>\n",
       "</table>\n",
       "<p>5 rows × 31 columns</p>\n",
       "</div>"
      ],
      "text/plain": [
       "     mean radius  mean texture  mean perimeter  mean area  mean smoothness  \\\n",
       "536        14.27         22.55           93.77      629.8          0.10380   \n",
       "310        11.70         19.11           74.33      418.7          0.08814   \n",
       "138        14.95         17.57           96.85      678.1          0.11670   \n",
       "237        20.48         21.46          132.50     1306.0          0.08355   \n",
       "268        12.87         16.21           82.38      512.2          0.09425   \n",
       "\n",
       "     mean compactness  mean concavity  mean concave points  mean symmetry  \\\n",
       "536           0.11540         0.14630              0.06139         0.1926   \n",
       "310           0.05253         0.01583              0.01148         0.1936   \n",
       "138           0.13050         0.15390              0.08624         0.1957   \n",
       "237           0.08348         0.09042              0.06022         0.1467   \n",
       "268           0.06219         0.03900              0.01615         0.2010   \n",
       "\n",
       "     mean fractal dimension  ...  worst texture  worst perimeter  worst area  \\\n",
       "536                 0.05982  ...          34.27           104.30       728.3   \n",
       "310                 0.06128  ...          26.55            80.92       483.1   \n",
       "138                 0.06216  ...          21.43           121.40       971.4   \n",
       "237                 0.05177  ...          26.17           161.70      1750.0   \n",
       "268                 0.05769  ...          23.64            89.27       597.5   \n",
       "\n",
       "     worst smoothness  worst compactness  worst concavity  \\\n",
       "536            0.1380             0.2733          0.42340   \n",
       "310            0.1223             0.1087          0.07915   \n",
       "138            0.1411             0.2164          0.33550   \n",
       "237            0.1228             0.2311          0.31580   \n",
       "268            0.1256             0.1808          0.19920   \n",
       "\n",
       "     worst concave points  worst symmetry  worst fractal dimension  hasCancer  \n",
       "536               0.13620          0.2698                  0.08351          0  \n",
       "310               0.05741          0.3487                  0.06958          1  \n",
       "138               0.16670          0.3414                  0.07147          0  \n",
       "237               0.14450          0.2238                  0.07127          0  \n",
       "268               0.05780          0.3604                  0.07062          1  \n",
       "\n",
       "[5 rows x 31 columns]"
      ]
     },
     "execution_count": 1,
     "metadata": {},
     "output_type": "execute_result"
    }
   ],
   "source": [
    "%matplotlib inline\n",
    "# import packages\n",
    "from sklearn import datasets\n",
    "from sklearn.model_selection import train_test_split\n",
    "from sklearn.ensemble import RandomForestClassifier\n",
    "import pandas as pd\n",
    "from plotnine import *\n",
    "\n",
    "import warnings\n",
    "warnings.filterwarnings(action=\"ignore\") #, module=\"scipy\", message=\"^internal gelsd\")\n",
    "\n",
    "# load dataset\n",
    "cancer = datasets.load_breast_cancer()\n",
    "data = pd.DataFrame(cancer.data, columns=cancer.feature_names)\n",
    "data.loc[:, 'hasCancer'] = cancer.target\n",
    "data.sample(n=5)"
   ]
  },
  {
   "cell_type": "code",
   "execution_count": 2,
   "metadata": {
    "ExecuteTime": {
     "end_time": "2020-05-16T13:24:53.283587Z",
     "start_time": "2020-05-16T13:24:53.276465Z"
    }
   },
   "outputs": [
    {
     "name": "stdout",
     "output_type": "stream",
     "text": [
      "Train:  (455, 31)\n",
      "Test:  (114, 31)\n",
      "Number of Positive Cases In Test Dataset:  75\n",
      "Number of Negative Cases In Test Dataset:  39\n"
     ]
    }
   ],
   "source": [
    "# split data into training and test\n",
    "train, test = train_test_split(data, test_size=0.2, random_state=10)\n",
    "print(\"Train: \", train.shape)\n",
    "print(\"Test: \", test.shape)\n",
    "print(\"Number of Positive Cases In Test Dataset: \", test[test.hasCancer == 1].shape[0])\n",
    "print(\"Number of Negative Cases In Test Dataset: \", test[test.hasCancer == 0].shape[0])\n",
    "    "
   ]
  },
  {
   "cell_type": "code",
   "execution_count": 3,
   "metadata": {
    "ExecuteTime": {
     "end_time": "2020-05-16T13:24:53.312587Z",
     "start_time": "2020-05-16T13:24:53.285831Z"
    }
   },
   "outputs": [],
   "source": [
    "clf = RandomForestClassifier(n_estimators=10, max_depth=5, random_state=10)\n",
    "clf.fit(train[cancer.feature_names], train['hasCancer'])\n",
    "test['prediction'] = clf.predict(test[cancer.feature_names])"
   ]
  },
  {
   "cell_type": "markdown",
   "metadata": {},
   "source": [
    "## Accuracy as a Metric\n",
    "\n",
    "Once we have trained a classifier, the next challenge is how to evaluate its performance. To start with, one of the most intutive metric we can think of is \"accuracy\" i.e. percentage of test cases for which the classifier's prediction is correct. Mathematically, accuracy can be represented as \n",
    "$$ acc = \\frac{|T|}{|T| + |F|} $$\n",
    "where \n",
    "* $|T|$ is the number of test cases where the actual class and the predicted class match. \n",
    "* $|F|$ is the number of test cases where the actual class and the predicted class differ.\n",
    "\n",
    "Below code snippet shows how to calculate accuracy manually and using sklearn."
   ]
  },
  {
   "cell_type": "code",
   "execution_count": 4,
   "metadata": {
    "ExecuteTime": {
     "end_time": "2020-05-16T13:24:53.323919Z",
     "start_time": "2020-05-16T13:24:53.314926Z"
    }
   },
   "outputs": [
    {
     "name": "stdout",
     "output_type": "stream",
     "text": [
      "Accuracy (manually): 0.97\n",
      "Accuracy (sklearn): 0.97\n"
     ]
    }
   ],
   "source": [
    "# count number of predictions that are True i.e. predicted value == actual value\n",
    "true_results = test[test.hasCancer == test.prediction].shape[0]\n",
    "false_results = test[test.hasCancer != test.prediction].shape[0]\n",
    "\n",
    "# compute accuracy \n",
    "accuracy1 = float(true_results)/(true_results + false_results)\n",
    "print(\"Accuracy (manually): {:.2f}\".format(accuracy1))\n",
    "\n",
    "# compute accuracy using sklearn\n",
    "from sklearn.metrics import accuracy_score\n",
    "accuracy2 = accuracy_score(test['hasCancer'], test['prediction'])\n",
    "print(\"Accuracy (sklearn): {:.2f}\".format(accuracy2))\n",
    "\n",
    "# assert two accuracy are same\n",
    "assert accuracy1 == accuracy2, \"Accuracy don't match\""
   ]
  },
  {
   "cell_type": "markdown",
   "metadata": {
    "cell_style": "center"
   },
   "source": [
    "Accuracy as metric suffers from two limitations. First, it can be misleading if you have a skewed dataset. Second, it's a point estimate of the performance of the model. The two points are further elaborated in the following sub sections. \n",
    "\n",
    "\n",
    "### Skewed Dataset\n",
    "\n",
    "Assume we are provided with a home loan application dataset and asked to build a classifier that can predict whether a home loan application is likely to get defaulted or not in future. In general, the home loan default rate is less than 1% and let's assume our dataset is representative of the population, i.e., only 1% of all the home application in our dataset have been defaulted. Now, if somebody approaches us that his/her classifier is able to achieve an accuracy of 99% of the above given dataset, it shouldn't suprise you. Given the skeweness, it can be achieved even by a constant classifier that always returns 0 i.e. the application is not likely to be defaulted. This constant classifier will be correct 99% of the time. **Thus, in the case of a skewed dataset, accuracy as a metric can be misleading.** \n",
    "\n",
    "One way to overcome the skewed dataset issue is to measure accuracy for each individual categories. This idea leads us to confusion matrix. As shown in the table below, a confusion matrix is a simple matrix where one axes contains actual categories and the other contains predicted categories. The cells contains number of test cases falling in a particular combination of actual and predicated categories.\n",
    "\n",
    "|_ | **Predicted Positive** | **Predicted Negative** |\n",
    "|:-------:|:-----------------------:|:--------------------:|\n",
    "| **Actual Positive** |    True Positive (FP) | False Negatives (FN) |\n",
    "| **Actual Negative** |   False Positive (FP) | True Negative (TN) |\n",
    "\n",
    "\n",
    "An easy way to remember the nomeclature  (TP, FN, FP and TN) is to remember that\n",
    "1. T/F indicates whether the actual class and the predicted class matches or not. \n",
    "2. P/N indicates the predicted category. \n",
    "\n",
    "Below code snippets computes shows how to compute confusion matrix based on the model we trained above for the breast cancer dataset. \n"
   ]
  },
  {
   "cell_type": "code",
   "execution_count": 5,
   "metadata": {
    "ExecuteTime": {
     "end_time": "2020-05-16T13:24:53.346553Z",
     "start_time": "2020-05-16T13:24:53.325771Z"
    }
   },
   "outputs": [
    {
     "data": {
      "text/html": [
       "<div>\n",
       "<style scoped>\n",
       "    .dataframe tbody tr th:only-of-type {\n",
       "        vertical-align: middle;\n",
       "    }\n",
       "\n",
       "    .dataframe tbody tr th {\n",
       "        vertical-align: top;\n",
       "    }\n",
       "\n",
       "    .dataframe thead th {\n",
       "        text-align: right;\n",
       "    }\n",
       "</style>\n",
       "<table border=\"1\" class=\"dataframe\">\n",
       "  <thead>\n",
       "    <tr style=\"text-align: right;\">\n",
       "      <th>prediction</th>\n",
       "      <th>0</th>\n",
       "      <th>1</th>\n",
       "    </tr>\n",
       "    <tr>\n",
       "      <th>hasCancer</th>\n",
       "      <th></th>\n",
       "      <th></th>\n",
       "    </tr>\n",
       "  </thead>\n",
       "  <tbody>\n",
       "    <tr>\n",
       "      <th>0</th>\n",
       "      <td>38</td>\n",
       "      <td>1</td>\n",
       "    </tr>\n",
       "    <tr>\n",
       "      <th>1</th>\n",
       "      <td>2</td>\n",
       "      <td>73</td>\n",
       "    </tr>\n",
       "  </tbody>\n",
       "</table>\n",
       "</div>"
      ],
      "text/plain": [
       "prediction   0   1\n",
       "hasCancer         \n",
       "0           38   1\n",
       "1            2  73"
      ]
     },
     "execution_count": 5,
     "metadata": {},
     "output_type": "execute_result"
    }
   ],
   "source": [
    "cm = test.groupby(['hasCancer', 'prediction']).size().reset_index().rename(columns={0: 'NumTestCases'})\n",
    "cm.pivot_table(index='hasCancer', columns='prediction', values='NumTestCases')\n"
   ]
  },
  {
   "cell_type": "markdown",
   "metadata": {},
   "source": [
    "Based on the above matrix, we can construct many different interesting matrix. For instance, we can notice that our trained classifier for the breast cancer dataset is able to detect 97% (73 of 75) positive cases correctly. This is known as True Positive Rate (TPR). TPR is also referred as sensitivity or recall. We can also compute what percentage of negative cases have been classified as positive. This is known as false positive rate or FPR. Based on the above confusion matrix we known that FPR is $1/39$ or about 2.5%. There are many other metrics defined based on confusion matrix and you can find a good summary of those over [here](https://en.wikipedia.org/wiki/Confusion_matrix). \n",
    "\n",
    "\n",
    "### Point Estimate\n",
    "\n",
    "Classifiers usually assign probability scores to each of the output categories and the category with the highest probability score is usually treated as the predicted category. As shown below, one can examine probability score of individual categories using `predict_proba` function. Notice that the final prediction correspond to the class with the highest probability score. "
   ]
  },
  {
   "cell_type": "code",
   "execution_count": 6,
   "metadata": {
    "ExecuteTime": {
     "end_time": "2020-05-16T13:24:53.414147Z",
     "start_time": "2020-05-16T13:24:53.348203Z"
    }
   },
   "outputs": [
    {
     "data": {
      "text/html": [
       "<style  type=\"text/css\" >\n",
       "</style><table id=\"T_e9378c88_9778_11ea_b362_f218984e9470\" ><thead>    <tr>        <th class=\"blank level0\" ></th>        <th class=\"col_heading level0 col0\" >prob_0</th>        <th class=\"col_heading level0 col1\" >prob_1</th>        <th class=\"col_heading level0 col2\" >prediction</th>    </tr></thead><tbody>\n",
       "                <tr>\n",
       "                        <th id=\"T_e9378c88_9778_11ea_b362_f218984e9470level0_row0\" class=\"row_heading level0 row0\" >78</th>\n",
       "                        <td id=\"T_e9378c88_9778_11ea_b362_f218984e9470row0_col0\" class=\"data row0 col0\" >1.00</td>\n",
       "                        <td id=\"T_e9378c88_9778_11ea_b362_f218984e9470row0_col1\" class=\"data row0 col1\" >0.00</td>\n",
       "                        <td id=\"T_e9378c88_9778_11ea_b362_f218984e9470row0_col2\" class=\"data row0 col2\" >0</td>\n",
       "            </tr>\n",
       "            <tr>\n",
       "                        <th id=\"T_e9378c88_9778_11ea_b362_f218984e9470level0_row1\" class=\"row_heading level0 row1\" >474</th>\n",
       "                        <td id=\"T_e9378c88_9778_11ea_b362_f218984e9470row1_col0\" class=\"data row1 col0\" >0.10</td>\n",
       "                        <td id=\"T_e9378c88_9778_11ea_b362_f218984e9470row1_col1\" class=\"data row1 col1\" >0.90</td>\n",
       "                        <td id=\"T_e9378c88_9778_11ea_b362_f218984e9470row1_col2\" class=\"data row1 col2\" >1</td>\n",
       "            </tr>\n",
       "            <tr>\n",
       "                        <th id=\"T_e9378c88_9778_11ea_b362_f218984e9470level0_row2\" class=\"row_heading level0 row2\" >419</th>\n",
       "                        <td id=\"T_e9378c88_9778_11ea_b362_f218984e9470row2_col0\" class=\"data row2 col0\" >0.01</td>\n",
       "                        <td id=\"T_e9378c88_9778_11ea_b362_f218984e9470row2_col1\" class=\"data row2 col1\" >0.99</td>\n",
       "                        <td id=\"T_e9378c88_9778_11ea_b362_f218984e9470row2_col2\" class=\"data row2 col2\" >1</td>\n",
       "            </tr>\n",
       "    </tbody></table>"
      ],
      "text/plain": [
       "<pandas.io.formats.style.Styler at 0x1a1b50dd30>"
      ]
     },
     "execution_count": 6,
     "metadata": {},
     "output_type": "execute_result"
    }
   ],
   "source": [
    "probs = clf.predict_proba(test[cancer.feature_names])\n",
    "test['prob_{}'.format(clf.classes_[0])] = probs[:, 0]\n",
    "test['prob_{}'.format(clf.classes_[1])] = probs[:, 1]\n",
    "\n",
    "test.sample(3)[['prob_0', 'prob_1', 'prediction']].style.format({\n",
    "    'prob_0': \"{:.2f}\",\n",
    "    'prob_1': \"{:.2f}\",\n",
    "})"
   ]
  },
  {
   "cell_type": "markdown",
   "metadata": {},
   "source": [
    "In the case of binary classifier, the predicted category naturally has probability score more than 0.5. Thus, we can say that $y=1$ only if $P(y=1|x) > 0.5$, otherwise its $y=0$. We can further generalize above condition by replacing static 0.5 with a threshold, say $\\tau$. Thus, $y=1$ only if $P(y=1|x) > \\tau$, otherwise its $y=0$. \n",
    "\n",
    "Introducing $\\tau$ has an advantage. By changing $\\tau$ we can influence TPR, FPR, etc and thereby influence the same model to have higher precision or recall. For instance, in the case of breast cancer dataset, let's assume that the cost of false negative (i.e predicting negative when one has a breast cancer) is very high and thereby one of the requirements is to have false positive rate less than 1%. From the above confusion matrix, we can examine that the existing trained model has false negative rate (FNR) of $2/75 \\approx 2.5%$. One simple way to meet the requirement of having FNR is to lower down $\\tau$. By reducing the value of $\\tau$, we will allow more samples to be predicted as positives and thereby decreases FNR. Below code snippet demonstrates this by changing $\\tau$ from 0 to 1 in step of 0.01. \n"
   ]
  },
  {
   "cell_type": "code",
   "execution_count": 7,
   "metadata": {
    "ExecuteTime": {
     "end_time": "2020-05-16T13:24:59.400245Z",
     "start_time": "2020-05-16T13:24:53.416179Z"
    }
   },
   "outputs": [
    {
     "data": {
      "text/html": [
       "<div>\n",
       "<style scoped>\n",
       "    .dataframe tbody tr th:only-of-type {\n",
       "        vertical-align: middle;\n",
       "    }\n",
       "\n",
       "    .dataframe tbody tr th {\n",
       "        vertical-align: top;\n",
       "    }\n",
       "\n",
       "    .dataframe thead th {\n",
       "        text-align: right;\n",
       "    }\n",
       "</style>\n",
       "<table border=\"1\" class=\"dataframe\">\n",
       "  <thead>\n",
       "    <tr style=\"text-align: right;\">\n",
       "      <th></th>\n",
       "      <th>threshold</th>\n",
       "      <th>tpr</th>\n",
       "      <th>fpr</th>\n",
       "      <th>fnr</th>\n",
       "      <th>accuracy</th>\n",
       "    </tr>\n",
       "  </thead>\n",
       "  <tbody>\n",
       "    <tr>\n",
       "      <th>64</th>\n",
       "      <td>0.064</td>\n",
       "      <td>1.000000</td>\n",
       "      <td>0.461538</td>\n",
       "      <td>0.000000</td>\n",
       "      <td>0.842105</td>\n",
       "    </tr>\n",
       "    <tr>\n",
       "      <th>312</th>\n",
       "      <td>0.312</td>\n",
       "      <td>1.000000</td>\n",
       "      <td>0.153846</td>\n",
       "      <td>0.000000</td>\n",
       "      <td>0.947368</td>\n",
       "    </tr>\n",
       "    <tr>\n",
       "      <th>747</th>\n",
       "      <td>0.747</td>\n",
       "      <td>0.906667</td>\n",
       "      <td>0.000000</td>\n",
       "      <td>0.093333</td>\n",
       "      <td>0.938596</td>\n",
       "    </tr>\n",
       "    <tr>\n",
       "      <th>914</th>\n",
       "      <td>0.914</td>\n",
       "      <td>0.773333</td>\n",
       "      <td>0.000000</td>\n",
       "      <td>0.226667</td>\n",
       "      <td>0.850877</td>\n",
       "    </tr>\n",
       "    <tr>\n",
       "      <th>923</th>\n",
       "      <td>0.923</td>\n",
       "      <td>0.773333</td>\n",
       "      <td>0.000000</td>\n",
       "      <td>0.226667</td>\n",
       "      <td>0.850877</td>\n",
       "    </tr>\n",
       "  </tbody>\n",
       "</table>\n",
       "</div>"
      ],
      "text/plain": [
       "     threshold       tpr       fpr       fnr  accuracy\n",
       "64       0.064  1.000000  0.461538  0.000000  0.842105\n",
       "312      0.312  1.000000  0.153846  0.000000  0.947368\n",
       "747      0.747  0.906667  0.000000  0.093333  0.938596\n",
       "914      0.914  0.773333  0.000000  0.226667  0.850877\n",
       "923      0.923  0.773333  0.000000  0.226667  0.850877"
      ]
     },
     "metadata": {},
     "output_type": "display_data"
    },
    {
     "data": {
      "image/png": "[encoded data removed]",
      "text/plain": [
       "<Figure size 1000x800 with 1 Axes>"
      ]
     },
     "metadata": {},
     "output_type": "display_data"
    },
    {
     "data": {
      "text/plain": [
       "<ggplot: (-9223372029846710328)>"
      ]
     },
     "execution_count": 7,
     "metadata": {},
     "output_type": "execute_result"
    }
   ],
   "source": [
    "def point_estimates(df):\n",
    "    \"\"\"\n",
    "    Computes various metrics for a given threshold value\n",
    "    \"\"\"\n",
    "    p = float(df[df.hasCancer == 1].shape[0])\n",
    "    n = float(df[df.hasCancer == 0].shape[0])\n",
    "    \n",
    "    def _compute(threshold):\n",
    "        \n",
    "        tp = df[(df.prob_1 >= threshold) & (df.hasCancer == 1)].shape[0]\n",
    "        fp = df[(df.prob_1 >= threshold) & (df.hasCancer == 0)].shape[0]\n",
    "        fn = df[(df.prob_1 < threshold) & (df.hasCancer == 1)].shape[0]\n",
    "        t = df[\n",
    "            ((df.prob_1 >= threshold) & (df.hasCancer == 1))\n",
    "            | ((df.prob_1 < threshold) & (df.hasCancer == 0))\n",
    "        ].shape[0]\n",
    "        return (threshold, tp / p, fp / n, fn / p, t / (p + n))\n",
    "    \n",
    "    return _compute\n",
    "    \n",
    "estimator = point_estimates(test)\n",
    "df = pd.DataFrame(\n",
    "    [estimator(threshold/1000) for threshold in range(0, 1001, 1)],\n",
    "    columns=['threshold', 'tpr', 'fpr', 'fnr', 'accuracy']\n",
    ")\n",
    "display(df.sample(5).sort_values('threshold'))\n",
    "\n",
    "(\n",
    "    ggplot(df.melt(id_vars='threshold'), aes(x='threshold', y='value'))\n",
    "    + geom_line(aes(group='variable', colour='variable'))\n",
    "    + xlab(\"Threshold\") + ylab(\"Value\")\n",
    "    + theme_linedraw()\n",
    "    + theme(figure_size=(10, 8))\n",
    ")"
   ]
  },
  {
   "cell_type": "markdown",
   "metadata": {
    "ExecuteTime": {
     "end_time": "2019-03-26T16:47:16.154094Z",
     "start_time": "2019-03-26T16:47:16.143054Z"
    }
   },
   "source": [
    "## Area Under Curve\n",
    "\n"
   ]
  },
  {
   "cell_type": "markdown",
   "metadata": {},
   "source": [
    "As discussed above, accuracy and other metrics are point estimates. This creates a problem. For instance, consider two models both have same accuracy at 0.5. But one model has a higher accuracy when $\\tau = 0.25$ and another has a higher accuracy when $\\tau = 0.75$. How do you decide which one is better. For a moment let's think about an ideal model. \n",
    "\n",
    "As shown in the below plot (grey region), one might notice that TRP and FPR curves form a closed region. Now for a momemnt think about an ideal model and how the region bounded by TPR and FPR curve will look like ? An ideal model will be one that definitively distinguishes positive and negative test cases and is accurate 100%. Thus, an ideal will be the one that assigns a probability of 1 to positive test cases and 0 for negative test cases. As a result, TPR will be always 100% irrespective what threshold value we choose. Thus, TPR will be a horizontal line intersecting y axis at 100% point. Similarly, for an ideal model FPR will be always 0% and therefore it will be a horizontal line intersecting y-axis at 0%. TPR and FPR curves for an ideal model then form the bounding box for the below shown plot. \n"
   ]
  },
  {
   "cell_type": "code",
   "execution_count": 8,
   "metadata": {
    "ExecuteTime": {
     "end_time": "2020-05-16T13:24:59.861167Z",
     "start_time": "2020-05-16T13:24:59.403316Z"
    }
   },
   "outputs": [
    {
     "data": {
      "image/png": "[encoded data removed]",
      "text/plain": [
       "<Figure size 1000x800 with 1 Axes>"
      ]
     },
     "metadata": {},
     "output_type": "display_data"
    },
    {
     "data": {
      "text/plain": [
       "<ggplot: (7008058842)>"
      ]
     },
     "execution_count": 8,
     "metadata": {},
     "output_type": "execute_result"
    }
   ],
   "source": [
    "(\n",
    "    ggplot()\n",
    "    + geom_line(\n",
    "        aes(group='variable', colour='variable', x='threshold', y='value'),\n",
    "        size=2, data=df[['threshold', 'fpr', 'tpr']].melt(id_vars='threshold')\n",
    "    )\n",
    "    + geom_ribbon(\n",
    "        aes(ymin='fpr', ymax='tpr', x='threshold'), \n",
    "        fill='lightgrey', data=df\n",
    "    )\n",
    "    + xlab(\"Threshold\") + ylab(\"Value\")\n",
    "    + theme_linedraw()\n",
    "    + theme(figure_size=(10, 8))\n",
    ")"
   ]
  },
  {
   "cell_type": "markdown",
   "metadata": {
    "ExecuteTime": {
     "end_time": "2019-03-29T16:13:55.405307Z",
     "start_time": "2019-03-29T16:13:55.385412Z"
    }
   },
   "source": [
    "Based on the above discussion, it is easy to notice that as the quality of our model improves the TPR curve should move towards the top left corner and FPR should move towards the bottom right corner. In other words, the quality of our trained model improves as the area between the curves increases. This essentially forms the intution behind the Area Under Curve (AUC) metric. \n",
    "\n",
    "In pratice, however there is one small difference. As shown below, instead of plotting two separate curves (TPR and FPR) as a function of threshold, we can plot TPR as a function of FPR. As the model quality improves, the line will move towards top right corner and the area under the curve will increase. Similar to $R^2$ metric discussed in [chapter 1](01-RegressionMetrics.ipynb), the region above the curve (red colored region) is the opportunity area to improve our model. "
   ]
  },
  {
   "cell_type": "code",
   "execution_count": 9,
   "metadata": {
    "ExecuteTime": {
     "end_time": "2020-05-16T13:25:00.197355Z",
     "start_time": "2020-05-16T13:24:59.864272Z"
    }
   },
   "outputs": [
    {
     "data": {
      "image/png": "[encoded data removed]",
      "text/plain": [
       "<Figure size 640x480 with 1 Axes>"
      ]
     },
     "metadata": {},
     "output_type": "display_data"
    },
    {
     "data": {
      "text/plain": [
       "<ggplot: (7005849692)>"
      ]
     },
     "execution_count": 9,
     "metadata": {},
     "output_type": "execute_result"
    }
   ],
   "source": [
    "fpr_tpr_curve = df.groupby('fpr')['tpr'].max().reset_index()\n",
    "(\n",
    "    ggplot(\n",
    "        fpr_tpr_curve,\n",
    "        aes(x='fpr', y='tpr')\n",
    "    ) \n",
    "#     + geom_ribbon(aes(ymax='tpr', ymin='fpr'), fill='green')\n",
    "    + geom_ribbon(aes(ymin='tpr', ymax=1), fill='red') \n",
    "    + geom_line(size=2)\n",
    "    + xlab(\"False Positive Rate\")\n",
    "    + ylab(\"True Positive Rate\")\n",
    "    + theme_linedraw()\n",
    ")"
   ]
  },
  {
   "cell_type": "markdown",
   "metadata": {},
   "source": [
    "Below code snippet computes the area under curve and validates that this what we get from sklearn. "
   ]
  },
  {
   "cell_type": "code",
   "execution_count": 10,
   "metadata": {
    "ExecuteTime": {
     "end_time": "2020-05-16T13:25:00.616150Z",
     "start_time": "2020-05-16T13:25:00.199227Z"
    }
   },
   "outputs": [
    {
     "ename": "NameError",
     "evalue": "name 'np' is not defined",
     "output_type": "error",
     "traceback": [
      "\u001b[0;31m---------------------------------------------------------------------------\u001b[0m",
      "\u001b[0;31mNameError\u001b[0m                                 Traceback (most recent call last)",
      "\u001b[0;32m<ipython-input-10-8f74fdb3cdcd>\u001b[0m in \u001b[0;36m<module>\u001b[0;34m\u001b[0m\n\u001b[1;32m      1\u001b[0m \u001b[0;32mfrom\u001b[0m \u001b[0msklearn\u001b[0m\u001b[0;34m.\u001b[0m\u001b[0mmetrics\u001b[0m \u001b[0;32mimport\u001b[0m \u001b[0mroc_auc_score\u001b[0m\u001b[0;34m\u001b[0m\u001b[0;34m\u001b[0m\u001b[0m\n\u001b[0;32m----> 2\u001b[0;31m \u001b[0mauc_manually\u001b[0m \u001b[0;34m=\u001b[0m \u001b[0mnp\u001b[0m\u001b[0;34m.\u001b[0m\u001b[0mtrapz\u001b[0m\u001b[0;34m(\u001b[0m\u001b[0mfpr_tpr_curve\u001b[0m\u001b[0;34m[\u001b[0m\u001b[0;34m'tpr'\u001b[0m\u001b[0;34m]\u001b[0m\u001b[0;34m,\u001b[0m \u001b[0mx\u001b[0m\u001b[0;34m=\u001b[0m\u001b[0mfpr_tpr_curve\u001b[0m\u001b[0;34m[\u001b[0m\u001b[0;34m'fpr'\u001b[0m\u001b[0;34m]\u001b[0m\u001b[0;34m)\u001b[0m\u001b[0;34m\u001b[0m\u001b[0;34m\u001b[0m\u001b[0m\n\u001b[0m\u001b[1;32m      3\u001b[0m \u001b[0mauc_sklearn\u001b[0m \u001b[0;34m=\u001b[0m \u001b[0mroc_auc_score\u001b[0m\u001b[0;34m(\u001b[0m\u001b[0mtest\u001b[0m\u001b[0;34m[\u001b[0m\u001b[0;34m'hasCancer'\u001b[0m\u001b[0;34m]\u001b[0m\u001b[0;34m,\u001b[0m \u001b[0mtest\u001b[0m\u001b[0;34m[\u001b[0m\u001b[0;34m'prob_1'\u001b[0m\u001b[0;34m]\u001b[0m\u001b[0;34m)\u001b[0m\u001b[0;34m\u001b[0m\u001b[0;34m\u001b[0m\u001b[0m\n\u001b[1;32m      4\u001b[0m \u001b[0;34m\u001b[0m\u001b[0m\n\u001b[1;32m      5\u001b[0m \u001b[0mprint\u001b[0m\u001b[0;34m(\u001b[0m\u001b[0;34m\"Area Under Curve (manually): {:.3}\"\u001b[0m\u001b[0;34m.\u001b[0m\u001b[0mformat\u001b[0m\u001b[0;34m(\u001b[0m\u001b[0mauc_manually\u001b[0m\u001b[0;34m)\u001b[0m\u001b[0;34m)\u001b[0m\u001b[0;34m\u001b[0m\u001b[0;34m\u001b[0m\u001b[0m\n",
      "\u001b[0;31mNameError\u001b[0m: name 'np' is not defined"
     ]
    }
   ],
   "source": [
    "from sklearn.metrics import roc_auc_score\n",
    "auc_manually = np.trapz(fpr_tpr_curve['tpr'], x=fpr_tpr_curve['fpr'])\n",
    "auc_sklearn = roc_auc_score(test['hasCancer'], test['prob_1'])\n",
    "\n",
    "print(\"Area Under Curve (manually): {:.3}\".format(auc_manually))\n",
    "print(\"Area Under Curve (Sklearn): {:.3}\".format(auc_sklearn))\n"
   ]
  },
  {
   "cell_type": "markdown",
   "metadata": {},
   "source": [
    "## $F_1$ and Variants"
   ]
  },
  {
   "cell_type": "markdown",
   "metadata": {
    "ExecuteTime": {
     "end_time": "2019-04-02T15:58:10.748375Z",
     "start_time": "2019-04-02T15:58:10.743547Z"
    }
   },
   "source": [
    "Another popular metric that is often used to evaluate classifiers is $F_1$ score and it's variant. $F_1$ is described as the harmonic mean of precision and recall. To better understand the definition, first let's try to understand what is precision and recall. \n",
    "\n",
    "Often when dealing with a classification problem, we are interested in the positive cases and how well the trained model is able to detect these positive test cases. In other words we are interested in true positives (TP). However, the number of TP by themself doesn't make sense. For instance, saying there are 50 TP doesn't communicate any insightful information. In order to evaluate the quality of the model in reference to true positives, we need to normalize the number of true positive cases with the number of positive cases. For instance, it makes more sense if one says that the model is able to detect 50 of 200 positive cases or true positive rate is 25% of actual positive cases.\n",
    "\n",
    "There is a however another challenge. We can talk about the total number of positive cases, used for normalizing true positiives, from two different perspectives: from the data perspective or from the model perspective. From the data perspective, the total number of positives cases is the number of cases that are actually labeled as positives. Based on the confusion matrix, the total number of positive cases from the data perspective is the summation of true positives (TP) and false negatives (FN). **True positive rate from the data perspecrtive is known as \"recall\"**. Mathematically, it can be represented as:\n",
    "\n",
    "$$ Recall = \\frac{TP}{TP + FN}$$\n",
    "\n",
    "In contrast to recall, **precision is true positive rate from the model perspective**. The total number of positive cases is the number of cases that the model predicts to be positive. Based on the confusion matrix, it can be represented as:\n",
    "\n",
    "$$ Precision = \\frac{TP}{TP + FP} $$\n",
    "\n",
    "Notice that in the formula for recall and precision only the denomoniator is different. One is the total number of actual positive cases in the test dataset and another is the total number of predicted positive cases, respectively. \n",
    "\n",
    "Now we have two different ways to talk about true positive rates. However as a metric it we would like to have a single number. One simple way to combine these two different true positive rates is to take the average. When dealing with ratio, harmonic mean makes more sense than arithmetic mean. This harmonic mean of precision and recall is termed as $F_1$ score and written as:\n",
    "\n",
    "$$ F_1 = \\frac{2}{\\frac{1}{Precision} + \\frac{1}{Recall}} = \\frac{2 \\times Precision \\times Recall}{Precsiion + Recall } $$\n",
    "\n"
   ]
  },
  {
   "cell_type": "code",
   "execution_count": null,
   "metadata": {},
   "outputs": [],
   "source": []
  }
 ],
 "metadata": {
  "kernelspec": {
   "display_name": "Python 3",
   "language": "python",
   "name": "python3"
  },
  "language_info": {
   "codemirror_mode": {
    "name": "ipython",
    "version": 3
   },
   "file_extension": ".py",
   "mimetype": "text/x-python",
   "name": "python",
   "nbconvert_exporter": "python",
   "pygments_lexer": "ipython3",
   "version": "3.6.10"
  },
  "toc": {
   "base_numbering": 1,
   "nav_menu": {},
   "number_sections": true,
   "sideBar": true,
   "skip_h1_title": false,
   "title_cell": "Table of Contents",
   "title_sidebar": "Contents",
   "toc_cell": false,
   "toc_position": {},
   "toc_section_display": true,
   "toc_window_display": true
  },
  "varInspector": {
   "cols": {
    "lenName": 16,
    "lenType": 16,
    "lenVar": 40
   },
   "kernels_config": {
    "python": {
     "delete_cmd_postfix": "",
     "delete_cmd_prefix": "del ",
     "library": "var_list.py",
     "varRefreshCmd": "print(var_dic_list())"
    },
    "r": {
     "delete_cmd_postfix": ") ",
     "delete_cmd_prefix": "rm(",
     "library": "var_list.r",
     "varRefreshCmd": "cat(var_dic_list()) "
    }
   },
   "types_to_exclude": [
    "module",
    "function",
    "builtin_function_or_method",
    "instance",
    "_Feature"
   ],
   "window_display": false
  }
 },
 "nbformat": 4,
 "nbformat_minor": 2
}

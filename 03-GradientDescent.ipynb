{
 "cells": [
  {
   "cell_type": "markdown",
   "metadata": {},
   "source": [
    "# Gradient Descent: Part I"
   ]
  },
  {
   "cell_type": "markdown",
   "metadata": {},
   "source": [
    "One cannot overstate the importance \"Gradient descent\" in the field of machine learning. It's an optimization technique that lies in the heart of machine learning algorithm ranging from regression to deep learning. This chapter aims to provide intuition behind the gradient descent algorithm and it's variant. Similar to previous chapters, I work through examples and code in order to build a concrete understanding of the concept. \n",
    "\n",
    "## Finding Minimum Using Brute Force\n",
    "Assume a two dimensional function $f(X)=x_0^2 + x_1^2$. Now let's assume we want to find the value of $X=(x_0, x_1)$ at which f(X) is minimum. A natural instinct would be to plot the function for some random range of X and observe the behavior of $f(X)$. Using plotly, below code snippet renders the above function. "
   ]
  },
  {
   "cell_type": "code",
   "execution_count": 2,
   "metadata": {
    "ExecuteTime": {
     "end_time": "2019-10-13T04:27:42.056329Z",
     "start_time": "2019-10-13T04:27:41.283861Z"
    }
   },
   "outputs": [
    {
     "data": {
      "text/html": [
       "<div>\n",
       "<style scoped>\n",
       "    .dataframe tbody tr th:only-of-type {\n",
       "        vertical-align: middle;\n",
       "    }\n",
       "\n",
       "    .dataframe tbody tr th {\n",
       "        vertical-align: top;\n",
       "    }\n",
       "\n",
       "    .dataframe thead th {\n",
       "        text-align: right;\n",
       "    }\n",
       "</style>\n",
       "<table border=\"1\" class=\"dataframe\">\n",
       "  <thead>\n",
       "    <tr style=\"text-align: right;\">\n",
       "      <th>x1</th>\n",
       "      <th>-50.0</th>\n",
       "      <th>-49.0</th>\n",
       "      <th>-48.0</th>\n",
       "      <th>-47.0</th>\n",
       "      <th>-46.0</th>\n",
       "      <th>-45.0</th>\n",
       "      <th>-44.0</th>\n",
       "      <th>-43.0</th>\n",
       "      <th>-42.0</th>\n",
       "      <th>-41.0</th>\n",
       "      <th>...</th>\n",
       "      <th>40.0</th>\n",
       "      <th>41.0</th>\n",
       "      <th>42.0</th>\n",
       "      <th>43.0</th>\n",
       "      <th>44.0</th>\n",
       "      <th>45.0</th>\n",
       "      <th>46.0</th>\n",
       "      <th>47.0</th>\n",
       "      <th>48.0</th>\n",
       "      <th>49.0</th>\n",
       "    </tr>\n",
       "    <tr>\n",
       "      <th>x0</th>\n",
       "      <th></th>\n",
       "      <th></th>\n",
       "      <th></th>\n",
       "      <th></th>\n",
       "      <th></th>\n",
       "      <th></th>\n",
       "      <th></th>\n",
       "      <th></th>\n",
       "      <th></th>\n",
       "      <th></th>\n",
       "      <th></th>\n",
       "      <th></th>\n",
       "      <th></th>\n",
       "      <th></th>\n",
       "      <th></th>\n",
       "      <th></th>\n",
       "      <th></th>\n",
       "      <th></th>\n",
       "      <th></th>\n",
       "      <th></th>\n",
       "      <th></th>\n",
       "    </tr>\n",
       "  </thead>\n",
       "  <tbody>\n",
       "    <tr>\n",
       "      <th>-50.0</th>\n",
       "      <td>5000.0</td>\n",
       "      <td>4901.0</td>\n",
       "      <td>4804.0</td>\n",
       "      <td>4709.0</td>\n",
       "      <td>4616.0</td>\n",
       "      <td>4525.0</td>\n",
       "      <td>4436.0</td>\n",
       "      <td>4349.0</td>\n",
       "      <td>4264.0</td>\n",
       "      <td>4181.0</td>\n",
       "      <td>...</td>\n",
       "      <td>4100.0</td>\n",
       "      <td>4181.0</td>\n",
       "      <td>4264.0</td>\n",
       "      <td>4349.0</td>\n",
       "      <td>4436.0</td>\n",
       "      <td>4525.0</td>\n",
       "      <td>4616.0</td>\n",
       "      <td>4709.0</td>\n",
       "      <td>4804.0</td>\n",
       "      <td>4901.0</td>\n",
       "    </tr>\n",
       "    <tr>\n",
       "      <th>-49.0</th>\n",
       "      <td>4901.0</td>\n",
       "      <td>4802.0</td>\n",
       "      <td>4705.0</td>\n",
       "      <td>4610.0</td>\n",
       "      <td>4517.0</td>\n",
       "      <td>4426.0</td>\n",
       "      <td>4337.0</td>\n",
       "      <td>4250.0</td>\n",
       "      <td>4165.0</td>\n",
       "      <td>4082.0</td>\n",
       "      <td>...</td>\n",
       "      <td>4001.0</td>\n",
       "      <td>4082.0</td>\n",
       "      <td>4165.0</td>\n",
       "      <td>4250.0</td>\n",
       "      <td>4337.0</td>\n",
       "      <td>4426.0</td>\n",
       "      <td>4517.0</td>\n",
       "      <td>4610.0</td>\n",
       "      <td>4705.0</td>\n",
       "      <td>4802.0</td>\n",
       "    </tr>\n",
       "    <tr>\n",
       "      <th>-48.0</th>\n",
       "      <td>4804.0</td>\n",
       "      <td>4705.0</td>\n",
       "      <td>4608.0</td>\n",
       "      <td>4513.0</td>\n",
       "      <td>4420.0</td>\n",
       "      <td>4329.0</td>\n",
       "      <td>4240.0</td>\n",
       "      <td>4153.0</td>\n",
       "      <td>4068.0</td>\n",
       "      <td>3985.0</td>\n",
       "      <td>...</td>\n",
       "      <td>3904.0</td>\n",
       "      <td>3985.0</td>\n",
       "      <td>4068.0</td>\n",
       "      <td>4153.0</td>\n",
       "      <td>4240.0</td>\n",
       "      <td>4329.0</td>\n",
       "      <td>4420.0</td>\n",
       "      <td>4513.0</td>\n",
       "      <td>4608.0</td>\n",
       "      <td>4705.0</td>\n",
       "    </tr>\n",
       "    <tr>\n",
       "      <th>-47.0</th>\n",
       "      <td>4709.0</td>\n",
       "      <td>4610.0</td>\n",
       "      <td>4513.0</td>\n",
       "      <td>4418.0</td>\n",
       "      <td>4325.0</td>\n",
       "      <td>4234.0</td>\n",
       "      <td>4145.0</td>\n",
       "      <td>4058.0</td>\n",
       "      <td>3973.0</td>\n",
       "      <td>3890.0</td>\n",
       "      <td>...</td>\n",
       "      <td>3809.0</td>\n",
       "      <td>3890.0</td>\n",
       "      <td>3973.0</td>\n",
       "      <td>4058.0</td>\n",
       "      <td>4145.0</td>\n",
       "      <td>4234.0</td>\n",
       "      <td>4325.0</td>\n",
       "      <td>4418.0</td>\n",
       "      <td>4513.0</td>\n",
       "      <td>4610.0</td>\n",
       "    </tr>\n",
       "  </tbody>\n",
       "</table>\n",
       "<p>4 rows × 100 columns</p>\n",
       "</div>"
      ],
      "text/plain": [
       "x1      -50.0   -49.0   -48.0   -47.0   -46.0   -45.0   -44.0   -43.0   -42.0  \\\n",
       "x0                                                                              \n",
       "-50.0  5000.0  4901.0  4804.0  4709.0  4616.0  4525.0  4436.0  4349.0  4264.0   \n",
       "-49.0  4901.0  4802.0  4705.0  4610.0  4517.0  4426.0  4337.0  4250.0  4165.0   \n",
       "-48.0  4804.0  4705.0  4608.0  4513.0  4420.0  4329.0  4240.0  4153.0  4068.0   \n",
       "-47.0  4709.0  4610.0  4513.0  4418.0  4325.0  4234.0  4145.0  4058.0  3973.0   \n",
       "\n",
       "x1      -41.0  ...    40.0    41.0    42.0    43.0    44.0    45.0    46.0  \\\n",
       "x0             ...                                                           \n",
       "-50.0  4181.0  ...  4100.0  4181.0  4264.0  4349.0  4436.0  4525.0  4616.0   \n",
       "-49.0  4082.0  ...  4001.0  4082.0  4165.0  4250.0  4337.0  4426.0  4517.0   \n",
       "-48.0  3985.0  ...  3904.0  3985.0  4068.0  4153.0  4240.0  4329.0  4420.0   \n",
       "-47.0  3890.0  ...  3809.0  3890.0  3973.0  4058.0  4145.0  4234.0  4325.0   \n",
       "\n",
       "x1       47.0    48.0    49.0  \n",
       "x0                             \n",
       "-50.0  4709.0  4804.0  4901.0  \n",
       "-49.0  4610.0  4705.0  4802.0  \n",
       "-48.0  4513.0  4608.0  4705.0  \n",
       "-47.0  4418.0  4513.0  4610.0  \n",
       "\n",
       "[4 rows x 100 columns]"
      ]
     },
     "metadata": {},
     "output_type": "display_data"
    }
   ],
   "source": [
    "import plotly.plotly as py\n",
    "import plotly.graph_objs as go\n",
    "import random\n",
    "import pandas as pd\n",
    "import numpy as np\n",
    "import math\n",
    "from copy import copy\n",
    "import itertools\n",
    "\n",
    "def func(x):\n",
    "    \"\"\"the function we are trying to minimize\"\"\"\n",
    "    return math.pow(x[0], 2) + math.pow(x[1],2)\n",
    "\n",
    "\n",
    "def point_generator(choices, func):\n",
    "    \"\"\"Generates all possible combinations of X and returns X and f(x) values\"\"\"\n",
    "    \n",
    "    for pt in itertools.combinations(choices, 2):\n",
    "        pt = list(pt)\n",
    "        yield(pt + [func(pt)])\n",
    "        \n",
    "        pt.reverse()\n",
    "        yield(pt + [func(pt)])\n",
    "        \n",
    "    # generate diagonals\n",
    "    for x in choices:\n",
    "        pt = [x, x]\n",
    "        yield(pt + [func(pt)])\n",
    "    \n",
    "    \n",
    "choices = np.array(range(-500, 500, 10))/10.\n",
    "df = (\n",
    "    pd\n",
    "    .DataFrame(list(point_generator(choices, func)), columns=['x0', 'x1', 'fx'])\n",
    "    .pivot_table(index='x0', columns='x1', values='fx')\n",
    ")\n",
    "display(df.head(4))\n"
   ]
  },
  {
   "cell_type": "code",
   "execution_count": 1,
   "metadata": {
    "ExecuteTime": {
     "end_time": "2019-10-13T04:27:33.555439Z",
     "start_time": "2019-10-13T04:27:33.440521Z"
    }
   },
   "outputs": [
    {
     "ename": "NameError",
     "evalue": "name 'go' is not defined",
     "output_type": "error",
     "traceback": [
      "\u001b[0;31m---------------------------------------------------------------------------\u001b[0m",
      "\u001b[0;31mNameError\u001b[0m                                 Traceback (most recent call last)",
      "\u001b[0;32m<ipython-input-1-cdd65718f029>\u001b[0m in \u001b[0;36m<module>\u001b[0;34m()\u001b[0m\n\u001b[1;32m      1\u001b[0m data = [\n\u001b[0;32m----> 2\u001b[0;31m     go.Surface(\n\u001b[0m\u001b[1;32m      3\u001b[0m         \u001b[0mz\u001b[0m\u001b[0;34m=\u001b[0m\u001b[0mdf\u001b[0m\u001b[0;34m.\u001b[0m\u001b[0mvalues\u001b[0m\u001b[0;34m\u001b[0m\u001b[0m\n\u001b[1;32m      4\u001b[0m     )\n\u001b[1;32m      5\u001b[0m ]\n",
      "\u001b[0;31mNameError\u001b[0m: name 'go' is not defined"
     ]
    }
   ],
   "source": [
    "data = [\n",
    "    go.Surface(\n",
    "        z=df.values\n",
    "    )\n",
    "]\n",
    "layout = go.Layout(\n",
    "    title='x^2 + y^2',\n",
    "    autosize=False,\n",
    "    width=500,\n",
    "    height=500,\n",
    "    margin=dict(\n",
    "        l=65,\n",
    "        r=50,\n",
    "        b=65,\n",
    "        t=90\n",
    "    )\n",
    ")\n",
    "fig = go.Figure(data=data, layout=layout)\n",
    "py.iplot(fig, filename='parabola')"
   ]
  },
  {
   "cell_type": "markdown",
   "metadata": {},
   "source": [
    "From the above plot, one can easily observe that $f(X)$ reaches a minimum value when $X = [0, 0]$ (i.e $x_1 = 0$ and $x_2 = 0$). \n",
    "\n",
    "As humans, we can do this naturally as long as we can visualize the function.  However, a typical machine learning problem will involve hundreds of features. So let's think how did we so easily find the point X at which $f(X)$ is minimum. One possible explanation is that our eyes randomly picked a point on the above surface and followed in the direction where the slope is decreasing. Finally, when the slop starts increasing again we know that we have crossed the minimum point. Let's try to transfer this idea into a proper python code. The logical flow of the problem will be as follows:\n",
    "\n",
    "**Step 1:** Pick a random point $X = (x_0, x_1)$\n",
    "**Step 2:** Identify the next point $X'$ such as that $f(X') < f(X)$. However, one challenge is how do we find $X'$. Let's start with some brute force. Assume we look for neighboring points that are $\\eta$ distance away on a single dimension.  For instance, as shown below figure (a), let's assume $X=[1,1]$ and $\\eta = 0.25$. Then, the neighboring points to explore are [1-0.25, 1], [1 + 0.25, 1], [1, 1-0.25], [1, 1 + 0.25]. Thus, if X is n dimensional vector then there will be $2^n$ neighbors to explore. If we relax the constraint that one can only move $\\eta$ distance along on one dimension at any given time, then we have additional four diagonal points as shown in the figure: [1-0.25, 1-0.25], [1+0.25, 1-0.25], [1-0.25, 1+0.25], [1+0.25, 1+0.25]. For n dimensional space then there will be $3^n$ neighboring points.\n",
    "\n",
    "![](images/Chapter3_NeighboringPoints.png)\n",
    "\n",
    "Ignoring the scalability issue for now, let's assume we do use the above approach to generate possible neighboring candidates at which we need to evaluate $f(X)$.\n",
    "\n",
    "**Step 3:** Of all neighboring points at which $f(X') < f(X)$, pick the one with the maximum difference and set this new point around which we explore the space. \n",
    "\n",
    "**Step 4**: Repeat step 2 and 3 until one reaches the point where $f(X') > f(X)$ for all neighboring point. \n",
    "\n",
    "The below python code implements the above logic. It assumes $\\eta$ to be 0.03 "
   ]
  },
  {
   "cell_type": "code",
   "execution_count": 3,
   "metadata": {
    "ExecuteTime": {
     "end_time": "2019-05-15T16:04:47.039132Z",
     "start_time": "2019-05-15T16:04:46.867495Z"
    }
   },
   "outputs": [
    {
     "data": {
      "text/html": [
       "<strong>Optimal (0.00999999999696713, 0.00999999999696713)</strong>"
      ],
      "text/plain": [
       "<IPython.core.display.HTML object>"
      ]
     },
     "metadata": {},
     "output_type": "display_data"
    }
   ],
   "source": [
    "from collections import namedtuple\n",
    "import math\n",
    "from IPython.display import HTML\n",
    "from itertools import product\n",
    "import numpy as np\n",
    "\n",
    "# we will use Point class to store x and assocated y values\n",
    "Point = namedtuple('Point', ['x', 'y'])\n",
    "\n",
    "\n",
    "def func(x):\n",
    "    \"\"\"the function we are trying to minimize\"\"\"\n",
    "    return math.pow(x[0], 2) + math.pow(x[1],2)\n",
    "\n",
    "class Point(object):\n",
    "    \n",
    "    def __init__(self, X):\n",
    "        self._x = X\n",
    "        \n",
    "    @property\n",
    "    def x(self):\n",
    "        return self._x\n",
    "    \n",
    "    def neighbors(self, distance=0.25):\n",
    "            \"\"\"For a given point, generate all the neighbors \n",
    "            by walking delta distance along a single dimension only\n",
    "            \"\"\"\n",
    "            pts = [\n",
    "                np.array(self.x) - distance,\n",
    "                np.array(self.x) + distance\n",
    "            ]\n",
    "            return [Point(x2) for x2 in product(*np.transpose(pts).tolist())]\n",
    "    \n",
    "    def __repr__(self):\n",
    "        return str(self)\n",
    "    \n",
    "    def __str__(self):\n",
    "        return \"{}\".format(self.x)\n",
    "    \n",
    "    def __eq__(self, other):\n",
    "        return self.x == other.x\n",
    "        \n",
    "\n",
    "def minimize_v1(func, start_point, eta = 0.03, max_iterations = 1000, traceback = None):\n",
    "    \n",
    "    x1 = Point(start_point)\n",
    "    y1 = func(x1.x)    \n",
    "    \n",
    "    for iter in range(max_iterations):\n",
    "        \n",
    "        if traceback:\n",
    "            traceback.append(x1.x)\n",
    "\n",
    "\n",
    "        # generate neighbors at distance of eta\n",
    "        neighbors = x1.neighbors(eta)\n",
    "        \n",
    "        # Identify next point where the f(x) is smallest\n",
    "        min_x = x1\n",
    "        min_y = y1     \n",
    "        \n",
    "        for x2 in neighbors:    \n",
    "            y2 = func(x2.x)\n",
    "            if y2 < min_y:\n",
    "                min_x, min_y = x2, y2\n",
    "        \n",
    "        \n",
    "        # if x2 is same as x1 then we are at minimum\n",
    "        if x1 == min_x:\n",
    "            return x1.x\n",
    "        \n",
    "        x1, y1 = min_x, min_y\n",
    "        \n",
    "    # if we reached max iterations then return current point\n",
    "    return x1.x\n",
    "    \n",
    "\n",
    "minPt = minimize_v1(func, [100, 100], eta=0.03, max_iterations=5000)\n",
    "display(HTML(\"<strong>Optimal {}</strong>\".format(minPt, iter)))\n"
   ]
  },
  {
   "cell_type": "code",
   "execution_count": 4,
   "metadata": {
    "ExecuteTime": {
     "end_time": "2019-05-15T16:04:53.661417Z",
     "start_time": "2019-05-15T16:04:48.264932Z"
    }
   },
   "outputs": [
    {
     "name": "stdout",
     "output_type": "stream",
     "text": [
      "118 ms ± 5.76 ms per loop (mean ± std. dev. of 7 runs, 10 loops each)\n"
     ]
    }
   ],
   "source": [
    "%%timeit \n",
    "minimize_v1(func, [100, 100], eta=0.03, max_iterations=5000)"
   ]
  },
  {
   "cell_type": "markdown",
   "metadata": {},
   "source": [
    "## Using Gradient Approach\n",
    "Great, now we have working function. But it's not scalable. If you have n dimensionals pace, there are $3^n$ possible neighbors that we need to explore (this is assuming that we are taking $\\eta$ distance along each dimension). One way to solve the above scalability issue is use the concept of directional derivative and gradients. \n",
    "\n",
    "The main objective of step 2 is to find $X'$ for which $f(X')$ is smallest. This is exactly the kind of information that derivative provides. For instance, our function $f(X)=x_0^2 + x_1^2$ has two parameters: $x_0, x_1$. So partial derivative of our function $f(x)$, written as $\\Delta{f(X)}$ is given as:\n",
    "\n",
    "$$\\Delta{f(X)} = \\begin{bmatrix}\n",
    "\\frac{\\partial{f}}{\\partial{x_0}}\\\\ \n",
    "\\frac{\\partial{f}}{\\partial{x_1}}\n",
    "\\end{bmatrix} = \\begin{bmatrix}\n",
    "2x_0\\\\\n",
    "2x_1\n",
    "\\end{bmatrix}$$\n",
    "\n",
    "The partial derivative gives the direction of steepest gradient. Since we are interested in minimization, we want to move opposite to the direction of greatest gradient. Thus, rather than having to explore $3^n$ points, we can essentially find $X'$ using the below formula\n",
    "\n",
    "$$ X' = X - \\eta \\Delta{f(X)}$$\n",
    "\n",
    "\n",
    "There are two things to note in the above equation:\n",
    "\n",
    "1. $\\Delta{f(X)}$ gives the direction of steepest gradient. Since we want to minimize, we want to go in the opposite direction of steepest gradient and hence \"minus\" sign. \n",
    "2. $\\Delta{f(X)}$ is a unit vector. If we directly do $X - \\Delta{f(X)}$ then we are finding neighbors in opposite direction of steepest gradient that is at a distance of one unit from the current point X. A jump of one unit might be too much and hence we dampen it by multipling by $\\eta$. Often **$\\eta$ is referreed as the learning rate**.\n",
    "\n",
    "\n",
    "Using the gradient approach, let's write the second version of minimization method. Note that below, the func now doesn't refer to the original function ($x_0^2 + x_1^2$) but to it's derivative i.e. ($2x_0 + 2x1$).\n",
    "\n"
   ]
  },
  {
   "cell_type": "code",
   "execution_count": 5,
   "metadata": {
    "ExecuteTime": {
     "end_time": "2019-05-15T16:07:33.654046Z",
     "start_time": "2019-05-15T16:07:33.533862Z"
    }
   },
   "outputs": [
    {
     "data": {
      "text/html": [
       "<strong>Optimal [4.35780706e-133 4.35780706e-133]</strong>"
      ],
      "text/plain": [
       "<IPython.core.display.HTML object>"
      ]
     },
     "metadata": {},
     "output_type": "display_data"
    }
   ],
   "source": [
    "from copy import copy\n",
    "\n",
    "def func_gradient(x):\n",
    "    assert len(x) == 2\n",
    "    return np.array([\n",
    "        2. * x[0],\n",
    "        2 * x[1]\n",
    "    ])\n",
    "\n",
    "\n",
    "def minimize_v2(func, start_point, eta = 0.03, max_iterations = 1000, traceback = None):\n",
    "    \n",
    "    x1 = start_point\n",
    "    \n",
    "    for iter in range(max_iterations):\n",
    "        \n",
    "        if traceback is not None:\n",
    "            traceback.append(copy(x1))\n",
    "\n",
    "        x1 -= eta * np.array(func(x1))\n",
    "        \n",
    "    # if we reached max iterations then return current point\n",
    "    return x1\n",
    "\n",
    "\n",
    "\n",
    "minPt = minimize_v2(func_gradient, [100, 100], eta=0.03, max_iterations=5000)\n",
    "display(HTML(\"<strong>Optimal {}</strong>\".format(minPt, iter)))\n",
    "\n",
    "\n"
   ]
  },
  {
   "cell_type": "code",
   "execution_count": 6,
   "metadata": {
    "ExecuteTime": {
     "end_time": "2019-05-15T16:05:00.239206Z",
     "start_time": "2019-05-15T16:04:54.875584Z"
    }
   },
   "outputs": [
    {
     "name": "stdout",
     "output_type": "stream",
     "text": [
      "48 ms ± 1.54 ms per loop (mean ± std. dev. of 7 runs, 10 loops each)\n"
     ]
    }
   ],
   "source": [
    "%%timeit \n",
    "minPt = minimize_v2(func_gradient, [100, 100], eta=0.03, max_iterations=5000)"
   ]
  },
  {
   "cell_type": "markdown",
   "metadata": {},
   "source": [
    "## Stopping Criteria\n",
    "\n",
    "if you compare v1 and v2 implementation, you will notice that using the gradient approach significantly simplified our logic. But in theory it should also make it much more scalable and faster. One important detail that I skipped and affects the performance of the gradient based approach is **stopping criteria**. Currently the only way `minimize_v2` can stop is when it reaches maximum number of iterations. If you plot the traceback, as shown below, you will notice that the x2 doesn't change much after 500 iterations."
   ]
  },
  {
   "cell_type": "code",
   "execution_count": 7,
   "metadata": {},
   "outputs": [
    {
     "name": "stdout",
     "output_type": "stream",
     "text": [
      "Optimal point is [4.35780706e-133 4.35780706e-133]\n"
     ]
    }
   ],
   "source": [
    "traceback = []\n",
    "minPt = minimize_v2(func_gradient, [100, 100], eta=0.03, max_iterations=5000, traceback = traceback)\n",
    "print (\"Optimal point is {}\".format(minPt))"
   ]
  },
  {
   "cell_type": "code",
   "execution_count": 11,
   "metadata": {},
   "outputs": [
    {
     "data": {
      "image/png": "[encoded data removed]",
      "text/plain": [
       "<Figure size 2000x800 with 2 Axes>"
      ]
     },
     "metadata": {},
     "output_type": "display_data"
    },
    {
     "data": {
      "text/plain": [
       "<ggplot: (-9223372036548512957)>"
      ]
     },
     "execution_count": 11,
     "metadata": {},
     "output_type": "execute_result"
    }
   ],
   "source": [
    "# convert traceback into a data frame for plotting purpose\n",
    "df = pd.DataFrame(traceback, columns=['x1', 'x2'])\n",
    "df['iteration'] = list(range(1, df.shape[0]+1))\n",
    "df = df.melt(id_vars='iteration', value_vars=['x1', 'x2'])\n",
    "\n",
    "from plotnine import *\n",
    "%matplotlib inline\n",
    "(\n",
    "    ggplot(df[df['iteration'] % 250 == 0], aes(x='iteration', y='value'))\n",
    "    + geom_line(aes(group='variable', color='variable'))\n",
    "    + facet_wrap(\"~variable\", nrow=2)\n",
    "    + xlab(\"Iteration Number\")\n",
    "    + ylab(\"Value\")\n",
    "    + theme_linedraw()\n",
    "    + theme(figure_size=(20, 8))\n",
    ")"
   ]
  },
  {
   "cell_type": "markdown",
   "metadata": {},
   "source": [
    "Thus, one way to speed up things is to introduce a stopping criteria. Let's assume we stop as soon as the euclidean distance between x1 and x2 is less than some threshold, say 1e-6. Minimize V3 adds this stopping criteria. "
   ]
  },
  {
   "cell_type": "code",
   "execution_count": 134,
   "metadata": {},
   "outputs": [
    {
     "data": {
      "text/html": [
       "<strong>Optimal [1.09676626e-05 1.09676626e-05]</strong>"
      ],
      "text/plain": [
       "<IPython.core.display.HTML object>"
      ]
     },
     "metadata": {},
     "output_type": "display_data"
    },
    {
     "data": {
      "text/html": [
       "Total Number of Iterations: 259"
      ],
      "text/plain": [
       "<IPython.core.display.HTML object>"
      ]
     },
     "metadata": {},
     "output_type": "display_data"
    }
   ],
   "source": [
    "from copy import copy\n",
    "from scipy.spatial import distance\n",
    "\n",
    "def func_gradient(x):\n",
    "    assert len(x) == 2\n",
    "    return np.array([\n",
    "        2. * x[0],\n",
    "        2 * x[1]\n",
    "    ])\n",
    "\n",
    "\n",
    "def minimize_v3(func, start_point, eta = 0.03, max_iterations = 1000, traceback = None, stopping_threshold = 1.0e-6):\n",
    "    \n",
    "    x1 = start_point\n",
    "    \n",
    "    for iter in range(max_iterations):\n",
    "        \n",
    "        if traceback is not None:\n",
    "            traceback.append(copy(x1))\n",
    "\n",
    "        x2  = x1 - eta * np.array(func(x1))\n",
    "        \n",
    "        # check if we reached stopping criteria threshold\n",
    "        if distance.euclidean(x2, x1) < stopping_threshold:\n",
    "            return x2\n",
    "        else:\n",
    "            x1 = x2\n",
    "        \n",
    "    # if we reached max iterations then return current point\n",
    "    return x1\n",
    "\n",
    "\n",
    "traceback = []\n",
    "minPt = minimize_v3(func_gradient, [100, 100], eta=0.03, max_iterations=5000, traceback=traceback, stopping_threshold=1.0e-6)\n",
    "display(HTML(\"<strong>Optimal {}</strong>\".format(minPt, iter)))\n",
    "display(HTML(\"Total Number of Iterations: {}\".format(len(traceback))))\n",
    "\n"
   ]
  },
  {
   "cell_type": "code",
   "execution_count": 135,
   "metadata": {},
   "outputs": [
    {
     "name": "stdout",
     "output_type": "stream",
     "text": [
      "4.9 ms ± 357 µs per loop (mean ± std. dev. of 7 runs, 100 loops each)\n"
     ]
    }
   ],
   "source": [
    "%%timeit \n",
    "minPt = minimize_v3(func_gradient, [100, 100], eta=0.03, max_iterations=5000)"
   ]
  },
  {
   "cell_type": "markdown",
   "metadata": {},
   "source": [
    "As you can notice above, we reached reasonably close to the optimal point (0, 0) in just 259 iterations and the performance increased 5x. The mean time reduced from 23 ms to 5 ms in my runs.\n",
    "\n",
    "## More things to consider\n",
    "Gradient descent algorithm is still an active area of research. There are many aspects of the algorithm that influences its performance both in terms of running time and accuracy. For instance, I didn't really talk much about the impact of learning rate on the performance and accuracy of the gradient descent approach. A small learning rate increases running time but improves accuracy and vice-versa. However, learning rate doesn't have to constant. There are many variants of the gradient descent algorithm where learning rate is dynamically modified based on number of iteration, steepness of gradient, etc. Hence, I would recomment think about following things:\n",
    "\n",
    "1. Different types of stopping criterias\n",
    "2. Impact of learning rate on performance and accuracy. \n",
    "3. How to make learning rate auto adjust (search for \"Momentum\" gradient descent)\n",
    "4. Automatically deriving partial derivative of a given function (checkout \"autograd\" library)\n",
    "\n",
    "In the next chapter, I will show this idea of gradient descent is used in linear regression.\n"
   ]
  },
  {
   "cell_type": "markdown",
   "metadata": {},
   "source": [
    "\n",
    "\n"
   ]
  }
 ],
 "metadata": {
  "kernelspec": {
   "display_name": "Python 3",
   "language": "python",
   "name": "python3"
  },
  "language_info": {
   "codemirror_mode": {
    "name": "ipython",
    "version": 3
   },
   "file_extension": ".py",
   "mimetype": "text/x-python",
   "name": "python",
   "nbconvert_exporter": "python",
   "pygments_lexer": "ipython3",
   "version": "3.6.5"
  },
  "toc": {
   "base_numbering": 1,
   "nav_menu": {},
   "number_sections": true,
   "sideBar": true,
   "skip_h1_title": false,
   "title_cell": "Table of Contents",
   "title_sidebar": "Contents",
   "toc_cell": false,
   "toc_position": {
    "height": "calc(100% - 180px)",
    "left": "10px",
    "top": "150px",
    "width": "384px"
   },
   "toc_section_display": true,
   "toc_window_display": true
  },
  "varInspector": {
   "cols": {
    "lenName": 16,
    "lenType": 16,
    "lenVar": 40
   },
   "kernels_config": {
    "python": {
     "delete_cmd_postfix": "",
     "delete_cmd_prefix": "del ",
     "library": "var_list.py",
     "varRefreshCmd": "print(var_dic_list())"
    },
    "r": {
     "delete_cmd_postfix": ") ",
     "delete_cmd_prefix": "rm(",
     "library": "var_list.r",
     "varRefreshCmd": "cat(var_dic_list()) "
    }
   },
   "types_to_exclude": [
    "module",
    "function",
    "builtin_function_or_method",
    "instance",
    "_Feature"
   ],
   "window_display": false
  }
 },
 "nbformat": 4,
 "nbformat_minor": 4
}

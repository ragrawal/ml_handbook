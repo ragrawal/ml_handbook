{
 "cells": [
  {
   "cell_type": "markdown",
   "metadata": {},
   "source": [
    "# QUIC \n",
    "\n",
    "QUIC is a network protocol developed by Google. As compared to defacto network protocol OKHTTP/h2, QUIC helps improve network latencies for tail end of users. This workbook evaluate the impact of using QUIC protocol on Uber's business metric. On 10/25/2018, QUIC network protocol was enabled on :\n",
    "\n",
    "1. 50% of users using android phones in San Paulo, London, Los Angeles, Cairo and New Delhi. For this segment, the data is collected using a sampling rate of 5%. \n",
    "2. 50% of users using Iphone in the above cities. For this segment, the data is collected using a sampling rate of 20%\n",
    "3. 20% of users using android phone in the rest of the cities. For this segment, the data is collected using a sampling rate of 5%. \n",
    "\n",
    "There are three configuration options that can affect observed network latencies. \n",
    "1. Library: There are two libraries: OKHTTP and CRONET. \n",
    "2. Protocol: OKHTTP implements two different protocols: http/1.1 and h2. CRONET also implements two different protocols: h2 and QUIC. Generally in terms of performance http/1.1 is slowest and is rarely used. In case of CRONET, h2 is used as a fallback, that is if quic protocol doesn't work then the request will fall back to h2. Hence, one expect that CRONET/h2 to perform worse than OKHTTP/h2. \n",
    "3. Hosts: The request can be fullfilled either by Uber's on premise data center or by google cloud frontend (also referred as CFE in logs). QUIC can only work on CFE. \n",
    "\n",
    "Since QUIC is only available via CFE, this analysis only focuses on sessions where all the requests where handled CFE. In order to speed up analysis, we created four tables:\n",
    "\n",
    "1. **dsp.quic_sessions:** This table includes session level network information such as hosts, protocols and libraries that were used to serve the requests in a session. You can find the actual SQL script used to generate the session in this notebook.  \n",
    "2. **dsp.quic_session_info:** This tables includes session level user activity information such as how many trips were completed (n_completed), sequence of events (transitions), etc. \n",
    "3. **dsp.quic:** This table is inner join of the above two tables. The join is based on session_id and rider_id. Ideally the join should be only based on session_id but we have observed that sometimes different users with the same session id. For instance this can happen when on a single device the user sign out from one account and then sign in with another account. In situation like this, the session_id will remain same but the user id will change. \n",
    "4. **dsp.quic_latencies**: This is a request label table where we maintain request latency for all the requests. \n",
    "\n",
    "For the below analysis, we focus on data between 10/25/2018 and 11/20/2018. The notebook is organized in the follow manner. \n",
    "\n",
    "**Section 1: Android 5 Cities Overall**\n",
    "We first evaluate overall the performance of QUIC across all the 5 cities. To have a clean data and remove biases due to host, we focus only on those sessions that were 100% served using CFE and further ignore admin sessions. For the selected sessions we compute conversion rate, which is defined as:\n",
    "\n",
    "    $$ conversion rate = \\frac{# Sessions with n_completed > 0}{# Sessions} $$\n",
    "    \n",
    "We use porpotion based z test to evaluate significance of the difference in observed conference. We conduct this analysis both at the library and at the protocol level. Further, any gain needs to be supported by improvements in network latencies and hence we also explore network latencies for different protocols. Finally we examine if the improvement in network latencies has caused any kind of changes in user behavior. \n",
    "\n",
    "**Section 2: Individual Performance of QUIC on Android in 5 Cities**\n"
   ]
  },
  {
   "cell_type": "code",
   "execution_count": 1,
   "metadata": {
    "ExecuteTime": {
     "end_time": "2018-11-28T22:27:56.822405Z",
     "start_time": "2018-11-28T22:27:55.930997Z"
    },
    "collapsed": false
   },
   "outputs": [
    {
     "name": "stderr",
     "output_type": "stream",
     "text": [
      "ERROR:root:File `'../magics.ipynb.py'` not found.\n"
     ]
    }
   ],
   "source": [
    "%run -i ../magics.ipynb\n",
    "import numpy as np\n",
    "from statsmodels.stats import proportion\n",
    "import re\n",
    "from IPython.display import HTML, display\n",
    "from scipy import stats"
   ]
  },
  {
   "cell_type": "code",
   "execution_count": 2,
   "metadata": {
    "ExecuteTime": {
     "end_time": "2018-11-28T22:31:23.702775Z",
     "start_time": "2018-11-28T22:31:23.582809Z"
    },
    "collapsed": false
   },
   "outputs": [],
   "source": [
    "from plotnine import *"
   ]
  },
  {
   "cell_type": "code",
   "execution_count": 190,
   "metadata": {
    "collapsed": false
   },
   "outputs": [],
   "source": [
    "def PerGroupCount(df, keys, alias='cnt'):\n",
    "    return df.groupby(keys).size().reset_index().rename(columns={0:alias})\n"
   ]
  },
  {
   "cell_type": "markdown",
   "metadata": {
    "ExecuteTime": {
     "end_time": "2018-11-26T22:27:10.848512Z",
     "start_time": "2018-11-26T22:20:47.239Z"
    }
   },
   "source": [
    "# General Functions"
   ]
  },
  {
   "cell_type": "code",
   "execution_count": 3,
   "metadata": {
    "ExecuteTime": {
     "end_time": "2018-11-28T04:48:50.686267Z",
     "start_time": "2018-11-28T04:48:50.594080Z"
    },
    "collapsed": true
   },
   "outputs": [],
   "source": [
    "EXPERIMENT_CITIES =['sao_paulo', 'london', 'los_angeles', 'cairo', 'new_delhi']\n",
    "FIELDS = ['cronet_session', 'cronet_conversion', 'okhttp_session', 'okhttp_conversion', 'gain', 'isSignificant', 'isPositive']\n",
    "DISTRIBUTIONS = [0.1, 0.2, 0.3, 0.4, 0.5, 0.6, 0.7, 0.8, 0.9, 0.95, 0.99]\n",
    "AGENTS = ['cronet', 'okhttp']\n",
    "EVENTS = {\n",
    "    'hs': 'Home Screen',\n",
    "    'de': 'Dropoff Edit',\n",
    "    'pe': 'Pickup Edit',\n",
    "    'cs': 'Confirmation',\n",
    "    'pr': 'Pickup Refinement',\n",
    "    'po': 'Plus One',\n",
    "    'dp': 'Dispatching',\n",
    "    'er': 'Enroute',\n",
    "    'ot': 'On Trip'\n",
    "}\n",
    "#  ('home_screen', 'dropoff_edit', 'pickup_edit', 'confirmation', 'pickup_refinement', 'plus_one', 'dispatching', 'enroute', 'ontrip')"
   ]
  },
  {
   "cell_type": "code",
   "execution_count": 4,
   "metadata": {
    "ExecuteTime": {
     "end_time": "2018-11-28T04:48:51.104348Z",
     "start_time": "2018-11-28T04:48:51.015286Z"
    },
    "collapsed": true
   },
   "outputs": [],
   "source": [
    "def event_parser(x):\n",
    "    if not isinstance(x, unicode) and not isinstance(x, str):\n",
    "        return None\n",
    "    return [y.strip() for y in x.split('->') if y.strip() != '\\N']\n",
    "\n",
    "\n",
    "def latency_parser(x):\n",
    "    if not isinstance(x, str) and not isinstance(x, unicode):\n",
    "        return None\n",
    "    if x == '\\N':\n",
    "        return None\n",
    "    return [float(y) for y in re.findall(\"\\d+\\.\\d+\", x)]\n",
    "\n",
    "\n",
    "def extract_distribution(x, summary=None):\n",
    "    d = np.array(x.values[:].tolist())\n",
    "    return summary(d, axis=0).tolist()\n",
    "\n",
    "\n",
    "def processData(data):\n",
    "    data = data[data.agents.isin(['cronet', 'okhttp'])].copy()\n",
    "#     data['latency_distribution'] = data.latency_distribution.apply(latency_parser)\n",
    "    data['events'] = data.events.apply(event_parser)\n",
    "    data['eventLen'] = data.events.apply(len)\n",
    "    data['n_completed'] = data.n_completed.apply(lambda x: 1 if x >= 1 else 0)\n",
    "    return data\n",
    "\n",
    "def processLatencyData(data):\n",
    "    data = data[data.agents.isin(['cronet', 'okhttp'])].copy()\n",
    "    data['latencies'] = data.latencies.apply(latency_parser)\n",
    "    return data\n",
    "\n",
    "\n",
    "import copy\n",
    "\n",
    "def pandas_explode(df, column_to_explode):\n",
    "    \"\"\"\n",
    "    Similar to Hive's EXPLODE function, take a column with iterable elements, and flatten the iterable to one element \n",
    "    per observation in the output table\n",
    "\n",
    "    :param df: A dataframe to explod\n",
    "    :type df: pandas.DataFrame\n",
    "    :param column_to_explode: \n",
    "    :type column_to_explode: str\n",
    "    :return: An exploded data frame\n",
    "    :rtype: pandas.DataFrame\n",
    "    \"\"\"\n",
    "\n",
    "    # Create a list of new observations\n",
    "    new_observations = list()\n",
    "\n",
    "    # Iterate through existing observations\n",
    "    for row in df.to_dict(orient='records'):\n",
    "\n",
    "        # Take out the exploding iterable\n",
    "        explode_values = row[column_to_explode]\n",
    "        del row[column_to_explode]\n",
    "\n",
    "        # Create a new observation for every entry in the exploding iterable & add all of the other columns\n",
    "        for explode_value in explode_values:\n",
    "\n",
    "            # Deep copy existing observation\n",
    "            new_observation = copy.deepcopy(row)\n",
    "\n",
    "            # Add one (newly flattened) value from exploding iterable\n",
    "            new_observation[column_to_explode] = explode_value\n",
    "\n",
    "            # Add to the list of new observations\n",
    "            new_observations.append(new_observation)\n",
    "\n",
    "    # Create a DataFrame\n",
    "    return_df = pd.DataFrame(new_observations)\n",
    "\n",
    "    # Return\n",
    "    return return_df"
   ]
  },
  {
   "cell_type": "code",
   "execution_count": 5,
   "metadata": {
    "ExecuteTime": {
     "end_time": "2018-11-28T05:23:13.911802Z",
     "start_time": "2018-11-28T05:23:13.876141Z"
    },
    "collapsed": false
   },
   "outputs": [],
   "source": [
    "def color_significant(val):\n",
    "    color = ''\n",
    "    if val.isSignificant:\n",
    "        color = 'lightgreen' if val.gain > 0 else 'pink'\n",
    "    output = ['background-color: {}'.format(color) for v in val]\n",
    "    return output\n",
    "\n",
    "\n",
    "def stylize(df):\n",
    "    return (\n",
    "        df\n",
    "        .style\n",
    "        .apply(color_significant, axis=1)\n",
    "        .format({\n",
    "                'cronet_conversion': \"{:.2%}\",\n",
    "                'okhttp_conversion': \"{:.2%}\",\n",
    "                'gain': '{:.4%}',\n",
    "                'cronet_session': '{:,}',\n",
    "                'okhttp_session': '{:,}',\n",
    "\n",
    "        })\n",
    "    )\n",
    "\n",
    "\n",
    "from statsmodels.stats import power\n",
    "\n",
    "def overallAnalysis(df):\n",
    "    df = (\n",
    "        df\n",
    "        .assign(\n",
    "            cronet_session = lambda x: (x.cronet_hit + x.cronet_missed),\n",
    "            okhttp_session = lambda x: (x.okhttp_hit + x.okhttp_missed)\n",
    "        )\n",
    "        .assign(\n",
    "            cronet_conversion = lambda x: x.cronet_hit / x.cronet_session,\n",
    "            okhttp_conversion = lambda x: x.okhttp_hit / x.okhttp_session\n",
    "        )\n",
    "    )\n",
    "    \n",
    "    df['isSignificant'] = df.apply(lambda x: proportion.proportions_ztest(\n",
    "            [x.cronet_hit, x.okhttp_hit],\n",
    "            [x.cronet_session, x.okhttp_session]\n",
    "        )[1] < 0.05, axis=1)\n",
    "    \n",
    "    df['power'] = df.apply(\n",
    "        lambda x: power.zt_ind_solve_power(\n",
    "            effect_size = abs(x.cronet_conversion - x.okhttp_conversion),\n",
    "            nobs1 = x.cronet_session,\n",
    "            ratio = x.okhttp_session / float(x.cronet_session),\n",
    "            alpha = 0.05\n",
    "        ), axis = 1)\n",
    "    df = df.assign(\n",
    "            gain = lambda x: x.cronet_conversion - x.okhttp_conversion,\n",
    "            isPositive = lambda x: x.cronet_conversion > x.okhttp_conversion\n",
    "    )\n",
    "    \n",
    "    return df"
   ]
  },
  {
   "cell_type": "markdown",
   "metadata": {},
   "source": [
    "# Android 5 Archetype Cities"
   ]
  },
  {
   "cell_type": "code",
   "execution_count": 39,
   "metadata": {
    "ExecuteTime": {
     "end_time": "2018-11-28T00:45:27.567604Z",
     "start_time": "2018-11-28T00:45:00.799628Z"
    },
    "collapsed": false
   },
   "outputs": [
    {
     "name": "stdout",
     "output_type": "stream",
     "text": [
      "Loading results from cache file: ./qr_cache/4e2ee96431eab3d115c41a05208d1a53.csv.gz\n"
     ]
    }
   ],
   "source": [
    "%%presto --variable data --email ragrawal@uber.com --encoding utf8 --cache --use-cache --large-data\n",
    "\n",
    "SELECT * \n",
    "FROM dsp.quic\n",
    "WHERE \n",
    "    city in ('sao_paulo', 'london', 'los_angeles', 'cairo', 'new_delhi')\n",
    "    AND os_type = 'android'\n",
    "    AND NOT is_admin_user \n",
    "    AND hosts = 'cfe'\n",
    "    AND agents in ('cronet', 'okhttp')\n",
    "    "
   ]
  },
  {
   "cell_type": "code",
   "execution_count": 40,
   "metadata": {
    "ExecuteTime": {
     "end_time": "2018-11-28T00:46:36.759026Z",
     "start_time": "2018-11-28T00:45:27.571617Z"
    },
    "collapsed": false
   },
   "outputs": [],
   "source": [
    "androidExpCities = processData(data)"
   ]
  },
  {
   "cell_type": "markdown",
   "metadata": {},
   "source": [
    "## Distribution of Sessions"
   ]
  },
  {
   "cell_type": "code",
   "execution_count": 41,
   "metadata": {
    "collapsed": false
   },
   "outputs": [
    {
     "data": {
      "text/html": [
       "<h1>Distribution of Sessions By Agents</h1>"
      ],
      "text/plain": [
       "<IPython.core.display.HTML object>"
      ]
     },
     "metadata": {},
     "output_type": "display_data"
    },
    {
     "data": {
      "text/html": [
       "<div>\n",
       "<style scoped>\n",
       "    .dataframe tbody tr th:only-of-type {\n",
       "        vertical-align: middle;\n",
       "    }\n",
       "\n",
       "    .dataframe tbody tr th {\n",
       "        vertical-align: top;\n",
       "    }\n",
       "\n",
       "    .dataframe thead th {\n",
       "        text-align: right;\n",
       "    }\n",
       "</style>\n",
       "<table border=\"1\" class=\"dataframe\">\n",
       "  <thead>\n",
       "    <tr style=\"text-align: right;\">\n",
       "      <th></th>\n",
       "      <th>hosts</th>\n",
       "      <th>agents</th>\n",
       "      <th>0</th>\n",
       "    </tr>\n",
       "  </thead>\n",
       "  <tbody>\n",
       "    <tr>\n",
       "      <th>0</th>\n",
       "      <td>cfe</td>\n",
       "      <td>cronet</td>\n",
       "      <td>594694</td>\n",
       "    </tr>\n",
       "    <tr>\n",
       "      <th>1</th>\n",
       "      <td>cfe</td>\n",
       "      <td>okhttp</td>\n",
       "      <td>1034105</td>\n",
       "    </tr>\n",
       "  </tbody>\n",
       "</table>\n",
       "</div>"
      ],
      "text/plain": [
       "  hosts  agents        0\n",
       "0   cfe  cronet   594694\n",
       "1   cfe  okhttp  1034105"
      ]
     },
     "metadata": {},
     "output_type": "display_data"
    },
    {
     "data": {
      "text/html": [
       "<h1>Distribution of Sessions By Agents/Protocols</h1>"
      ],
      "text/plain": [
       "<IPython.core.display.HTML object>"
      ]
     },
     "metadata": {},
     "output_type": "display_data"
    },
    {
     "data": {
      "text/html": [
       "<div>\n",
       "<style scoped>\n",
       "    .dataframe tbody tr th:only-of-type {\n",
       "        vertical-align: middle;\n",
       "    }\n",
       "\n",
       "    .dataframe tbody tr th {\n",
       "        vertical-align: top;\n",
       "    }\n",
       "\n",
       "    .dataframe thead th {\n",
       "        text-align: right;\n",
       "    }\n",
       "</style>\n",
       "<table border=\"1\" class=\"dataframe\">\n",
       "  <thead>\n",
       "    <tr style=\"text-align: right;\">\n",
       "      <th></th>\n",
       "      <th>hosts</th>\n",
       "      <th>agents</th>\n",
       "      <th>protocols</th>\n",
       "      <th>0</th>\n",
       "    </tr>\n",
       "  </thead>\n",
       "  <tbody>\n",
       "    <tr>\n",
       "      <th>0</th>\n",
       "      <td>cfe</td>\n",
       "      <td>cronet</td>\n",
       "      <td>h2</td>\n",
       "      <td>21774</td>\n",
       "    </tr>\n",
       "    <tr>\n",
       "      <th>1</th>\n",
       "      <td>cfe</td>\n",
       "      <td>cronet</td>\n",
       "      <td>h2|quic</td>\n",
       "      <td>217740</td>\n",
       "    </tr>\n",
       "    <tr>\n",
       "      <th>2</th>\n",
       "      <td>cfe</td>\n",
       "      <td>cronet</td>\n",
       "      <td>http/1.1</td>\n",
       "      <td>1</td>\n",
       "    </tr>\n",
       "    <tr>\n",
       "      <th>3</th>\n",
       "      <td>cfe</td>\n",
       "      <td>cronet</td>\n",
       "      <td>http/1.1|quic</td>\n",
       "      <td>1</td>\n",
       "    </tr>\n",
       "    <tr>\n",
       "      <th>4</th>\n",
       "      <td>cfe</td>\n",
       "      <td>cronet</td>\n",
       "      <td>quic</td>\n",
       "      <td>355178</td>\n",
       "    </tr>\n",
       "    <tr>\n",
       "      <th>5</th>\n",
       "      <td>cfe</td>\n",
       "      <td>okhttp</td>\n",
       "      <td>h2</td>\n",
       "      <td>1014561</td>\n",
       "    </tr>\n",
       "    <tr>\n",
       "      <th>6</th>\n",
       "      <td>cfe</td>\n",
       "      <td>okhttp</td>\n",
       "      <td>h2|http/1.1</td>\n",
       "      <td>2</td>\n",
       "    </tr>\n",
       "    <tr>\n",
       "      <th>7</th>\n",
       "      <td>cfe</td>\n",
       "      <td>okhttp</td>\n",
       "      <td>http/1.1</td>\n",
       "      <td>19542</td>\n",
       "    </tr>\n",
       "  </tbody>\n",
       "</table>\n",
       "</div>"
      ],
      "text/plain": [
       "  hosts  agents      protocols        0\n",
       "0   cfe  cronet             h2    21774\n",
       "1   cfe  cronet        h2|quic   217740\n",
       "2   cfe  cronet       http/1.1        1\n",
       "3   cfe  cronet  http/1.1|quic        1\n",
       "4   cfe  cronet           quic   355178\n",
       "5   cfe  okhttp             h2  1014561\n",
       "6   cfe  okhttp    h2|http/1.1        2\n",
       "7   cfe  okhttp       http/1.1    19542"
      ]
     },
     "metadata": {},
     "output_type": "display_data"
    }
   ],
   "source": [
    "display(HTML(\"<h1>Distribution of Sessions By Agents</h1>\"))\n",
    "display(androidExpCities.groupby(['hosts', 'agents']).size().reset_index())\n",
    "\n",
    "display(HTML(\"<h1>Distribution of Sessions By Agents/Protocols</h1>\"))\n",
    "display(androidExpCities.groupby(['hosts', 'agents', 'protocols']).size().reset_index())"
   ]
  },
  {
   "cell_type": "markdown",
   "metadata": {},
   "source": [
    "## Compute Conversions"
   ]
  },
  {
   "cell_type": "code",
   "execution_count": 61,
   "metadata": {
    "collapsed": false
   },
   "outputs": [],
   "source": [
    "subsetAndroid = androidExpCities[androidExpCities.protocols.isin(['h2', 'quic', 'h2|quic', 'http/1.1'])].copy()"
   ]
  },
  {
   "cell_type": "code",
   "execution_count": 645,
   "metadata": {
    "collapsed": false
   },
   "outputs": [
    {
     "data": {
      "text/html": [
       "<h1>Conversion Rate At Agent Level</h1>"
      ],
      "text/plain": [
       "<IPython.core.display.HTML object>"
      ]
     },
     "metadata": {},
     "output_type": "display_data"
    },
    {
     "data": {
      "text/html": [
       "<style  type=\"text/css\" >\n",
       "</style>  \n",
       "<table id=\"T_4dafa246_f91d_11e8_8521_ec0d9a2e0810\" > \n",
       "<thead>    <tr> \n",
       "        <th class=\"blank level0\" ></th> \n",
       "        <th class=\"col_heading level0 col0\" >agents</th> \n",
       "        <th class=\"col_heading level0 col1\" >hits</th> \n",
       "        <th class=\"col_heading level0 col2\" >missed</th> \n",
       "        <th class=\"col_heading level0 col3\" >num_sessions</th> \n",
       "        <th class=\"col_heading level0 col4\" >conversion</th> \n",
       "    </tr></thead> \n",
       "<tbody>    <tr> \n",
       "        <th id=\"T_4dafa246_f91d_11e8_8521_ec0d9a2e0810level0_row0\" class=\"row_heading level0 row0\" >0</th> \n",
       "        <td id=\"T_4dafa246_f91d_11e8_8521_ec0d9a2e0810row0_col0\" class=\"data row0 col0\" >cronet</td> \n",
       "        <td id=\"T_4dafa246_f91d_11e8_8521_ec0d9a2e0810row0_col1\" class=\"data row0 col1\" >132,726</td> \n",
       "        <td id=\"T_4dafa246_f91d_11e8_8521_ec0d9a2e0810row0_col2\" class=\"data row0 col2\" >461,967</td> \n",
       "        <td id=\"T_4dafa246_f91d_11e8_8521_ec0d9a2e0810row0_col3\" class=\"data row0 col3\" >594,693</td> \n",
       "        <td id=\"T_4dafa246_f91d_11e8_8521_ec0d9a2e0810row0_col4\" class=\"data row0 col4\" >22.32%</td> \n",
       "    </tr>    <tr> \n",
       "        <th id=\"T_4dafa246_f91d_11e8_8521_ec0d9a2e0810level0_row1\" class=\"row_heading level0 row1\" >1</th> \n",
       "        <td id=\"T_4dafa246_f91d_11e8_8521_ec0d9a2e0810row1_col0\" class=\"data row1 col0\" >okhttp</td> \n",
       "        <td id=\"T_4dafa246_f91d_11e8_8521_ec0d9a2e0810row1_col1\" class=\"data row1 col1\" >201,165</td> \n",
       "        <td id=\"T_4dafa246_f91d_11e8_8521_ec0d9a2e0810row1_col2\" class=\"data row1 col2\" >832,938</td> \n",
       "        <td id=\"T_4dafa246_f91d_11e8_8521_ec0d9a2e0810row1_col3\" class=\"data row1 col3\" >1,034,103</td> \n",
       "        <td id=\"T_4dafa246_f91d_11e8_8521_ec0d9a2e0810row1_col4\" class=\"data row1 col4\" >19.45%</td> \n",
       "    </tr></tbody> \n",
       "</table> "
      ],
      "text/plain": [
       "<pandas.io.formats.style.Styler at 0x7f62f36e3d90>"
      ]
     },
     "metadata": {},
     "output_type": "display_data"
    },
    {
     "data": {
      "text/html": [
       "<h1>Conversion Gain At Agent Level</h1>"
      ],
      "text/plain": [
       "<IPython.core.display.HTML object>"
      ]
     },
     "metadata": {},
     "output_type": "display_data"
    },
    {
     "data": {
      "text/html": [
       "<style  type=\"text/css\" >\n",
       "</style>  \n",
       "<table id=\"T_4db24104_f91d_11e8_8521_ec0d9a2e0810\" > \n",
       "<thead>    <tr> \n",
       "        <th class=\"blank level0\" ></th> \n",
       "        <th class=\"col_heading level0 col0\" >agent</th> \n",
       "        <th class=\"col_heading level0 col1\" >gain</th> \n",
       "        <th class=\"col_heading level0 col2\" >lb</th> \n",
       "        <th class=\"col_heading level0 col3\" >ub</th> \n",
       "        <th class=\"col_heading level0 col4\" >isSignificant</th> \n",
       "    </tr></thead> \n",
       "<tbody>    <tr> \n",
       "        <th id=\"T_4db24104_f91d_11e8_8521_ec0d9a2e0810level0_row0\" class=\"row_heading level0 row0\" >0</th> \n",
       "        <td id=\"T_4db24104_f91d_11e8_8521_ec0d9a2e0810row0_col0\" class=\"data row0 col0\" >cronet</td> \n",
       "        <td id=\"T_4db24104_f91d_11e8_8521_ec0d9a2e0810row0_col1\" class=\"data row0 col1\" >2.77%</td> \n",
       "        <td id=\"T_4db24104_f91d_11e8_8521_ec0d9a2e0810row0_col2\" class=\"data row0 col2\" >2.63%</td> \n",
       "        <td id=\"T_4db24104_f91d_11e8_8521_ec0d9a2e0810row0_col3\" class=\"data row0 col3\" >2.90%</td> \n",
       "        <td id=\"T_4db24104_f91d_11e8_8521_ec0d9a2e0810row0_col4\" class=\"data row0 col4\" >True</td> \n",
       "    </tr>    <tr> \n",
       "        <th id=\"T_4db24104_f91d_11e8_8521_ec0d9a2e0810level0_row1\" class=\"row_heading level0 row1\" >1</th> \n",
       "        <td id=\"T_4db24104_f91d_11e8_8521_ec0d9a2e0810row1_col0\" class=\"data row1 col0\" >okhttp</td> \n",
       "        <td id=\"T_4db24104_f91d_11e8_8521_ec0d9a2e0810row1_col1\" class=\"data row1 col1\" >-0.10%</td> \n",
       "        <td id=\"T_4db24104_f91d_11e8_8521_ec0d9a2e0810row1_col2\" class=\"data row1 col2\" >-0.21%</td> \n",
       "        <td id=\"T_4db24104_f91d_11e8_8521_ec0d9a2e0810row1_col3\" class=\"data row1 col3\" >0.01%</td> \n",
       "        <td id=\"T_4db24104_f91d_11e8_8521_ec0d9a2e0810row1_col4\" class=\"data row1 col4\" >False</td> \n",
       "    </tr></tbody> \n",
       "</table> "
      ],
      "text/plain": [
       "<pandas.io.formats.style.Styler at 0x7f62e8505390>"
      ]
     },
     "metadata": {},
     "output_type": "display_data"
    }
   ],
   "source": [
    "import math\n",
    "\n",
    "def sessionMetrics(x):\n",
    "    return pd.Series({\n",
    "            'num_sessions': x.shape[0],\n",
    "            'hits': x[x.n_completed == 1].shape[0],\n",
    "            'missed': x[x.n_completed == 0].shape[0]\n",
    "        })\n",
    "\n",
    "overallDF = (\n",
    "    subsetAndroid\n",
    "    .groupby(['agents'])\n",
    "    .apply(sessionMetrics)\n",
    "    .reset_index()\n",
    ").assign(\n",
    "    conversion = lambda x: x.hits / x.num_sessions\n",
    ")\n",
    "\n",
    "\n",
    "display(HTML(\"<h1>Conversion Rate At Agent Level</h1>\"))\n",
    "display(overallDF.style.format({\n",
    "            \"conversion\":\"{:.2%}\", \n",
    "            \"hits\": \"{:,}\", \n",
    "            \"missed\": \"{:,}\",\n",
    "            \"num_sessions\": \"{:,}\"\n",
    "        }))\n",
    "\n",
    "display(HTML(\"<h1>Conversion Gain At Agent Level</h1>\"))\n",
    "output = []\n",
    "baseline = pd.Series(breakdownDF[breakdownDF.agents == 'okhttp'].head(1).to_dict(orient='records')[0])\n",
    "baseline_sd_square = baseline.conversion * (1 - baseline.conversion) / baseline.num_sessions\n",
    "\n",
    "for idx, row in overallDF.iterrows():\n",
    "    gain = row.conversion - baseline.conversion\n",
    "    sd_square = row.conversion * (1 - row.conversion) / row.num_sessions\n",
    "\n",
    "    sd = math.sqrt(baseline_sd_square + sd_square)\n",
    "    lb = gain - 2 * sd\n",
    "    ub = gain + 2 * sd\n",
    "    \n",
    "    isSignificiant = proportion.proportions_ztest(\n",
    "        [row.hits, baseline.hits],\n",
    "        [row.num_sessions, baseline.num_sessions]\n",
    "    )[1] < 0.05\n",
    "    output.append([row.agents, gain, lb, ub, isSignificiant])\n",
    "    \n",
    "analysisDF = pd.DataFrame(output, columns=['agent', 'gain', 'lb', 'ub', 'isSignificant'])\n",
    "display(analysisDF.style.format({\"gain\":\"{:.2%}\", \"lb\": \"{:.2%}\", \"ub\": \"{:.2%}\"}))\n",
    "\n",
    "        "
   ]
  },
  {
   "cell_type": "code",
   "execution_count": 647,
   "metadata": {
    "collapsed": false
   },
   "outputs": [
    {
     "data": {
      "text/html": [
       "<h1>Conversion Rate At Protocol Level</h1>"
      ],
      "text/plain": [
       "<IPython.core.display.HTML object>"
      ]
     },
     "metadata": {},
     "output_type": "display_data"
    },
    {
     "data": {
      "text/html": [
       "<style  type=\"text/css\" >\n",
       "</style>  \n",
       "<table id=\"T_97d947aa_f91d_11e8_8521_ec0d9a2e0810\" > \n",
       "<thead>    <tr> \n",
       "        <th class=\"blank level0\" ></th> \n",
       "        <th class=\"col_heading level0 col0\" >hosts</th> \n",
       "        <th class=\"col_heading level0 col1\" >agents</th> \n",
       "        <th class=\"col_heading level0 col2\" >protocols</th> \n",
       "        <th class=\"col_heading level0 col3\" >hits</th> \n",
       "        <th class=\"col_heading level0 col4\" >missed</th> \n",
       "        <th class=\"col_heading level0 col5\" >num_sessions</th> \n",
       "        <th class=\"col_heading level0 col6\" >conversion</th> \n",
       "    </tr></thead> \n",
       "<tbody>    <tr> \n",
       "        <th id=\"T_97d947aa_f91d_11e8_8521_ec0d9a2e0810level0_row0\" class=\"row_heading level0 row0\" >0</th> \n",
       "        <td id=\"T_97d947aa_f91d_11e8_8521_ec0d9a2e0810row0_col0\" class=\"data row0 col0\" >cfe</td> \n",
       "        <td id=\"T_97d947aa_f91d_11e8_8521_ec0d9a2e0810row0_col1\" class=\"data row0 col1\" >cronet</td> \n",
       "        <td id=\"T_97d947aa_f91d_11e8_8521_ec0d9a2e0810row0_col2\" class=\"data row0 col2\" >h2</td> \n",
       "        <td id=\"T_97d947aa_f91d_11e8_8521_ec0d9a2e0810row0_col3\" class=\"data row0 col3\" >3,579</td> \n",
       "        <td id=\"T_97d947aa_f91d_11e8_8521_ec0d9a2e0810row0_col4\" class=\"data row0 col4\" >18,195</td> \n",
       "        <td id=\"T_97d947aa_f91d_11e8_8521_ec0d9a2e0810row0_col5\" class=\"data row0 col5\" >21,774</td> \n",
       "        <td id=\"T_97d947aa_f91d_11e8_8521_ec0d9a2e0810row0_col6\" class=\"data row0 col6\" >16.44%</td> \n",
       "    </tr>    <tr> \n",
       "        <th id=\"T_97d947aa_f91d_11e8_8521_ec0d9a2e0810level0_row1\" class=\"row_heading level0 row1\" >1</th> \n",
       "        <td id=\"T_97d947aa_f91d_11e8_8521_ec0d9a2e0810row1_col0\" class=\"data row1 col0\" >cfe</td> \n",
       "        <td id=\"T_97d947aa_f91d_11e8_8521_ec0d9a2e0810row1_col1\" class=\"data row1 col1\" >cronet</td> \n",
       "        <td id=\"T_97d947aa_f91d_11e8_8521_ec0d9a2e0810row1_col2\" class=\"data row1 col2\" >h2|quic</td> \n",
       "        <td id=\"T_97d947aa_f91d_11e8_8521_ec0d9a2e0810row1_col3\" class=\"data row1 col3\" >54,863</td> \n",
       "        <td id=\"T_97d947aa_f91d_11e8_8521_ec0d9a2e0810row1_col4\" class=\"data row1 col4\" >162,877</td> \n",
       "        <td id=\"T_97d947aa_f91d_11e8_8521_ec0d9a2e0810row1_col5\" class=\"data row1 col5\" >217,740</td> \n",
       "        <td id=\"T_97d947aa_f91d_11e8_8521_ec0d9a2e0810row1_col6\" class=\"data row1 col6\" >25.20%</td> \n",
       "    </tr>    <tr> \n",
       "        <th id=\"T_97d947aa_f91d_11e8_8521_ec0d9a2e0810level0_row2\" class=\"row_heading level0 row2\" >3</th> \n",
       "        <td id=\"T_97d947aa_f91d_11e8_8521_ec0d9a2e0810row2_col0\" class=\"data row2 col0\" >cfe</td> \n",
       "        <td id=\"T_97d947aa_f91d_11e8_8521_ec0d9a2e0810row2_col1\" class=\"data row2 col1\" >cronet</td> \n",
       "        <td id=\"T_97d947aa_f91d_11e8_8521_ec0d9a2e0810row2_col2\" class=\"data row2 col2\" >quic</td> \n",
       "        <td id=\"T_97d947aa_f91d_11e8_8521_ec0d9a2e0810row2_col3\" class=\"data row2 col3\" >74,284</td> \n",
       "        <td id=\"T_97d947aa_f91d_11e8_8521_ec0d9a2e0810row2_col4\" class=\"data row2 col4\" >280,894</td> \n",
       "        <td id=\"T_97d947aa_f91d_11e8_8521_ec0d9a2e0810row2_col5\" class=\"data row2 col5\" >355,178</td> \n",
       "        <td id=\"T_97d947aa_f91d_11e8_8521_ec0d9a2e0810row2_col6\" class=\"data row2 col6\" >20.91%</td> \n",
       "    </tr>    <tr> \n",
       "        <th id=\"T_97d947aa_f91d_11e8_8521_ec0d9a2e0810level0_row3\" class=\"row_heading level0 row3\" >4</th> \n",
       "        <td id=\"T_97d947aa_f91d_11e8_8521_ec0d9a2e0810row3_col0\" class=\"data row3 col0\" >cfe</td> \n",
       "        <td id=\"T_97d947aa_f91d_11e8_8521_ec0d9a2e0810row3_col1\" class=\"data row3 col1\" >okhttp</td> \n",
       "        <td id=\"T_97d947aa_f91d_11e8_8521_ec0d9a2e0810row3_col2\" class=\"data row3 col2\" >h2</td> \n",
       "        <td id=\"T_97d947aa_f91d_11e8_8521_ec0d9a2e0810row3_col3\" class=\"data row3 col3\" >198,378</td> \n",
       "        <td id=\"T_97d947aa_f91d_11e8_8521_ec0d9a2e0810row3_col4\" class=\"data row3 col4\" >816,183</td> \n",
       "        <td id=\"T_97d947aa_f91d_11e8_8521_ec0d9a2e0810row3_col5\" class=\"data row3 col5\" >1,014,561</td> \n",
       "        <td id=\"T_97d947aa_f91d_11e8_8521_ec0d9a2e0810row3_col6\" class=\"data row3 col6\" >19.55%</td> \n",
       "    </tr>    <tr> \n",
       "        <th id=\"T_97d947aa_f91d_11e8_8521_ec0d9a2e0810level0_row4\" class=\"row_heading level0 row4\" >5</th> \n",
       "        <td id=\"T_97d947aa_f91d_11e8_8521_ec0d9a2e0810row4_col0\" class=\"data row4 col0\" >cfe</td> \n",
       "        <td id=\"T_97d947aa_f91d_11e8_8521_ec0d9a2e0810row4_col1\" class=\"data row4 col1\" >okhttp</td> \n",
       "        <td id=\"T_97d947aa_f91d_11e8_8521_ec0d9a2e0810row4_col2\" class=\"data row4 col2\" >http/1.1</td> \n",
       "        <td id=\"T_97d947aa_f91d_11e8_8521_ec0d9a2e0810row4_col3\" class=\"data row4 col3\" >2,787</td> \n",
       "        <td id=\"T_97d947aa_f91d_11e8_8521_ec0d9a2e0810row4_col4\" class=\"data row4 col4\" >16,755</td> \n",
       "        <td id=\"T_97d947aa_f91d_11e8_8521_ec0d9a2e0810row4_col5\" class=\"data row4 col5\" >19,542</td> \n",
       "        <td id=\"T_97d947aa_f91d_11e8_8521_ec0d9a2e0810row4_col6\" class=\"data row4 col6\" >14.26%</td> \n",
       "    </tr></tbody> \n",
       "</table> "
      ],
      "text/plain": [
       "<pandas.io.formats.style.Styler at 0x7f631ea5e150>"
      ]
     },
     "metadata": {},
     "output_type": "display_data"
    },
    {
     "data": {
      "text/html": [
       "<h1>Conversion Gain Compared to OKHTTP/H2</h1>"
      ],
      "text/plain": [
       "<IPython.core.display.HTML object>"
      ]
     },
     "metadata": {},
     "output_type": "display_data"
    },
    {
     "data": {
      "text/html": [
       "<style  type=\"text/css\" >\n",
       "</style>  \n",
       "<table id=\"T_97dc2e20_f91d_11e8_8521_ec0d9a2e0810\" > \n",
       "<thead>    <tr> \n",
       "        <th class=\"blank level0\" ></th> \n",
       "        <th class=\"col_heading level0 col0\" >key</th> \n",
       "        <th class=\"col_heading level0 col1\" >gain</th> \n",
       "        <th class=\"col_heading level0 col2\" >lb</th> \n",
       "        <th class=\"col_heading level0 col3\" >ub</th> \n",
       "        <th class=\"col_heading level0 col4\" >isSignificant</th> \n",
       "    </tr></thead> \n",
       "<tbody>    <tr> \n",
       "        <th id=\"T_97dc2e20_f91d_11e8_8521_ec0d9a2e0810level0_row0\" class=\"row_heading level0 row0\" >0</th> \n",
       "        <td id=\"T_97dc2e20_f91d_11e8_8521_ec0d9a2e0810row0_col0\" class=\"data row0 col0\" >cronet/h2</td> \n",
       "        <td id=\"T_97dc2e20_f91d_11e8_8521_ec0d9a2e0810row0_col1\" class=\"data row0 col1\" >-3.12%</td> \n",
       "        <td id=\"T_97dc2e20_f91d_11e8_8521_ec0d9a2e0810row0_col2\" class=\"data row0 col2\" >-3.62%</td> \n",
       "        <td id=\"T_97dc2e20_f91d_11e8_8521_ec0d9a2e0810row0_col3\" class=\"data row0 col3\" >-2.61%</td> \n",
       "        <td id=\"T_97dc2e20_f91d_11e8_8521_ec0d9a2e0810row0_col4\" class=\"data row0 col4\" >True</td> \n",
       "    </tr>    <tr> \n",
       "        <th id=\"T_97dc2e20_f91d_11e8_8521_ec0d9a2e0810level0_row1\" class=\"row_heading level0 row1\" >1</th> \n",
       "        <td id=\"T_97dc2e20_f91d_11e8_8521_ec0d9a2e0810row1_col0\" class=\"data row1 col0\" >cronet/h2|quic</td> \n",
       "        <td id=\"T_97dc2e20_f91d_11e8_8521_ec0d9a2e0810row1_col1\" class=\"data row1 col1\" >5.64%</td> \n",
       "        <td id=\"T_97dc2e20_f91d_11e8_8521_ec0d9a2e0810row1_col2\" class=\"data row1 col2\" >5.44%</td> \n",
       "        <td id=\"T_97dc2e20_f91d_11e8_8521_ec0d9a2e0810row1_col3\" class=\"data row1 col3\" >5.85%</td> \n",
       "        <td id=\"T_97dc2e20_f91d_11e8_8521_ec0d9a2e0810row1_col4\" class=\"data row1 col4\" >True</td> \n",
       "    </tr>    <tr> \n",
       "        <th id=\"T_97dc2e20_f91d_11e8_8521_ec0d9a2e0810level0_row2\" class=\"row_heading level0 row2\" >2</th> \n",
       "        <td id=\"T_97dc2e20_f91d_11e8_8521_ec0d9a2e0810row2_col0\" class=\"data row2 col0\" >cronet/quic</td> \n",
       "        <td id=\"T_97dc2e20_f91d_11e8_8521_ec0d9a2e0810row2_col1\" class=\"data row2 col1\" >1.36%</td> \n",
       "        <td id=\"T_97dc2e20_f91d_11e8_8521_ec0d9a2e0810row2_col2\" class=\"data row2 col2\" >1.20%</td> \n",
       "        <td id=\"T_97dc2e20_f91d_11e8_8521_ec0d9a2e0810row2_col3\" class=\"data row2 col3\" >1.52%</td> \n",
       "        <td id=\"T_97dc2e20_f91d_11e8_8521_ec0d9a2e0810row2_col4\" class=\"data row2 col4\" >True</td> \n",
       "    </tr>    <tr> \n",
       "        <th id=\"T_97dc2e20_f91d_11e8_8521_ec0d9a2e0810level0_row3\" class=\"row_heading level0 row3\" >3</th> \n",
       "        <td id=\"T_97dc2e20_f91d_11e8_8521_ec0d9a2e0810row3_col0\" class=\"data row3 col0\" >okhttp/h2</td> \n",
       "        <td id=\"T_97dc2e20_f91d_11e8_8521_ec0d9a2e0810row3_col1\" class=\"data row3 col1\" >0.00%</td> \n",
       "        <td id=\"T_97dc2e20_f91d_11e8_8521_ec0d9a2e0810row3_col2\" class=\"data row3 col2\" >-0.11%</td> \n",
       "        <td id=\"T_97dc2e20_f91d_11e8_8521_ec0d9a2e0810row3_col3\" class=\"data row3 col3\" >0.11%</td> \n",
       "        <td id=\"T_97dc2e20_f91d_11e8_8521_ec0d9a2e0810row3_col4\" class=\"data row3 col4\" >False</td> \n",
       "    </tr>    <tr> \n",
       "        <th id=\"T_97dc2e20_f91d_11e8_8521_ec0d9a2e0810level0_row4\" class=\"row_heading level0 row4\" >4</th> \n",
       "        <td id=\"T_97dc2e20_f91d_11e8_8521_ec0d9a2e0810row4_col0\" class=\"data row4 col0\" >okhttp/http/1.1</td> \n",
       "        <td id=\"T_97dc2e20_f91d_11e8_8521_ec0d9a2e0810row4_col1\" class=\"data row4 col1\" >-5.29%</td> \n",
       "        <td id=\"T_97dc2e20_f91d_11e8_8521_ec0d9a2e0810row4_col2\" class=\"data row4 col2\" >-5.80%</td> \n",
       "        <td id=\"T_97dc2e20_f91d_11e8_8521_ec0d9a2e0810row4_col3\" class=\"data row4 col3\" >-4.79%</td> \n",
       "        <td id=\"T_97dc2e20_f91d_11e8_8521_ec0d9a2e0810row4_col4\" class=\"data row4 col4\" >True</td> \n",
       "    </tr></tbody> \n",
       "</table> "
      ],
      "text/plain": [
       "<pandas.io.formats.style.Styler at 0x7f62ec0ec490>"
      ]
     },
     "metadata": {},
     "output_type": "display_data"
    }
   ],
   "source": [
    "breakdownDF = (\n",
    "    subsetAndroid\n",
    "    .groupby(['hosts', 'agents', 'protocols'])\n",
    "    .apply(sessionMetrics)\n",
    "    .reset_index()\n",
    ").assign(\n",
    "    conversion = lambda x: x.hits / x.num_sessions\n",
    ")\n",
    "# Ignore Cronet / http1.1 \n",
    "breakdownDF = breakdownDF[~((breakdownDF.agents == 'cronet') & (breakdownDF.protocols == 'http/1.1'))].copy()\n",
    "\n",
    "\n",
    "display(HTML(\"<h1>Conversion Rate At Protocol Level</h1>\"))\n",
    "display(breakdownDF.style.format({\n",
    "            \"conversion\":\"{:.2%}\", \n",
    "            \"hits\": \"{:,}\", \n",
    "            \"missed\": \"{:,}\",\n",
    "            \"num_sessions\": \"{:,}\"\n",
    "        }))\n",
    "\n",
    "output = []\n",
    "breakdownDF['key'] = breakdownDF.apply(lambda x: \"{}/{}\".format(x.agents, x.protocols), axis=1)\n",
    "\n",
    "baseline = pd.Series(breakdownDF[breakdownDF.key == 'okhttp/h2'].head(1).to_dict(orient='records')[0])\n",
    "baseline_sd_square = baseline.conversion * (1 - baseline.conversion) / baseline.num_sessions\n",
    "\n",
    "for idx, row in breakdownDF.iterrows():\n",
    "    gain = row.conversion - baseline.conversion\n",
    "    sd_square = row.conversion * (1 - row.conversion) / row.num_sessions\n",
    "\n",
    "    sd = math.sqrt(baseline_sd_square + sd_square)\n",
    "    lb = gain - 2 * sd\n",
    "    ub = gain + 2 * sd\n",
    "    \n",
    "    isSignificiant = proportion.proportions_ztest(\n",
    "        [row.hits, baseline.hits],\n",
    "        [row.num_sessions, baseline.num_sessions]\n",
    "    )[1] < 0.05\n",
    "    output.append([row.key, gain, lb, ub, isSignificiant])\n",
    "        \n",
    "analysisDF = pd.DataFrame(output, columns=['key', 'gain', 'lb', 'ub', 'isSignificant'])\n",
    "display(HTML(\"<h1>Conversion Gain Compared to OKHTTP/H2</h1>\"))\n",
    "display(analysisDF.style.format({\"gain\":\"{:.2%}\", \"lb\": \"{:.2%}\", \"ub\": \"{:.2%}\"}))"
   ]
  },
  {
   "cell_type": "markdown",
   "metadata": {},
   "source": [
    "## Compute Latency Distribution"
   ]
  },
  {
   "cell_type": "code",
   "execution_count": 457,
   "metadata": {
    "collapsed": false
   },
   "outputs": [
    {
     "name": "stdout",
     "output_type": "stream",
     "text": [
      "Loading results from cache file: ./qr_cache/dd49741ffb2e18abe0cc21a2df0d361f.csv.gz\n"
     ]
    }
   ],
   "source": [
    "%%presto --variable latencyData --email ragrawal@uber.com --cache --use-cache --large-data\n",
    "\n",
    "SELECT agents, protocols, duration, COUNT(*) AS freq\n",
    "FROM\n",
    "(\n",
    "    SELECT DISTINCT l.session_id, l.user_uuid, agents, protocols, _c2 AS path, CAST(duration / 100 AS BIGINT) as duration\n",
    "    FROM dsp.quic_latencies l\n",
    "    JOIN dsp.quic r ON (r.session_id = l.session_id AND r.user_uuid = l.user_uuid)\n",
    "    WHERE\n",
    "        city in ('sao_paulo', 'london', 'los_angeles', 'cairo', 'new_delhi')\n",
    "        AND os_type = 'android'\n",
    "        AND NOT is_admin_user \n",
    "        AND hosts = 'cfe'\n",
    "        AND agents in ('cronet', 'okhttp')\n",
    "        -- AND _c2 = '/rt/riders/me/status'\n",
    ") A \n",
    "GROUP BY agents, protocols, duration"
   ]
  },
  {
   "cell_type": "code",
   "execution_count": 459,
   "metadata": {
    "collapsed": false
   },
   "outputs": [
    {
     "name": "stdout",
     "output_type": "stream",
     "text": [
      "Index([u'agents', u'duration', u'key', u'protocols'], dtype='object')\n",
      "(16000, 4)\n"
     ]
    },
    {
     "data": {
      "text/html": [
       "<div>\n",
       "<style scoped>\n",
       "    .dataframe tbody tr th:only-of-type {\n",
       "        vertical-align: middle;\n",
       "    }\n",
       "\n",
       "    .dataframe tbody tr th {\n",
       "        vertical-align: top;\n",
       "    }\n",
       "\n",
       "    .dataframe thead th {\n",
       "        text-align: right;\n",
       "    }\n",
       "</style>\n",
       "<table border=\"1\" class=\"dataframe\">\n",
       "  <thead>\n",
       "    <tr style=\"text-align: right;\">\n",
       "      <th></th>\n",
       "      <th>agents</th>\n",
       "      <th>duration</th>\n",
       "      <th>key</th>\n",
       "      <th>protocols</th>\n",
       "    </tr>\n",
       "  </thead>\n",
       "  <tbody>\n",
       "    <tr>\n",
       "      <th>886</th>\n",
       "      <td>cronet</td>\n",
       "      <td>4</td>\n",
       "      <td>cronet/h2</td>\n",
       "      <td>h2</td>\n",
       "    </tr>\n",
       "    <tr>\n",
       "      <th>1658</th>\n",
       "      <td>cronet</td>\n",
       "      <td>4</td>\n",
       "      <td>cronet/http/1.1</td>\n",
       "      <td>http/1.1</td>\n",
       "    </tr>\n",
       "    <tr>\n",
       "      <th>1611</th>\n",
       "      <td>okhttp</td>\n",
       "      <td>7</td>\n",
       "      <td>okhttp/http/1.1</td>\n",
       "      <td>http/1.1</td>\n",
       "    </tr>\n",
       "    <tr>\n",
       "      <th>720</th>\n",
       "      <td>cronet</td>\n",
       "      <td>7</td>\n",
       "      <td>cronet/h2</td>\n",
       "      <td>h2</td>\n",
       "    </tr>\n",
       "  </tbody>\n",
       "</table>\n",
       "</div>"
      ],
      "text/plain": [
       "      agents  duration              key protocols\n",
       "886   cronet         4        cronet/h2        h2\n",
       "1658  cronet         4  cronet/http/1.1  http/1.1\n",
       "1611  okhttp         7  okhttp/http/1.1  http/1.1\n",
       "720   cronet         7        cronet/h2        h2"
      ]
     },
     "execution_count": 459,
     "metadata": {},
     "output_type": "execute_result"
    }
   ],
   "source": [
    "output = []\n",
    "for idx, row in latencyData[latencyData.duration != '\\N'].sort_values('duration').groupby(['agents', 'protocols']):\n",
    "    durations = row.duration.astype(np.int)\n",
    "    df = pd.DataFrame({\n",
    "            'duration': np.random.choice(durations, 2000, p=row.freq/row.freq.sum()),\n",
    "            'key': \"{}/{}\".format(row.agents.values[0], row.protocols.values[0]),\n",
    "            'agents': row.agents.values[0],\n",
    "            'protocols': row.protocols.values[0]\n",
    "        })\n",
    "    output.append(df)\n",
    "df = pd.concat(output, axis=0)\n",
    "df = df[~df.duration.isnull()].copy()\n",
    "print df.columns\n",
    "print df.shape\n",
    "df.sample(4)"
   ]
  },
  {
   "cell_type": "code",
   "execution_count": 467,
   "metadata": {
    "collapsed": false
   },
   "outputs": [
    {
     "name": "stderr",
     "output_type": "stream",
     "text": [
      "/var/cache/udocker/phoenix-worker/beta/python2/plotnine/layer.py:363: UserWarning: stat_density : Removed 982 rows containing non-finite values.\n",
      "  data = self.stat.compute_layer(data, params, layout)\n"
     ]
    },
    {
     "data": {
      "image/png": "[encoded data removed]",
      "text/plain": [
       "<Figure size 1000x700 with 1 Axes>"
      ]
     },
     "metadata": {},
     "output_type": "display_data"
    },
    {
     "data": {
      "text/plain": [
       "<ggplot: (8754022806817)>"
      ]
     },
     "execution_count": 467,
     "metadata": {},
     "output_type": "execute_result"
    }
   ],
   "source": [
    "(\n",
    "    ggplot(df[~df.protocols.str.contains('http/1.1')], aes(\"duration\"))\n",
    "    + geom_density(aes(colour='key'))\n",
    "    + xlim(0, 20)\n",
    "    + theme_minimal()\n",
    "    + theme(figure_size=(10, 7))\n",
    ")"
   ]
  },
  {
   "cell_type": "code",
   "execution_count": 468,
   "metadata": {
    "collapsed": false
   },
   "outputs": [
    {
     "name": "stderr",
     "output_type": "stream",
     "text": [
      "12/05/2018 06:43:43 PM \u001b[93m Created execution 70ee9633-cf1b-4325-9464-964ec5650e05 \u001b[0m\n",
      "2018-12-05 18:43:43,558 queryrunner WARNING \u001b[93m Created execution 70ee9633-cf1b-4325-9464-964ec5650e05 \u001b[0m\n"
     ]
    },
    {
     "name": "stdout",
     "output_type": "stream",
     "text": [
      "{'consumer_name': 'data_science', 'user_email': 'ragrawal@uber.com'}\n"
     ]
    },
    {
     "name": "stderr",
     "output_type": "stream",
     "text": [
      "12/05/2018 06:46:04 PM \u001b[92m Query finished. \u001b[0m\n",
      "2018-12-05 18:46:04,039 queryrunner WARNING \u001b[92m Query finished. \u001b[0m\n"
     ]
    },
    {
     "name": "stdout",
     "output_type": "stream",
     "text": [
      "Saving results to ./qr_cache/3c4fabf4c1f360ca4d0e988d0e9dd378.csv.gz\n"
     ]
    }
   ],
   "source": [
    "%%presto --variable latencyData --email ragrawal@uber.com --cache --use-cache --large-data\n",
    "\n",
    "SELECT \n",
    "    agents\n",
    "    , protocols\n",
    "    , APPROX_PERCENTILE(duration, ARRAY [0.1, 0.2, 0.3, 0.4, 0.5, 0.6, 0.7, 0.8, 0.9, 0.95, 0.99]) as latencies    \n",
    "FROM dsp.quic_latencies l\n",
    "JOIN dsp.quic r ON (r.session_id = l.session_id AND r.user_uuid = l.user_uuid)\n",
    "WHERE\n",
    "    city in ('sao_paulo', 'london', 'los_angeles', 'cairo', 'new_delhi')\n",
    "    AND os_type = 'android'\n",
    "    AND NOT is_admin_user \n",
    "    AND hosts = 'cfe'\n",
    "    AND agents in ('cronet', 'okhttp')\n",
    "GROUP BY agents, protocols"
   ]
  },
  {
   "cell_type": "code",
   "execution_count": 495,
   "metadata": {
    "collapsed": false
   },
   "outputs": [],
   "source": [
    "keys = ['agents', 'protocols']\n",
    "D = [0.1, 0.2, 0.3, 0.4, 0.5, 0.6, 0.7, 0.8, 0.9, 0.95, 0.99]\n",
    "df = (\n",
    "    latencyData\n",
    "    .set_index(keys)\n",
    "    .apply(lambda x: pd.Series(dict(zip(D, eval(x.latencies)))), axis=1)\n",
    "    .reset_index()\n",
    "    .melt(id_vars=keys, value_vars=D,                                                                       value_name='latency', var_name='latencyBucket')\n",
    "    .reset_index()\n",
    ")\n",
    "df['key'] = df.apply(lambda x: \"{}/{}\".format(x.agents, x.protocols), axis=1)\n",
    "df = df[~df.key.str.contains('http/1.1')].copy()"
   ]
  },
  {
   "cell_type": "code",
   "execution_count": 496,
   "metadata": {
    "collapsed": false
   },
   "outputs": [],
   "source": [
    "df['Percentiles'] = df.latencyBucket.apply(lambda x: 'P{}'.format(int(x * 100)))"
   ]
  },
  {
   "cell_type": "code",
   "execution_count": 497,
   "metadata": {
    "collapsed": false
   },
   "outputs": [
    {
     "data": {
      "text/html": [
       "<style  type=\"text/css\" >\n",
       "    #T_b5f7e94e_f8cd_11e8_8521_ec0d9a2e0810row0_col0 {\n",
       "            background-color:  #e5ffe5;\n",
       "        }    #T_b5f7e94e_f8cd_11e8_8521_ec0d9a2e0810row0_col1 {\n",
       "            background-color:  #81c781;\n",
       "        }    #T_b5f7e94e_f8cd_11e8_8521_ec0d9a2e0810row0_col2 {\n",
       "            background-color:  #008000;\n",
       "        }    #T_b5f7e94e_f8cd_11e8_8521_ec0d9a2e0810row0_col3 {\n",
       "            background-color:  #008000;\n",
       "        }    #T_b5f7e94e_f8cd_11e8_8521_ec0d9a2e0810row0_col4 {\n",
       "            background-color:  #008000;\n",
       "        }    #T_b5f7e94e_f8cd_11e8_8521_ec0d9a2e0810row0_col5 {\n",
       "            background-color:  #008000;\n",
       "        }    #T_b5f7e94e_f8cd_11e8_8521_ec0d9a2e0810row0_col6 {\n",
       "            background-color:  #008000;\n",
       "        }    #T_b5f7e94e_f8cd_11e8_8521_ec0d9a2e0810row0_col7 {\n",
       "            background-color:  #008000;\n",
       "        }    #T_b5f7e94e_f8cd_11e8_8521_ec0d9a2e0810row0_col8 {\n",
       "            background-color:  #008000;\n",
       "        }    #T_b5f7e94e_f8cd_11e8_8521_ec0d9a2e0810row0_col9 {\n",
       "            background-color:  #008000;\n",
       "        }    #T_b5f7e94e_f8cd_11e8_8521_ec0d9a2e0810row0_col10 {\n",
       "            background-color:  #008000;\n",
       "        }    #T_b5f7e94e_f8cd_11e8_8521_ec0d9a2e0810row1_col0 {\n",
       "            background-color:  #008000;\n",
       "        }    #T_b5f7e94e_f8cd_11e8_8521_ec0d9a2e0810row1_col1 {\n",
       "            background-color:  #008000;\n",
       "        }    #T_b5f7e94e_f8cd_11e8_8521_ec0d9a2e0810row1_col2 {\n",
       "            background-color:  #72bf72;\n",
       "        }    #T_b5f7e94e_f8cd_11e8_8521_ec0d9a2e0810row1_col3 {\n",
       "            background-color:  #84c984;\n",
       "        }    #T_b5f7e94e_f8cd_11e8_8521_ec0d9a2e0810row1_col4 {\n",
       "            background-color:  #8ecf8e;\n",
       "        }    #T_b5f7e94e_f8cd_11e8_8521_ec0d9a2e0810row1_col5 {\n",
       "            background-color:  #8bcd8b;\n",
       "        }    #T_b5f7e94e_f8cd_11e8_8521_ec0d9a2e0810row1_col6 {\n",
       "            background-color:  #7dc57d;\n",
       "        }    #T_b5f7e94e_f8cd_11e8_8521_ec0d9a2e0810row1_col7 {\n",
       "            background-color:  #74c074;\n",
       "        }    #T_b5f7e94e_f8cd_11e8_8521_ec0d9a2e0810row1_col8 {\n",
       "            background-color:  #6fbd6f;\n",
       "        }    #T_b5f7e94e_f8cd_11e8_8521_ec0d9a2e0810row1_col9 {\n",
       "            background-color:  #8bcd8b;\n",
       "        }    #T_b5f7e94e_f8cd_11e8_8521_ec0d9a2e0810row1_col10 {\n",
       "            background-color:  #7fc67f;\n",
       "        }    #T_b5f7e94e_f8cd_11e8_8521_ec0d9a2e0810row2_col0 {\n",
       "            background-color:  #008000;\n",
       "        }    #T_b5f7e94e_f8cd_11e8_8521_ec0d9a2e0810row2_col1 {\n",
       "            background-color:  #81c781;\n",
       "        }    #T_b5f7e94e_f8cd_11e8_8521_ec0d9a2e0810row2_col2 {\n",
       "            background-color:  #e0fce0;\n",
       "        }    #T_b5f7e94e_f8cd_11e8_8521_ec0d9a2e0810row2_col3 {\n",
       "            background-color:  #e5ffe5;\n",
       "        }    #T_b5f7e94e_f8cd_11e8_8521_ec0d9a2e0810row2_col4 {\n",
       "            background-color:  #e5ffe5;\n",
       "        }    #T_b5f7e94e_f8cd_11e8_8521_ec0d9a2e0810row2_col5 {\n",
       "            background-color:  #e5ffe5;\n",
       "        }    #T_b5f7e94e_f8cd_11e8_8521_ec0d9a2e0810row2_col6 {\n",
       "            background-color:  #e5ffe5;\n",
       "        }    #T_b5f7e94e_f8cd_11e8_8521_ec0d9a2e0810row2_col7 {\n",
       "            background-color:  #e5ffe5;\n",
       "        }    #T_b5f7e94e_f8cd_11e8_8521_ec0d9a2e0810row2_col8 {\n",
       "            background-color:  #e5ffe5;\n",
       "        }    #T_b5f7e94e_f8cd_11e8_8521_ec0d9a2e0810row2_col9 {\n",
       "            background-color:  #e5ffe5;\n",
       "        }    #T_b5f7e94e_f8cd_11e8_8521_ec0d9a2e0810row2_col10 {\n",
       "            background-color:  #e5ffe5;\n",
       "        }    #T_b5f7e94e_f8cd_11e8_8521_ec0d9a2e0810row3_col0 {\n",
       "            background-color:  #52ad52;\n",
       "        }    #T_b5f7e94e_f8cd_11e8_8521_ec0d9a2e0810row3_col1 {\n",
       "            background-color:  #e5ffe5;\n",
       "        }    #T_b5f7e94e_f8cd_11e8_8521_ec0d9a2e0810row3_col2 {\n",
       "            background-color:  #e5ffe5;\n",
       "        }    #T_b5f7e94e_f8cd_11e8_8521_ec0d9a2e0810row3_col3 {\n",
       "            background-color:  #defbde;\n",
       "        }    #T_b5f7e94e_f8cd_11e8_8521_ec0d9a2e0810row3_col4 {\n",
       "            background-color:  #d5f6d5;\n",
       "        }    #T_b5f7e94e_f8cd_11e8_8521_ec0d9a2e0810row3_col5 {\n",
       "            background-color:  #d0f3d0;\n",
       "        }    #T_b5f7e94e_f8cd_11e8_8521_ec0d9a2e0810row3_col6 {\n",
       "            background-color:  #c7eec7;\n",
       "        }    #T_b5f7e94e_f8cd_11e8_8521_ec0d9a2e0810row3_col7 {\n",
       "            background-color:  #b9e7b9;\n",
       "        }    #T_b5f7e94e_f8cd_11e8_8521_ec0d9a2e0810row3_col8 {\n",
       "            background-color:  #bae7ba;\n",
       "        }    #T_b5f7e94e_f8cd_11e8_8521_ec0d9a2e0810row3_col9 {\n",
       "            background-color:  #c2ebc2;\n",
       "        }    #T_b5f7e94e_f8cd_11e8_8521_ec0d9a2e0810row3_col10 {\n",
       "            background-color:  #b7e5b7;\n",
       "        }</style>  \n",
       "<table id=\"T_b5f7e94e_f8cd_11e8_8521_ec0d9a2e0810\" > \n",
       "<thead>    <tr> \n",
       "        <th class=\"index_name level0\" >Percentiles</th> \n",
       "        <th class=\"col_heading level0 col0\" >P10</th> \n",
       "        <th class=\"col_heading level0 col1\" >P20</th> \n",
       "        <th class=\"col_heading level0 col2\" >P30</th> \n",
       "        <th class=\"col_heading level0 col3\" >P40</th> \n",
       "        <th class=\"col_heading level0 col4\" >P50</th> \n",
       "        <th class=\"col_heading level0 col5\" >P60</th> \n",
       "        <th class=\"col_heading level0 col6\" >P70</th> \n",
       "        <th class=\"col_heading level0 col7\" >P80</th> \n",
       "        <th class=\"col_heading level0 col8\" >P90</th> \n",
       "        <th class=\"col_heading level0 col9\" >P95</th> \n",
       "        <th class=\"col_heading level0 col10\" >P99</th> \n",
       "    </tr>    <tr> \n",
       "        <th class=\"index_name level0\" >key</th> \n",
       "        <th class=\"blank\" ></th> \n",
       "        <th class=\"blank\" ></th> \n",
       "        <th class=\"blank\" ></th> \n",
       "        <th class=\"blank\" ></th> \n",
       "        <th class=\"blank\" ></th> \n",
       "        <th class=\"blank\" ></th> \n",
       "        <th class=\"blank\" ></th> \n",
       "        <th class=\"blank\" ></th> \n",
       "        <th class=\"blank\" ></th> \n",
       "        <th class=\"blank\" ></th> \n",
       "        <th class=\"blank\" ></th> \n",
       "    </tr></thead> \n",
       "<tbody>    <tr> \n",
       "        <th id=\"T_b5f7e94e_f8cd_11e8_8521_ec0d9a2e0810level0_row0\" class=\"row_heading level0 row0\" >cronet/h2</th> \n",
       "        <td id=\"T_b5f7e94e_f8cd_11e8_8521_ec0d9a2e0810row0_col0\" class=\"data row0 col0\" >185</td> \n",
       "        <td id=\"T_b5f7e94e_f8cd_11e8_8521_ec0d9a2e0810row0_col1\" class=\"data row0 col1\" >266</td> \n",
       "        <td id=\"T_b5f7e94e_f8cd_11e8_8521_ec0d9a2e0810row0_col2\" class=\"data row0 col2\" >343</td> \n",
       "        <td id=\"T_b5f7e94e_f8cd_11e8_8521_ec0d9a2e0810row0_col3\" class=\"data row0 col3\" >407</td> \n",
       "        <td id=\"T_b5f7e94e_f8cd_11e8_8521_ec0d9a2e0810row0_col4\" class=\"data row0 col4\" >469</td> \n",
       "        <td id=\"T_b5f7e94e_f8cd_11e8_8521_ec0d9a2e0810row0_col5\" class=\"data row0 col5\" >549</td> \n",
       "        <td id=\"T_b5f7e94e_f8cd_11e8_8521_ec0d9a2e0810row0_col6\" class=\"data row0 col6\" >657</td> \n",
       "        <td id=\"T_b5f7e94e_f8cd_11e8_8521_ec0d9a2e0810row0_col7\" class=\"data row0 col7\" >820</td> \n",
       "        <td id=\"T_b5f7e94e_f8cd_11e8_8521_ec0d9a2e0810row0_col8\" class=\"data row0 col8\" >1347</td> \n",
       "        <td id=\"T_b5f7e94e_f8cd_11e8_8521_ec0d9a2e0810row0_col9\" class=\"data row0 col9\" >2688</td> \n",
       "        <td id=\"T_b5f7e94e_f8cd_11e8_8521_ec0d9a2e0810row0_col10\" class=\"data row0 col10\" >12288</td> \n",
       "    </tr>    <tr> \n",
       "        <th id=\"T_b5f7e94e_f8cd_11e8_8521_ec0d9a2e0810level0_row1\" class=\"row_heading level0 row1\" >cronet/h2|quic</th> \n",
       "        <td id=\"T_b5f7e94e_f8cd_11e8_8521_ec0d9a2e0810row1_col0\" class=\"data row1 col0\" >224</td> \n",
       "        <td id=\"T_b5f7e94e_f8cd_11e8_8521_ec0d9a2e0810row1_col1\" class=\"data row1 col1\" >275</td> \n",
       "        <td id=\"T_b5f7e94e_f8cd_11e8_8521_ec0d9a2e0810row1_col2\" class=\"data row1 col2\" >322</td> \n",
       "        <td id=\"T_b5f7e94e_f8cd_11e8_8521_ec0d9a2e0810row1_col3\" class=\"data row1 col3\" >373</td> \n",
       "        <td id=\"T_b5f7e94e_f8cd_11e8_8521_ec0d9a2e0810row1_col4\" class=\"data row1 col4\" >425</td> \n",
       "        <td id=\"T_b5f7e94e_f8cd_11e8_8521_ec0d9a2e0810row1_col5\" class=\"data row1 col5\" >493</td> \n",
       "        <td id=\"T_b5f7e94e_f8cd_11e8_8521_ec0d9a2e0810row1_col6\" class=\"data row1 col6\" >589</td> \n",
       "        <td id=\"T_b5f7e94e_f8cd_11e8_8521_ec0d9a2e0810row1_col7\" class=\"data row1 col7\" >736</td> \n",
       "        <td id=\"T_b5f7e94e_f8cd_11e8_8521_ec0d9a2e0810row1_col8\" class=\"data row1 col8\" >1148</td> \n",
       "        <td id=\"T_b5f7e94e_f8cd_11e8_8521_ec0d9a2e0810row1_col9\" class=\"data row1 col9\" >1952</td> \n",
       "        <td id=\"T_b5f7e94e_f8cd_11e8_8521_ec0d9a2e0810row1_col10\" class=\"data row1 col10\" >8192</td> \n",
       "    </tr>    <tr> \n",
       "        <th id=\"T_b5f7e94e_f8cd_11e8_8521_ec0d9a2e0810level0_row2\" class=\"row_heading level0 row2\" >cronet/quic</th> \n",
       "        <td id=\"T_b5f7e94e_f8cd_11e8_8521_ec0d9a2e0810row2_col0\" class=\"data row2 col0\" >224</td> \n",
       "        <td id=\"T_b5f7e94e_f8cd_11e8_8521_ec0d9a2e0810row2_col1\" class=\"data row2 col1\" >266</td> \n",
       "        <td id=\"T_b5f7e94e_f8cd_11e8_8521_ec0d9a2e0810row2_col2\" class=\"data row2 col2\" >302</td> \n",
       "        <td id=\"T_b5f7e94e_f8cd_11e8_8521_ec0d9a2e0810row2_col3\" class=\"data row2 col3\" >348</td> \n",
       "        <td id=\"T_b5f7e94e_f8cd_11e8_8521_ec0d9a2e0810row2_col4\" class=\"data row2 col4\" >398</td> \n",
       "        <td id=\"T_b5f7e94e_f8cd_11e8_8521_ec0d9a2e0810row2_col5\" class=\"data row2 col5\" >456</td> \n",
       "        <td id=\"T_b5f7e94e_f8cd_11e8_8521_ec0d9a2e0810row2_col6\" class=\"data row2 col6\" >532</td> \n",
       "        <td id=\"T_b5f7e94e_f8cd_11e8_8521_ec0d9a2e0810row2_col7\" class=\"data row2 col7\" >654</td> \n",
       "        <td id=\"T_b5f7e94e_f8cd_11e8_8521_ec0d9a2e0810row2_col8\" class=\"data row2 col8\" >933</td> \n",
       "        <td id=\"T_b5f7e94e_f8cd_11e8_8521_ec0d9a2e0810row2_col9\" class=\"data row2 col9\" >1472</td> \n",
       "        <td id=\"T_b5f7e94e_f8cd_11e8_8521_ec0d9a2e0810row2_col10\" class=\"data row2 col10\" >4864</td> \n",
       "    </tr>    <tr> \n",
       "        <th id=\"T_b5f7e94e_f8cd_11e8_8521_ec0d9a2e0810level0_row3\" class=\"row_heading level0 row3\" >okhttp/h2</th> \n",
       "        <td id=\"T_b5f7e94e_f8cd_11e8_8521_ec0d9a2e0810row3_col0\" class=\"data row3 col0\" >210</td> \n",
       "        <td id=\"T_b5f7e94e_f8cd_11e8_8521_ec0d9a2e0810row3_col1\" class=\"data row3 col1\" >259</td> \n",
       "        <td id=\"T_b5f7e94e_f8cd_11e8_8521_ec0d9a2e0810row3_col2\" class=\"data row3 col2\" >301</td> \n",
       "        <td id=\"T_b5f7e94e_f8cd_11e8_8521_ec0d9a2e0810row3_col3\" class=\"data row3 col3\" >350</td> \n",
       "        <td id=\"T_b5f7e94e_f8cd_11e8_8521_ec0d9a2e0810row3_col4\" class=\"data row3 col4\" >403</td> \n",
       "        <td id=\"T_b5f7e94e_f8cd_11e8_8521_ec0d9a2e0810row3_col5\" class=\"data row3 col5\" >465</td> \n",
       "        <td id=\"T_b5f7e94e_f8cd_11e8_8521_ec0d9a2e0810row3_col6\" class=\"data row3 col6\" >549</td> \n",
       "        <td id=\"T_b5f7e94e_f8cd_11e8_8521_ec0d9a2e0810row3_col7\" class=\"data row3 col7\" >686</td> \n",
       "        <td id=\"T_b5f7e94e_f8cd_11e8_8521_ec0d9a2e0810row3_col8\" class=\"data row3 col8\" >1012</td> \n",
       "        <td id=\"T_b5f7e94e_f8cd_11e8_8521_ec0d9a2e0810row3_col9\" class=\"data row3 col9\" >1664</td> \n",
       "        <td id=\"T_b5f7e94e_f8cd_11e8_8521_ec0d9a2e0810row3_col10\" class=\"data row3 col10\" >6400</td> \n",
       "    </tr></tbody> \n",
       "</table> "
      ],
      "text/plain": [
       "<pandas.io.formats.style.Styler at 0x7f62e7450a90>"
      ]
     },
     "execution_count": 497,
     "metadata": {},
     "output_type": "execute_result"
    }
   ],
   "source": [
    "import seaborn as sns\n",
    "\n",
    "cm = sns.light_palette(\"green\", as_cmap=True)\n",
    "\n",
    "(\n",
    "    df\n",
    "    .pivot(index='key', columns='Percentiles', values='latency')\n",
    "    .style\n",
    "    .background_gradient(cmap=cm, axis='rows')\n",
    ")"
   ]
  },
  {
   "cell_type": "markdown",
   "metadata": {},
   "source": [
    "## Investiage H2|Quic"
   ]
  },
  {
   "cell_type": "markdown",
   "metadata": {},
   "source": [
    "### Compute how often users transitions from One Protocol to Another"
   ]
  },
  {
   "cell_type": "code",
   "execution_count": 318,
   "metadata": {
    "collapsed": false
   },
   "outputs": [
    {
     "name": "stderr",
     "output_type": "stream",
     "text": [
      "12/04/2018 10:24:06 PM \u001b[93m Created execution e7de66e4-8182-4cf4-8d96-2d70d2421cd7 \u001b[0m\n",
      "2018-12-04 22:24:06,964 queryrunner WARNING \u001b[93m Created execution e7de66e4-8182-4cf4-8d96-2d70d2421cd7 \u001b[0m\n"
     ]
    },
    {
     "name": "stdout",
     "output_type": "stream",
     "text": [
      "{'consumer_name': 'data_science', 'user_email': 'ragrawal@uber.com'}\n"
     ]
    },
    {
     "name": "stderr",
     "output_type": "stream",
     "text": [
      "12/04/2018 10:24:25 PM \u001b[92m Query finished. \u001b[0m\n",
      "2018-12-04 22:24:25,133 queryrunner WARNING \u001b[92m Query finished. \u001b[0m\n"
     ]
    },
    {
     "name": "stdout",
     "output_type": "stream",
     "text": [
      "Saving results to ./qr_cache/755101c38c805dbed694b8032cb6201b.csv.gz\n"
     ]
    }
   ],
   "source": [
    "%%presto --variable transitionsDF --email ragrawal@uber.com --cache --use-cache --large-data\n",
    "\n",
    "SELECT \n",
    "    device_id,\n",
    "    ARRAY_JOIN(ARRAY_AGG(protocol ORDER BY session_start_time_ms), '|') as protocols\n",
    "FROM \n",
    "(\n",
    "    select \n",
    "        device_id,\n",
    "        session_start_time_ms,\n",
    "        CASE \n",
    "            WHEN protocols = 'h2' THEN 'A'\n",
    "            WHEN protocols = 'h2|quic' THEN 'B'\n",
    "            WHEN protocols = 'quic' THEN 'C'\n",
    "            ELSE 'D'\n",
    "        END as protocol\n",
    "    from dsp.quic \n",
    "    where \n",
    "        city in ('sao_paulo', 'london', 'los_angeles', 'cairo', 'new_delhi')\n",
    "        AND os_type = 'android'\n",
    "        AND NOT is_admin_user \n",
    "        AND hosts = 'cfe'\n",
    "        AND agents = 'cronet'\n",
    "        AND protocols in ('quic', 'h2', 'h2|quic')\n",
    "        AND agents in ('cronet', 'okhttp')\n",
    ") A \n",
    "GROUP BY device_id\n"
   ]
  },
  {
   "cell_type": "code",
   "execution_count": 355,
   "metadata": {
    "collapsed": false
   },
   "outputs": [
    {
     "data": {
      "text/html": [
       "<div>\n",
       "<style scoped>\n",
       "    .dataframe tbody tr th:only-of-type {\n",
       "        vertical-align: middle;\n",
       "    }\n",
       "\n",
       "    .dataframe tbody tr th {\n",
       "        vertical-align: top;\n",
       "    }\n",
       "\n",
       "    .dataframe thead th {\n",
       "        text-align: right;\n",
       "    }\n",
       "</style>\n",
       "<table border=\"1\" class=\"dataframe\">\n",
       "  <thead>\n",
       "    <tr style=\"text-align: right;\">\n",
       "      <th></th>\n",
       "      <th>session_cnt</th>\n",
       "      <th>transitions</th>\n",
       "    </tr>\n",
       "  </thead>\n",
       "  <tbody>\n",
       "    <tr>\n",
       "      <th>count</th>\n",
       "      <td>312183.000000</td>\n",
       "      <td>312183.000000</td>\n",
       "    </tr>\n",
       "    <tr>\n",
       "      <th>mean</th>\n",
       "      <td>1.904947</td>\n",
       "      <td>0.304578</td>\n",
       "    </tr>\n",
       "    <tr>\n",
       "      <th>std</th>\n",
       "      <td>2.555668</td>\n",
       "      <td>0.858631</td>\n",
       "    </tr>\n",
       "    <tr>\n",
       "      <th>min</th>\n",
       "      <td>1.000000</td>\n",
       "      <td>0.000000</td>\n",
       "    </tr>\n",
       "    <tr>\n",
       "      <th>25%</th>\n",
       "      <td>1.000000</td>\n",
       "      <td>0.000000</td>\n",
       "    </tr>\n",
       "    <tr>\n",
       "      <th>50%</th>\n",
       "      <td>1.000000</td>\n",
       "      <td>0.000000</td>\n",
       "    </tr>\n",
       "    <tr>\n",
       "      <th>75%</th>\n",
       "      <td>2.000000</td>\n",
       "      <td>0.000000</td>\n",
       "    </tr>\n",
       "    <tr>\n",
       "      <th>max</th>\n",
       "      <td>114.000000</td>\n",
       "      <td>59.000000</td>\n",
       "    </tr>\n",
       "  </tbody>\n",
       "</table>\n",
       "</div>"
      ],
      "text/plain": [
       "         session_cnt    transitions\n",
       "count  312183.000000  312183.000000\n",
       "mean        1.904947       0.304578\n",
       "std         2.555668       0.858631\n",
       "min         1.000000       0.000000\n",
       "25%         1.000000       0.000000\n",
       "50%         1.000000       0.000000\n",
       "75%         2.000000       0.000000\n",
       "max       114.000000      59.000000"
      ]
     },
     "execution_count": 355,
     "metadata": {},
     "output_type": "execute_result"
    }
   ],
   "source": [
    "transitionsDF['states']= transitionsDF.protocols.apply(lambda x: x.split('|'))\n",
    "transitionsDF['session_cnt'] = transitionsDF.states.apply(lambda x: len(x))\n",
    "transitionsDF['transitions'] = transitionsDF.states.apply(lambda x: np.sum([ x[idx] != s for idx, s in enumerate(x[1:])]))\n",
    "transitionsDF.describe()"
   ]
  },
  {
   "cell_type": "code",
   "execution_count": 371,
   "metadata": {
    "collapsed": false
   },
   "outputs": [
    {
     "name": "stderr",
     "output_type": "stream",
     "text": [
      "/var/cache/udocker/phoenix-worker/beta/python2/plotnine/stats/smoothers.py:150: UserWarning: Confidence intervals are not yet implementedfor lowess smoothings.\n",
      "  warnings.warn(\"Confidence intervals are not yet implemented\"\n"
     ]
    },
    {
     "data": {
      "image/png": "[encoded data removed]",
      "text/plain": [
       "<Figure size 2000x1000 with 1 Axes>"
      ]
     },
     "metadata": {},
     "output_type": "display_data"
    },
    {
     "data": {
      "text/plain": [
       "<ggplot: (8754099320029)>"
      ]
     },
     "execution_count": 371,
     "metadata": {},
     "output_type": "execute_result"
    }
   ],
   "source": [
    "df = transitionsDF.groupby('session_cnt').agg({'transitions': 'median', 'device_id': 'count'}).reset_index()\n",
    "(\n",
    "    ggplot(df[df.device_id > 10], aes(x='session_cnt', y='transitions'))\n",
    "#     + geom_line(aes(group=1), alpha=0.5)\n",
    "    + geom_point()\n",
    "    + geom_smooth(aes(group=1), linetype='dashed', size=2, colour='grey')\n",
    "    + xlab(\"Number of Sessions Per Device\")\n",
    "    + ylab(\"Median Number of Protocol State Changes\")\n",
    "    + theme_minimal()\n",
    "    + theme(figure_size=(20, 10))\n",
    ")"
   ]
  },
  {
   "cell_type": "markdown",
   "metadata": {},
   "source": [
    "### Compare Session Lengths \n",
    "\n",
    "Longer sessions have more chances of transitions and also increases chances of recording completed. \n"
   ]
  },
  {
   "cell_type": "code",
   "execution_count": 395,
   "metadata": {
    "collapsed": false
   },
   "outputs": [
    {
     "name": "stdout",
     "output_type": "stream",
     "text": [
      "Loading results from cache file: ./qr_cache/46c5e530fe39fec7d392af0c8b09107c.csv.gz\n"
     ]
    }
   ],
   "source": [
    "%%presto --variable latencyData --email ragrawal@uber.com --cache --use-cache --large-data\n",
    "\n",
    "SELECT \n",
    "    agents, \n",
    "    protocols, \n",
    "    city,\n",
    "    client_session_duration_ms as client_ms,\n",
    "    server_session_duration_ms as server_ms\n",
    "FROM dsp.quic t\n",
    "WHERE \n",
    "    city in ('sao_paulo', 'london', 'los_angeles', 'cairo', 'new_delhi')\n",
    "    AND os_type = 'android'\n",
    "    AND NOT is_admin_user \n",
    "    AND hosts = 'cfe'\n",
    "    AND agents in ('cronet', 'okhttp')"
   ]
  },
  {
   "cell_type": "code",
   "execution_count": 396,
   "metadata": {
    "collapsed": true
   },
   "outputs": [],
   "source": [
    "latencyData['key'] = latencyData.apply(lambda x: \"{}/{}\".format(x.agents, x.protocols), axis=1)\n",
    "df = latencyData[latencyData.key.isin(['cronet/h2', 'cronet/h2|quic', 'cronet/quic', 'okhttp/h2'])].copy()"
   ]
  },
  {
   "cell_type": "code",
   "execution_count": 400,
   "metadata": {
    "collapsed": false
   },
   "outputs": [],
   "source": [
    "df2 = df.groupby('key').agg({'client_ms': 'mean', 'server_ms': 'mean'}).reset_index()"
   ]
  },
  {
   "cell_type": "code",
   "execution_count": 402,
   "metadata": {
    "collapsed": false
   },
   "outputs": [],
   "source": [
    "df3 = df2.melt(id_vars='key', value_vars=['client_ms', 'server_ms'])"
   ]
  },
  {
   "cell_type": "code",
   "execution_count": 404,
   "metadata": {
    "collapsed": false
   },
   "outputs": [
    {
     "data": {
      "text/html": [
       "<div>\n",
       "<style scoped>\n",
       "    .dataframe tbody tr th:only-of-type {\n",
       "        vertical-align: middle;\n",
       "    }\n",
       "\n",
       "    .dataframe tbody tr th {\n",
       "        vertical-align: top;\n",
       "    }\n",
       "\n",
       "    .dataframe thead th {\n",
       "        text-align: right;\n",
       "    }\n",
       "</style>\n",
       "<table border=\"1\" class=\"dataframe\">\n",
       "  <thead>\n",
       "    <tr style=\"text-align: right;\">\n",
       "      <th></th>\n",
       "      <th>key</th>\n",
       "      <th>variable</th>\n",
       "      <th>value</th>\n",
       "    </tr>\n",
       "  </thead>\n",
       "  <tbody>\n",
       "    <tr>\n",
       "      <th>0</th>\n",
       "      <td>cronet/h2</td>\n",
       "      <td>client_ms</td>\n",
       "      <td>14769.375815</td>\n",
       "    </tr>\n",
       "    <tr>\n",
       "      <th>1</th>\n",
       "      <td>cronet/h2|quic</td>\n",
       "      <td>client_ms</td>\n",
       "      <td>34469.094365</td>\n",
       "    </tr>\n",
       "    <tr>\n",
       "      <th>2</th>\n",
       "      <td>cronet/quic</td>\n",
       "      <td>client_ms</td>\n",
       "      <td>18648.291417</td>\n",
       "    </tr>\n",
       "    <tr>\n",
       "      <th>3</th>\n",
       "      <td>okhttp/h2</td>\n",
       "      <td>client_ms</td>\n",
       "      <td>24087.026557</td>\n",
       "    </tr>\n",
       "    <tr>\n",
       "      <th>4</th>\n",
       "      <td>cronet/h2</td>\n",
       "      <td>server_ms</td>\n",
       "      <td>650.532470</td>\n",
       "    </tr>\n",
       "    <tr>\n",
       "      <th>5</th>\n",
       "      <td>cronet/h2|quic</td>\n",
       "      <td>server_ms</td>\n",
       "      <td>990.743648</td>\n",
       "    </tr>\n",
       "    <tr>\n",
       "      <th>6</th>\n",
       "      <td>cronet/quic</td>\n",
       "      <td>server_ms</td>\n",
       "      <td>850.603328</td>\n",
       "    </tr>\n",
       "    <tr>\n",
       "      <th>7</th>\n",
       "      <td>okhttp/h2</td>\n",
       "      <td>server_ms</td>\n",
       "      <td>800.221141</td>\n",
       "    </tr>\n",
       "  </tbody>\n",
       "</table>\n",
       "</div>"
      ],
      "text/plain": [
       "              key   variable         value\n",
       "0       cronet/h2  client_ms  14769.375815\n",
       "1  cronet/h2|quic  client_ms  34469.094365\n",
       "2     cronet/quic  client_ms  18648.291417\n",
       "3       okhttp/h2  client_ms  24087.026557\n",
       "4       cronet/h2  server_ms    650.532470\n",
       "5  cronet/h2|quic  server_ms    990.743648\n",
       "6     cronet/quic  server_ms    850.603328\n",
       "7       okhttp/h2  server_ms    800.221141"
      ]
     },
     "execution_count": 404,
     "metadata": {},
     "output_type": "execute_result"
    }
   ],
   "source": [
    "df3"
   ]
  },
  {
   "cell_type": "code",
   "execution_count": 418,
   "metadata": {
    "collapsed": false
   },
   "outputs": [
    {
     "data": {
      "image/png": "[encoded data removed]",
      "text/plain": [
       "<Figure size 1000x600 with 2 Axes>"
      ]
     },
     "metadata": {},
     "output_type": "display_data"
    },
    {
     "data": {
      "text/plain": [
       "<ggplot: (8753922732973)>"
      ]
     },
     "execution_count": 418,
     "metadata": {},
     "output_type": "execute_result"
    }
   ],
   "source": [
    "(\n",
    "    ggplot(df3, aes(x='key', y='value'))\n",
    "    + geom_bar(aes(fill='key'), stat='identity', position='dodge')\n",
    "    + facet_wrap(\"~variable\", scales='free')\n",
    "    + theme_matplotlib()\n",
    "    + theme(axis_text_x=element_text(rotation=45, hjust=1), figure_size=(10, 6))\n",
    "\n",
    ")"
   ]
  },
  {
   "cell_type": "markdown",
   "metadata": {},
   "source": [
    "### Observe Trend of Sessions For Different Protocols"
   ]
  },
  {
   "cell_type": "code",
   "execution_count": 207,
   "metadata": {
    "collapsed": false
   },
   "outputs": [
    {
     "data": {
      "text/html": [
       "<style  type=\"text/css\" >\n",
       "</style>  \n",
       "<table id=\"T_8e095ed8_f795_11e8_8521_ec0d9a2e0810\" > \n",
       "<thead>    <tr> \n",
       "        <th class=\"blank level0\" ></th> \n",
       "        <th class=\"col_heading level0 col0\" >hosts</th> \n",
       "        <th class=\"col_heading level0 col1\" >agents</th> \n",
       "        <th class=\"col_heading level0 col2\" >protocols</th> \n",
       "        <th class=\"col_heading level0 col3\" >intentfulSessions</th> \n",
       "        <th class=\"col_heading level0 col4\" >totalSessions</th> \n",
       "        <th class=\"col_heading level0 col5\" >percentIntentful</th> \n",
       "    </tr></thead> \n",
       "<tbody>    <tr> \n",
       "        <th id=\"T_8e095ed8_f795_11e8_8521_ec0d9a2e0810level0_row0\" class=\"row_heading level0 row0\" >0</th> \n",
       "        <td id=\"T_8e095ed8_f795_11e8_8521_ec0d9a2e0810row0_col0\" class=\"data row0 col0\" >cfe</td> \n",
       "        <td id=\"T_8e095ed8_f795_11e8_8521_ec0d9a2e0810row0_col1\" class=\"data row0 col1\" >cronet</td> \n",
       "        <td id=\"T_8e095ed8_f795_11e8_8521_ec0d9a2e0810row0_col2\" class=\"data row0 col2\" >h2</td> \n",
       "        <td id=\"T_8e095ed8_f795_11e8_8521_ec0d9a2e0810row0_col3\" class=\"data row0 col3\" >549</td> \n",
       "        <td id=\"T_8e095ed8_f795_11e8_8521_ec0d9a2e0810row0_col4\" class=\"data row0 col4\" >21,774</td> \n",
       "        <td id=\"T_8e095ed8_f795_11e8_8521_ec0d9a2e0810row0_col5\" class=\"data row0 col5\" >2.52%</td> \n",
       "    </tr>    <tr> \n",
       "        <th id=\"T_8e095ed8_f795_11e8_8521_ec0d9a2e0810level0_row1\" class=\"row_heading level0 row1\" >1</th> \n",
       "        <td id=\"T_8e095ed8_f795_11e8_8521_ec0d9a2e0810row1_col0\" class=\"data row1 col0\" >cfe</td> \n",
       "        <td id=\"T_8e095ed8_f795_11e8_8521_ec0d9a2e0810row1_col1\" class=\"data row1 col1\" >cronet</td> \n",
       "        <td id=\"T_8e095ed8_f795_11e8_8521_ec0d9a2e0810row1_col2\" class=\"data row1 col2\" >h2|quic</td> \n",
       "        <td id=\"T_8e095ed8_f795_11e8_8521_ec0d9a2e0810row1_col3\" class=\"data row1 col3\" >11,254</td> \n",
       "        <td id=\"T_8e095ed8_f795_11e8_8521_ec0d9a2e0810row1_col4\" class=\"data row1 col4\" >217,740</td> \n",
       "        <td id=\"T_8e095ed8_f795_11e8_8521_ec0d9a2e0810row1_col5\" class=\"data row1 col5\" >5.17%</td> \n",
       "    </tr>    <tr> \n",
       "        <th id=\"T_8e095ed8_f795_11e8_8521_ec0d9a2e0810level0_row2\" class=\"row_heading level0 row2\" >2</th> \n",
       "        <td id=\"T_8e095ed8_f795_11e8_8521_ec0d9a2e0810row2_col0\" class=\"data row2 col0\" >cfe</td> \n",
       "        <td id=\"T_8e095ed8_f795_11e8_8521_ec0d9a2e0810row2_col1\" class=\"data row2 col1\" >cronet</td> \n",
       "        <td id=\"T_8e095ed8_f795_11e8_8521_ec0d9a2e0810row2_col2\" class=\"data row2 col2\" >quic</td> \n",
       "        <td id=\"T_8e095ed8_f795_11e8_8521_ec0d9a2e0810row2_col3\" class=\"data row2 col3\" >10,867</td> \n",
       "        <td id=\"T_8e095ed8_f795_11e8_8521_ec0d9a2e0810row2_col4\" class=\"data row2 col4\" >355,178</td> \n",
       "        <td id=\"T_8e095ed8_f795_11e8_8521_ec0d9a2e0810row2_col5\" class=\"data row2 col5\" >3.06%</td> \n",
       "    </tr></tbody> \n",
       "</table> "
      ],
      "text/plain": [
       "<pandas.io.formats.style.Styler at 0x7f62e8505050>"
      ]
     },
     "execution_count": 207,
     "metadata": {},
     "output_type": "execute_result"
    }
   ],
   "source": [
    "def intentStats(x):\n",
    "    return pd.Series({\n",
    "            'totalSessions': x.shape[0],\n",
    "            'intentfulSessions': x[x.is_intentful].shape[0]\n",
    "        })\n",
    "\n",
    "df = androidExpCities[(androidExpCities.agents == 'cronet') & (androidExpCities.protocols.isin(['h2', 'quic', 'h2|quic']))].groupby(['hosts', 'agents', 'protocols']).apply(intentStats).reset_index()\n",
    "df['percentIntentful'] = df.apply(lambda x: x.intentfulSessions * 1.0 / x.totalSessions, axis=1)\n",
    "df.style.format({\"percentIntentful\": \"{:.2%}\", \"intentfulSessions\": \"{:,}\", \"totalSessions\": \"{:,}\"})"
   ]
  },
  {
   "cell_type": "code",
   "execution_count": 208,
   "metadata": {
    "collapsed": false
   },
   "outputs": [
    {
     "name": "stderr",
     "output_type": "stream",
     "text": [
      "/var/cache/udocker/phoenix-worker/beta/python2/plotnine/stats/smoothers.py:150: UserWarning: Confidence intervals are not yet implementedfor lowess smoothings.\n",
      "  warnings.warn(\"Confidence intervals are not yet implemented\"\n",
      "/var/cache/udocker/phoenix-worker/beta/python2/plotnine/stats/smoothers.py:150: UserWarning: Confidence intervals are not yet implementedfor lowess smoothings.\n",
      "  warnings.warn(\"Confidence intervals are not yet implemented\"\n",
      "/var/cache/udocker/phoenix-worker/beta/python2/plotnine/stats/smoothers.py:150: UserWarning: Confidence intervals are not yet implementedfor lowess smoothings.\n",
      "  warnings.warn(\"Confidence intervals are not yet implemented\"\n"
     ]
    },
    {
     "data": {
      "image/png": "[encoded data removed]",
      "text/plain": [
       "<Figure size 2000x800 with 1 Axes>"
      ]
     },
     "metadata": {},
     "output_type": "display_data"
    },
    {
     "data": {
      "text/plain": [
       "<ggplot: (8754081643193)>"
      ]
     },
     "execution_count": 208,
     "metadata": {},
     "output_type": "execute_result"
    }
   ],
   "source": [
    "df = androidExpCities[(androidExpCities.agents == 'cronet') & (androidExpCities.protocols.isin(['h2', 'quic', 'h2|quic']))].assign(key=lambda x: \"{}/{}\".format(x.agents, x.protocols))\n",
    "df1 = PerGroupCount(df, ['datestr', 'agents', 'protocols'], 'protocolCnt')\n",
    "df2 = PerGroupCount(df, ['datestr', 'agents'], 'libraryCnt')\n",
    "df3 = df1.merge(df2, on=['datestr', 'agents']).assign(per=lambda x: x.protocolCnt / x.libraryCnt)\n",
    "df3['key'] = df3.apply(lambda x: \"{}/{}\".format(x.agents, x.protocols), axis=1)\n",
    "(\n",
    "    ggplot(df3, aes(x='datestr', y='per'))\n",
    "    + geom_line(aes(colour='key', group='key'), alpha=0.5)\n",
    "    + geom_smooth(aes(group='key', colour='key'), linetype='dashed', size=2)\n",
    "    + theme_minimal()\n",
    "    + theme(axis_text_x=element_text(rotation=90, hjust=1), figure_size=(20, 8))\n",
    "    + xlab(\"Date\") + ylab(\"Percentage of Sessions Using Cronet Library\")\n",
    ")\n"
   ]
  },
  {
   "cell_type": "code",
   "execution_count": 220,
   "metadata": {
    "collapsed": false,
    "scrolled": true
   },
   "outputs": [
    {
     "name": "stderr",
     "output_type": "stream",
     "text": [
      "/var/cache/udocker/phoenix-worker/beta/python2/plotnine/stats/smoothers.py:150: UserWarning: Confidence intervals are not yet implementedfor lowess smoothings.\n",
      "  warnings.warn(\"Confidence intervals are not yet implemented\"\n"
     ]
    },
    {
     "data": {
      "image/png": "[encoded data removed]",
      "text/plain": [
       "<Figure size 2000x800 with 1 Axes>"
      ]
     },
     "metadata": {},
     "output_type": "display_data"
    },
    {
     "data": {
      "text/plain": [
       "<ggplot: (8754081720217)>"
      ]
     },
     "execution_count": 220,
     "metadata": {},
     "output_type": "execute_result"
    }
   ],
   "source": [
    "df = androidExpCities[(androidExpCities.agents == 'cronet') & (androidExpCities.protocols.isin(['h2', 'quic', 'h2|quic']))]\n",
    "df = df.groupby(['datestr']).apply(lambda x: pd.Series({\n",
    "            'conversion': x[x.n_completed == 1].shape[0] * 100.0 / x.shape[0]\n",
    "        })).reset_index()\n",
    "(\n",
    "    ggplot(df, aes(x='datestr',  y='conversion'))\n",
    "    + geom_line(aes(group=1), alpha=0.5)\n",
    "    + geom_smooth(aes(group=1), linetype='dashed', size=2)\n",
    "    + theme_minimal()\n",
    "    + theme(axis_text_x=element_text(rotation=90, hjust=1), figure_size=(20, 8))\n",
    "    + xlab(\"Date\") + ylab(\"Conversion Rate\")\n",
    "\n",
    ")"
   ]
  },
  {
   "cell_type": "markdown",
   "metadata": {},
   "source": [
    "## User Behavior"
   ]
  },
  {
   "cell_type": "code",
   "execution_count": 498,
   "metadata": {
    "collapsed": false
   },
   "outputs": [],
   "source": [
    "import collections\n",
    "from tqdm import tqdm\n",
    "\n",
    "df = androidExpCities[(androidExpCities.events.apply(len) > 1)].groupby(['agents', 'protocols']).apply(lambda x: x.sample(min(x.shape[0], 20000))).reset_index(drop=True)\n",
    "df['key'] = df.apply(lambda x: \"{}/{}\".format(x.agents, x.protocols), axis=1)\n",
    "df = df[df.key.isin(['cronet/h2|quic', 'cronet/quic', 'okhttp/h2'])]\n",
    "\n",
    "transitionsDict = dict((x, collections.defaultdict(float)) for x in np.unique(df['key']))\n",
    "sourcesDict = dict((x, collections.defaultdict(float)) for x in np.unique(df['key']))\n",
    "# for idx, row in tqdm(df.iterrows(), total=df.shape[0]):\n",
    "for idx, row in df.iterrows():\n",
    "    agent = row['key']\n",
    "    tokens = row.events\n",
    "    source = tokens[0]\n",
    "    for target in tokens[1:]:\n",
    "        transitionsDict[agent][(source, target)] += 1\n",
    "        sourcesDict[agent][source] += 1\n",
    "        source = target"
   ]
  },
  {
   "cell_type": "code",
   "execution_count": 499,
   "metadata": {
    "collapsed": false
   },
   "outputs": [
    {
     "name": "stdout",
     "output_type": "stream",
     "text": [
      "cronet/h2|quic\n",
      "cronet/quic\n",
      "okhttp/h2\n"
     ]
    }
   ],
   "source": [
    "output = []\n",
    "for agent in np.unique(df['key']):\n",
    "    print agent\n",
    "    for t, c in transitionsDict[agent].items():\n",
    "        output.append([agent, t[0], t[1], c, c/sourcesDict[agent][t[0]]])\n",
    "        \n",
    "df = pd.DataFrame(output, columns=['key', 'source', 'target', 'cnt', 'prob'])"
   ]
  },
  {
   "cell_type": "code",
   "execution_count": 500,
   "metadata": {
    "collapsed": false
   },
   "outputs": [],
   "source": [
    "df['sourceName'] = df.source.apply(lambda x: EVENTS[x])\n",
    "df['targetName'] = df.target.apply(lambda x: EVENTS[x])\n",
    "df['label'] = df.prob.apply(lambda x: \"{:.0%}\".format(x))"
   ]
  },
  {
   "cell_type": "code",
   "execution_count": 505,
   "metadata": {
    "collapsed": false
   },
   "outputs": [
    {
     "data": {
      "image/png": "[encoded data removed]",
      "text/plain": [
       "<Figure size 2000x500 with 3 Axes>"
      ]
     },
     "metadata": {},
     "output_type": "display_data"
    },
    {
     "data": {
      "text/plain": [
       "<ggplot: (8754018582241)>"
      ]
     },
     "execution_count": 505,
     "metadata": {},
     "output_type": "execute_result"
    }
   ],
   "source": [
    "(\n",
    "    ggplot(df, aes(x='sourceName', y='targetName'))\n",
    "    + geom_tile(aes(fill='prob'))\n",
    "    + geom_label(aes(label='label'))\n",
    "    + facet_wrap(\"~key\")\n",
    "    + theme_linedraw()\n",
    "    + theme(figure_size=(20, 5), axis_text_x=element_text(rotation=90, hjust=1))\n",
    "    + xlab(\"Source\") + ylab(\"Target\")\n",
    ")"
   ]
  },
  {
   "cell_type": "markdown",
   "metadata": {},
   "source": [
    "### Investiage Transitions From Home Screen"
   ]
  },
  {
   "cell_type": "code",
   "execution_count": 571,
   "metadata": {
    "collapsed": false
   },
   "outputs": [
    {
     "name": "stdout",
     "output_type": "stream",
     "text": [
      "Loading results from cache file: ./qr_cache/a1886825bfd75e38fa95bb49b05c6d43.csv.gz\n"
     ]
    }
   ],
   "source": [
    "%%hive --variable userBehaviorDF --email ragrawal@uber.com --cache --use-cache --large-data\n",
    "\n",
    "WITH stateTime as \n",
    "(\n",
    "    select \n",
    "        session_id\n",
    "        , rider_id \n",
    "        , next_state\n",
    "        , MAX(time_in_state_ms) AS time_in_state_ms\n",
    "        , SIZE(MAX(accelerators)) AS num_accelerators\n",
    "        , SUM(IF(a.is_loaded_from_cache, 1, 0)) AS num_cache\n",
    "    FROM tripex.fact_session_state\n",
    "    LATERAL VIEW OUTER EXPLODE(accelerators) accelerators AS a\n",
    "    WHERE \n",
    "        datestr BETWEEN '2018-10-25' AND '2018-10-28'\n",
    "        and name = 'home_screen'\n",
    "    GROUP BY session_id, rider_id, next_state \n",
    "),\n",
    "\n",
    "\n",
    "sessions AS (\n",
    "    SELECT * \n",
    "    FROM dsp.quic\n",
    "    where \n",
    "        city in ('sao_paulo', 'london', 'los_angeles', 'cairo', 'new_delhi')\n",
    "        AND os_type = 'android'\n",
    "        AND NOT is_admin_user \n",
    "        AND hosts = 'cfe'\n",
    "        AND agents in ('cronet', 'okhttp')\n",
    ")\n",
    "\n",
    "\n",
    "\n",
    "SELECT \n",
    "    r.agents,\n",
    "    r.protocols,\n",
    "    l.*\n",
    "from sessions r \n",
    "join stateTime l \n",
    "ON (\n",
    "    r.session_id = l.session_id \n",
    "    AND r.user_uuid = l.rider_id\n",
    ")\n",
    "\n"
   ]
  },
  {
   "cell_type": "code",
   "execution_count": 572,
   "metadata": {
    "collapsed": false
   },
   "outputs": [],
   "source": [
    "userBehaviorDF.columns = [x.split('.')[1] for x in userBehaviorDF.columns]"
   ]
  },
  {
   "cell_type": "code",
   "execution_count": 573,
   "metadata": {
    "collapsed": false
   },
   "outputs": [],
   "source": [
    "df = userBehaviorDF\n",
    "df['num_accelerators'] = df.num_accelerators.apply(lambda x: x if x >= 0 else 0)\n",
    "df['key'] = df.apply(lambda x: \"{}/{}\".format(x.agents, x.protocols), axis=1)"
   ]
  },
  {
   "cell_type": "code",
   "execution_count": 574,
   "metadata": {
    "collapsed": true
   },
   "outputs": [],
   "source": [
    "df = df[df.key.isin(['cronet/quic', 'cronet/h2|quic', 'okhttp/h2'])].copy()\n",
    "df = df[df.next_state.isin(['confirmation', 'dropoff_edit'])].copy()"
   ]
  },
  {
   "cell_type": "code",
   "execution_count": 590,
   "metadata": {
    "collapsed": false
   },
   "outputs": [],
   "source": [
    "df2 = PerGroupCount(df, ['next_state', 'key','num_accelerators'], 'segmentCount').merge(\n",
    "    PerGroupCount(df, ['next_state', 'key'], 'totalCount'),\n",
    "    on=['key', 'next_state']\n",
    ").assign(\n",
    "    pct = lambda x: x.segmentCount * 1.0 / x.totalCount\n",
    ")"
   ]
  },
  {
   "cell_type": "code",
   "execution_count": 598,
   "metadata": {
    "collapsed": false
   },
   "outputs": [
    {
     "data": {
      "image/png": "[encoded data removed]",
      "text/plain": [
       "<Figure size 1000x800 with 2 Axes>"
      ]
     },
     "metadata": {},
     "output_type": "display_data"
    },
    {
     "data": {
      "text/plain": [
       "<ggplot: (8754031031965)>"
      ]
     },
     "execution_count": 598,
     "metadata": {},
     "output_type": "execute_result"
    }
   ],
   "source": [
    "(\n",
    "    ggplot(df2, aes(x='num_accelerators', y='pct'))\n",
    "    + geom_bar(aes(fill='key'), stat='identity', position='dodge')\n",
    "    + facet_wrap(\"~next_state\", scales='free_y')\n",
    "    + xlab(\"Number of Accelerators\")\n",
    "    + ylab(\"Percentage of Sessions\")\n",
    "    + theme_minimal()\n",
    "    + theme(figure_size=(10, 8))\n",
    "    \n",
    ")"
   ]
  },
  {
   "cell_type": "code",
   "execution_count": 591,
   "metadata": {
    "collapsed": false
   },
   "outputs": [
    {
     "data": {
      "text/html": [
       "<style  type=\"text/css\" >\n",
       "</style>  \n",
       "<table id=\"T_ff383aec_f8f4_11e8_8521_ec0d9a2e0810\" > \n",
       "<thead>    <tr> \n",
       "        <th class=\"blank\" ></th> \n",
       "        <th class=\"index_name level0\" >num_accelerators</th> \n",
       "        <th class=\"col_heading level0 col0\" >0</th> \n",
       "        <th class=\"col_heading level0 col1\" >1</th> \n",
       "        <th class=\"col_heading level0 col2\" >2</th> \n",
       "        <th class=\"col_heading level0 col3\" >3</th> \n",
       "        <th class=\"col_heading level0 col4\" >4</th> \n",
       "        <th class=\"col_heading level0 col5\" >5</th> \n",
       "    </tr>    <tr> \n",
       "        <th class=\"index_name level0\" >next_state</th> \n",
       "        <th class=\"index_name level1\" >key</th> \n",
       "        <th class=\"blank\" ></th> \n",
       "        <th class=\"blank\" ></th> \n",
       "        <th class=\"blank\" ></th> \n",
       "        <th class=\"blank\" ></th> \n",
       "        <th class=\"blank\" ></th> \n",
       "        <th class=\"blank\" ></th> \n",
       "    </tr></thead> \n",
       "<tbody>    <tr> \n",
       "        <th id=\"T_ff383aec_f8f4_11e8_8521_ec0d9a2e0810level0_row0\" class=\"row_heading level0 row0\" rowspan=3>confirmation</th> \n",
       "        <th id=\"T_ff383aec_f8f4_11e8_8521_ec0d9a2e0810level1_row0\" class=\"row_heading level1 row0\" >cronet/h2|quic</th> \n",
       "        <td id=\"T_ff383aec_f8f4_11e8_8521_ec0d9a2e0810row0_col0\" class=\"data row0 col0\" >8.10%</td> \n",
       "        <td id=\"T_ff383aec_f8f4_11e8_8521_ec0d9a2e0810row0_col1\" class=\"data row0 col1\" >6.02%</td> \n",
       "        <td id=\"T_ff383aec_f8f4_11e8_8521_ec0d9a2e0810row0_col2\" class=\"data row0 col2\" >83.44%</td> \n",
       "        <td id=\"T_ff383aec_f8f4_11e8_8521_ec0d9a2e0810row0_col3\" class=\"data row0 col3\" >2.29%</td> \n",
       "        <td id=\"T_ff383aec_f8f4_11e8_8521_ec0d9a2e0810row0_col4\" class=\"data row0 col4\" >0.15%</td> \n",
       "        <td id=\"T_ff383aec_f8f4_11e8_8521_ec0d9a2e0810row0_col5\" class=\"data row0 col5\" >0.00%</td> \n",
       "    </tr>    <tr> \n",
       "        <th id=\"T_ff383aec_f8f4_11e8_8521_ec0d9a2e0810level1_row1\" class=\"row_heading level1 row1\" >cronet/quic</th> \n",
       "        <td id=\"T_ff383aec_f8f4_11e8_8521_ec0d9a2e0810row1_col0\" class=\"data row1 col0\" >3.12%</td> \n",
       "        <td id=\"T_ff383aec_f8f4_11e8_8521_ec0d9a2e0810row1_col1\" class=\"data row1 col1\" >3.85%</td> \n",
       "        <td id=\"T_ff383aec_f8f4_11e8_8521_ec0d9a2e0810row1_col2\" class=\"data row1 col2\" >90.33%</td> \n",
       "        <td id=\"T_ff383aec_f8f4_11e8_8521_ec0d9a2e0810row1_col3\" class=\"data row1 col3\" >2.51%</td> \n",
       "        <td id=\"T_ff383aec_f8f4_11e8_8521_ec0d9a2e0810row1_col4\" class=\"data row1 col4\" >0.19%</td> \n",
       "        <td id=\"T_ff383aec_f8f4_11e8_8521_ec0d9a2e0810row1_col5\" class=\"data row1 col5\" >0.00%</td> \n",
       "    </tr>    <tr> \n",
       "        <th id=\"T_ff383aec_f8f4_11e8_8521_ec0d9a2e0810level1_row2\" class=\"row_heading level1 row2\" >okhttp/h2</th> \n",
       "        <td id=\"T_ff383aec_f8f4_11e8_8521_ec0d9a2e0810row2_col0\" class=\"data row2 col0\" >6.99%</td> \n",
       "        <td id=\"T_ff383aec_f8f4_11e8_8521_ec0d9a2e0810row2_col1\" class=\"data row2 col1\" >5.37%</td> \n",
       "        <td id=\"T_ff383aec_f8f4_11e8_8521_ec0d9a2e0810row2_col2\" class=\"data row2 col2\" >78.17%</td> \n",
       "        <td id=\"T_ff383aec_f8f4_11e8_8521_ec0d9a2e0810row2_col3\" class=\"data row2 col3\" >9.24%</td> \n",
       "        <td id=\"T_ff383aec_f8f4_11e8_8521_ec0d9a2e0810row2_col4\" class=\"data row2 col4\" >0.20%</td> \n",
       "        <td id=\"T_ff383aec_f8f4_11e8_8521_ec0d9a2e0810row2_col5\" class=\"data row2 col5\" >0.02%</td> \n",
       "    </tr>    <tr> \n",
       "        <th id=\"T_ff383aec_f8f4_11e8_8521_ec0d9a2e0810level0_row3\" class=\"row_heading level0 row3\" rowspan=3>dropoff_edit</th> \n",
       "        <th id=\"T_ff383aec_f8f4_11e8_8521_ec0d9a2e0810level1_row3\" class=\"row_heading level1 row3\" >cronet/h2|quic</th> \n",
       "        <td id=\"T_ff383aec_f8f4_11e8_8521_ec0d9a2e0810row3_col0\" class=\"data row3 col0\" >48.19%</td> \n",
       "        <td id=\"T_ff383aec_f8f4_11e8_8521_ec0d9a2e0810row3_col1\" class=\"data row3 col1\" >3.92%</td> \n",
       "        <td id=\"T_ff383aec_f8f4_11e8_8521_ec0d9a2e0810row3_col2\" class=\"data row3 col2\" >46.46%</td> \n",
       "        <td id=\"T_ff383aec_f8f4_11e8_8521_ec0d9a2e0810row3_col3\" class=\"data row3 col3\" >1.35%</td> \n",
       "        <td id=\"T_ff383aec_f8f4_11e8_8521_ec0d9a2e0810row3_col4\" class=\"data row3 col4\" >0.08%</td> \n",
       "        <td id=\"T_ff383aec_f8f4_11e8_8521_ec0d9a2e0810row3_col5\" class=\"data row3 col5\" >0.00%</td> \n",
       "    </tr>    <tr> \n",
       "        <th id=\"T_ff383aec_f8f4_11e8_8521_ec0d9a2e0810level1_row4\" class=\"row_heading level1 row4\" >cronet/quic</th> \n",
       "        <td id=\"T_ff383aec_f8f4_11e8_8521_ec0d9a2e0810row4_col0\" class=\"data row4 col0\" >35.14%</td> \n",
       "        <td id=\"T_ff383aec_f8f4_11e8_8521_ec0d9a2e0810row4_col1\" class=\"data row4 col1\" >3.63%</td> \n",
       "        <td id=\"T_ff383aec_f8f4_11e8_8521_ec0d9a2e0810row4_col2\" class=\"data row4 col2\" >59.17%</td> \n",
       "        <td id=\"T_ff383aec_f8f4_11e8_8521_ec0d9a2e0810row4_col3\" class=\"data row4 col3\" >1.89%</td> \n",
       "        <td id=\"T_ff383aec_f8f4_11e8_8521_ec0d9a2e0810row4_col4\" class=\"data row4 col4\" >0.17%</td> \n",
       "        <td id=\"T_ff383aec_f8f4_11e8_8521_ec0d9a2e0810row4_col5\" class=\"data row4 col5\" >0.00%</td> \n",
       "    </tr>    <tr> \n",
       "        <th id=\"T_ff383aec_f8f4_11e8_8521_ec0d9a2e0810level1_row5\" class=\"row_heading level1 row5\" >okhttp/h2</th> \n",
       "        <td id=\"T_ff383aec_f8f4_11e8_8521_ec0d9a2e0810row5_col0\" class=\"data row5 col0\" >46.73%</td> \n",
       "        <td id=\"T_ff383aec_f8f4_11e8_8521_ec0d9a2e0810row5_col1\" class=\"data row5 col1\" >4.16%</td> \n",
       "        <td id=\"T_ff383aec_f8f4_11e8_8521_ec0d9a2e0810row5_col2\" class=\"data row5 col2\" >43.30%</td> \n",
       "        <td id=\"T_ff383aec_f8f4_11e8_8521_ec0d9a2e0810row5_col3\" class=\"data row5 col3\" >5.66%</td> \n",
       "        <td id=\"T_ff383aec_f8f4_11e8_8521_ec0d9a2e0810row5_col4\" class=\"data row5 col4\" >0.14%</td> \n",
       "        <td id=\"T_ff383aec_f8f4_11e8_8521_ec0d9a2e0810row5_col5\" class=\"data row5 col5\" >0.00%</td> \n",
       "    </tr></tbody> \n",
       "</table> "
      ],
      "text/plain": [
       "<pandas.io.formats.style.Styler at 0x7f63444d7350>"
      ]
     },
     "execution_count": 591,
     "metadata": {},
     "output_type": "execute_result"
    }
   ],
   "source": [
    "df2.pivot_table(\n",
    "    index=['next_state', 'key'], columns='num_accelerators', values='pct'\n",
    ").fillna(0).style.format(\"{:.2%}\")\n",
    "    "
   ]
  },
  {
   "cell_type": "code",
   "execution_count": 581,
   "metadata": {
    "collapsed": false
   },
   "outputs": [
    {
     "ename": "PlotnineError",
     "evalue": "u'stat_boxplot requires the following missing aesthetics: y'",
     "output_type": "error",
     "traceback": [
      "\u001b[0;31m\u001b[0m",
      "\u001b[0;31mPlotnineError\u001b[0mTraceback (most recent call last)",
      "\u001b[0;32m/home/udocker/phoenix-worker/environments/python2/local/lib/python2.7/site-packages/IPython/core/formatters.pyc\u001b[0m in \u001b[0;36m__call__\u001b[0;34m(self, obj)\u001b[0m\n\u001b[1;32m    697\u001b[0m                 \u001b[0mtype_pprinters\u001b[0m\u001b[0;34m=\u001b[0m\u001b[0mself\u001b[0m\u001b[0;34m.\u001b[0m\u001b[0mtype_printers\u001b[0m\u001b[0;34m,\u001b[0m\u001b[0;34m\u001b[0m\u001b[0m\n\u001b[1;32m    698\u001b[0m                 deferred_pprinters=self.deferred_printers)\n\u001b[0;32m--> 699\u001b[0;31m             \u001b[0mprinter\u001b[0m\u001b[0;34m.\u001b[0m\u001b[0mpretty\u001b[0m\u001b[0;34m(\u001b[0m\u001b[0mobj\u001b[0m\u001b[0;34m)\u001b[0m\u001b[0;34m\u001b[0m\u001b[0m\n\u001b[0m\u001b[1;32m    700\u001b[0m             \u001b[0mprinter\u001b[0m\u001b[0;34m.\u001b[0m\u001b[0mflush\u001b[0m\u001b[0;34m(\u001b[0m\u001b[0;34m)\u001b[0m\u001b[0;34m\u001b[0m\u001b[0m\n\u001b[1;32m    701\u001b[0m             \u001b[0;32mreturn\u001b[0m \u001b[0mstream\u001b[0m\u001b[0;34m.\u001b[0m\u001b[0mgetvalue\u001b[0m\u001b[0;34m(\u001b[0m\u001b[0;34m)\u001b[0m\u001b[0;34m\u001b[0m\u001b[0m\n",
      "\u001b[0;32m/home/udocker/phoenix-worker/environments/python2/local/lib/python2.7/site-packages/IPython/lib/pretty.pyc\u001b[0m in \u001b[0;36mpretty\u001b[0;34m(self, obj)\u001b[0m\n\u001b[1;32m    381\u001b[0m                             \u001b[0;32mif\u001b[0m \u001b[0mcallable\u001b[0m\u001b[0;34m(\u001b[0m\u001b[0mmeth\u001b[0m\u001b[0;34m)\u001b[0m\u001b[0;34m:\u001b[0m\u001b[0;34m\u001b[0m\u001b[0m\n\u001b[1;32m    382\u001b[0m                                 \u001b[0;32mreturn\u001b[0m \u001b[0mmeth\u001b[0m\u001b[0;34m(\u001b[0m\u001b[0mobj\u001b[0m\u001b[0;34m,\u001b[0m \u001b[0mself\u001b[0m\u001b[0;34m,\u001b[0m \u001b[0mcycle\u001b[0m\u001b[0;34m)\u001b[0m\u001b[0;34m\u001b[0m\u001b[0m\n\u001b[0;32m--> 383\u001b[0;31m             \u001b[0;32mreturn\u001b[0m \u001b[0m_default_pprint\u001b[0m\u001b[0;34m(\u001b[0m\u001b[0mobj\u001b[0m\u001b[0;34m,\u001b[0m \u001b[0mself\u001b[0m\u001b[0;34m,\u001b[0m \u001b[0mcycle\u001b[0m\u001b[0;34m)\u001b[0m\u001b[0;34m\u001b[0m\u001b[0m\n\u001b[0m\u001b[1;32m    384\u001b[0m         \u001b[0;32mfinally\u001b[0m\u001b[0;34m:\u001b[0m\u001b[0;34m\u001b[0m\u001b[0m\n\u001b[1;32m    385\u001b[0m             \u001b[0mself\u001b[0m\u001b[0;34m.\u001b[0m\u001b[0mend_group\u001b[0m\u001b[0;34m(\u001b[0m\u001b[0;34m)\u001b[0m\u001b[0;34m\u001b[0m\u001b[0m\n",
      "\u001b[0;32m/home/udocker/phoenix-worker/environments/python2/local/lib/python2.7/site-packages/IPython/lib/pretty.pyc\u001b[0m in \u001b[0;36m_default_pprint\u001b[0;34m(obj, p, cycle)\u001b[0m\n\u001b[1;32m    501\u001b[0m     \u001b[0;32mif\u001b[0m \u001b[0m_safe_getattr\u001b[0m\u001b[0;34m(\u001b[0m\u001b[0mklass\u001b[0m\u001b[0;34m,\u001b[0m \u001b[0;34m'__repr__'\u001b[0m\u001b[0;34m,\u001b[0m \u001b[0mNone\u001b[0m\u001b[0;34m)\u001b[0m \u001b[0;32mnot\u001b[0m \u001b[0;32min\u001b[0m \u001b[0m_baseclass_reprs\u001b[0m\u001b[0;34m:\u001b[0m\u001b[0;34m\u001b[0m\u001b[0m\n\u001b[1;32m    502\u001b[0m         \u001b[0;31m# A user-provided repr. Find newlines and replace them with p.break_()\u001b[0m\u001b[0;34m\u001b[0m\u001b[0;34m\u001b[0m\u001b[0m\n\u001b[0;32m--> 503\u001b[0;31m         \u001b[0m_repr_pprint\u001b[0m\u001b[0;34m(\u001b[0m\u001b[0mobj\u001b[0m\u001b[0;34m,\u001b[0m \u001b[0mp\u001b[0m\u001b[0;34m,\u001b[0m \u001b[0mcycle\u001b[0m\u001b[0;34m)\u001b[0m\u001b[0;34m\u001b[0m\u001b[0m\n\u001b[0m\u001b[1;32m    504\u001b[0m         \u001b[0;32mreturn\u001b[0m\u001b[0;34m\u001b[0m\u001b[0m\n\u001b[1;32m    505\u001b[0m     \u001b[0mp\u001b[0m\u001b[0;34m.\u001b[0m\u001b[0mbegin_group\u001b[0m\u001b[0;34m(\u001b[0m\u001b[0;36m1\u001b[0m\u001b[0;34m,\u001b[0m \u001b[0;34m'<'\u001b[0m\u001b[0;34m)\u001b[0m\u001b[0;34m\u001b[0m\u001b[0m\n",
      "\u001b[0;32m/home/udocker/phoenix-worker/environments/python2/local/lib/python2.7/site-packages/IPython/lib/pretty.pyc\u001b[0m in \u001b[0;36m_repr_pprint\u001b[0;34m(obj, p, cycle)\u001b[0m\n\u001b[1;32m    699\u001b[0m     \u001b[0;34m\"\"\"A pprint that just redirects to the normal repr function.\"\"\"\u001b[0m\u001b[0;34m\u001b[0m\u001b[0m\n\u001b[1;32m    700\u001b[0m     \u001b[0;31m# Find newlines and replace them with p.break_()\u001b[0m\u001b[0;34m\u001b[0m\u001b[0;34m\u001b[0m\u001b[0m\n\u001b[0;32m--> 701\u001b[0;31m     \u001b[0moutput\u001b[0m \u001b[0;34m=\u001b[0m \u001b[0mrepr\u001b[0m\u001b[0;34m(\u001b[0m\u001b[0mobj\u001b[0m\u001b[0;34m)\u001b[0m\u001b[0;34m\u001b[0m\u001b[0m\n\u001b[0m\u001b[1;32m    702\u001b[0m     \u001b[0;32mfor\u001b[0m \u001b[0midx\u001b[0m\u001b[0;34m,\u001b[0m\u001b[0moutput_line\u001b[0m \u001b[0;32min\u001b[0m \u001b[0menumerate\u001b[0m\u001b[0;34m(\u001b[0m\u001b[0moutput\u001b[0m\u001b[0;34m.\u001b[0m\u001b[0msplitlines\u001b[0m\u001b[0;34m(\u001b[0m\u001b[0;34m)\u001b[0m\u001b[0;34m)\u001b[0m\u001b[0;34m:\u001b[0m\u001b[0;34m\u001b[0m\u001b[0m\n\u001b[1;32m    703\u001b[0m         \u001b[0;32mif\u001b[0m \u001b[0midx\u001b[0m\u001b[0;34m:\u001b[0m\u001b[0;34m\u001b[0m\u001b[0m\n",
      "\u001b[0;32m/var/cache/udocker/phoenix-worker/beta/python2/plotnine/ggplot.pyc\u001b[0m in \u001b[0;36m__repr__\u001b[0;34m(self)\u001b[0m\n\u001b[1;32m     95\u001b[0m         \u001b[0;31m# in the jupyter notebook.\u001b[0m\u001b[0;34m\u001b[0m\u001b[0;34m\u001b[0m\u001b[0m\n\u001b[1;32m     96\u001b[0m         \u001b[0;32mif\u001b[0m \u001b[0;32mnot\u001b[0m \u001b[0mself\u001b[0m\u001b[0;34m.\u001b[0m\u001b[0mfigure\u001b[0m\u001b[0;34m:\u001b[0m\u001b[0;34m\u001b[0m\u001b[0m\n\u001b[0;32m---> 97\u001b[0;31m             \u001b[0mself\u001b[0m\u001b[0;34m.\u001b[0m\u001b[0mdraw\u001b[0m\u001b[0;34m(\u001b[0m\u001b[0;34m)\u001b[0m\u001b[0;34m\u001b[0m\u001b[0m\n\u001b[0m\u001b[1;32m     98\u001b[0m         \u001b[0mplt\u001b[0m\u001b[0;34m.\u001b[0m\u001b[0mshow\u001b[0m\u001b[0;34m(\u001b[0m\u001b[0;34m)\u001b[0m\u001b[0;34m\u001b[0m\u001b[0m\n\u001b[1;32m     99\u001b[0m         \u001b[0;32mreturn\u001b[0m \u001b[0;34m'<ggplot: (%d)>'\u001b[0m \u001b[0;34m%\u001b[0m \u001b[0mself\u001b[0m\u001b[0;34m.\u001b[0m\u001b[0m__hash__\u001b[0m\u001b[0;34m(\u001b[0m\u001b[0;34m)\u001b[0m\u001b[0;34m\u001b[0m\u001b[0m\n",
      "\u001b[0;32m/var/cache/udocker/phoenix-worker/beta/python2/plotnine/ggplot.pyc\u001b[0m in \u001b[0;36mdraw\u001b[0;34m(self, return_ggplot)\u001b[0m\n\u001b[1;32m    188\u001b[0m         \u001b[0;31m# new frames knowing that they are separate from the original.\u001b[0m\u001b[0;34m\u001b[0m\u001b[0;34m\u001b[0m\u001b[0m\n\u001b[1;32m    189\u001b[0m         \u001b[0;32mwith\u001b[0m \u001b[0mpd\u001b[0m\u001b[0;34m.\u001b[0m\u001b[0moption_context\u001b[0m\u001b[0;34m(\u001b[0m\u001b[0;34m'mode.chained_assignment'\u001b[0m\u001b[0;34m,\u001b[0m \u001b[0mNone\u001b[0m\u001b[0;34m)\u001b[0m\u001b[0;34m:\u001b[0m\u001b[0;34m\u001b[0m\u001b[0m\n\u001b[0;32m--> 190\u001b[0;31m             \u001b[0;32mreturn\u001b[0m \u001b[0mself\u001b[0m\u001b[0;34m.\u001b[0m\u001b[0m_draw\u001b[0m\u001b[0;34m(\u001b[0m\u001b[0mreturn_ggplot\u001b[0m\u001b[0;34m)\u001b[0m\u001b[0;34m\u001b[0m\u001b[0m\n\u001b[0m\u001b[1;32m    191\u001b[0m \u001b[0;34m\u001b[0m\u001b[0m\n\u001b[1;32m    192\u001b[0m     \u001b[0;32mdef\u001b[0m \u001b[0m_draw\u001b[0m\u001b[0;34m(\u001b[0m\u001b[0mself\u001b[0m\u001b[0;34m,\u001b[0m \u001b[0mreturn_ggplot\u001b[0m\u001b[0;34m=\u001b[0m\u001b[0mFalse\u001b[0m\u001b[0;34m)\u001b[0m\u001b[0;34m:\u001b[0m\u001b[0;34m\u001b[0m\u001b[0m\n",
      "\u001b[0;32m/var/cache/udocker/phoenix-worker/beta/python2/plotnine/ggplot.pyc\u001b[0m in \u001b[0;36m_draw\u001b[0;34m(self, return_ggplot)\u001b[0m\n\u001b[1;32m    195\u001b[0m         \u001b[0;31m# assign a default theme\u001b[0m\u001b[0;34m\u001b[0m\u001b[0;34m\u001b[0m\u001b[0m\n\u001b[1;32m    196\u001b[0m         \u001b[0mself\u001b[0m \u001b[0;34m=\u001b[0m \u001b[0mdeepcopy\u001b[0m\u001b[0;34m(\u001b[0m\u001b[0mself\u001b[0m\u001b[0;34m)\u001b[0m\u001b[0;34m\u001b[0m\u001b[0m\n\u001b[0;32m--> 197\u001b[0;31m         \u001b[0mself\u001b[0m\u001b[0;34m.\u001b[0m\u001b[0m_build\u001b[0m\u001b[0;34m(\u001b[0m\u001b[0;34m)\u001b[0m\u001b[0;34m\u001b[0m\u001b[0m\n\u001b[0m\u001b[1;32m    198\u001b[0m \u001b[0;34m\u001b[0m\u001b[0m\n\u001b[1;32m    199\u001b[0m         \u001b[0;31m# If no theme we use the default\u001b[0m\u001b[0;34m\u001b[0m\u001b[0;34m\u001b[0m\u001b[0m\n",
      "\u001b[0;32m/var/cache/udocker/phoenix-worker/beta/python2/plotnine/ggplot.pyc\u001b[0m in \u001b[0;36m_build\u001b[0;34m(self)\u001b[0m\n\u001b[1;32m    303\u001b[0m \u001b[0;34m\u001b[0m\u001b[0m\n\u001b[1;32m    304\u001b[0m         \u001b[0;31m# Apply and map statistics\u001b[0m\u001b[0;34m\u001b[0m\u001b[0;34m\u001b[0m\u001b[0m\n\u001b[0;32m--> 305\u001b[0;31m         \u001b[0mlayers\u001b[0m\u001b[0;34m.\u001b[0m\u001b[0mcompute_statistic\u001b[0m\u001b[0;34m(\u001b[0m\u001b[0mlayout\u001b[0m\u001b[0;34m)\u001b[0m\u001b[0;34m\u001b[0m\u001b[0m\n\u001b[0m\u001b[1;32m    306\u001b[0m         \u001b[0mlayers\u001b[0m\u001b[0;34m.\u001b[0m\u001b[0mmap_statistic\u001b[0m\u001b[0;34m(\u001b[0m\u001b[0mself\u001b[0m\u001b[0;34m)\u001b[0m\u001b[0;34m\u001b[0m\u001b[0m\n\u001b[1;32m    307\u001b[0m \u001b[0;34m\u001b[0m\u001b[0m\n",
      "\u001b[0;32m/var/cache/udocker/phoenix-worker/beta/python2/plotnine/layer.pyc\u001b[0m in \u001b[0;36mcompute_statistic\u001b[0;34m(self, layout)\u001b[0m\n\u001b[1;32m     85\u001b[0m     \u001b[0;32mdef\u001b[0m \u001b[0mcompute_statistic\u001b[0m\u001b[0;34m(\u001b[0m\u001b[0mself\u001b[0m\u001b[0;34m,\u001b[0m \u001b[0mlayout\u001b[0m\u001b[0;34m)\u001b[0m\u001b[0;34m:\u001b[0m\u001b[0;34m\u001b[0m\u001b[0m\n\u001b[1;32m     86\u001b[0m         \u001b[0;32mfor\u001b[0m \u001b[0ml\u001b[0m \u001b[0;32min\u001b[0m \u001b[0mself\u001b[0m\u001b[0;34m:\u001b[0m\u001b[0;34m\u001b[0m\u001b[0m\n\u001b[0;32m---> 87\u001b[0;31m             \u001b[0ml\u001b[0m\u001b[0;34m.\u001b[0m\u001b[0mcompute_statistic\u001b[0m\u001b[0;34m(\u001b[0m\u001b[0mlayout\u001b[0m\u001b[0;34m)\u001b[0m\u001b[0;34m\u001b[0m\u001b[0m\n\u001b[0m\u001b[1;32m     88\u001b[0m \u001b[0;34m\u001b[0m\u001b[0m\n\u001b[1;32m     89\u001b[0m     \u001b[0;32mdef\u001b[0m \u001b[0mmap_statistic\u001b[0m\u001b[0;34m(\u001b[0m\u001b[0mself\u001b[0m\u001b[0;34m,\u001b[0m \u001b[0mplot\u001b[0m\u001b[0;34m)\u001b[0m\u001b[0;34m:\u001b[0m\u001b[0;34m\u001b[0m\u001b[0m\n",
      "\u001b[0;32m/var/cache/udocker/phoenix-worker/beta/python2/plotnine/layer.pyc\u001b[0m in \u001b[0;36mcompute_statistic\u001b[0;34m(self, layout)\u001b[0m\n\u001b[1;32m    361\u001b[0m         \u001b[0mdata\u001b[0m \u001b[0;34m=\u001b[0m \u001b[0mself\u001b[0m\u001b[0;34m.\u001b[0m\u001b[0mstat\u001b[0m\u001b[0;34m.\u001b[0m\u001b[0muse_defaults\u001b[0m\u001b[0;34m(\u001b[0m\u001b[0mdata\u001b[0m\u001b[0;34m)\u001b[0m\u001b[0;34m\u001b[0m\u001b[0m\n\u001b[1;32m    362\u001b[0m         \u001b[0mdata\u001b[0m \u001b[0;34m=\u001b[0m \u001b[0mself\u001b[0m\u001b[0;34m.\u001b[0m\u001b[0mstat\u001b[0m\u001b[0;34m.\u001b[0m\u001b[0msetup_data\u001b[0m\u001b[0;34m(\u001b[0m\u001b[0mdata\u001b[0m\u001b[0;34m)\u001b[0m\u001b[0;34m\u001b[0m\u001b[0m\n\u001b[0;32m--> 363\u001b[0;31m         \u001b[0mdata\u001b[0m \u001b[0;34m=\u001b[0m \u001b[0mself\u001b[0m\u001b[0;34m.\u001b[0m\u001b[0mstat\u001b[0m\u001b[0;34m.\u001b[0m\u001b[0mcompute_layer\u001b[0m\u001b[0;34m(\u001b[0m\u001b[0mdata\u001b[0m\u001b[0;34m,\u001b[0m \u001b[0mparams\u001b[0m\u001b[0;34m,\u001b[0m \u001b[0mlayout\u001b[0m\u001b[0;34m)\u001b[0m\u001b[0;34m\u001b[0m\u001b[0m\n\u001b[0m\u001b[1;32m    364\u001b[0m         \u001b[0mself\u001b[0m\u001b[0;34m.\u001b[0m\u001b[0mdata\u001b[0m \u001b[0;34m=\u001b[0m \u001b[0mdata\u001b[0m\u001b[0;34m\u001b[0m\u001b[0m\n\u001b[1;32m    365\u001b[0m \u001b[0;34m\u001b[0m\u001b[0m\n",
      "\u001b[0;32m/var/cache/udocker/phoenix-worker/beta/python2/plotnine/stats/stat.pyc\u001b[0m in \u001b[0;36mcompute_layer\u001b[0;34m(cls, data, params, layout)\u001b[0m\n\u001b[1;32m    249\u001b[0m             \u001b[0mcls\u001b[0m\u001b[0;34m.\u001b[0m\u001b[0mREQUIRED_AES\u001b[0m\u001b[0;34m,\u001b[0m\u001b[0;34m\u001b[0m\u001b[0m\n\u001b[1;32m    250\u001b[0m             \u001b[0mlist\u001b[0m\u001b[0;34m(\u001b[0m\u001b[0mdata\u001b[0m\u001b[0;34m.\u001b[0m\u001b[0mcolumns\u001b[0m\u001b[0;34m)\u001b[0m \u001b[0;34m+\u001b[0m \u001b[0mlist\u001b[0m\u001b[0;34m(\u001b[0m\u001b[0mparams\u001b[0m\u001b[0;34m.\u001b[0m\u001b[0mkeys\u001b[0m\u001b[0;34m(\u001b[0m\u001b[0;34m)\u001b[0m\u001b[0;34m)\u001b[0m\u001b[0;34m,\u001b[0m\u001b[0;34m\u001b[0m\u001b[0m\n\u001b[0;32m--> 251\u001b[0;31m             cls.__name__)\n\u001b[0m\u001b[1;32m    252\u001b[0m \u001b[0;34m\u001b[0m\u001b[0m\n\u001b[1;32m    253\u001b[0m         data = remove_missing(\n",
      "\u001b[0;32m/var/cache/udocker/phoenix-worker/beta/python2/plotnine/utils.pyc\u001b[0m in \u001b[0;36mcheck_required_aesthetics\u001b[0;34m(required, present, name)\u001b[0m\n\u001b[1;32m    385\u001b[0m         \u001b[0mmsg\u001b[0m \u001b[0;34m=\u001b[0m \u001b[0;34m'{} requires the following missing aesthetics: {}'\u001b[0m\u001b[0;34m\u001b[0m\u001b[0m\n\u001b[1;32m    386\u001b[0m         raise PlotnineError(\n\u001b[0;32m--> 387\u001b[0;31m             msg.format(name, ', '.join(missing_aes)))\n\u001b[0m\u001b[1;32m    388\u001b[0m \u001b[0;34m\u001b[0m\u001b[0m\n\u001b[1;32m    389\u001b[0m \u001b[0;34m\u001b[0m\u001b[0m\n",
      "\u001b[0;31mPlotnineError\u001b[0m: u'stat_boxplot requires the following missing aesthetics: y'"
     ]
    }
   ],
   "source": [
    "(\n",
    "    ggplot(df[df.next_state == 'confirmation'], aes(x='num_ac'))\n",
    "    + geom_()\n",
    ")"
   ]
  },
  {
   "cell_type": "code",
   "execution_count": 533,
   "metadata": {
    "collapsed": false
   },
   "outputs": [
    {
     "data": {
      "text/html": [
       "<div>\n",
       "<style scoped>\n",
       "    .dataframe tbody tr th:only-of-type {\n",
       "        vertical-align: middle;\n",
       "    }\n",
       "\n",
       "    .dataframe tbody tr th {\n",
       "        vertical-align: top;\n",
       "    }\n",
       "\n",
       "    .dataframe thead tr th {\n",
       "        text-align: left;\n",
       "    }\n",
       "</style>\n",
       "<table border=\"1\" class=\"dataframe\">\n",
       "  <thead>\n",
       "    <tr>\n",
       "      <th></th>\n",
       "      <th>agents</th>\n",
       "      <th>protocols</th>\n",
       "      <th>next_state</th>\n",
       "      <th colspan=\"8\" halign=\"left\">num_cache</th>\n",
       "    </tr>\n",
       "    <tr>\n",
       "      <th></th>\n",
       "      <th></th>\n",
       "      <th></th>\n",
       "      <th></th>\n",
       "      <th>count</th>\n",
       "      <th>mean</th>\n",
       "      <th>std</th>\n",
       "      <th>min</th>\n",
       "      <th>25%</th>\n",
       "      <th>50%</th>\n",
       "      <th>75%</th>\n",
       "      <th>max</th>\n",
       "    </tr>\n",
       "  </thead>\n",
       "  <tbody>\n",
       "    <tr>\n",
       "      <th>0</th>\n",
       "      <td>cronet</td>\n",
       "      <td>h2|quic</td>\n",
       "      <td>confirmation</td>\n",
       "      <td>6510.0</td>\n",
       "      <td>0.909677</td>\n",
       "      <td>1.716274</td>\n",
       "      <td>0.0</td>\n",
       "      <td>0.0</td>\n",
       "      <td>0.0</td>\n",
       "      <td>2.0</td>\n",
       "      <td>24.0</td>\n",
       "    </tr>\n",
       "    <tr>\n",
       "      <th>2</th>\n",
       "      <td>cronet</td>\n",
       "      <td>quic</td>\n",
       "      <td>confirmation</td>\n",
       "      <td>10230.0</td>\n",
       "      <td>0.938514</td>\n",
       "      <td>1.775622</td>\n",
       "      <td>0.0</td>\n",
       "      <td>0.0</td>\n",
       "      <td>0.0</td>\n",
       "      <td>2.0</td>\n",
       "      <td>45.0</td>\n",
       "    </tr>\n",
       "    <tr>\n",
       "      <th>4</th>\n",
       "      <td>okhttp</td>\n",
       "      <td>h2</td>\n",
       "      <td>confirmation</td>\n",
       "      <td>23442.0</td>\n",
       "      <td>0.914896</td>\n",
       "      <td>2.128755</td>\n",
       "      <td>0.0</td>\n",
       "      <td>0.0</td>\n",
       "      <td>0.0</td>\n",
       "      <td>2.0</td>\n",
       "      <td>72.0</td>\n",
       "    </tr>\n",
       "    <tr>\n",
       "      <th>1</th>\n",
       "      <td>cronet</td>\n",
       "      <td>h2|quic</td>\n",
       "      <td>dropoff_edit</td>\n",
       "      <td>24774.0</td>\n",
       "      <td>0.560063</td>\n",
       "      <td>1.577377</td>\n",
       "      <td>0.0</td>\n",
       "      <td>0.0</td>\n",
       "      <td>0.0</td>\n",
       "      <td>0.0</td>\n",
       "      <td>60.0</td>\n",
       "    </tr>\n",
       "    <tr>\n",
       "      <th>3</th>\n",
       "      <td>cronet</td>\n",
       "      <td>quic</td>\n",
       "      <td>dropoff_edit</td>\n",
       "      <td>30422.0</td>\n",
       "      <td>0.654296</td>\n",
       "      <td>1.577275</td>\n",
       "      <td>0.0</td>\n",
       "      <td>0.0</td>\n",
       "      <td>0.0</td>\n",
       "      <td>0.0</td>\n",
       "      <td>42.0</td>\n",
       "    </tr>\n",
       "    <tr>\n",
       "      <th>5</th>\n",
       "      <td>okhttp</td>\n",
       "      <td>h2</td>\n",
       "      <td>dropoff_edit</td>\n",
       "      <td>86919.0</td>\n",
       "      <td>0.557208</td>\n",
       "      <td>1.770143</td>\n",
       "      <td>0.0</td>\n",
       "      <td>0.0</td>\n",
       "      <td>0.0</td>\n",
       "      <td>0.0</td>\n",
       "      <td>96.0</td>\n",
       "    </tr>\n",
       "  </tbody>\n",
       "</table>\n",
       "</div>"
      ],
      "text/plain": [
       "   agents protocols    next_state num_cache                                \\\n",
       "                                      count      mean       std  min  25%   \n",
       "0  cronet   h2|quic  confirmation    6510.0  0.909677  1.716274  0.0  0.0   \n",
       "2  cronet      quic  confirmation   10230.0  0.938514  1.775622  0.0  0.0   \n",
       "4  okhttp        h2  confirmation   23442.0  0.914896  2.128755  0.0  0.0   \n",
       "1  cronet   h2|quic  dropoff_edit   24774.0  0.560063  1.577377  0.0  0.0   \n",
       "3  cronet      quic  dropoff_edit   30422.0  0.654296  1.577275  0.0  0.0   \n",
       "5  okhttp        h2  dropoff_edit   86919.0  0.557208  1.770143  0.0  0.0   \n",
       "\n",
       "                   \n",
       "   50%  75%   max  \n",
       "0  0.0  2.0  24.0  \n",
       "2  0.0  2.0  45.0  \n",
       "4  0.0  2.0  72.0  \n",
       "1  0.0  0.0  60.0  \n",
       "3  0.0  0.0  42.0  \n",
       "5  0.0  0.0  96.0  "
      ]
     },
     "execution_count": 533,
     "metadata": {},
     "output_type": "execute_result"
    }
   ],
   "source": [
    "(\n",
    "    df.groupby(['agents', 'protocols', 'next_state'])[['num_cache']]\n",
    "    .describe()\n",
    "    .reset_index()\n",
    "    .sort_values('next_state')\n",
    ")"
   ]
  },
  {
   "cell_type": "code",
   "execution_count": 519,
   "metadata": {
    "collapsed": false
   },
   "outputs": [
    {
     "data": {
      "text/html": [
       "<div>\n",
       "<style scoped>\n",
       "    .dataframe tbody tr th:only-of-type {\n",
       "        vertical-align: middle;\n",
       "    }\n",
       "\n",
       "    .dataframe tbody tr th {\n",
       "        vertical-align: top;\n",
       "    }\n",
       "\n",
       "    .dataframe thead th {\n",
       "        text-align: right;\n",
       "    }\n",
       "</style>\n",
       "<table border=\"1\" class=\"dataframe\">\n",
       "  <thead>\n",
       "    <tr style=\"text-align: right;\">\n",
       "      <th></th>\n",
       "      <th>agents</th>\n",
       "      <th>protocols</th>\n",
       "      <th>num_cache</th>\n",
       "    </tr>\n",
       "  </thead>\n",
       "  <tbody>\n",
       "    <tr>\n",
       "      <th>0</th>\n",
       "      <td>cronet</td>\n",
       "      <td>h2|quic</td>\n",
       "      <td>2</td>\n",
       "    </tr>\n",
       "    <tr>\n",
       "      <th>1</th>\n",
       "      <td>cronet</td>\n",
       "      <td>quic</td>\n",
       "      <td>2</td>\n",
       "    </tr>\n",
       "    <tr>\n",
       "      <th>2</th>\n",
       "      <td>okhttp</td>\n",
       "      <td>h2</td>\n",
       "      <td>2</td>\n",
       "    </tr>\n",
       "  </tbody>\n",
       "</table>\n",
       "</div>"
      ],
      "text/plain": [
       "   agents protocols  num_cache\n",
       "0  cronet   h2|quic          2\n",
       "1  cronet      quic          2\n",
       "2  okhttp        h2          2"
      ]
     },
     "execution_count": 519,
     "metadata": {},
     "output_type": "execute_result"
    }
   ],
   "source": [
    "(\n",
    "    df\n",
    "    .groupby(['agents', 'protocols'])\n",
    "    .agg({'num_cache': lambda x: np.percentile(x, 90)})\n",
    "    .reset_index()\n",
    "    .sort_values(['agents', 'protocols', 'num_cache'])\n",
    ")"
   ]
  },
  {
   "cell_type": "code",
   "execution_count": 295,
   "metadata": {
    "collapsed": false
   },
   "outputs": [
    {
     "ename": "SyntaxError",
     "evalue": "invalid syntax (<ipython-input-295-d3da3a628870>, line 1)",
     "output_type": "error",
     "traceback": [
      "\u001b[0;36m  File \u001b[0;32m\"<ipython-input-295-d3da3a628870>\"\u001b[0;36m, line \u001b[0;32m1\u001b[0m\n\u001b[0;31m    90 Percentile to Act On Home Screen (Okhttp/h2): 112 Seconds\u001b[0m\n\u001b[0m                ^\u001b[0m\n\u001b[0;31mSyntaxError\u001b[0m\u001b[0;31m:\u001b[0m invalid syntax\n"
     ]
    }
   ],
   "source": [
    "90 Percentile to Act On Home Screen (Okhttp/h2): 112 Seconds\n",
    "90 Percentile to confirm from Home Screen for Cronet / QUIC: 115 seconds"
   ]
  },
  {
   "cell_type": "code",
   "execution_count": null,
   "metadata": {
    "collapsed": true
   },
   "outputs": [],
   "source": []
  },
  {
   "cell_type": "code",
   "execution_count": 315,
   "metadata": {
    "collapsed": false
   },
   "outputs": [
    {
     "name": "stderr",
     "output_type": "stream",
     "text": [
      "<string>:1: RuntimeWarning: divide by zero encountered in log\n",
      "/var/cache/udocker/phoenix-worker/beta/python2/plotnine/layer.py:363: UserWarning: stat_density : Removed 80615 rows containing non-finite values.\n",
      "  data = self.stat.compute_layer(data, params, layout)\n"
     ]
    },
    {
     "data": {
      "image/png": "[encoded data removed]",
      "text/plain": [
       "<Figure size 2000x500 with 3 Axes>"
      ]
     },
     "metadata": {},
     "output_type": "display_data"
    },
    {
     "data": {
      "text/plain": [
       "<ggplot: (8754099303713)>"
      ]
     },
     "execution_count": 315,
     "metadata": {},
     "output_type": "execute_result"
    }
   ],
   "source": [
    "(\n",
    "    ggplot(df, aes('np.log(num_cache)'))\n",
    "    + geom_density(aes(colour='next_state'), alpha=0.3)\n",
    "    + facet_wrap(\"~key\")\n",
    "    + theme_minimal()\n",
    "    + theme(figure_size=(20, 5))\n",
    "\n",
    ")"
   ]
  },
  {
   "cell_type": "code",
   "execution_count": null,
   "metadata": {
    "collapsed": true
   },
   "outputs": [],
   "source": []
  },
  {
   "cell_type": "markdown",
   "metadata": {},
   "source": [
    "## Conversion Gain For 5 Cities"
   ]
  },
  {
   "cell_type": "code",
   "execution_count": null,
   "metadata": {
    "collapsed": true
   },
   "outputs": [],
   "source": []
  },
  {
   "cell_type": "code",
   "execution_count": null,
   "metadata": {
    "collapsed": true
   },
   "outputs": [],
   "source": []
  },
  {
   "cell_type": "code",
   "execution_count": null,
   "metadata": {
    "collapsed": true
   },
   "outputs": [],
   "source": []
  },
  {
   "cell_type": "code",
   "execution_count": 8,
   "metadata": {
    "ExecuteTime": {
     "end_time": "2018-11-28T01:05:45.449802Z",
     "start_time": "2018-11-28T01:05:44.991631Z"
    },
    "collapsed": false
   },
   "outputs": [
    {
     "data": {
      "text/html": [
       "<h1>Overall Conversion Gain Based On All Sessions</h1>"
      ],
      "text/plain": [
       "<IPython.core.display.HTML object>"
      ]
     },
     "metadata": {},
     "output_type": "display_data"
    },
    {
     "data": {
      "text/html": [
       "<style  type=\"text/css\" >\n",
       "    #T_97c66ac4_f727_11e8_8521_ec0d9a2e0810row0_col0 {\n",
       "            background-color:  lightgreen;\n",
       "        }    #T_97c66ac4_f727_11e8_8521_ec0d9a2e0810row0_col1 {\n",
       "            background-color:  lightgreen;\n",
       "        }    #T_97c66ac4_f727_11e8_8521_ec0d9a2e0810row0_col2 {\n",
       "            background-color:  lightgreen;\n",
       "        }    #T_97c66ac4_f727_11e8_8521_ec0d9a2e0810row0_col3 {\n",
       "            background-color:  lightgreen;\n",
       "        }    #T_97c66ac4_f727_11e8_8521_ec0d9a2e0810row0_col4 {\n",
       "            background-color:  lightgreen;\n",
       "        }    #T_97c66ac4_f727_11e8_8521_ec0d9a2e0810row0_col5 {\n",
       "            background-color:  lightgreen;\n",
       "        }    #T_97c66ac4_f727_11e8_8521_ec0d9a2e0810row0_col6 {\n",
       "            background-color:  lightgreen;\n",
       "        }</style>  \n",
       "<table id=\"T_97c66ac4_f727_11e8_8521_ec0d9a2e0810\" > \n",
       "<thead>    <tr> \n",
       "        <th class=\"index_name level0\" >col</th> \n",
       "        <th class=\"col_heading level0 col0\" >cronet_session</th> \n",
       "        <th class=\"col_heading level0 col1\" >cronet_conversion</th> \n",
       "        <th class=\"col_heading level0 col2\" >okhttp_session</th> \n",
       "        <th class=\"col_heading level0 col3\" >okhttp_conversion</th> \n",
       "        <th class=\"col_heading level0 col4\" >gain</th> \n",
       "        <th class=\"col_heading level0 col5\" >isSignificant</th> \n",
       "        <th class=\"col_heading level0 col6\" >isPositive</th> \n",
       "    </tr></thead> \n",
       "<tbody>    <tr> \n",
       "        <th id=\"T_97c66ac4_f727_11e8_8521_ec0d9a2e0810level0_row0\" class=\"row_heading level0 row0\" >cnt</th> \n",
       "        <td id=\"T_97c66ac4_f727_11e8_8521_ec0d9a2e0810row0_col0\" class=\"data row0 col0\" >594,692</td> \n",
       "        <td id=\"T_97c66ac4_f727_11e8_8521_ec0d9a2e0810row0_col1\" class=\"data row0 col1\" >22.32%</td> \n",
       "        <td id=\"T_97c66ac4_f727_11e8_8521_ec0d9a2e0810row0_col2\" class=\"data row0 col2\" >1,014,561</td> \n",
       "        <td id=\"T_97c66ac4_f727_11e8_8521_ec0d9a2e0810row0_col3\" class=\"data row0 col3\" >19.55%</td> \n",
       "        <td id=\"T_97c66ac4_f727_11e8_8521_ec0d9a2e0810row0_col4\" class=\"data row0 col4\" >2.7654%</td> \n",
       "        <td id=\"T_97c66ac4_f727_11e8_8521_ec0d9a2e0810row0_col5\" class=\"data row0 col5\" >True</td> \n",
       "        <td id=\"T_97c66ac4_f727_11e8_8521_ec0d9a2e0810row0_col6\" class=\"data row0 col6\" >True</td> \n",
       "    </tr></tbody> \n",
       "</table> "
      ],
      "text/plain": [
       "<pandas.io.formats.style.Styler at 0x7f62b9f874d0>"
      ]
     },
     "metadata": {},
     "output_type": "display_data"
    },
    {
     "data": {
      "text/html": [
       "<h1>Overall Conversion Gain Based On Intentful Sessions</h1>"
      ],
      "text/plain": [
       "<IPython.core.display.HTML object>"
      ]
     },
     "metadata": {},
     "output_type": "display_data"
    },
    {
     "data": {
      "text/html": [
       "<style  type=\"text/css\" >\n",
       "    #T_97db879c_f727_11e8_8521_ec0d9a2e0810row0_col0 {\n",
       "            background-color:  lightgreen;\n",
       "        }    #T_97db879c_f727_11e8_8521_ec0d9a2e0810row0_col1 {\n",
       "            background-color:  lightgreen;\n",
       "        }    #T_97db879c_f727_11e8_8521_ec0d9a2e0810row0_col2 {\n",
       "            background-color:  lightgreen;\n",
       "        }    #T_97db879c_f727_11e8_8521_ec0d9a2e0810row0_col3 {\n",
       "            background-color:  lightgreen;\n",
       "        }    #T_97db879c_f727_11e8_8521_ec0d9a2e0810row0_col4 {\n",
       "            background-color:  lightgreen;\n",
       "        }    #T_97db879c_f727_11e8_8521_ec0d9a2e0810row0_col5 {\n",
       "            background-color:  lightgreen;\n",
       "        }    #T_97db879c_f727_11e8_8521_ec0d9a2e0810row0_col6 {\n",
       "            background-color:  lightgreen;\n",
       "        }</style>  \n",
       "<table id=\"T_97db879c_f727_11e8_8521_ec0d9a2e0810\" > \n",
       "<thead>    <tr> \n",
       "        <th class=\"index_name level0\" >col</th> \n",
       "        <th class=\"col_heading level0 col0\" >cronet_session</th> \n",
       "        <th class=\"col_heading level0 col1\" >cronet_conversion</th> \n",
       "        <th class=\"col_heading level0 col2\" >okhttp_session</th> \n",
       "        <th class=\"col_heading level0 col3\" >okhttp_conversion</th> \n",
       "        <th class=\"col_heading level0 col4\" >gain</th> \n",
       "        <th class=\"col_heading level0 col5\" >isSignificant</th> \n",
       "        <th class=\"col_heading level0 col6\" >isPositive</th> \n",
       "    </tr></thead> \n",
       "<tbody>    <tr> \n",
       "        <th id=\"T_97db879c_f727_11e8_8521_ec0d9a2e0810level0_row0\" class=\"row_heading level0 row0\" >cnt</th> \n",
       "        <td id=\"T_97db879c_f727_11e8_8521_ec0d9a2e0810row0_col0\" class=\"data row0 col0\" >22,670</td> \n",
       "        <td id=\"T_97db879c_f727_11e8_8521_ec0d9a2e0810row0_col1\" class=\"data row0 col1\" >40.34%</td> \n",
       "        <td id=\"T_97db879c_f727_11e8_8521_ec0d9a2e0810row0_col2\" class=\"data row0 col2\" >33,374</td> \n",
       "        <td id=\"T_97db879c_f727_11e8_8521_ec0d9a2e0810row0_col3\" class=\"data row0 col3\" >38.57%</td> \n",
       "        <td id=\"T_97db879c_f727_11e8_8521_ec0d9a2e0810row0_col4\" class=\"data row0 col4\" >1.7677%</td> \n",
       "        <td id=\"T_97db879c_f727_11e8_8521_ec0d9a2e0810row0_col5\" class=\"data row0 col5\" >True</td> \n",
       "        <td id=\"T_97db879c_f727_11e8_8521_ec0d9a2e0810row0_col6\" class=\"data row0 col6\" >True</td> \n",
       "    </tr></tbody> \n",
       "</table> "
      ],
      "text/plain": [
       "<pandas.io.formats.style.Styler at 0x7f635438e790>"
      ]
     },
     "metadata": {},
     "output_type": "display_data"
    }
   ],
   "source": [
    "def overallAnalysisPreprocessing(data):\n",
    "    df = (\n",
    "        data\n",
    "        .groupby(['n_completed', 'agents'])\n",
    "        .size()\n",
    "        .reset_index()\n",
    "        .rename(columns={0: 'cnt'})\n",
    "    )\n",
    "    df['col'] = df.apply(lambda x: x.agents + ['_missed', '_hit'][x.n_completed], axis=1)\n",
    "    df = df.pivot_table(columns='col', values='cnt')\n",
    "    return df\n",
    "\n",
    "display(HTML(\"<h1>Overall Conversion Gain Based On All Sessions</h1>\"))\n",
    "display(stylize(\n",
    "    overallAnalysis(\n",
    "        overallAnalysisPreprocessing(androidExpCities)\n",
    "    )[FIELDS]\n",
    "))\n",
    "\n",
    "display(HTML(\"<h1>Overall Conversion Gain Based On Intentful Sessions</h1>\"))\n",
    "display(stylize(\n",
    "    overallAnalysis(\n",
    "        overallAnalysisPreprocessing(androidExpCities[androidExpCities.is_intentful])\n",
    "    )[FIELDS]\n",
    "))"
   ]
  },
  {
   "cell_type": "markdown",
   "metadata": {},
   "source": [
    "## By Protocols"
   ]
  },
  {
   "cell_type": "code",
   "execution_count": 37,
   "metadata": {
    "collapsed": false
   },
   "outputs": [
    {
     "data": {
      "text/html": [
       "<div>\n",
       "<style scoped>\n",
       "    .dataframe tbody tr th:only-of-type {\n",
       "        vertical-align: middle;\n",
       "    }\n",
       "\n",
       "    .dataframe tbody tr th {\n",
       "        vertical-align: top;\n",
       "    }\n",
       "\n",
       "    .dataframe thead th {\n",
       "        text-align: right;\n",
       "    }\n",
       "</style>\n",
       "<table border=\"1\" class=\"dataframe\">\n",
       "  <thead>\n",
       "    <tr style=\"text-align: right;\">\n",
       "      <th></th>\n",
       "      <th>hosts</th>\n",
       "      <th>agents</th>\n",
       "      <th>protocols</th>\n",
       "      <th>0</th>\n",
       "    </tr>\n",
       "  </thead>\n",
       "  <tbody>\n",
       "    <tr>\n",
       "      <th>0</th>\n",
       "      <td>cfe</td>\n",
       "      <td>cronet</td>\n",
       "      <td>h2</td>\n",
       "      <td>21774</td>\n",
       "    </tr>\n",
       "    <tr>\n",
       "      <th>1</th>\n",
       "      <td>cfe</td>\n",
       "      <td>cronet</td>\n",
       "      <td>h2|quic</td>\n",
       "      <td>217740</td>\n",
       "    </tr>\n",
       "    <tr>\n",
       "      <th>2</th>\n",
       "      <td>cfe</td>\n",
       "      <td>cronet</td>\n",
       "      <td>quic</td>\n",
       "      <td>355178</td>\n",
       "    </tr>\n",
       "    <tr>\n",
       "      <th>3</th>\n",
       "      <td>cfe</td>\n",
       "      <td>okhttp</td>\n",
       "      <td>h2</td>\n",
       "      <td>1014561</td>\n",
       "    </tr>\n",
       "  </tbody>\n",
       "</table>\n",
       "</div>"
      ],
      "text/plain": [
       "  hosts  agents protocols        0\n",
       "0   cfe  cronet        h2    21774\n",
       "1   cfe  cronet   h2|quic   217740\n",
       "2   cfe  cronet      quic   355178\n",
       "3   cfe  okhttp        h2  1014561"
      ]
     },
     "execution_count": 37,
     "metadata": {},
     "output_type": "execute_result"
    }
   ],
   "source": [
    "androidExpCities.groupby(['hosts', 'agents', 'protocols']).size().reset_index()"
   ]
  },
  {
   "cell_type": "markdown",
   "metadata": {
    "ExecuteTime": {
     "start_time": "2018-11-27T23:16:23.962Z"
    }
   },
   "source": [
    "### Latency Distribution"
   ]
  },
  {
   "cell_type": "code",
   "execution_count": 10,
   "metadata": {
    "collapsed": false
   },
   "outputs": [
    {
     "name": "stderr",
     "output_type": "stream",
     "text": [
      "12/03/2018 06:20:46 PM \u001b[93m Created execution 44b568c8-083d-4ae9-94b6-ce688ad40d7e \u001b[0m\n",
      "2018-12-03 18:20:46,492 queryrunner WARNING \u001b[93m Created execution 44b568c8-083d-4ae9-94b6-ce688ad40d7e \u001b[0m\n"
     ]
    },
    {
     "name": "stdout",
     "output_type": "stream",
     "text": [
      "{'consumer_name': 'data_science', 'user_email': 'ragrawal@uber.com'}\n"
     ]
    },
    {
     "name": "stderr",
     "output_type": "stream",
     "text": [
      "12/03/2018 06:25:25 PM \u001b[92m Query finished. \u001b[0m\n",
      "2018-12-03 18:25:25,746 queryrunner WARNING \u001b[92m Query finished. \u001b[0m\n"
     ]
    },
    {
     "name": "stdout",
     "output_type": "stream",
     "text": [
      "Saving results to ./qr_cache/c81828e4d14e6da7e0ae5f04b5b38cc4.csv.gz\n"
     ]
    }
   ],
   "source": [
    "%%presto --variable latenciesData --email ragrawal@uber.com --cache --use-cache\n",
    "\n",
    "SELECT\n",
    "    agents\n",
    "    , protocols\n",
    "    , hosts\n",
    "    , COUNT(*) as num_sesions\n",
    "    , APPROX_DISTINCT(CONCAT(s.session_id, '|', s.user_uuid)) as num_distinct_sessions\n",
    "    , APPROX_PERCENTILE(duration, ARRAY [0.1, 0.2, 0.3, 0.4, 0.5, 0.6, 0.7, 0.8, 0.9, 0.95, 0.99]) as latencies\n",
    "FROM dsp.quic s\n",
    "JOIN dsp.quic_latencies r\n",
    "ON (s.session_id = r.session_id AND s.user_uuid = r.user_uuid)\n",
    "WHERE\n",
    "    city in ('sao_paulo', 'london', 'los_angeles', 'cairo', 'new_delhi')\n",
    "    AND os_type = 'android'\n",
    "    AND hosts = 'cfe'\n",
    "    AND NOT is_admin_user\n",
    "    AND \n",
    "    (\n",
    "        ( agents = 'cronet' AND protocols IN ('quic', 'h2'))\n",
    "        OR (agents = 'okhttp' AND protocols = 'h2')\n",
    "    )\n",
    "GROUP BY agents, hosts, protocols"
   ]
  },
  {
   "cell_type": "code",
   "execution_count": 11,
   "metadata": {
    "collapsed": false
   },
   "outputs": [],
   "source": [
    "latenciesData = processLatencyData(latenciesData)"
   ]
  },
  {
   "cell_type": "code",
   "execution_count": 32,
   "metadata": {
    "collapsed": false
   },
   "outputs": [],
   "source": [
    "keys = ['agents', 'hosts', 'protocols']\n",
    "df = (\n",
    "    latenciesData\n",
    "    .set_index(keys)\n",
    "    .apply(lambda x: pd.Series(dict(zip(DISTRIBUTIONS, x.latencies))), axis=1)\n",
    "    .reset_index()\n",
    "    .melt(id_vars=keys, value_vars=DISTRIBUTIONS, value_name='latency', var_name='latencyBucket')\n",
    "    .reset_index()\n",
    ")\n",
    "df['key'] = df.apply(lambda x: \"{}/{}/{}\".format(x.hosts, x.agents, x.protocols), axis=1)"
   ]
  },
  {
   "cell_type": "code",
   "execution_count": 33,
   "metadata": {
    "ExecuteTime": {
     "end_time": "2018-11-28T01:11:44.405837Z",
     "start_time": "2018-11-28T01:11:42.927337Z"
    },
    "collapsed": false
   },
   "outputs": [
    {
     "data": {
      "image/png": "[encoded data removed]",
      "text/plain": [
       "<Figure size 2000x800 with 1 Axes>"
      ]
     },
     "metadata": {},
     "output_type": "display_data"
    },
    {
     "data": {
      "text/plain": [
       "<ggplot: (8753864065549)>"
      ]
     },
     "metadata": {},
     "output_type": "display_data"
    }
   ],
   "source": [
    "\n",
    "display(\n",
    "    ggplot(df, aes(x='latencyBucket', y='latency'))\n",
    "    + geom_line(aes(group='key', colour='key'))\n",
    "    + geom_point(aes(group='key', colour='key'))\n",
    "    + theme_minimal()\n",
    "    + theme(figure_size=(20, 8))\n",
    "    + xlab(\"Percentile Buckets\") + ylab(\"Observed Latencies\")\n",
    ")"
   ]
  },
  {
   "cell_type": "markdown",
   "metadata": {},
   "source": [
    "### User Behavior"
   ]
  },
  {
   "cell_type": "code",
   "execution_count": null,
   "metadata": {
    "collapsed": false
   },
   "outputs": [],
   "source": [
    "display(androidExpCities.groupby('agents')['eventLen'].describe())\n",
    "display(stats.ks_2samp(\n",
    "    androidExpCities[androidExpCities.agents == 'cronet'].eventLen.values,\n",
    "    androidExpCities[androidExpCities.agents == 'okhttp'].eventLen.values,\n",
    "))"
   ]
  },
  {
   "cell_type": "code",
   "execution_count": null,
   "metadata": {
    "collapsed": false
   },
   "outputs": [],
   "source": [
    "(\n",
    "    ggplot(androidExpCities.sample(10000), aes('np.log(eventLen)'))\n",
    "    + geom_density(aes(colour='agents'), alpha=0.25)\n",
    ")"
   ]
  },
  {
   "cell_type": "code",
   "execution_count": null,
   "metadata": {
    "collapsed": false
   },
   "outputs": [],
   "source": [
    "import collections\n",
    "from tqdm import tqdm\n",
    "\n",
    "df = androidExpCities[(androidExpCities.events.apply(len) > 1)].groupby('agents').apply(lambda x: x.sample(20000)).reset_index(drop=True)\n",
    "\n",
    "transitionsDict = dict((x, collections.defaultdict(float)) for x in AGENTS)\n",
    "sourcesDict = dict((x, collections.defaultdict(float)) for x in AGENTS)\n",
    "for idx, row in tqdm(df.iterrows(), total=df.shape[0]):\n",
    "# for idx, row in df.iterrows():\n",
    "    agent = row.agents\n",
    "    tokens = row.events\n",
    "    source = tokens[0]\n",
    "    for target in tokens[1:]:\n",
    "        transitionsDict[agent][(source, target)] += 1\n",
    "        sourcesDict[agent][source] += 1\n",
    "        source = target\n",
    "\n",
    "output = []\n",
    "for agent in AGENTS:\n",
    "    print agent\n",
    "    for t, c in transitionsDict[agent].items():\n",
    "        output.append([agent, t[0], t[1], c, c/sourcesDict[agent][t[0]]])\n",
    "        \n",
    "df = pd.DataFrame(output, columns=['agent', 'source', 'target', 'cnt', 'prob'])"
   ]
  },
  {
   "cell_type": "code",
   "execution_count": null,
   "metadata": {
    "collapsed": false
   },
   "outputs": [],
   "source": [
    "df['sourceName'] = df.source.apply(lambda x: EVENTS[x])\n",
    "df['targetName'] = df.target.apply(lambda x: EVENTS[x])\n",
    "df['label'] = df.prob.apply(lambda x: \"{:.0%}\".format(x))"
   ]
  },
  {
   "cell_type": "code",
   "execution_count": null,
   "metadata": {
    "collapsed": false
   },
   "outputs": [],
   "source": [
    "(\n",
    "    ggplot(df, aes(x='sourceName', y='targetName'))\n",
    "    + geom_tile(aes(fill='prob'))\n",
    "    + geom_label(aes(label='label'))\n",
    "    + facet_wrap(\"~agent\")\n",
    "    + theme_linedraw()\n",
    "    + theme(figure_size=(20, 10), axis_text_x=element_text(rotation=90, hjust=1))\n",
    "    + xlab(\"Source\") + ylab(\"Target\")\n",
    ")"
   ]
  },
  {
   "cell_type": "markdown",
   "metadata": {},
   "source": [
    "## By City"
   ]
  },
  {
   "cell_type": "code",
   "execution_count": 9,
   "metadata": {
    "ExecuteTime": {
     "end_time": "2018-11-28T01:11:53.120839Z",
     "start_time": "2018-11-28T01:11:52.548970Z"
    },
    "collapsed": false
   },
   "outputs": [
    {
     "data": {
      "text/html": [
       "<h1>Overall Conversion Gain Based On All Sessions</h1>"
      ],
      "text/plain": [
       "<IPython.core.display.HTML object>"
      ]
     },
     "metadata": {},
     "output_type": "display_data"
    },
    {
     "data": {
      "text/html": [
       "<style  type=\"text/css\" >\n",
       "    #T_e5cf96b4_f727_11e8_8521_ec0d9a2e0810row0_col0 {\n",
       "            background-color:  lightgreen;\n",
       "        }    #T_e5cf96b4_f727_11e8_8521_ec0d9a2e0810row0_col1 {\n",
       "            background-color:  lightgreen;\n",
       "        }    #T_e5cf96b4_f727_11e8_8521_ec0d9a2e0810row0_col2 {\n",
       "            background-color:  lightgreen;\n",
       "        }    #T_e5cf96b4_f727_11e8_8521_ec0d9a2e0810row0_col3 {\n",
       "            background-color:  lightgreen;\n",
       "        }    #T_e5cf96b4_f727_11e8_8521_ec0d9a2e0810row0_col4 {\n",
       "            background-color:  lightgreen;\n",
       "        }    #T_e5cf96b4_f727_11e8_8521_ec0d9a2e0810row0_col5 {\n",
       "            background-color:  lightgreen;\n",
       "        }    #T_e5cf96b4_f727_11e8_8521_ec0d9a2e0810row0_col6 {\n",
       "            background-color:  lightgreen;\n",
       "        }    #T_e5cf96b4_f727_11e8_8521_ec0d9a2e0810row1_col0 {\n",
       "            background-color:  lightgreen;\n",
       "        }    #T_e5cf96b4_f727_11e8_8521_ec0d9a2e0810row1_col1 {\n",
       "            background-color:  lightgreen;\n",
       "        }    #T_e5cf96b4_f727_11e8_8521_ec0d9a2e0810row1_col2 {\n",
       "            background-color:  lightgreen;\n",
       "        }    #T_e5cf96b4_f727_11e8_8521_ec0d9a2e0810row1_col3 {\n",
       "            background-color:  lightgreen;\n",
       "        }    #T_e5cf96b4_f727_11e8_8521_ec0d9a2e0810row1_col4 {\n",
       "            background-color:  lightgreen;\n",
       "        }    #T_e5cf96b4_f727_11e8_8521_ec0d9a2e0810row1_col5 {\n",
       "            background-color:  lightgreen;\n",
       "        }    #T_e5cf96b4_f727_11e8_8521_ec0d9a2e0810row1_col6 {\n",
       "            background-color:  lightgreen;\n",
       "        }    #T_e5cf96b4_f727_11e8_8521_ec0d9a2e0810row2_col0 {\n",
       "            background-color:  lightgreen;\n",
       "        }    #T_e5cf96b4_f727_11e8_8521_ec0d9a2e0810row2_col1 {\n",
       "            background-color:  lightgreen;\n",
       "        }    #T_e5cf96b4_f727_11e8_8521_ec0d9a2e0810row2_col2 {\n",
       "            background-color:  lightgreen;\n",
       "        }    #T_e5cf96b4_f727_11e8_8521_ec0d9a2e0810row2_col3 {\n",
       "            background-color:  lightgreen;\n",
       "        }    #T_e5cf96b4_f727_11e8_8521_ec0d9a2e0810row2_col4 {\n",
       "            background-color:  lightgreen;\n",
       "        }    #T_e5cf96b4_f727_11e8_8521_ec0d9a2e0810row2_col5 {\n",
       "            background-color:  lightgreen;\n",
       "        }    #T_e5cf96b4_f727_11e8_8521_ec0d9a2e0810row2_col6 {\n",
       "            background-color:  lightgreen;\n",
       "        }    #T_e5cf96b4_f727_11e8_8521_ec0d9a2e0810row3_col0 {\n",
       "            background-color:  lightgreen;\n",
       "        }    #T_e5cf96b4_f727_11e8_8521_ec0d9a2e0810row3_col1 {\n",
       "            background-color:  lightgreen;\n",
       "        }    #T_e5cf96b4_f727_11e8_8521_ec0d9a2e0810row3_col2 {\n",
       "            background-color:  lightgreen;\n",
       "        }    #T_e5cf96b4_f727_11e8_8521_ec0d9a2e0810row3_col3 {\n",
       "            background-color:  lightgreen;\n",
       "        }    #T_e5cf96b4_f727_11e8_8521_ec0d9a2e0810row3_col4 {\n",
       "            background-color:  lightgreen;\n",
       "        }    #T_e5cf96b4_f727_11e8_8521_ec0d9a2e0810row3_col5 {\n",
       "            background-color:  lightgreen;\n",
       "        }    #T_e5cf96b4_f727_11e8_8521_ec0d9a2e0810row3_col6 {\n",
       "            background-color:  lightgreen;\n",
       "        }    #T_e5cf96b4_f727_11e8_8521_ec0d9a2e0810row4_col0 {\n",
       "            background-color:  lightgreen;\n",
       "        }    #T_e5cf96b4_f727_11e8_8521_ec0d9a2e0810row4_col1 {\n",
       "            background-color:  lightgreen;\n",
       "        }    #T_e5cf96b4_f727_11e8_8521_ec0d9a2e0810row4_col2 {\n",
       "            background-color:  lightgreen;\n",
       "        }    #T_e5cf96b4_f727_11e8_8521_ec0d9a2e0810row4_col3 {\n",
       "            background-color:  lightgreen;\n",
       "        }    #T_e5cf96b4_f727_11e8_8521_ec0d9a2e0810row4_col4 {\n",
       "            background-color:  lightgreen;\n",
       "        }    #T_e5cf96b4_f727_11e8_8521_ec0d9a2e0810row4_col5 {\n",
       "            background-color:  lightgreen;\n",
       "        }    #T_e5cf96b4_f727_11e8_8521_ec0d9a2e0810row4_col6 {\n",
       "            background-color:  lightgreen;\n",
       "        }</style>  \n",
       "<table id=\"T_e5cf96b4_f727_11e8_8521_ec0d9a2e0810\" > \n",
       "<thead>    <tr> \n",
       "        <th class=\"index_name level0\" >col</th> \n",
       "        <th class=\"col_heading level0 col0\" >cronet_session</th> \n",
       "        <th class=\"col_heading level0 col1\" >cronet_conversion</th> \n",
       "        <th class=\"col_heading level0 col2\" >okhttp_session</th> \n",
       "        <th class=\"col_heading level0 col3\" >okhttp_conversion</th> \n",
       "        <th class=\"col_heading level0 col4\" >gain</th> \n",
       "        <th class=\"col_heading level0 col5\" >isSignificant</th> \n",
       "        <th class=\"col_heading level0 col6\" >isPositive</th> \n",
       "    </tr>    <tr> \n",
       "        <th class=\"index_name level0\" >city</th> \n",
       "        <th class=\"blank\" ></th> \n",
       "        <th class=\"blank\" ></th> \n",
       "        <th class=\"blank\" ></th> \n",
       "        <th class=\"blank\" ></th> \n",
       "        <th class=\"blank\" ></th> \n",
       "        <th class=\"blank\" ></th> \n",
       "        <th class=\"blank\" ></th> \n",
       "    </tr></thead> \n",
       "<tbody>    <tr> \n",
       "        <th id=\"T_e5cf96b4_f727_11e8_8521_ec0d9a2e0810level0_row0\" class=\"row_heading level0 row0\" >cairo</th> \n",
       "        <td id=\"T_e5cf96b4_f727_11e8_8521_ec0d9a2e0810row0_col0\" class=\"data row0 col0\" >63,729</td> \n",
       "        <td id=\"T_e5cf96b4_f727_11e8_8521_ec0d9a2e0810row0_col1\" class=\"data row0 col1\" >23.05%</td> \n",
       "        <td id=\"T_e5cf96b4_f727_11e8_8521_ec0d9a2e0810row0_col2\" class=\"data row0 col2\" >105,887</td> \n",
       "        <td id=\"T_e5cf96b4_f727_11e8_8521_ec0d9a2e0810row0_col3\" class=\"data row0 col3\" >20.71%</td> \n",
       "        <td id=\"T_e5cf96b4_f727_11e8_8521_ec0d9a2e0810row0_col4\" class=\"data row0 col4\" >2.3431%</td> \n",
       "        <td id=\"T_e5cf96b4_f727_11e8_8521_ec0d9a2e0810row0_col5\" class=\"data row0 col5\" >True</td> \n",
       "        <td id=\"T_e5cf96b4_f727_11e8_8521_ec0d9a2e0810row0_col6\" class=\"data row0 col6\" >True</td> \n",
       "    </tr>    <tr> \n",
       "        <th id=\"T_e5cf96b4_f727_11e8_8521_ec0d9a2e0810level0_row1\" class=\"row_heading level0 row1\" >london</th> \n",
       "        <td id=\"T_e5cf96b4_f727_11e8_8521_ec0d9a2e0810row1_col0\" class=\"data row1 col0\" >58,624</td> \n",
       "        <td id=\"T_e5cf96b4_f727_11e8_8521_ec0d9a2e0810row1_col1\" class=\"data row1 col1\" >32.91%</td> \n",
       "        <td id=\"T_e5cf96b4_f727_11e8_8521_ec0d9a2e0810row1_col2\" class=\"data row1 col2\" >107,535</td> \n",
       "        <td id=\"T_e5cf96b4_f727_11e8_8521_ec0d9a2e0810row1_col3\" class=\"data row1 col3\" >30.41%</td> \n",
       "        <td id=\"T_e5cf96b4_f727_11e8_8521_ec0d9a2e0810row1_col4\" class=\"data row1 col4\" >2.4985%</td> \n",
       "        <td id=\"T_e5cf96b4_f727_11e8_8521_ec0d9a2e0810row1_col5\" class=\"data row1 col5\" >True</td> \n",
       "        <td id=\"T_e5cf96b4_f727_11e8_8521_ec0d9a2e0810row1_col6\" class=\"data row1 col6\" >True</td> \n",
       "    </tr>    <tr> \n",
       "        <th id=\"T_e5cf96b4_f727_11e8_8521_ec0d9a2e0810level0_row2\" class=\"row_heading level0 row2\" >los_angeles</th> \n",
       "        <td id=\"T_e5cf96b4_f727_11e8_8521_ec0d9a2e0810row2_col0\" class=\"data row2 col0\" >25,038</td> \n",
       "        <td id=\"T_e5cf96b4_f727_11e8_8521_ec0d9a2e0810row2_col1\" class=\"data row2 col1\" >28.82%</td> \n",
       "        <td id=\"T_e5cf96b4_f727_11e8_8521_ec0d9a2e0810row2_col2\" class=\"data row2 col2\" >48,744</td> \n",
       "        <td id=\"T_e5cf96b4_f727_11e8_8521_ec0d9a2e0810row2_col3\" class=\"data row2 col3\" >26.31%</td> \n",
       "        <td id=\"T_e5cf96b4_f727_11e8_8521_ec0d9a2e0810row2_col4\" class=\"data row2 col4\" >2.5133%</td> \n",
       "        <td id=\"T_e5cf96b4_f727_11e8_8521_ec0d9a2e0810row2_col5\" class=\"data row2 col5\" >True</td> \n",
       "        <td id=\"T_e5cf96b4_f727_11e8_8521_ec0d9a2e0810row2_col6\" class=\"data row2 col6\" >True</td> \n",
       "    </tr>    <tr> \n",
       "        <th id=\"T_e5cf96b4_f727_11e8_8521_ec0d9a2e0810level0_row3\" class=\"row_heading level0 row3\" >new_delhi</th> \n",
       "        <td id=\"T_e5cf96b4_f727_11e8_8521_ec0d9a2e0810row3_col0\" class=\"data row3 col0\" >124,637</td> \n",
       "        <td id=\"T_e5cf96b4_f727_11e8_8521_ec0d9a2e0810row3_col1\" class=\"data row3 col1\" >21.72%</td> \n",
       "        <td id=\"T_e5cf96b4_f727_11e8_8521_ec0d9a2e0810row3_col2\" class=\"data row3 col2\" >212,348</td> \n",
       "        <td id=\"T_e5cf96b4_f727_11e8_8521_ec0d9a2e0810row3_col3\" class=\"data row3 col3\" >18.56%</td> \n",
       "        <td id=\"T_e5cf96b4_f727_11e8_8521_ec0d9a2e0810row3_col4\" class=\"data row3 col4\" >3.1558%</td> \n",
       "        <td id=\"T_e5cf96b4_f727_11e8_8521_ec0d9a2e0810row3_col5\" class=\"data row3 col5\" >True</td> \n",
       "        <td id=\"T_e5cf96b4_f727_11e8_8521_ec0d9a2e0810row3_col6\" class=\"data row3 col6\" >True</td> \n",
       "    </tr>    <tr> \n",
       "        <th id=\"T_e5cf96b4_f727_11e8_8521_ec0d9a2e0810level0_row4\" class=\"row_heading level0 row4\" >sao_paulo</th> \n",
       "        <td id=\"T_e5cf96b4_f727_11e8_8521_ec0d9a2e0810row4_col0\" class=\"data row4 col0\" >322,664</td> \n",
       "        <td id=\"T_e5cf96b4_f727_11e8_8521_ec0d9a2e0810row4_col1\" class=\"data row4 col1\" >19.98%</td> \n",
       "        <td id=\"T_e5cf96b4_f727_11e8_8521_ec0d9a2e0810row4_col2\" class=\"data row4 col2\" >540,047</td> \n",
       "        <td id=\"T_e5cf96b4_f727_11e8_8521_ec0d9a2e0810row4_col3\" class=\"data row4 col3\" >16.95%</td> \n",
       "        <td id=\"T_e5cf96b4_f727_11e8_8521_ec0d9a2e0810row4_col4\" class=\"data row4 col4\" >3.0322%</td> \n",
       "        <td id=\"T_e5cf96b4_f727_11e8_8521_ec0d9a2e0810row4_col5\" class=\"data row4 col5\" >True</td> \n",
       "        <td id=\"T_e5cf96b4_f727_11e8_8521_ec0d9a2e0810row4_col6\" class=\"data row4 col6\" >True</td> \n",
       "    </tr></tbody> \n",
       "</table> "
      ],
      "text/plain": [
       "<pandas.io.formats.style.Styler at 0x7f62e73b8ed0>"
      ]
     },
     "metadata": {},
     "output_type": "display_data"
    },
    {
     "data": {
      "text/html": [
       "<h1>Overall Conversion Gain Based On Intentful Sessions</h1>"
      ],
      "text/plain": [
       "<IPython.core.display.HTML object>"
      ]
     },
     "metadata": {},
     "output_type": "display_data"
    },
    {
     "data": {
      "text/html": [
       "<style  type=\"text/css\" >\n",
       "    #T_e5e7ad9e_f727_11e8_8521_ec0d9a2e0810row0_col0 {\n",
       "            background-color:  ;\n",
       "        }    #T_e5e7ad9e_f727_11e8_8521_ec0d9a2e0810row0_col1 {\n",
       "            background-color:  ;\n",
       "        }    #T_e5e7ad9e_f727_11e8_8521_ec0d9a2e0810row0_col2 {\n",
       "            background-color:  ;\n",
       "        }    #T_e5e7ad9e_f727_11e8_8521_ec0d9a2e0810row0_col3 {\n",
       "            background-color:  ;\n",
       "        }    #T_e5e7ad9e_f727_11e8_8521_ec0d9a2e0810row0_col4 {\n",
       "            background-color:  ;\n",
       "        }    #T_e5e7ad9e_f727_11e8_8521_ec0d9a2e0810row0_col5 {\n",
       "            background-color:  ;\n",
       "        }    #T_e5e7ad9e_f727_11e8_8521_ec0d9a2e0810row0_col6 {\n",
       "            background-color:  ;\n",
       "        }    #T_e5e7ad9e_f727_11e8_8521_ec0d9a2e0810row1_col0 {\n",
       "            background-color:  ;\n",
       "        }    #T_e5e7ad9e_f727_11e8_8521_ec0d9a2e0810row1_col1 {\n",
       "            background-color:  ;\n",
       "        }    #T_e5e7ad9e_f727_11e8_8521_ec0d9a2e0810row1_col2 {\n",
       "            background-color:  ;\n",
       "        }    #T_e5e7ad9e_f727_11e8_8521_ec0d9a2e0810row1_col3 {\n",
       "            background-color:  ;\n",
       "        }    #T_e5e7ad9e_f727_11e8_8521_ec0d9a2e0810row1_col4 {\n",
       "            background-color:  ;\n",
       "        }    #T_e5e7ad9e_f727_11e8_8521_ec0d9a2e0810row1_col5 {\n",
       "            background-color:  ;\n",
       "        }    #T_e5e7ad9e_f727_11e8_8521_ec0d9a2e0810row1_col6 {\n",
       "            background-color:  ;\n",
       "        }    #T_e5e7ad9e_f727_11e8_8521_ec0d9a2e0810row2_col0 {\n",
       "            background-color:  ;\n",
       "        }    #T_e5e7ad9e_f727_11e8_8521_ec0d9a2e0810row2_col1 {\n",
       "            background-color:  ;\n",
       "        }    #T_e5e7ad9e_f727_11e8_8521_ec0d9a2e0810row2_col2 {\n",
       "            background-color:  ;\n",
       "        }    #T_e5e7ad9e_f727_11e8_8521_ec0d9a2e0810row2_col3 {\n",
       "            background-color:  ;\n",
       "        }    #T_e5e7ad9e_f727_11e8_8521_ec0d9a2e0810row2_col4 {\n",
       "            background-color:  ;\n",
       "        }    #T_e5e7ad9e_f727_11e8_8521_ec0d9a2e0810row2_col5 {\n",
       "            background-color:  ;\n",
       "        }    #T_e5e7ad9e_f727_11e8_8521_ec0d9a2e0810row2_col6 {\n",
       "            background-color:  ;\n",
       "        }    #T_e5e7ad9e_f727_11e8_8521_ec0d9a2e0810row3_col0 {\n",
       "            background-color:  lightgreen;\n",
       "        }    #T_e5e7ad9e_f727_11e8_8521_ec0d9a2e0810row3_col1 {\n",
       "            background-color:  lightgreen;\n",
       "        }    #T_e5e7ad9e_f727_11e8_8521_ec0d9a2e0810row3_col2 {\n",
       "            background-color:  lightgreen;\n",
       "        }    #T_e5e7ad9e_f727_11e8_8521_ec0d9a2e0810row3_col3 {\n",
       "            background-color:  lightgreen;\n",
       "        }    #T_e5e7ad9e_f727_11e8_8521_ec0d9a2e0810row3_col4 {\n",
       "            background-color:  lightgreen;\n",
       "        }    #T_e5e7ad9e_f727_11e8_8521_ec0d9a2e0810row3_col5 {\n",
       "            background-color:  lightgreen;\n",
       "        }    #T_e5e7ad9e_f727_11e8_8521_ec0d9a2e0810row3_col6 {\n",
       "            background-color:  lightgreen;\n",
       "        }    #T_e5e7ad9e_f727_11e8_8521_ec0d9a2e0810row4_col0 {\n",
       "            background-color:  lightgreen;\n",
       "        }    #T_e5e7ad9e_f727_11e8_8521_ec0d9a2e0810row4_col1 {\n",
       "            background-color:  lightgreen;\n",
       "        }    #T_e5e7ad9e_f727_11e8_8521_ec0d9a2e0810row4_col2 {\n",
       "            background-color:  lightgreen;\n",
       "        }    #T_e5e7ad9e_f727_11e8_8521_ec0d9a2e0810row4_col3 {\n",
       "            background-color:  lightgreen;\n",
       "        }    #T_e5e7ad9e_f727_11e8_8521_ec0d9a2e0810row4_col4 {\n",
       "            background-color:  lightgreen;\n",
       "        }    #T_e5e7ad9e_f727_11e8_8521_ec0d9a2e0810row4_col5 {\n",
       "            background-color:  lightgreen;\n",
       "        }    #T_e5e7ad9e_f727_11e8_8521_ec0d9a2e0810row4_col6 {\n",
       "            background-color:  lightgreen;\n",
       "        }</style>  \n",
       "<table id=\"T_e5e7ad9e_f727_11e8_8521_ec0d9a2e0810\" > \n",
       "<thead>    <tr> \n",
       "        <th class=\"index_name level0\" >col</th> \n",
       "        <th class=\"col_heading level0 col0\" >cronet_session</th> \n",
       "        <th class=\"col_heading level0 col1\" >cronet_conversion</th> \n",
       "        <th class=\"col_heading level0 col2\" >okhttp_session</th> \n",
       "        <th class=\"col_heading level0 col3\" >okhttp_conversion</th> \n",
       "        <th class=\"col_heading level0 col4\" >gain</th> \n",
       "        <th class=\"col_heading level0 col5\" >isSignificant</th> \n",
       "        <th class=\"col_heading level0 col6\" >isPositive</th> \n",
       "    </tr>    <tr> \n",
       "        <th class=\"index_name level0\" >city</th> \n",
       "        <th class=\"blank\" ></th> \n",
       "        <th class=\"blank\" ></th> \n",
       "        <th class=\"blank\" ></th> \n",
       "        <th class=\"blank\" ></th> \n",
       "        <th class=\"blank\" ></th> \n",
       "        <th class=\"blank\" ></th> \n",
       "        <th class=\"blank\" ></th> \n",
       "    </tr></thead> \n",
       "<tbody>    <tr> \n",
       "        <th id=\"T_e5e7ad9e_f727_11e8_8521_ec0d9a2e0810level0_row0\" class=\"row_heading level0 row0\" >cairo</th> \n",
       "        <td id=\"T_e5e7ad9e_f727_11e8_8521_ec0d9a2e0810row0_col0\" class=\"data row0 col0\" >2,610</td> \n",
       "        <td id=\"T_e5e7ad9e_f727_11e8_8521_ec0d9a2e0810row0_col1\" class=\"data row0 col1\" >44.44%</td> \n",
       "        <td id=\"T_e5e7ad9e_f727_11e8_8521_ec0d9a2e0810row0_col2\" class=\"data row0 col2\" >3,627</td> \n",
       "        <td id=\"T_e5e7ad9e_f727_11e8_8521_ec0d9a2e0810row0_col3\" class=\"data row0 col3\" >42.38%</td> \n",
       "        <td id=\"T_e5e7ad9e_f727_11e8_8521_ec0d9a2e0810row0_col4\" class=\"data row0 col4\" >2.0678%</td> \n",
       "        <td id=\"T_e5e7ad9e_f727_11e8_8521_ec0d9a2e0810row0_col5\" class=\"data row0 col5\" >False</td> \n",
       "        <td id=\"T_e5e7ad9e_f727_11e8_8521_ec0d9a2e0810row0_col6\" class=\"data row0 col6\" >True</td> \n",
       "    </tr>    <tr> \n",
       "        <th id=\"T_e5e7ad9e_f727_11e8_8521_ec0d9a2e0810level0_row1\" class=\"row_heading level0 row1\" >london</th> \n",
       "        <td id=\"T_e5e7ad9e_f727_11e8_8521_ec0d9a2e0810row1_col0\" class=\"data row1 col0\" >1,628</td> \n",
       "        <td id=\"T_e5e7ad9e_f727_11e8_8521_ec0d9a2e0810row1_col1\" class=\"data row1 col1\" >60.87%</td> \n",
       "        <td id=\"T_e5e7ad9e_f727_11e8_8521_ec0d9a2e0810row1_col2\" class=\"data row1 col2\" >2,593</td> \n",
       "        <td id=\"T_e5e7ad9e_f727_11e8_8521_ec0d9a2e0810row1_col3\" class=\"data row1 col3\" >58.70%</td> \n",
       "        <td id=\"T_e5e7ad9e_f727_11e8_8521_ec0d9a2e0810row1_col4\" class=\"data row1 col4\" >2.1757%</td> \n",
       "        <td id=\"T_e5e7ad9e_f727_11e8_8521_ec0d9a2e0810row1_col5\" class=\"data row1 col5\" >False</td> \n",
       "        <td id=\"T_e5e7ad9e_f727_11e8_8521_ec0d9a2e0810row1_col6\" class=\"data row1 col6\" >True</td> \n",
       "    </tr>    <tr> \n",
       "        <th id=\"T_e5e7ad9e_f727_11e8_8521_ec0d9a2e0810level0_row2\" class=\"row_heading level0 row2\" >los_angeles</th> \n",
       "        <td id=\"T_e5e7ad9e_f727_11e8_8521_ec0d9a2e0810row2_col0\" class=\"data row2 col0\" >744</td> \n",
       "        <td id=\"T_e5e7ad9e_f727_11e8_8521_ec0d9a2e0810row2_col1\" class=\"data row2 col1\" >52.42%</td> \n",
       "        <td id=\"T_e5e7ad9e_f727_11e8_8521_ec0d9a2e0810row2_col2\" class=\"data row2 col2\" >1,215</td> \n",
       "        <td id=\"T_e5e7ad9e_f727_11e8_8521_ec0d9a2e0810row2_col3\" class=\"data row2 col3\" >56.05%</td> \n",
       "        <td id=\"T_e5e7ad9e_f727_11e8_8521_ec0d9a2e0810row2_col4\" class=\"data row2 col4\" >-3.6300%</td> \n",
       "        <td id=\"T_e5e7ad9e_f727_11e8_8521_ec0d9a2e0810row2_col5\" class=\"data row2 col5\" >False</td> \n",
       "        <td id=\"T_e5e7ad9e_f727_11e8_8521_ec0d9a2e0810row2_col6\" class=\"data row2 col6\" >False</td> \n",
       "    </tr>    <tr> \n",
       "        <th id=\"T_e5e7ad9e_f727_11e8_8521_ec0d9a2e0810level0_row3\" class=\"row_heading level0 row3\" >new_delhi</th> \n",
       "        <td id=\"T_e5e7ad9e_f727_11e8_8521_ec0d9a2e0810row3_col0\" class=\"data row3 col0\" >4,532</td> \n",
       "        <td id=\"T_e5e7ad9e_f727_11e8_8521_ec0d9a2e0810row3_col1\" class=\"data row3 col1\" >33.23%</td> \n",
       "        <td id=\"T_e5e7ad9e_f727_11e8_8521_ec0d9a2e0810row3_col2\" class=\"data row3 col2\" >7,451</td> \n",
       "        <td id=\"T_e5e7ad9e_f727_11e8_8521_ec0d9a2e0810row3_col3\" class=\"data row3 col3\" >30.79%</td> \n",
       "        <td id=\"T_e5e7ad9e_f727_11e8_8521_ec0d9a2e0810row3_col4\" class=\"data row3 col4\" >2.4425%</td> \n",
       "        <td id=\"T_e5e7ad9e_f727_11e8_8521_ec0d9a2e0810row3_col5\" class=\"data row3 col5\" >True</td> \n",
       "        <td id=\"T_e5e7ad9e_f727_11e8_8521_ec0d9a2e0810row3_col6\" class=\"data row3 col6\" >True</td> \n",
       "    </tr>    <tr> \n",
       "        <th id=\"T_e5e7ad9e_f727_11e8_8521_ec0d9a2e0810level0_row4\" class=\"row_heading level0 row4\" >sao_paulo</th> \n",
       "        <td id=\"T_e5e7ad9e_f727_11e8_8521_ec0d9a2e0810row4_col0\" class=\"data row4 col0\" >13,156</td> \n",
       "        <td id=\"T_e5e7ad9e_f727_11e8_8521_ec0d9a2e0810row4_col1\" class=\"data row4 col1\" >38.75%</td> \n",
       "        <td id=\"T_e5e7ad9e_f727_11e8_8521_ec0d9a2e0810row4_col2\" class=\"data row4 col2\" >18,488</td> \n",
       "        <td id=\"T_e5e7ad9e_f727_11e8_8521_ec0d9a2e0810row4_col3\" class=\"data row4 col3\" >36.99%</td> \n",
       "        <td id=\"T_e5e7ad9e_f727_11e8_8521_ec0d9a2e0810row4_col4\" class=\"data row4 col4\" >1.7588%</td> \n",
       "        <td id=\"T_e5e7ad9e_f727_11e8_8521_ec0d9a2e0810row4_col5\" class=\"data row4 col5\" >True</td> \n",
       "        <td id=\"T_e5e7ad9e_f727_11e8_8521_ec0d9a2e0810row4_col6\" class=\"data row4 col6\" >True</td> \n",
       "    </tr></tbody> \n",
       "</table> "
      ],
      "text/plain": [
       "<pandas.io.formats.style.Styler at 0x7f62e1ae9bd0>"
      ]
     },
     "metadata": {},
     "output_type": "display_data"
    }
   ],
   "source": [
    "def overallAnalysisPreprocessing(data):\n",
    "    df = (\n",
    "        data\n",
    "        .groupby(['city', 'n_completed', 'agents'])\n",
    "        .size()\n",
    "        .reset_index()\n",
    "        .rename(columns={0: 'cnt'})\n",
    "    )\n",
    "    df['col'] = df.apply(lambda x: x.agents + ['_missed', '_hit'][x.n_completed], axis=1)\n",
    "    df = df.pivot_table(index='city', columns='col', values='cnt')\n",
    "    return df\n",
    "\n",
    "\n",
    "display(HTML(\"<h1>Overall Conversion Gain Based On All Sessions</h1>\"))\n",
    "display(stylize(\n",
    "    overallAnalysis(\n",
    "        overallAnalysisPreprocessing(androidExpCities)\n",
    "    )[FIELDS]\n",
    "))\n",
    "\n",
    "display(HTML(\"<h1>Overall Conversion Gain Based On Intentful Sessions</h1>\"))\n",
    "display(stylize(\n",
    "    overallAnalysis(\n",
    "        overallAnalysisPreprocessing(androidExpCities[androidExpCities.is_intentful])\n",
    "    )[FIELDS]\n",
    "))"
   ]
  },
  {
   "cell_type": "markdown",
   "metadata": {},
   "source": [
    "### Latency Distribution"
   ]
  },
  {
   "cell_type": "code",
   "execution_count": null,
   "metadata": {
    "collapsed": false
   },
   "outputs": [],
   "source": [
    "%%presto --variable latenciesData --email ragrawal@uber.com --cache --use-cache\n",
    "\n",
    "SELECT\n",
    "    city\n",
    "    , agents\n",
    "    , protocols\n",
    "    , hosts\n",
    "    , COUNT(*) as num_sesions\n",
    "    , APPROX_DISTINCT(CONCAT(s.session_id, '|', s.user_uuid)) as num_distinct_sessions\n",
    "    , APPROX_PERCENTILE(duration, ARRAY [0.1, 0.2, 0.3, 0.4, 0.5, 0.6, 0.7, 0.8, 0.9, 0.95, 0.99]) as latencies\n",
    "FROM dsp.quic s\n",
    "JOIN dsp.quic_latencies r\n",
    "ON (s.session_id = r.session_id AND s.user_uuid = r.user_uuid)\n",
    "WHERE\n",
    "        city in ('sao_paulo', 'london', 'los_angeles', 'cairo', 'new_delhi')\n",
    "        AND os_type = 'android'\n",
    "        AND hosts = 'cfe'\n",
    "        AND \n",
    "        (\n",
    "            ( agents = 'cronet' AND protocols = 'quic')\n",
    "            OR (agents = 'okhttp' AND protocols = 'h2')\n",
    "        )\n",
    "GROUP BY city, agents, hosts, protocols"
   ]
  },
  {
   "cell_type": "code",
   "execution_count": null,
   "metadata": {
    "collapsed": false
   },
   "outputs": [],
   "source": [
    "keys = ['city', 'agents', 'protocols', 'hosts']\n",
    "df = (\n",
    "    latenciesData\n",
    "    .set_index(keys)\n",
    "    .apply(lambda x: pd.Series(dict(zip(DISTRIBUTIONS, latency_parser(x.latencies)))), axis=1)\n",
    "    .reset_index()\n",
    "    .melt(id_vars=keys, value_vars=DISTRIBUTIONS, value_name='latency', var_name='latencyBucket')\n",
    "    .reset_index()\n",
    ")"
   ]
  },
  {
   "cell_type": "code",
   "execution_count": null,
   "metadata": {
    "collapsed": false
   },
   "outputs": [],
   "source": [
    "dfRow = df.pivot_table(index=['city', 'latencyBucket'], columns='agents', values='latency').reset_index()\n",
    "dfRow['PctDrop'] = (dfRow.okhttp - dfRow.cronet) * 100.0 / dfRow.okhttp"
   ]
  },
  {
   "cell_type": "code",
   "execution_count": null,
   "metadata": {
    "ExecuteTime": {
     "end_time": "2018-11-28T01:11:44.405837Z",
     "start_time": "2018-11-28T01:11:42.927337Z"
    },
    "collapsed": false
   },
   "outputs": [],
   "source": [
    "(\n",
    "    ggplot(dfRow, aes(x='latencyBucket', y='PctDrop'))\n",
    "    + geom_line(aes(colour='city'))\n",
    "    + geom_point(aes(colour='city'))\n",
    "    + theme_minimal()\n",
    "    + theme(figure_size=(20, 8))\n",
    "    \n",
    ")"
   ]
  },
  {
   "cell_type": "markdown",
   "metadata": {},
   "source": [
    "### User Behavior"
   ]
  },
  {
   "cell_type": "code",
   "execution_count": null,
   "metadata": {
    "collapsed": false
   },
   "outputs": [],
   "source": [
    "display(androidExpCities.groupby(['city', 'agents'])['eventLen'].describe())"
   ]
  },
  {
   "cell_type": "code",
   "execution_count": null,
   "metadata": {
    "collapsed": false
   },
   "outputs": [],
   "source": [
    "(\n",
    "    ggplot(androidExpCities.sample(50000), aes('np.log(eventLen)'))\n",
    "    + geom_density(aes(colour='agents'), alpha=0.25)\n",
    "    + facet_wrap(\"~city\")\n",
    "    + theme_minimal()\n",
    "    + theme(figure_size=(20, 10))\n",
    ")"
   ]
  },
  {
   "cell_type": "code",
   "execution_count": null,
   "metadata": {
    "collapsed": false
   },
   "outputs": [],
   "source": [
    "import collections\n",
    "from tqdm import tqdm\n",
    "\n",
    "df = androidExpCities[(androidExpCities.events.apply(len) > 1)].groupby(['city', 'agents']).apply(lambda x: x.sample(10000)).reset_index(drop=True)\n",
    "\n",
    "transitionsDict = dict(((c, x), collections.defaultdict(float)) for x in AGENTS for c in EXPERIMENT_CITIES)\n",
    "sourcesDict = dict(((c,x), collections.defaultdict(float)) for x in AGENTS for c in EXPERIMENT_CITIES)\n",
    "\n",
    "# for idx, row in tqdm(df.iterrows(), total=df.shape[0]):\n",
    "for idx, row in df.iterrows():\n",
    "    \n",
    "    a = row.agents\n",
    "    c = row.city\n",
    "    \n",
    "    tokens = row.events\n",
    "    source = tokens[0]\n",
    "\n",
    "    for target in tokens[1:]:\n",
    "        transitionsDict[(c, a)][(source, target)] += 1\n",
    "        sourcesDict[(c, a)][source] += 1\n",
    "        source = target\n",
    "\n",
    "output = []\n",
    "for a in AGENTS:\n",
    "    for c in EXPERIMENT_CITIES:\n",
    "        for t, cnt in transitionsDict[(c, a)].items():\n",
    "            output.append([c, a, t[0], t[1], cnt, cnt/sourcesDict[(c, a)][t[0]]])\n",
    "        \n",
    "df = pd.DataFrame(output, columns=['city', 'agent', 'source', 'target', 'cnt', 'prob'])"
   ]
  },
  {
   "cell_type": "code",
   "execution_count": null,
   "metadata": {
    "collapsed": false
   },
   "outputs": [],
   "source": [
    "df['sourceName'] = df.source.apply(lambda x: EVENTS[x])\n",
    "df['targetName'] = df.target.apply(lambda x: EVENTS[x])\n",
    "df['label'] = df.prob.apply(lambda x: \"{:.0%}\".format(x))"
   ]
  },
  {
   "cell_type": "code",
   "execution_count": null,
   "metadata": {
    "collapsed": false
   },
   "outputs": [],
   "source": [
    "(\n",
    "    ggplot(df, aes(x='sourceName', y='targetName'))\n",
    "    + geom_tile(aes(fill='prob'))\n",
    "    + geom_label(aes(label='label'))\n",
    "    + facet_grid(\"city ~ agent\")\n",
    "    + theme_linedraw()\n",
    "    + theme(figure_size=(15, 42), axis_text_x=element_text(rotation=90, hjust=1))\n",
    "    + xlab(\"Source\") + ylab(\"Target\")\n",
    ")"
   ]
  },
  {
   "cell_type": "markdown",
   "metadata": {},
   "source": [
    "## By Date"
   ]
  },
  {
   "cell_type": "code",
   "execution_count": null,
   "metadata": {
    "ExecuteTime": {
     "end_time": "2018-11-28T01:19:01.620895Z",
     "start_time": "2018-11-28T01:19:01.060561Z"
    },
    "collapsed": false,
    "scrolled": true
   },
   "outputs": [],
   "source": [
    "df = (\n",
    "    androidExpCities\n",
    "    .groupby(['city', 'datestr', 'n_completed', 'agents'])\n",
    "    .size()\n",
    "    .reset_index()\n",
    "    .rename(columns={0: 'cnt'})\n",
    ")\n",
    "df['col'] = df.apply(lambda x: x.agents + ['_missed', '_hit'][x.n_completed], axis=1)\n",
    "df = df.pivot_table(index=['city', 'datestr'], columns='col', values='cnt')\n",
    "stylize(overallAnalysis(df)[FIELDS])"
   ]
  },
  {
   "cell_type": "markdown",
   "metadata": {},
   "source": [
    "### Latency Distribution"
   ]
  },
  {
   "cell_type": "code",
   "execution_count": null,
   "metadata": {
    "ExecuteTime": {
     "end_time": "2018-11-28T01:19:33.212926Z",
     "start_time": "2018-11-28T01:19:03.733609Z"
    },
    "collapsed": false
   },
   "outputs": [],
   "source": [
    "df = (\n",
    "    androidExpCities[~androidExpCities.latency_distribution.isnull()]\n",
    "    .groupby(['agents', 'datestr', 'n_completed'])\n",
    "    .apply(lambda x: pd.Series(dict(zip(DISTRIBUTIONS, extract_distribution(x.latency_distribution, np.median)))))\n",
    "    .reset_index()\n",
    "    .melt(id_vars=['agents', 'datestr', 'n_completed'], value_vars=DISTRIBUTIONS, value_name='latency_distribution', var_name='latencyBucket')\n",
    "    .reset_index()\n",
    ")"
   ]
  },
  {
   "cell_type": "code",
   "execution_count": null,
   "metadata": {
    "ExecuteTime": {
     "end_time": "2018-11-28T01:19:33.280085Z",
     "start_time": "2018-11-28T01:19:33.215267Z"
    },
    "collapsed": false
   },
   "outputs": [],
   "source": [
    "dfRow = df.pivot_table(index=['latencyBucket', 'datestr', 'n_completed'], columns='agents', values='latency_distribution').reset_index()\n",
    "dfRow['PctDrop'] = (dfRow.okhttp - dfRow.cronet) * 100.0 / dfRow.okhttp\n",
    "dfRow['n_completed'] = dfRow.n_completed.astype(str)\n",
    "dfRow = dfRow[dfRow.latencyBucket.isin([0.1, 0.5, 0.9, 0.95, 0.99])].copy()\n",
    "dfRow['latencyBucket'] = dfRow.latencyBucket.astype(str)\n"
   ]
  },
  {
   "cell_type": "code",
   "execution_count": null,
   "metadata": {
    "ExecuteTime": {
     "end_time": "2018-11-28T01:20:34.097085Z",
     "start_time": "2018-11-28T01:20:29.356010Z"
    },
    "collapsed": false
   },
   "outputs": [],
   "source": [
    "(\n",
    "    ggplot(dfRow, aes(x='datestr', y='PctDrop'))\n",
    "    + geom_line(aes(colour='latencyBucket', group='latencyBucket'))\n",
    "    + geom_point(aes(colour='latencyBucket'))\n",
    "    + facet_wrap(\"~n_completed\")\n",
    "    + theme(figure_size=(20, 8))\n",
    "    + theme(axis_text_x=element_text(rotation=90, hjust=1))\n",
    ")"
   ]
  },
  {
   "cell_type": "markdown",
   "metadata": {},
   "source": [
    "## By City & Device Year Class"
   ]
  },
  {
   "cell_type": "code",
   "execution_count": null,
   "metadata": {
    "collapsed": false
   },
   "outputs": [],
   "source": [
    "df = (\n",
    "    androidExpCities\n",
    "    .groupby(['city', 'device_year_class', 'n_completed', 'agents'])\n",
    "    .size()\n",
    "    .reset_index()\n",
    "    .rename(columns={0: 'cnt'})\n",
    ")\n",
    "df['col'] = df.apply(lambda x: x.agents + ['_missed', '_hit'][x.n_completed], axis=1)\n",
    "df = df.pivot_table(index=['city', 'device_year_class'], columns='col', values='cnt')\n",
    "df = overallAnalysis(df).reset_index()\n",
    "df['label'] = df.gain.apply(lambda x: \"{:.2}\".format(x))\n",
    "df.head(4)"
   ]
  },
  {
   "cell_type": "code",
   "execution_count": null,
   "metadata": {
    "collapsed": false
   },
   "outputs": [],
   "source": [
    "(\n",
    "    ggplot(df, aes(x='city', y='device_year_class'))\n",
    "    + geom_tile(aes(fill='isPositive'), colour='black')\n",
    "    + geom_label(aes(label='label'))\n",
    "    + theme_minimal()\n",
    "    + theme(figure_size=(8, 5))\n",
    ")"
   ]
  },
  {
   "cell_type": "code",
   "execution_count": null,
   "metadata": {
    "collapsed": true
   },
   "outputs": [],
   "source": []
  },
  {
   "cell_type": "markdown",
   "metadata": {},
   "source": [
    "# IOS 5 Archetype Cities"
   ]
  },
  {
   "cell_type": "code",
   "execution_count": null,
   "metadata": {
    "ExecuteTime": {
     "end_time": "2018-11-27T23:46:43.436274Z",
     "start_time": "2018-11-27T23:45:59.590866Z"
    },
    "collapsed": false
   },
   "outputs": [],
   "source": [
    "%%presto --variable iosData --email ragrawal@uber.com --cache --use-cache --encoding utf8 --large-data\n",
    "\n",
    "SELECT * \n",
    "FROM dsp.quic\n",
    "WHERE \n",
    "    city in ('sao_paulo', 'london', 'los_angeles', 'cairo', 'new_delhi')\n",
    "    and os_type = 'ios'\n",
    "    and agents in ('cronet', 'okhttp')"
   ]
  },
  {
   "cell_type": "code",
   "execution_count": null,
   "metadata": {
    "ExecuteTime": {
     "end_time": "2018-11-28T00:10:23.694650Z",
     "start_time": "2018-11-28T00:04:19.395270Z"
    },
    "collapsed": true
   },
   "outputs": [],
   "source": [
    "iosExpCities = processData(iosData)"
   ]
  },
  {
   "cell_type": "markdown",
   "metadata": {},
   "source": [
    "## Overall"
   ]
  },
  {
   "cell_type": "code",
   "execution_count": null,
   "metadata": {
    "ExecuteTime": {
     "end_time": "2018-11-27T23:57:46.741009Z",
     "start_time": "2018-11-27T23:57:45.915744Z"
    },
    "collapsed": false
   },
   "outputs": [],
   "source": [
    "df = (\n",
    "    iosExpCities\n",
    "    .groupby(['n_completed', 'agents'])\n",
    "    .size()\n",
    "    .reset_index()\n",
    "    .rename(columns={0: 'cnt'})\n",
    ")\n",
    "df['col'] = df.apply(lambda x: x.agents + ['_missed', '_hit'][x.n_completed], axis=1)\n",
    "df = df.pivot_table(columns='col', values='cnt')\n",
    "stylize(overallAnalysis(df)[FIELDS])"
   ]
  },
  {
   "cell_type": "markdown",
   "metadata": {
    "ExecuteTime": {
     "start_time": "2018-11-27T23:16:23.962Z"
    }
   },
   "source": [
    "### Latency Distribution"
   ]
  },
  {
   "cell_type": "code",
   "execution_count": null,
   "metadata": {
    "ExecuteTime": {
     "end_time": "2018-11-28T00:14:33.751014Z",
     "start_time": "2018-11-28T00:13:29.448963Z"
    },
    "collapsed": false
   },
   "outputs": [],
   "source": [
    "df = (\n",
    "    iosExpCities[~iosExpCities.latency_distribution.isnull()]\n",
    "    .groupby(['agents', 'n_completed'])\n",
    "    .apply(lambda x: pd.Series(dict(zip(DISTRIBUTIONS, extract_distribution(x.latency_distribution, np.median)))))\n",
    "    .reset_index()\n",
    "    .melt(id_vars=['agents', 'n_completed'], value_vars=DISTRIBUTIONS, value_name='latency_distribution', var_name='latencyBucket')\n",
    "    .reset_index()\n",
    ")"
   ]
  },
  {
   "cell_type": "code",
   "execution_count": null,
   "metadata": {
    "ExecuteTime": {
     "end_time": "2018-11-28T00:14:33.776097Z",
     "start_time": "2018-11-28T00:14:33.753748Z"
    },
    "collapsed": false
   },
   "outputs": [],
   "source": [
    "dfRow = df.pivot_table(index=['latencyBucket', 'n_completed'], columns='agents', values='latency_distribution').reset_index()\n",
    "dfRow['PctDrop'] = (dfRow.okhttp - dfRow.cronet) * 100.0 / dfRow.okhttp\n",
    "dfRow['n_completed'] = dfRow.n_completed.astype(str)\n",
    "(\n",
    "    ggplot(dfRow, aes(x='latencyBucket', y='PctDrop'))\n",
    "    + geom_line(aes(colour='n_completed'))\n",
    "    + geom_point(aes(colour='n_completed'))\n",
    "    + theme(figure_size=(20, 8))\n",
    "    \n",
    ")"
   ]
  },
  {
   "cell_type": "markdown",
   "metadata": {},
   "source": [
    "### User Behavior"
   ]
  },
  {
   "cell_type": "markdown",
   "metadata": {},
   "source": [
    "## By City"
   ]
  },
  {
   "cell_type": "code",
   "execution_count": null,
   "metadata": {
    "ExecuteTime": {
     "end_time": "2018-11-28T00:14:34.679195Z",
     "start_time": "2018-11-28T00:14:33.779369Z"
    },
    "collapsed": false
   },
   "outputs": [],
   "source": [
    "df = (\n",
    "    iosExpCities\n",
    "    .groupby(['city', 'n_completed', 'agents'])\n",
    "    .size()\n",
    "    .reset_index()\n",
    "    .rename(columns={0: 'cnt'})\n",
    ")\n",
    "df['col'] = df.apply(lambda x: x.agents + ['_missed', '_hit'][x.n_completed], axis=1)\n",
    "df = df.pivot_table(index='city', columns='col', values='cnt')\n",
    "stylize(overallAnalysis(df)[FIELDS])"
   ]
  },
  {
   "cell_type": "code",
   "execution_count": null,
   "metadata": {
    "ExecuteTime": {
     "end_time": "2018-11-28T00:39:39.311074Z",
     "start_time": "2018-11-28T00:39:17.187107Z"
    },
    "collapsed": false
   },
   "outputs": [],
   "source": [
    "df = (\n",
    "    iosExpCities[~iosExpCities.latency_distribution.isnull()]\n",
    "    .groupby(['agents', 'city'])\n",
    "    .apply(lambda x: pd.Series(dict(zip(DISTRIBUTIONS, extract_distribution(x.latency_distribution, np.median)))))\n",
    "    .reset_index()\n",
    "    .melt(id_vars=['agents', 'city'], value_vars=DISTRIBUTIONS, value_name='latency_distribution', var_name='latencyBucket')\n",
    ")"
   ]
  },
  {
   "cell_type": "code",
   "execution_count": null,
   "metadata": {
    "ExecuteTime": {
     "end_time": "2018-11-28T00:39:49.119513Z",
     "start_time": "2018-11-28T00:39:47.738848Z"
    },
    "collapsed": false
   },
   "outputs": [],
   "source": [
    "dfRow = df.pivot_table(index=['city', 'latencyBucket'], columns='agents', values='latency_distribution').reset_index()\n",
    "dfRow['PctDrop'] = (dfRow.okhttp - dfRow.cronet) / dfRow.okhttp\n",
    "(\n",
    "    ggplot(dfRow, aes(x='latencyBucket', y='PctDrop'))\n",
    "    + geom_line(aes(colour='city'))\n",
    "    + xlab(\"Latency Percentile Bucket\") \n",
    "    + ylab(\"Pct Drop In Latency (cronet - okhttp / okhttp)\")\n",
    ")"
   ]
  },
  {
   "cell_type": "markdown",
   "metadata": {},
   "source": [
    "## By Date"
   ]
  },
  {
   "cell_type": "code",
   "execution_count": null,
   "metadata": {
    "ExecuteTime": {
     "end_time": "2018-11-28T00:40:58.949698Z",
     "start_time": "2018-11-28T00:40:57.856103Z"
    },
    "collapsed": false
   },
   "outputs": [],
   "source": [
    "df = (\n",
    "    iosExpCities\n",
    "    .groupby(['datestr', 'n_completed', 'agents'])\n",
    "    .size()\n",
    "    .reset_index()\n",
    "    .rename(columns={0: 'cnt'})\n",
    ")\n",
    "df['col'] = df.apply(lambda x: x.agents + ['_missed', '_hit'][x.n_completed], axis=1)\n",
    "df = df.pivot_table(index='datestr', columns='col', values='cnt')\n",
    "stylize(overallAnalysis(df)[FIELDS])"
   ]
  },
  {
   "cell_type": "code",
   "execution_count": null,
   "metadata": {
    "ExecuteTime": {
     "end_time": "2018-11-28T00:44:03.314219Z",
     "start_time": "2018-11-28T00:43:34.689030Z"
    },
    "collapsed": true
   },
   "outputs": [],
   "source": [
    "df = (\n",
    "    iosExpCities[~iosExpCities.latency_distribution.isnull()]\n",
    "    .groupby(['agents', 'datestr', 'n_completed'])\n",
    "    .apply(lambda x: pd.Series(dict(zip(DISTRIBUTIONS, extract_distribution(x.latency_distribution, np.median)))))\n",
    "    .reset_index()\n",
    "    .melt(id_vars=['agents', 'datestr', 'n_completed'], value_vars=DISTRIBUTIONS, value_name='latency_distribution', var_name='latencyBucket')\n",
    ")"
   ]
  },
  {
   "cell_type": "code",
   "execution_count": null,
   "metadata": {
    "ExecuteTime": {
     "end_time": "2018-11-28T00:44:03.334658Z",
     "start_time": "2018-11-28T00:44:03.316570Z"
    },
    "collapsed": false
   },
   "outputs": [],
   "source": [
    "dfRow = df.pivot_table(index=['datestr', 'latencyBucket', 'n_completed'], columns='agents', values='latency_distribution').reset_index()\n",
    "dfRow['PctDrop'] = (dfRow.okhttp - dfRow.cronet) / dfRow.okhttp"
   ]
  },
  {
   "cell_type": "code",
   "execution_count": null,
   "metadata": {
    "ExecuteTime": {
     "end_time": "2018-11-28T00:44:32.568787Z",
     "start_time": "2018-11-28T00:44:30.918963Z"
    },
    "collapsed": false
   },
   "outputs": [],
   "source": [
    "dfPlot = dfRow[dfRow.latencyBucket.isin([0.1, 0.5, 0.90, 0.95, 0.99])].copy().reset_index()\n",
    "dfPlot['latencyBucket'] = dfPlot.latencyBucket.astype(str)\n",
    "\n",
    "(\n",
    "    ggplot(dfPlot, aes(x='datestr', y='PctDrop'))\n",
    "    + geom_line(aes(colour='latencyBucket', group='latencyBucket'))\n",
    "    + theme(axis_text_x=element_text(rotation=90, hjust=1), figure_size=(20, 10))\n",
    "    + facet_wrap('~n_completed')\n",
    "    \n",
    ")"
   ]
  },
  {
   "cell_type": "markdown",
   "metadata": {},
   "source": [
    "# Android Rest of World"
   ]
  },
  {
   "cell_type": "code",
   "execution_count": null,
   "metadata": {
    "ExecuteTime": {
     "end_time": "2018-11-28T04:48:38.489924Z",
     "start_time": "2018-11-28T04:48:38.433705Z"
    },
    "collapsed": false
   },
   "outputs": [],
   "source": [
    "%%presto --variable androidROW --email ragrawal@uber.com --cache --use-cache --encoding utf8 --large-data\n",
    "\n",
    "SELECT *\n",
    "FROM dsp.quic\n",
    "WHERE \n",
    "    city not in ('sao_paulo', 'london', 'los_angeles', 'cairo', 'new_delhi')\n",
    "    and os_type = 'android'\n",
    "    AND hosts = 'cfe'\n",
    "    (\n",
    "        ( agents = 'cronet' AND protocols = 'quic')\n",
    "        OR (agents = 'okhttp' AND protocols = 'h2')\n",
    "    )\n"
   ]
  },
  {
   "cell_type": "code",
   "execution_count": null,
   "metadata": {
    "ExecuteTime": {
     "end_time": "2018-11-28T04:59:18.052995Z",
     "start_time": "2018-11-28T04:58:38.420563Z"
    },
    "collapsed": false
   },
   "outputs": [],
   "source": [
    "androidROW = pd.read_csv(\"qr_cache/androidRow.csv\", na_values='\\N')\n",
    "androidROW.shape"
   ]
  },
  {
   "cell_type": "code",
   "execution_count": null,
   "metadata": {
    "ExecuteTime": {
     "end_time": "2018-11-28T05:01:54.890360Z",
     "start_time": "2018-11-28T04:59:18.056676Z"
    },
    "collapsed": false
   },
   "outputs": [],
   "source": [
    "androidCities = processData(androidROW)"
   ]
  },
  {
   "cell_type": "markdown",
   "metadata": {},
   "source": [
    "## Identify City Level Conversion Trend"
   ]
  },
  {
   "cell_type": "code",
   "execution_count": null,
   "metadata": {
    "ExecuteTime": {
     "end_time": "2018-11-28T05:20:39.252861Z",
     "start_time": "2018-11-28T05:20:37.765068Z"
    },
    "collapsed": false
   },
   "outputs": [],
   "source": [
    "df = (\n",
    "    androidCities\n",
    "    .groupby(['city', 'n_completed', 'agents'])\n",
    "    .size()\n",
    "    .reset_index()\n",
    "    .rename(columns={0: 'cnt'})\n",
    ")\n",
    "df['col'] = df.apply(lambda x: x.agents + ['_missed', '_hit'][x.n_completed], axis=1)\n",
    "df = df.pivot_table(index='city', columns='col', values='cnt').reset_index()\n",
    "df = df.assign(\n",
    "    cronet_sessions = lambda x: x.cronet_hit + x.cronet_missed,\n",
    "    okhttp_sessions = lambda x: x.okhttp_hit + x.okhttp_missed,\n",
    "    cronet_conversion = lambda x: x.cronet_hit / (x.cronet_hit + x.cronet_missed),\n",
    "    okhttp_conversion = lambda x: x.okhttp_hit / (x.okhttp_hit + x.okhttp_missed),\n",
    ")"
   ]
  },
  {
   "cell_type": "code",
   "execution_count": null,
   "metadata": {
    "ExecuteTime": {
     "end_time": "2018-11-28T05:20:42.498227Z",
     "start_time": "2018-11-28T05:20:42.482088Z"
    },
    "collapsed": false
   },
   "outputs": [],
   "source": [
    "print \"Total Number of Cities: \", df.shape[0]\n",
    "df = df[(~df.cronet_sessions.isnull())]\n",
    "df = df[(~df.okhttp_sessions.isnull())]\n",
    "df = df[(df.cronet_conversion > 0) & (df.cronet_conversion < 1.0)]\n",
    "df = df[(df.okhttp_conversion > 0) & (df.okhttp_conversion < 1.0)]\n",
    "print \"After Filtering: \", df.shape[0]\n"
   ]
  },
  {
   "cell_type": "code",
   "execution_count": null,
   "metadata": {
    "ExecuteTime": {
     "end_time": "2018-11-28T05:24:33.095350Z",
     "start_time": "2018-11-28T05:24:32.421449Z"
    },
    "collapsed": false
   },
   "outputs": [],
   "source": [
    "df2 = overallAnalysis(df)"
   ]
  },
  {
   "cell_type": "code",
   "execution_count": null,
   "metadata": {
    "ExecuteTime": {
     "end_time": "2018-11-28T05:27:29.194298Z",
     "start_time": "2018-11-28T05:27:29.077013Z"
    },
    "collapsed": false
   },
   "outputs": [],
   "source": [
    "stylize(df2[(df2.isSignificant) & (df2.power > 0.7)])"
   ]
  },
  {
   "cell_type": "markdown",
   "metadata": {},
   "source": [
    "### Latency Distribution"
   ]
  },
  {
   "cell_type": "code",
   "execution_count": null,
   "metadata": {
    "ExecuteTime": {
     "end_time": "2018-11-28T05:28:50.038571Z",
     "start_time": "2018-11-28T05:28:19.300803Z"
    },
    "collapsed": false
   },
   "outputs": [],
   "source": [
    "df = (\n",
    "    androidCities[~androidCities.latency_distribution.isnull()]\n",
    "    .groupby(['city', 'agents', 'n_completed'])\n",
    "    .apply(lambda x: pd.Series(dict(zip(DISTRIBUTIONS, extract_distribution(x.latency_distribution, np.median)))))\n",
    "    .reset_index()\n",
    "    .melt(id_vars=['city', 'agents', 'n_completed'], value_vars=DISTRIBUTIONS, value_name='latency_distribution', var_name='latencyBucket')\n",
    "    .reset_index()\n",
    ")"
   ]
  },
  {
   "cell_type": "code",
   "execution_count": null,
   "metadata": {
    "ExecuteTime": {
     "end_time": "2018-11-28T05:30:46.199175Z",
     "start_time": "2018-11-28T05:30:41.769043Z"
    },
    "collapsed": false
   },
   "outputs": [],
   "source": [
    "dfRow = df.pivot_table(index=['city', 'latencyBucket', 'n_completed'], columns='agents', values='latency_distribution').reset_index()\n",
    "dfRow = dfRow[dfRow.city.isin(['honolulu', 'porto_velho'])]\n",
    "dfRow['PctDrop'] = (dfRow.okhttp - dfRow.cronet) * 100.0 / dfRow.okhttp\n",
    "dfRow['n_completed'] = dfRow.n_completed.astype(str)\n",
    "(\n",
    "    ggplot(dfRow, aes(x='latencyBucket', y='PctDrop'))\n",
    "    + geom_line(aes(colour='city'))\n",
    "    + geom_point(aes(colour='city'))\n",
    "    + theme(figure_size=(20, 8))\n",
    "    + facet_wrap(\"~n_completed\", scales='free')\n",
    "    \n",
    ")"
   ]
  },
  {
   "cell_type": "code",
   "execution_count": null,
   "metadata": {
    "collapsed": true
   },
   "outputs": [],
   "source": [
    "PROTOCOLS = \"\"\"\n",
    "\n",
    "h2\n",
    "h2\n",
    "h2\n",
    "h2|quic\n",
    "h2|quic\n",
    "h2|quic\n",
    "h2\n",
    "h2\n",
    "h2|http/1.1\n",
    "quic\n",
    "\n",
    "h2\n",
    "h2\n",
    "h2\n",
    "quic\n",
    "h2\n",
    "quic\n",
    "h2\n",
    "h2|http/1.1\n",
    "http/1.1\n",
    "h2|quic\n",
    "http/1.1\n",
    "h2|quic\n",
    "h2\n",
    "quic\n",
    "h2|http/1.1\n",
    "h2\n",
    "h2\n",
    "quic\n",
    "quic\n",
    "h2|quic\n",
    "h2|quic\n",
    "h2\n",
    "h2\n",
    "h2\n",
    "h2|quic\n",
    "h2|http/1.1\n",
    "h2\n",
    "quic\n",
    "h2|quic\n",
    "h2\n",
    "h2\n",
    "h2|quic\n",
    "http/1.1\n",
    "quic\n",
    "h2|quic\n",
    "quic\n",
    "http/1.1\n",
    "h2\n",
    "quic\n",
    "quic\n",
    "quic\n",
    "h2\n",
    "quic\n",
    "h2\n",
    "\n",
    "h2\n",
    "quic\n",
    "h2|http/1.1\n",
    "\n",
    "quic\n",
    "h2\n",
    "quic\n",
    "h2|http/1.1|quic\n",
    "h2|quic\n",
    "h2|http/1.1|quic\n",
    "h2\n",
    "h2\n",
    "h2|http/1.1|quic\n",
    "h2\n",
    "h2|quic\n",
    "\n",
    "h2\n",
    "h2\n",
    "h2|quic\n",
    "h2|quic\n",
    "\n",
    "h2\n",
    "quic\n",
    "h2|quic\n",
    "http/1.1\n",
    "\n",
    "h2\n",
    "h2\n",
    "h2\n",
    "http/1.1\n",
    "h2|http/1.1\n",
    "quic\n",
    "h2|http/1.1\n",
    "h2\n",
    "h2|http/1.1\n",
    "quic\n",
    "quic\n",
    "h2\n",
    "h2\n",
    "http/1.1|quic\n",
    "h2\n",
    "h2|http/1.1\n",
    "quic\n",
    "h2|quic\n",
    "h2|http/1.1|quic\n",
    "http/1.1\n",
    "h2|quic\n",
    "h2|quic\n",
    "http/1.1\n",
    "http/1.1|quic\n",
    "h2\n",
    "http/1.1\n",
    "quic\n",
    "h2|quic\n",
    "h2\n",
    "h2\n",
    "h2|quic\n",
    "h2|quic\n",
    "h2|http/1.1|quic\n",
    "h2|quic\n",
    "http/1.1\n",
    "quic\n",
    "http/1.1|quic\n",
    "h2\n",
    "h2\n",
    "quic\n",
    "h2\n",
    "h2\n",
    "\n",
    "h2|quic\n",
    "h2|http/1.1\n",
    "http/1.1\n",
    "h2|quic\n",
    "h2\n",
    "h2|quic\n",
    "quic\n",
    "h2\n",
    "quic\n",
    "quic\n",
    "h2|quic\n",
    "h2\n",
    "h2\n",
    "http/1.1|quic\n",
    "h2\n",
    "\n",
    "h2|quic\n",
    "quic\n",
    "quic\n",
    "h2\n",
    "h2\n",
    "http/1.1\n",
    "quic\n",
    "h2|quic\n",
    "h2\n",
    "h2\n",
    "h2\n",
    "quic\n",
    "h2|quic\n",
    "h2\n",
    "\n",
    "h2|quic\n",
    "h2\n",
    "h2|http/1.1|quic\n",
    "quic\n",
    "h2\n",
    "h2\n",
    "h2|http/1.1|quic\n",
    "h2\n",
    "h2|quic\n",
    "quic\n",
    "h2\n",
    "http/1.1|quic\n",
    "quic\n",
    "h2\n",
    "quic\n",
    "h2\n",
    "h2|quic\n",
    "h2\n",
    "h2\n",
    "h2\n",
    "h2|http/1.1|quic\n",
    "http/1.1\n",
    "quic\n",
    "h2|quic\n",
    "h2\n",
    "quic\n",
    "h2\n",
    "h2\n",
    "h2\n",
    "h2\n",
    "h2|quic\n",
    "quic\n",
    "h2|quic\n",
    "h2|quic\n",
    "h2\n",
    "h2\n",
    "quic\n",
    "quic\n",
    "\n",
    "quic\n",
    "http/1.1\n",
    "h2|quic\n",
    "h2\n",
    "quic\n",
    "http/1.1\n",
    "http/1.1\n",
    "quic\n",
    "http/1.1\n",
    "quic\n",
    "quic\n",
    "h2\n",
    "quic\n",
    "http/1.1\n",
    "\n",
    "quic\n",
    "http/1.1\n",
    "h2|quic\n",
    "h2\n",
    "http/1.1\n",
    "h2\n",
    "h2|quic\n",
    "h2\n",
    "http/1.1\n",
    "http/1.1\n",
    "h2\n",
    "h2|quic\n",
    "http/1.1\n",
    "h2|quic\n",
    "h2\n",
    "http/1.1\n",
    "h2|http/1.1\n",
    "h2\n",
    "h2\n",
    "h2|quic\n",
    "h2\n",
    "h2|quic\n",
    "h2\n",
    "h2\n",
    "h2|http/1.1\n",
    "h2|quic\n",
    "h2|quic\n",
    "h2\n",
    "h2|quic\n",
    "http/1.1\n",
    "h2|http/1.1\n",
    "quic\n",
    "h2\n",
    "quic\n",
    "h2\n",
    "http/1.1\n",
    "http/1.1\n",
    "h2|http/1.1\n",
    "http/1.1\n",
    "quic\n",
    "h2|quic\n",
    "h2\n",
    "h2|quic\n",
    "quic\n",
    "quic\n",
    "h2|http/1.1\n",
    "h2|quic\n",
    "quic\n",
    "quic\n",
    "h2|http/1.1\n",
    "h2\n",
    "h2\n",
    "h2|quic\n",
    "h2|http/1.1|quic\n",
    "h2\n",
    "h2\n",
    "\n",
    "h2|http/1.1\n",
    "\n",
    "h2\n",
    "h2\n",
    "h2|quic\n",
    "h2\n",
    "h2|quic\n",
    "quic\n",
    "quic\n",
    "h2|quic\n",
    "h2|quic\n",
    "h2\n",
    "h2|http/1.1|quic\n",
    "h2|quic\n",
    "h2|quic\n",
    "h2\n",
    "h2\n",
    "quic\n",
    "h2\n",
    "h2\n",
    "\n",
    "http/1.1\n",
    "quic\n",
    "h2\n",
    "\"\"\""
   ]
  },
  {
   "cell_type": "code",
   "execution_count": null,
   "metadata": {
    "collapsed": false
   },
   "outputs": [],
   "source": [
    "ps = set()\n",
    "for p in PROTOCOLS.split(\"\\n\"):\n",
    "    if len(p.strip()) == 0:\n",
    "        continue\n",
    "    tokens = p.split('|')\n",
    "    for t in tokens:\n",
    "        ps.add(t)\n",
    "        \n",
    "print ps"
   ]
  },
  {
   "cell_type": "code",
   "execution_count": null,
   "metadata": {
    "collapsed": true
   },
   "outputs": [],
   "source": []
  },
  {
   "cell_type": "code",
   "execution_count": null,
   "metadata": {},
   "outputs": [],
   "source": []
  }
 ],
 "metadata": {
  "kernelspec": {
   "display_name": "Python 3",
   "language": "python",
   "name": "python3"
  },
  "language_info": {
   "codemirror_mode": {
    "name": "ipython",
    "version": 3
   },
   "file_extension": ".py",
   "mimetype": "text/x-python",
   "name": "python",
   "nbconvert_exporter": "python",
   "pygments_lexer": "ipython3",
   "version": "3.6.4"
  },
  "nbTranslate": {
   "displayLangs": [
    "*"
   ],
   "hotkey": "alt-t",
   "langInMainMenu": true,
   "sourceLang": "en",
   "targetLang": "fr",
   "useGoogleTranslate": true
  },
  "toc": {
   "colors": {
    "hover_highlight": "#DAA520",
    "running_highlight": "#FF0000",
    "selected_highlight": "#FFD700"
   },
   "moveMenuLeft": true,
   "nav_menu": {
    "height": "100px",
    "width": "252px"
   },
   "navigate_menu": true,
   "number_sections": true,
   "sideBar": true,
   "threshold": 4,
   "toc_cell": false,
   "toc_position": {
    "height": "721px",
    "left": "0px",
    "right": "1773.56px",
    "top": "106px",
    "width": "212px"
   },
   "toc_section_display": "block",
   "toc_window_display": true,
   "widenNotebook": false
  }
 },
 "nbformat": 4,
 "nbformat_minor": 2
}

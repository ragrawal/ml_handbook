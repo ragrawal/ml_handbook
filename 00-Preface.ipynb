{
 "cells": [
  {
   "cell_type": "markdown",
   "metadata": {},
   "source": [
    "# Preface"
   ]
  },
  {
   "cell_type": "markdown",
   "metadata": {},
   "source": [
    "## Objective\n",
    "For professionals aspiring job in the technological sector, machine learning has become one of the most sought skills, and one can find many online courses, books, and blogs on the topic. While these resources are useful, I often struggle to develop an intuitive understanding of the concepts presented in these resources. Over the years I realized that are few core concepts related to machine learning and having a strong understanding of these concepts help in a big way. This book is an effort to help develop a strong intuitive understanding of these core concepts. \n",
    "\n",
    "Working towards developing the strong intuition, this book aims to start with an intuitive solution for a problem and show that as we try to make this intuitive solution robust and scalable, it leads to one of the established machine learning concepts. \n",
    "\n",
    "\n",
    "## Pre-requisites\n",
    "This book is for readers who already have some experience in the field of machine learning and are trying to build a more cohesive understanding. In this book, I use Python code to convert ideas into prototypes and hence assumes that the reader is comfortable with Python programming. The prototype solutions further rely on python libraries such as pandas, numpy, scipy and sklearn and hence familiarity with these libraries is helpful. \n",
    "\n",
    "\n",
    "## Organization\n",
    "\n",
    "### Chapter 1 and 2:\n",
    "\n",
    "Fundamental to machine learning is the challenge of measuring and reporting quality of a model. This requires defining a metric that enables us to quantify the quality of a model. Depending on the output of the model, many different metrics exists to evaluate different kinds of models. Below table provides a broad classification of different types of machine learning problems and some of the metrics to evaluate them. \n",
    "\n",
    "\n",
    "Metric Group |Examples \n",
    "--------------|----------\n",
    "Regression Related Metrics | Mean Absolute Error, Mean Squared Error, $R^2$\n",
    "Classification Related Metrics | Precision, Recall, F1, AUC\n",
    "Ranking Related Metrics | DCG, nDCG, RBO \n",
    "Clustering Related Metrics | \n",
    "Community Related Metrics | Modularity \n",
    "\n",
    "Currently this book covers regression and classification related metrics in chapter [1](01-RegressionMetrics.ipynb) and [2](02-ClassificationMetrics.ipynb), respectively. Eventually, I hope to add new chapters related to other types of machine learning problems.  \n",
    "\n",
    "### Chapter 3:\n",
    "\n",
    "Optimization is at the heart of machine learning, and one of the most commonly used optimization strategies is \"Gradient descent.\" It is used in a wide variety of settings ranging from linear regression to deep learning. Chapter [3](03-GradientDescent.ipynb) aims to help understand the intuition behind gradient descent and some of its variants. "
   ]
  },
  {
   "cell_type": "code",
   "execution_count": null,
   "metadata": {},
   "outputs": [],
   "source": []
  }
 ],
 "metadata": {
  "kernelspec": {
   "display_name": "Python 3",
   "language": "python",
   "name": "python3"
  },
  "language_info": {
   "codemirror_mode": {
    "name": "ipython",
    "version": 3
   },
   "file_extension": ".py",
   "mimetype": "text/x-python",
   "name": "python",
   "nbconvert_exporter": "python",
   "pygments_lexer": "ipython3",
   "version": "3.6.5"
  },
  "toc": {
   "base_numbering": 1,
   "nav_menu": {},
   "number_sections": true,
   "sideBar": true,
   "skip_h1_title": false,
   "title_cell": "Table of Contents",
   "title_sidebar": "Contents",
   "toc_cell": false,
   "toc_position": {},
   "toc_section_display": true,
   "toc_window_display": false
  },
  "varInspector": {
   "cols": {
    "lenName": 16,
    "lenType": 16,
    "lenVar": 40
   },
   "kernels_config": {
    "python": {
     "delete_cmd_postfix": "",
     "delete_cmd_prefix": "del ",
     "library": "var_list.py",
     "varRefreshCmd": "print(var_dic_list())"
    },
    "r": {
     "delete_cmd_postfix": ") ",
     "delete_cmd_prefix": "rm(",
     "library": "var_list.r",
     "varRefreshCmd": "cat(var_dic_list()) "
    }
   },
   "types_to_exclude": [
    "module",
    "function",
    "builtin_function_or_method",
    "instance",
    "_Feature"
   ],
   "window_display": false
  }
 },
 "nbformat": 4,
 "nbformat_minor": 2
}
